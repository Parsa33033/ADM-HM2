{
 "cells": [
  {
   "cell_type": "markdown",
   "id": "0e21683f",
   "metadata": {},
   "source": [
    "# Homework 2\n",
    "Parsa Heidary Moghadam,\n",
    "Daniel Losada,\n",
    "Vahid Ghanbari Zadeh,\n",
    "\n",
    "- steam_reviews.csv should be in the same folder of homework2.ipynb file\n",
    "- https://github.com/lucamaiano/ADM/blob/master/2021/Homework_2/README.md"
   ]
  },
  {
   "cell_type": "code",
   "execution_count": 501,
   "id": "8945c23a",
   "metadata": {},
   "outputs": [],
   "source": [
    "# dependencies\n",
    "import pandas as pd\n",
    "import numpy as np\n",
    "import matplotlib.pyplot as plt\n",
    "import seaborn as sns\n",
    "from datetime import datetime\n",
    "from scipy.stats import ttest_ind, f_oneway"
   ]
  },
  {
   "cell_type": "markdown",
   "id": "0716eeed",
   "metadata": {},
   "source": [
    "## [RQ1]\n",
    "\n",
    "After collecting information, the Data Scientists have to know what dataset they are dealing with, so let's start with an Exploratory Data Analysis (EDA). What can you say about our dataset? Please summarize its main characteristics with visual and tabular methods."
   ]
  },
  {
   "cell_type": "markdown",
   "id": "9f6d835e",
   "metadata": {},
   "source": [
    "### Answer1\n",
    "---\n"
   ]
  },
  {
   "cell_type": "markdown",
   "id": "a0c449e8",
   "metadata": {},
   "source": [
    "For the first step we are trying to understand the data. Therefore, we will fetch columns and some rows of the data and fetch some information from them such as their shape and ..."
   ]
  },
  {
   "cell_type": "code",
   "execution_count": 3,
   "id": "88f4ec99",
   "metadata": {},
   "outputs": [
    {
     "data": {
      "text/html": [
       "<div>\n",
       "<style scoped>\n",
       "    .dataframe tbody tr th:only-of-type {\n",
       "        vertical-align: middle;\n",
       "    }\n",
       "\n",
       "    .dataframe tbody tr th {\n",
       "        vertical-align: top;\n",
       "    }\n",
       "\n",
       "    .dataframe thead th {\n",
       "        text-align: right;\n",
       "    }\n",
       "</style>\n",
       "<table border=\"1\" class=\"dataframe\">\n",
       "  <thead>\n",
       "    <tr style=\"text-align: right;\">\n",
       "      <th></th>\n",
       "      <th>Unnamed: 0</th>\n",
       "      <th>app_id</th>\n",
       "      <th>app_name</th>\n",
       "      <th>review_id</th>\n",
       "      <th>language</th>\n",
       "      <th>review</th>\n",
       "      <th>timestamp_created</th>\n",
       "      <th>timestamp_updated</th>\n",
       "      <th>recommended</th>\n",
       "      <th>votes_helpful</th>\n",
       "      <th>...</th>\n",
       "      <th>steam_purchase</th>\n",
       "      <th>received_for_free</th>\n",
       "      <th>written_during_early_access</th>\n",
       "      <th>author.steamid</th>\n",
       "      <th>author.num_games_owned</th>\n",
       "      <th>author.num_reviews</th>\n",
       "      <th>author.playtime_forever</th>\n",
       "      <th>author.playtime_last_two_weeks</th>\n",
       "      <th>author.playtime_at_review</th>\n",
       "      <th>author.last_played</th>\n",
       "    </tr>\n",
       "  </thead>\n",
       "  <tbody>\n",
       "    <tr>\n",
       "      <th>0</th>\n",
       "      <td>0</td>\n",
       "      <td>292030</td>\n",
       "      <td>The Witcher 3: Wild Hunt</td>\n",
       "      <td>85185598</td>\n",
       "      <td>schinese</td>\n",
       "      <td>不玩此生遗憾，RPG游戏里的天花板，太吸引人了</td>\n",
       "      <td>2021-01-23 06:00:29</td>\n",
       "      <td>2021-01-23 06:00:29</td>\n",
       "      <td>True</td>\n",
       "      <td>0</td>\n",
       "      <td>...</td>\n",
       "      <td>True</td>\n",
       "      <td>False</td>\n",
       "      <td>False</td>\n",
       "      <td>76561199095369542</td>\n",
       "      <td>6</td>\n",
       "      <td>2</td>\n",
       "      <td>1909.0</td>\n",
       "      <td>1448.0</td>\n",
       "      <td>1909.0</td>\n",
       "      <td>2021-01-22 19:23:03</td>\n",
       "    </tr>\n",
       "    <tr>\n",
       "      <th>1</th>\n",
       "      <td>1</td>\n",
       "      <td>292030</td>\n",
       "      <td>The Witcher 3: Wild Hunt</td>\n",
       "      <td>85185250</td>\n",
       "      <td>schinese</td>\n",
       "      <td>拔DIAO无情打桩机--杰洛特!!!</td>\n",
       "      <td>2021-01-23 05:50:30</td>\n",
       "      <td>2021-01-23 05:50:30</td>\n",
       "      <td>True</td>\n",
       "      <td>0</td>\n",
       "      <td>...</td>\n",
       "      <td>True</td>\n",
       "      <td>False</td>\n",
       "      <td>False</td>\n",
       "      <td>76561198949504115</td>\n",
       "      <td>30</td>\n",
       "      <td>10</td>\n",
       "      <td>2764.0</td>\n",
       "      <td>2743.0</td>\n",
       "      <td>2674.0</td>\n",
       "      <td>2021-01-23 07:18:27</td>\n",
       "    </tr>\n",
       "    <tr>\n",
       "      <th>2</th>\n",
       "      <td>2</td>\n",
       "      <td>292030</td>\n",
       "      <td>The Witcher 3: Wild Hunt</td>\n",
       "      <td>85185111</td>\n",
       "      <td>schinese</td>\n",
       "      <td>巫师3NB</td>\n",
       "      <td>2021-01-23 05:46:40</td>\n",
       "      <td>2021-01-23 05:46:40</td>\n",
       "      <td>True</td>\n",
       "      <td>0</td>\n",
       "      <td>...</td>\n",
       "      <td>True</td>\n",
       "      <td>False</td>\n",
       "      <td>False</td>\n",
       "      <td>76561199090098988</td>\n",
       "      <td>5</td>\n",
       "      <td>1</td>\n",
       "      <td>1061.0</td>\n",
       "      <td>1061.0</td>\n",
       "      <td>1060.0</td>\n",
       "      <td>2021-01-23 06:36:17</td>\n",
       "    </tr>\n",
       "    <tr>\n",
       "      <th>3</th>\n",
       "      <td>3</td>\n",
       "      <td>292030</td>\n",
       "      <td>The Witcher 3: Wild Hunt</td>\n",
       "      <td>85184605</td>\n",
       "      <td>english</td>\n",
       "      <td>One of the best RPG's of all time, worthy of a...</td>\n",
       "      <td>2021-01-23 05:32:50</td>\n",
       "      <td>2021-01-23 05:32:50</td>\n",
       "      <td>True</td>\n",
       "      <td>0</td>\n",
       "      <td>...</td>\n",
       "      <td>True</td>\n",
       "      <td>False</td>\n",
       "      <td>False</td>\n",
       "      <td>76561199054755373</td>\n",
       "      <td>5</td>\n",
       "      <td>3</td>\n",
       "      <td>5587.0</td>\n",
       "      <td>3200.0</td>\n",
       "      <td>5524.0</td>\n",
       "      <td>2021-01-23 06:35:44</td>\n",
       "    </tr>\n",
       "    <tr>\n",
       "      <th>4</th>\n",
       "      <td>4</td>\n",
       "      <td>292030</td>\n",
       "      <td>The Witcher 3: Wild Hunt</td>\n",
       "      <td>85184287</td>\n",
       "      <td>schinese</td>\n",
       "      <td>大作</td>\n",
       "      <td>2021-01-23 05:23:47</td>\n",
       "      <td>2021-01-23 05:23:47</td>\n",
       "      <td>True</td>\n",
       "      <td>0</td>\n",
       "      <td>...</td>\n",
       "      <td>True</td>\n",
       "      <td>False</td>\n",
       "      <td>False</td>\n",
       "      <td>76561199028326951</td>\n",
       "      <td>7</td>\n",
       "      <td>4</td>\n",
       "      <td>217.0</td>\n",
       "      <td>42.0</td>\n",
       "      <td>217.0</td>\n",
       "      <td>2021-01-16 09:10:49</td>\n",
       "    </tr>\n",
       "  </tbody>\n",
       "</table>\n",
       "<p>5 rows × 23 columns</p>\n",
       "</div>"
      ],
      "text/plain": [
       "   Unnamed: 0  app_id                  app_name  review_id  language  \\\n",
       "0           0  292030  The Witcher 3: Wild Hunt   85185598  schinese   \n",
       "1           1  292030  The Witcher 3: Wild Hunt   85185250  schinese   \n",
       "2           2  292030  The Witcher 3: Wild Hunt   85185111  schinese   \n",
       "3           3  292030  The Witcher 3: Wild Hunt   85184605   english   \n",
       "4           4  292030  The Witcher 3: Wild Hunt   85184287  schinese   \n",
       "\n",
       "                                              review   timestamp_created  \\\n",
       "0                            不玩此生遗憾，RPG游戏里的天花板，太吸引人了 2021-01-23 06:00:29   \n",
       "1                                 拔DIAO无情打桩机--杰洛特!!! 2021-01-23 05:50:30   \n",
       "2                                              巫师3NB 2021-01-23 05:46:40   \n",
       "3  One of the best RPG's of all time, worthy of a... 2021-01-23 05:32:50   \n",
       "4                                                 大作 2021-01-23 05:23:47   \n",
       "\n",
       "    timestamp_updated  recommended  votes_helpful  ...  steam_purchase  \\\n",
       "0 2021-01-23 06:00:29         True              0  ...            True   \n",
       "1 2021-01-23 05:50:30         True              0  ...            True   \n",
       "2 2021-01-23 05:46:40         True              0  ...            True   \n",
       "3 2021-01-23 05:32:50         True              0  ...            True   \n",
       "4 2021-01-23 05:23:47         True              0  ...            True   \n",
       "\n",
       "   received_for_free  written_during_early_access     author.steamid  \\\n",
       "0              False                        False  76561199095369542   \n",
       "1              False                        False  76561198949504115   \n",
       "2              False                        False  76561199090098988   \n",
       "3              False                        False  76561199054755373   \n",
       "4              False                        False  76561199028326951   \n",
       "\n",
       "   author.num_games_owned  author.num_reviews  author.playtime_forever  \\\n",
       "0                       6                   2                   1909.0   \n",
       "1                      30                  10                   2764.0   \n",
       "2                       5                   1                   1061.0   \n",
       "3                       5                   3                   5587.0   \n",
       "4                       7                   4                    217.0   \n",
       "\n",
       "   author.playtime_last_two_weeks  author.playtime_at_review  \\\n",
       "0                          1448.0                     1909.0   \n",
       "1                          2743.0                     2674.0   \n",
       "2                          1061.0                     1060.0   \n",
       "3                          3200.0                     5524.0   \n",
       "4                            42.0                      217.0   \n",
       "\n",
       "   author.last_played  \n",
       "0 2021-01-22 19:23:03  \n",
       "1 2021-01-23 07:18:27  \n",
       "2 2021-01-23 06:36:17  \n",
       "3 2021-01-23 06:35:44  \n",
       "4 2021-01-16 09:10:49  \n",
       "\n",
       "[5 rows x 23 columns]"
      ]
     },
     "execution_count": 3,
     "metadata": {},
     "output_type": "execute_result"
    }
   ],
   "source": [
    "def dateparse(time_in_secs):\n",
    "    return pd.to_datetime(time_in_secs, unit='s')\n",
    "\n",
    "dataset = pd.read_csv('./steam_reviews.csv',\n",
    "                      header='infer',\n",
    "                      nrows=2000000,\n",
    "                      parse_dates=['timestamp_created','timestamp_updated', 'author.last_played'],\n",
    "                      date_parser=dateparse)\n",
    "dataset.head()"
   ]
  },
  {
   "cell_type": "code",
   "execution_count": 4,
   "id": "f32d3988",
   "metadata": {},
   "outputs": [
    {
     "data": {
      "text/html": [
       "<div>\n",
       "<style scoped>\n",
       "    .dataframe tbody tr th:only-of-type {\n",
       "        vertical-align: middle;\n",
       "    }\n",
       "\n",
       "    .dataframe tbody tr th {\n",
       "        vertical-align: top;\n",
       "    }\n",
       "\n",
       "    .dataframe thead th {\n",
       "        text-align: right;\n",
       "    }\n",
       "</style>\n",
       "<table border=\"1\" class=\"dataframe\">\n",
       "  <thead>\n",
       "    <tr style=\"text-align: right;\">\n",
       "      <th></th>\n",
       "      <th>Unnamed: 0</th>\n",
       "      <th>app_id</th>\n",
       "      <th>app_name</th>\n",
       "      <th>review_id</th>\n",
       "      <th>language</th>\n",
       "      <th>review</th>\n",
       "      <th>timestamp_created</th>\n",
       "      <th>timestamp_updated</th>\n",
       "      <th>recommended</th>\n",
       "      <th>votes_helpful</th>\n",
       "      <th>...</th>\n",
       "      <th>steam_purchase</th>\n",
       "      <th>received_for_free</th>\n",
       "      <th>written_during_early_access</th>\n",
       "      <th>author.steamid</th>\n",
       "      <th>author.num_games_owned</th>\n",
       "      <th>author.num_reviews</th>\n",
       "      <th>author.playtime_forever</th>\n",
       "      <th>author.playtime_last_two_weeks</th>\n",
       "      <th>author.playtime_at_review</th>\n",
       "      <th>author.last_played</th>\n",
       "    </tr>\n",
       "  </thead>\n",
       "  <tbody>\n",
       "    <tr>\n",
       "      <th>1999995</th>\n",
       "      <td>1999996</td>\n",
       "      <td>381210</td>\n",
       "      <td>Dead by Daylight</td>\n",
       "      <td>46559668</td>\n",
       "      <td>russian</td>\n",
       "      <td>Dead by daylight это когда:\\n1)Обе стороны ною...</td>\n",
       "      <td>2018-11-23 11:30:49</td>\n",
       "      <td>2018-11-23 11:30:49</td>\n",
       "      <td>True</td>\n",
       "      <td>2</td>\n",
       "      <td>...</td>\n",
       "      <td>True</td>\n",
       "      <td>False</td>\n",
       "      <td>False</td>\n",
       "      <td>76561198354639547</td>\n",
       "      <td>29</td>\n",
       "      <td>1</td>\n",
       "      <td>43119.0</td>\n",
       "      <td>0.0</td>\n",
       "      <td>31005.0</td>\n",
       "      <td>2020-09-09 15:49:25</td>\n",
       "    </tr>\n",
       "    <tr>\n",
       "      <th>1999996</th>\n",
       "      <td>1999997</td>\n",
       "      <td>381210</td>\n",
       "      <td>Dead by Daylight</td>\n",
       "      <td>46559372</td>\n",
       "      <td>japanese</td>\n",
       "      <td>非対称対戦です\\n楽しいです\\nだんだんと上手になっていくのは楽しいです\\nでもやはり人との...</td>\n",
       "      <td>2018-11-23 11:29:06</td>\n",
       "      <td>2018-11-23 11:29:06</td>\n",
       "      <td>True</td>\n",
       "      <td>0</td>\n",
       "      <td>...</td>\n",
       "      <td>False</td>\n",
       "      <td>False</td>\n",
       "      <td>False</td>\n",
       "      <td>76561198015995067</td>\n",
       "      <td>120</td>\n",
       "      <td>1</td>\n",
       "      <td>81176.0</td>\n",
       "      <td>0.0</td>\n",
       "      <td>45680.0</td>\n",
       "      <td>2020-12-29 03:25:25</td>\n",
       "    </tr>\n",
       "    <tr>\n",
       "      <th>1999997</th>\n",
       "      <td>1999998</td>\n",
       "      <td>381210</td>\n",
       "      <td>Dead by Daylight</td>\n",
       "      <td>46559194</td>\n",
       "      <td>russian</td>\n",
       "      <td>Найс игра.</td>\n",
       "      <td>2018-11-23 11:27:55</td>\n",
       "      <td>2018-11-23 11:27:55</td>\n",
       "      <td>True</td>\n",
       "      <td>1</td>\n",
       "      <td>...</td>\n",
       "      <td>True</td>\n",
       "      <td>False</td>\n",
       "      <td>False</td>\n",
       "      <td>76561198451140399</td>\n",
       "      <td>38</td>\n",
       "      <td>3</td>\n",
       "      <td>10037.0</td>\n",
       "      <td>0.0</td>\n",
       "      <td>4746.0</td>\n",
       "      <td>2020-04-06 16:34:06</td>\n",
       "    </tr>\n",
       "    <tr>\n",
       "      <th>1999998</th>\n",
       "      <td>1999999</td>\n",
       "      <td>381210</td>\n",
       "      <td>Dead by Daylight</td>\n",
       "      <td>46559119</td>\n",
       "      <td>thai</td>\n",
       "      <td>เป็นเกมที่สุดยอดที่สุดเเล้วครับ</td>\n",
       "      <td>2018-11-23 11:27:23</td>\n",
       "      <td>2019-11-27 11:52:51</td>\n",
       "      <td>True</td>\n",
       "      <td>0</td>\n",
       "      <td>...</td>\n",
       "      <td>True</td>\n",
       "      <td>False</td>\n",
       "      <td>False</td>\n",
       "      <td>76561198085660348</td>\n",
       "      <td>117</td>\n",
       "      <td>4</td>\n",
       "      <td>38910.0</td>\n",
       "      <td>79.0</td>\n",
       "      <td>34692.0</td>\n",
       "      <td>2021-01-12 17:20:45</td>\n",
       "    </tr>\n",
       "    <tr>\n",
       "      <th>1999999</th>\n",
       "      <td>2000000</td>\n",
       "      <td>381210</td>\n",
       "      <td>Dead by Daylight</td>\n",
       "      <td>46559035</td>\n",
       "      <td>brazilian</td>\n",
       "      <td>amo muito &lt;3</td>\n",
       "      <td>2018-11-23 11:26:46</td>\n",
       "      <td>2018-11-23 11:26:46</td>\n",
       "      <td>True</td>\n",
       "      <td>1</td>\n",
       "      <td>...</td>\n",
       "      <td>True</td>\n",
       "      <td>False</td>\n",
       "      <td>False</td>\n",
       "      <td>76561198192456735</td>\n",
       "      <td>251</td>\n",
       "      <td>16</td>\n",
       "      <td>2055.0</td>\n",
       "      <td>0.0</td>\n",
       "      <td>1594.0</td>\n",
       "      <td>2020-09-13 01:35:56</td>\n",
       "    </tr>\n",
       "  </tbody>\n",
       "</table>\n",
       "<p>5 rows × 23 columns</p>\n",
       "</div>"
      ],
      "text/plain": [
       "         Unnamed: 0  app_id          app_name  review_id   language  \\\n",
       "1999995     1999996  381210  Dead by Daylight   46559668    russian   \n",
       "1999996     1999997  381210  Dead by Daylight   46559372   japanese   \n",
       "1999997     1999998  381210  Dead by Daylight   46559194    russian   \n",
       "1999998     1999999  381210  Dead by Daylight   46559119       thai   \n",
       "1999999     2000000  381210  Dead by Daylight   46559035  brazilian   \n",
       "\n",
       "                                                    review  \\\n",
       "1999995  Dead by daylight это когда:\\n1)Обе стороны ною...   \n",
       "1999996  非対称対戦です\\n楽しいです\\nだんだんと上手になっていくのは楽しいです\\nでもやはり人との...   \n",
       "1999997                                         Найс игра.   \n",
       "1999998                    เป็นเกมที่สุดยอดที่สุดเเล้วครับ   \n",
       "1999999                                       amo muito <3   \n",
       "\n",
       "          timestamp_created   timestamp_updated  recommended  votes_helpful  \\\n",
       "1999995 2018-11-23 11:30:49 2018-11-23 11:30:49         True              2   \n",
       "1999996 2018-11-23 11:29:06 2018-11-23 11:29:06         True              0   \n",
       "1999997 2018-11-23 11:27:55 2018-11-23 11:27:55         True              1   \n",
       "1999998 2018-11-23 11:27:23 2019-11-27 11:52:51         True              0   \n",
       "1999999 2018-11-23 11:26:46 2018-11-23 11:26:46         True              1   \n",
       "\n",
       "         ...  steam_purchase  received_for_free  written_during_early_access  \\\n",
       "1999995  ...            True              False                        False   \n",
       "1999996  ...           False              False                        False   \n",
       "1999997  ...            True              False                        False   \n",
       "1999998  ...            True              False                        False   \n",
       "1999999  ...            True              False                        False   \n",
       "\n",
       "            author.steamid  author.num_games_owned  author.num_reviews  \\\n",
       "1999995  76561198354639547                      29                   1   \n",
       "1999996  76561198015995067                     120                   1   \n",
       "1999997  76561198451140399                      38                   3   \n",
       "1999998  76561198085660348                     117                   4   \n",
       "1999999  76561198192456735                     251                  16   \n",
       "\n",
       "         author.playtime_forever  author.playtime_last_two_weeks  \\\n",
       "1999995                  43119.0                             0.0   \n",
       "1999996                  81176.0                             0.0   \n",
       "1999997                  10037.0                             0.0   \n",
       "1999998                  38910.0                            79.0   \n",
       "1999999                   2055.0                             0.0   \n",
       "\n",
       "         author.playtime_at_review  author.last_played  \n",
       "1999995                    31005.0 2020-09-09 15:49:25  \n",
       "1999996                    45680.0 2020-12-29 03:25:25  \n",
       "1999997                     4746.0 2020-04-06 16:34:06  \n",
       "1999998                    34692.0 2021-01-12 17:20:45  \n",
       "1999999                     1594.0 2020-09-13 01:35:56  \n",
       "\n",
       "[5 rows x 23 columns]"
      ]
     },
     "execution_count": 4,
     "metadata": {},
     "output_type": "execute_result"
    }
   ],
   "source": [
    "dataset.tail()"
   ]
  },
  {
   "cell_type": "code",
   "execution_count": 5,
   "id": "96376848",
   "metadata": {},
   "outputs": [
    {
     "name": "stdout",
     "output_type": "stream",
     "text": [
      "There are 2000000 user reviews -- each review contains 23 columns of information\n"
     ]
    }
   ],
   "source": [
    "rows, cols = dataset.shape\n",
    "print(\"There are {0} user reviews -- each review contains {1} columns of information\".format(rows, cols))"
   ]
  },
  {
   "cell_type": "code",
   "execution_count": 376,
   "id": "415b3bf5",
   "metadata": {},
   "outputs": [
    {
     "data": {
      "text/plain": [
       "Index(['Unnamed: 0', 'app_id', 'app_name', 'review_id', 'language',\n",
       "       'timestamp_created', 'timestamp_updated', 'recommended',\n",
       "       'votes_helpful', 'votes_funny', 'weighted_vote_score', 'comment_count',\n",
       "       'steam_purchase', 'received_for_free', 'written_during_early_access',\n",
       "       'author.steamid', 'author.num_games_owned', 'author.num_reviews',\n",
       "       'author.playtime_forever', 'author.playtime_last_two_weeks',\n",
       "       'author.playtime_at_review', 'author.last_played'],\n",
       "      dtype='object')"
      ]
     },
     "execution_count": 376,
     "metadata": {},
     "output_type": "execute_result"
    }
   ],
   "source": [
    "cols = dataset.columns\n",
    "cols"
   ]
  },
  {
   "cell_type": "markdown",
   "id": "651a2664",
   "metadata": {},
   "source": [
    "Each column describes:\n",
    "- app_id: the game id\n",
    "- app_name: the name for the game\n",
    "- review_id: the id of the reviewer\n",
    "- language: language of the review\n",
    "- review: review text\n",
    "- timestamp_created: Review creation timestamp\n",
    "- timestamp_updated: Review latest update timestamp\n",
    "- recommended: Whether review recommends the app\n",
    "- votes_helpful: Number of \"helpful\" votes for review"
   ]
  },
  {
   "cell_type": "code",
   "execution_count": 378,
   "id": "b8904e82",
   "metadata": {},
   "outputs": [
    {
     "data": {
      "text/plain": [
       "Unnamed: 0                                 int64\n",
       "app_id                                     int64\n",
       "app_name                                  object\n",
       "review_id                                  int64\n",
       "language                                  object\n",
       "timestamp_created                 datetime64[ns]\n",
       "timestamp_updated                 datetime64[ns]\n",
       "recommended                                 bool\n",
       "votes_helpful                              int64\n",
       "votes_funny                                int64\n",
       "weighted_vote_score                      float64\n",
       "comment_count                              int64\n",
       "steam_purchase                              bool\n",
       "received_for_free                           bool\n",
       "written_during_early_access                 bool\n",
       "author.steamid                             int64\n",
       "author.num_games_owned                     int64\n",
       "author.num_reviews                         int64\n",
       "author.playtime_forever                  float64\n",
       "author.playtime_last_two_weeks           float64\n",
       "author.playtime_at_review                float64\n",
       "author.last_played                datetime64[ns]\n",
       "dtype: object"
      ]
     },
     "execution_count": 378,
     "metadata": {},
     "output_type": "execute_result"
    }
   ],
   "source": [
    "dataset.dtypes"
   ]
  },
  {
   "cell_type": "code",
   "execution_count": 7,
   "id": "b74a77a8",
   "metadata": {},
   "outputs": [
    {
     "data": {
      "text/html": [
       "<div>\n",
       "<style scoped>\n",
       "    .dataframe tbody tr th:only-of-type {\n",
       "        vertical-align: middle;\n",
       "    }\n",
       "\n",
       "    .dataframe tbody tr th {\n",
       "        vertical-align: top;\n",
       "    }\n",
       "\n",
       "    .dataframe thead th {\n",
       "        text-align: right;\n",
       "    }\n",
       "</style>\n",
       "<table border=\"1\" class=\"dataframe\">\n",
       "  <thead>\n",
       "    <tr style=\"text-align: right;\">\n",
       "      <th></th>\n",
       "      <th>Unnamed: 0</th>\n",
       "      <th>app_id</th>\n",
       "      <th>review_id</th>\n",
       "      <th>votes_helpful</th>\n",
       "      <th>votes_funny</th>\n",
       "      <th>weighted_vote_score</th>\n",
       "      <th>comment_count</th>\n",
       "      <th>author.steamid</th>\n",
       "      <th>author.num_games_owned</th>\n",
       "      <th>author.num_reviews</th>\n",
       "      <th>author.playtime_forever</th>\n",
       "      <th>author.playtime_last_two_weeks</th>\n",
       "      <th>author.playtime_at_review</th>\n",
       "    </tr>\n",
       "  </thead>\n",
       "  <tbody>\n",
       "    <tr>\n",
       "      <th>count</th>\n",
       "      <td>2.000000e+06</td>\n",
       "      <td>2.000000e+06</td>\n",
       "      <td>2.000000e+06</td>\n",
       "      <td>2.000000e+06</td>\n",
       "      <td>2.000000e+06</td>\n",
       "      <td>2.000000e+06</td>\n",
       "      <td>2.000000e+06</td>\n",
       "      <td>2.000000e+06</td>\n",
       "      <td>2.000000e+06</td>\n",
       "      <td>2.000000e+06</td>\n",
       "      <td>2.000000e+06</td>\n",
       "      <td>2.000000e+06</td>\n",
       "      <td>1.996683e+06</td>\n",
       "    </tr>\n",
       "    <tr>\n",
       "      <th>mean</th>\n",
       "      <td>1.000000e+06</td>\n",
       "      <td>1.213136e+05</td>\n",
       "      <td>4.736107e+07</td>\n",
       "      <td>1.202951e+00</td>\n",
       "      <td>1.352921e+05</td>\n",
       "      <td>1.516370e-01</td>\n",
       "      <td>1.134790e-01</td>\n",
       "      <td>7.656120e+16</td>\n",
       "      <td>1.134849e+02</td>\n",
       "      <td>1.009040e+01</td>\n",
       "      <td>2.024508e+04</td>\n",
       "      <td>1.386791e+02</td>\n",
       "      <td>1.213795e+04</td>\n",
       "    </tr>\n",
       "    <tr>\n",
       "      <th>std</th>\n",
       "      <td>5.773507e+05</td>\n",
       "      <td>1.568375e+05</td>\n",
       "      <td>2.332649e+07</td>\n",
       "      <td>2.332894e+01</td>\n",
       "      <td>2.410507e+07</td>\n",
       "      <td>2.370955e-01</td>\n",
       "      <td>1.592869e+00</td>\n",
       "      <td>3.165412e+08</td>\n",
       "      <td>2.344387e+02</td>\n",
       "      <td>3.230297e+01</td>\n",
       "      <td>5.077602e+04</td>\n",
       "      <td>6.878205e+02</td>\n",
       "      <td>3.517027e+04</td>\n",
       "    </tr>\n",
       "    <tr>\n",
       "      <th>min</th>\n",
       "      <td>0.000000e+00</td>\n",
       "      <td>7.000000e+01</td>\n",
       "      <td>4.300000e+01</td>\n",
       "      <td>0.000000e+00</td>\n",
       "      <td>0.000000e+00</td>\n",
       "      <td>0.000000e+00</td>\n",
       "      <td>0.000000e+00</td>\n",
       "      <td>7.656120e+16</td>\n",
       "      <td>0.000000e+00</td>\n",
       "      <td>1.000000e+00</td>\n",
       "      <td>0.000000e+00</td>\n",
       "      <td>0.000000e+00</td>\n",
       "      <td>1.000000e+00</td>\n",
       "    </tr>\n",
       "    <tr>\n",
       "      <th>25%</th>\n",
       "      <td>5.000008e+05</td>\n",
       "      <td>4.000000e+03</td>\n",
       "      <td>2.709848e+07</td>\n",
       "      <td>0.000000e+00</td>\n",
       "      <td>0.000000e+00</td>\n",
       "      <td>0.000000e+00</td>\n",
       "      <td>0.000000e+00</td>\n",
       "      <td>7.656120e+16</td>\n",
       "      <td>2.300000e+01</td>\n",
       "      <td>2.000000e+00</td>\n",
       "      <td>1.587000e+03</td>\n",
       "      <td>0.000000e+00</td>\n",
       "      <td>6.860000e+02</td>\n",
       "    </tr>\n",
       "    <tr>\n",
       "      <th>50%</th>\n",
       "      <td>1.000000e+06</td>\n",
       "      <td>4.000000e+03</td>\n",
       "      <td>5.174743e+07</td>\n",
       "      <td>0.000000e+00</td>\n",
       "      <td>0.000000e+00</td>\n",
       "      <td>0.000000e+00</td>\n",
       "      <td>0.000000e+00</td>\n",
       "      <td>7.656120e+16</td>\n",
       "      <td>5.600000e+01</td>\n",
       "      <td>4.000000e+00</td>\n",
       "      <td>6.088000e+03</td>\n",
       "      <td>0.000000e+00</td>\n",
       "      <td>2.646000e+03</td>\n",
       "    </tr>\n",
       "    <tr>\n",
       "      <th>75%</th>\n",
       "      <td>1.500000e+06</td>\n",
       "      <td>2.920300e+05</td>\n",
       "      <td>6.680106e+07</td>\n",
       "      <td>1.000000e+00</td>\n",
       "      <td>0.000000e+00</td>\n",
       "      <td>4.761905e-01</td>\n",
       "      <td>0.000000e+00</td>\n",
       "      <td>7.656120e+16</td>\n",
       "      <td>1.260000e+02</td>\n",
       "      <td>1.000000e+01</td>\n",
       "      <td>1.718700e+04</td>\n",
       "      <td>0.000000e+00</td>\n",
       "      <td>9.124000e+03</td>\n",
       "    </tr>\n",
       "    <tr>\n",
       "      <th>max</th>\n",
       "      <td>2.000000e+06</td>\n",
       "      <td>3.812100e+05</td>\n",
       "      <td>8.521823e+07</td>\n",
       "      <td>9.132000e+03</td>\n",
       "      <td>4.294967e+09</td>\n",
       "      <td>9.903845e-01</td>\n",
       "      <td>6.370000e+02</td>\n",
       "      <td>7.656120e+16</td>\n",
       "      <td>2.096900e+04</td>\n",
       "      <td>5.236000e+03</td>\n",
       "      <td>3.470649e+06</td>\n",
       "      <td>2.201000e+04</td>\n",
       "      <td>3.228103e+06</td>\n",
       "    </tr>\n",
       "  </tbody>\n",
       "</table>\n",
       "</div>"
      ],
      "text/plain": [
       "         Unnamed: 0        app_id     review_id  votes_helpful   votes_funny  \\\n",
       "count  2.000000e+06  2.000000e+06  2.000000e+06   2.000000e+06  2.000000e+06   \n",
       "mean   1.000000e+06  1.213136e+05  4.736107e+07   1.202951e+00  1.352921e+05   \n",
       "std    5.773507e+05  1.568375e+05  2.332649e+07   2.332894e+01  2.410507e+07   \n",
       "min    0.000000e+00  7.000000e+01  4.300000e+01   0.000000e+00  0.000000e+00   \n",
       "25%    5.000008e+05  4.000000e+03  2.709848e+07   0.000000e+00  0.000000e+00   \n",
       "50%    1.000000e+06  4.000000e+03  5.174743e+07   0.000000e+00  0.000000e+00   \n",
       "75%    1.500000e+06  2.920300e+05  6.680106e+07   1.000000e+00  0.000000e+00   \n",
       "max    2.000000e+06  3.812100e+05  8.521823e+07   9.132000e+03  4.294967e+09   \n",
       "\n",
       "       weighted_vote_score  comment_count  author.steamid  \\\n",
       "count         2.000000e+06   2.000000e+06    2.000000e+06   \n",
       "mean          1.516370e-01   1.134790e-01    7.656120e+16   \n",
       "std           2.370955e-01   1.592869e+00    3.165412e+08   \n",
       "min           0.000000e+00   0.000000e+00    7.656120e+16   \n",
       "25%           0.000000e+00   0.000000e+00    7.656120e+16   \n",
       "50%           0.000000e+00   0.000000e+00    7.656120e+16   \n",
       "75%           4.761905e-01   0.000000e+00    7.656120e+16   \n",
       "max           9.903845e-01   6.370000e+02    7.656120e+16   \n",
       "\n",
       "       author.num_games_owned  author.num_reviews  author.playtime_forever  \\\n",
       "count            2.000000e+06        2.000000e+06             2.000000e+06   \n",
       "mean             1.134849e+02        1.009040e+01             2.024508e+04   \n",
       "std              2.344387e+02        3.230297e+01             5.077602e+04   \n",
       "min              0.000000e+00        1.000000e+00             0.000000e+00   \n",
       "25%              2.300000e+01        2.000000e+00             1.587000e+03   \n",
       "50%              5.600000e+01        4.000000e+00             6.088000e+03   \n",
       "75%              1.260000e+02        1.000000e+01             1.718700e+04   \n",
       "max              2.096900e+04        5.236000e+03             3.470649e+06   \n",
       "\n",
       "       author.playtime_last_two_weeks  author.playtime_at_review  \n",
       "count                    2.000000e+06               1.996683e+06  \n",
       "mean                     1.386791e+02               1.213795e+04  \n",
       "std                      6.878205e+02               3.517027e+04  \n",
       "min                      0.000000e+00               1.000000e+00  \n",
       "25%                      0.000000e+00               6.860000e+02  \n",
       "50%                      0.000000e+00               2.646000e+03  \n",
       "75%                      0.000000e+00               9.124000e+03  \n",
       "max                      2.201000e+04               3.228103e+06  "
      ]
     },
     "execution_count": 7,
     "metadata": {},
     "output_type": "execute_result"
    }
   ],
   "source": [
    "dataset.describe()"
   ]
  },
  {
   "cell_type": "code",
   "execution_count": 8,
   "id": "c71ec6f7",
   "metadata": {},
   "outputs": [
    {
     "data": {
      "text/plain": [
       "Unnamed: 0                        2000000\n",
       "app_id                                  9\n",
       "app_name                                9\n",
       "review_id                         2000000\n",
       "language                               28\n",
       "review                            1562822\n",
       "timestamp_created                 1967089\n",
       "timestamp_updated                 1964007\n",
       "recommended                             2\n",
       "votes_helpful                         821\n",
       "votes_funny                           695\n",
       "weighted_vote_score                 97000\n",
       "comment_count                         153\n",
       "steam_purchase                          2\n",
       "received_for_free                       2\n",
       "written_during_early_access             1\n",
       "author.steamid                    1819576\n",
       "author.num_games_owned               3854\n",
       "author.num_reviews                    764\n",
       "author.playtime_forever            158434\n",
       "author.playtime_last_two_weeks       9282\n",
       "author.playtime_at_review          121602\n",
       "author.last_played                1908775\n",
       "dtype: int64"
      ]
     },
     "execution_count": 8,
     "metadata": {},
     "output_type": "execute_result"
    }
   ],
   "source": [
    "dataset.nunique()"
   ]
  },
  {
   "cell_type": "markdown",
   "id": "1cbfc0a1",
   "metadata": {},
   "source": [
    "As we can see from the uniqueness of each column's values, we can infer how many categories can be taken for each column"
   ]
  },
  {
   "cell_type": "code",
   "execution_count": 9,
   "id": "a89e6291",
   "metadata": {},
   "outputs": [
    {
     "data": {
      "text/plain": [
       "Unnamed: 0                           0\n",
       "app_id                               0\n",
       "app_name                             0\n",
       "review_id                            0\n",
       "language                             0\n",
       "review                            3141\n",
       "timestamp_created                    0\n",
       "timestamp_updated                    0\n",
       "recommended                          0\n",
       "votes_helpful                        0\n",
       "votes_funny                          0\n",
       "weighted_vote_score                  0\n",
       "comment_count                        0\n",
       "steam_purchase                       0\n",
       "received_for_free                    0\n",
       "written_during_early_access          0\n",
       "author.steamid                       0\n",
       "author.num_games_owned               0\n",
       "author.num_reviews                   0\n",
       "author.playtime_forever              0\n",
       "author.playtime_last_two_weeks       0\n",
       "author.playtime_at_review         3317\n",
       "author.last_played                   0\n",
       "dtype: int64"
      ]
     },
     "execution_count": 9,
     "metadata": {},
     "output_type": "execute_result"
    }
   ],
   "source": [
    "dataset.isnull().sum()"
   ]
  },
  {
   "cell_type": "markdown",
   "id": "949877fc",
   "metadata": {},
   "source": [
    "As we can see the \"review\" and \"playtime_at_review\" columns have null values. But, since the review column contians the reviews, we don't necessarily need it. Therefore, we can just remove \"review\" and clean \"author.playtime_at_review\" (by replacing NaN values with zero) columns. Note: we don't eliminate these rows because they are not critical to be around."
   ]
  },
  {
   "cell_type": "code",
   "execution_count": 10,
   "id": "af80dc4a",
   "metadata": {},
   "outputs": [
    {
     "data": {
      "text/html": [
       "<div>\n",
       "<style scoped>\n",
       "    .dataframe tbody tr th:only-of-type {\n",
       "        vertical-align: middle;\n",
       "    }\n",
       "\n",
       "    .dataframe tbody tr th {\n",
       "        vertical-align: top;\n",
       "    }\n",
       "\n",
       "    .dataframe thead th {\n",
       "        text-align: right;\n",
       "    }\n",
       "</style>\n",
       "<table border=\"1\" class=\"dataframe\">\n",
       "  <thead>\n",
       "    <tr style=\"text-align: right;\">\n",
       "      <th></th>\n",
       "      <th>Unnamed: 0</th>\n",
       "      <th>app_id</th>\n",
       "      <th>app_name</th>\n",
       "      <th>review_id</th>\n",
       "      <th>language</th>\n",
       "      <th>timestamp_created</th>\n",
       "      <th>timestamp_updated</th>\n",
       "      <th>recommended</th>\n",
       "      <th>votes_helpful</th>\n",
       "      <th>votes_funny</th>\n",
       "      <th>...</th>\n",
       "      <th>steam_purchase</th>\n",
       "      <th>received_for_free</th>\n",
       "      <th>written_during_early_access</th>\n",
       "      <th>author.steamid</th>\n",
       "      <th>author.num_games_owned</th>\n",
       "      <th>author.num_reviews</th>\n",
       "      <th>author.playtime_forever</th>\n",
       "      <th>author.playtime_last_two_weeks</th>\n",
       "      <th>author.playtime_at_review</th>\n",
       "      <th>author.last_played</th>\n",
       "    </tr>\n",
       "  </thead>\n",
       "  <tbody>\n",
       "    <tr>\n",
       "      <th>0</th>\n",
       "      <td>0</td>\n",
       "      <td>292030</td>\n",
       "      <td>The Witcher 3: Wild Hunt</td>\n",
       "      <td>85185598</td>\n",
       "      <td>schinese</td>\n",
       "      <td>2021-01-23 06:00:29</td>\n",
       "      <td>2021-01-23 06:00:29</td>\n",
       "      <td>True</td>\n",
       "      <td>0</td>\n",
       "      <td>0</td>\n",
       "      <td>...</td>\n",
       "      <td>True</td>\n",
       "      <td>False</td>\n",
       "      <td>False</td>\n",
       "      <td>76561199095369542</td>\n",
       "      <td>6</td>\n",
       "      <td>2</td>\n",
       "      <td>1909.0</td>\n",
       "      <td>1448.0</td>\n",
       "      <td>1909.0</td>\n",
       "      <td>2021-01-22 19:23:03</td>\n",
       "    </tr>\n",
       "    <tr>\n",
       "      <th>1</th>\n",
       "      <td>1</td>\n",
       "      <td>292030</td>\n",
       "      <td>The Witcher 3: Wild Hunt</td>\n",
       "      <td>85185250</td>\n",
       "      <td>schinese</td>\n",
       "      <td>2021-01-23 05:50:30</td>\n",
       "      <td>2021-01-23 05:50:30</td>\n",
       "      <td>True</td>\n",
       "      <td>0</td>\n",
       "      <td>0</td>\n",
       "      <td>...</td>\n",
       "      <td>True</td>\n",
       "      <td>False</td>\n",
       "      <td>False</td>\n",
       "      <td>76561198949504115</td>\n",
       "      <td>30</td>\n",
       "      <td>10</td>\n",
       "      <td>2764.0</td>\n",
       "      <td>2743.0</td>\n",
       "      <td>2674.0</td>\n",
       "      <td>2021-01-23 07:18:27</td>\n",
       "    </tr>\n",
       "    <tr>\n",
       "      <th>2</th>\n",
       "      <td>2</td>\n",
       "      <td>292030</td>\n",
       "      <td>The Witcher 3: Wild Hunt</td>\n",
       "      <td>85185111</td>\n",
       "      <td>schinese</td>\n",
       "      <td>2021-01-23 05:46:40</td>\n",
       "      <td>2021-01-23 05:46:40</td>\n",
       "      <td>True</td>\n",
       "      <td>0</td>\n",
       "      <td>0</td>\n",
       "      <td>...</td>\n",
       "      <td>True</td>\n",
       "      <td>False</td>\n",
       "      <td>False</td>\n",
       "      <td>76561199090098988</td>\n",
       "      <td>5</td>\n",
       "      <td>1</td>\n",
       "      <td>1061.0</td>\n",
       "      <td>1061.0</td>\n",
       "      <td>1060.0</td>\n",
       "      <td>2021-01-23 06:36:17</td>\n",
       "    </tr>\n",
       "    <tr>\n",
       "      <th>3</th>\n",
       "      <td>3</td>\n",
       "      <td>292030</td>\n",
       "      <td>The Witcher 3: Wild Hunt</td>\n",
       "      <td>85184605</td>\n",
       "      <td>english</td>\n",
       "      <td>2021-01-23 05:32:50</td>\n",
       "      <td>2021-01-23 05:32:50</td>\n",
       "      <td>True</td>\n",
       "      <td>0</td>\n",
       "      <td>0</td>\n",
       "      <td>...</td>\n",
       "      <td>True</td>\n",
       "      <td>False</td>\n",
       "      <td>False</td>\n",
       "      <td>76561199054755373</td>\n",
       "      <td>5</td>\n",
       "      <td>3</td>\n",
       "      <td>5587.0</td>\n",
       "      <td>3200.0</td>\n",
       "      <td>5524.0</td>\n",
       "      <td>2021-01-23 06:35:44</td>\n",
       "    </tr>\n",
       "    <tr>\n",
       "      <th>4</th>\n",
       "      <td>4</td>\n",
       "      <td>292030</td>\n",
       "      <td>The Witcher 3: Wild Hunt</td>\n",
       "      <td>85184287</td>\n",
       "      <td>schinese</td>\n",
       "      <td>2021-01-23 05:23:47</td>\n",
       "      <td>2021-01-23 05:23:47</td>\n",
       "      <td>True</td>\n",
       "      <td>0</td>\n",
       "      <td>0</td>\n",
       "      <td>...</td>\n",
       "      <td>True</td>\n",
       "      <td>False</td>\n",
       "      <td>False</td>\n",
       "      <td>76561199028326951</td>\n",
       "      <td>7</td>\n",
       "      <td>4</td>\n",
       "      <td>217.0</td>\n",
       "      <td>42.0</td>\n",
       "      <td>217.0</td>\n",
       "      <td>2021-01-16 09:10:49</td>\n",
       "    </tr>\n",
       "  </tbody>\n",
       "</table>\n",
       "<p>5 rows × 22 columns</p>\n",
       "</div>"
      ],
      "text/plain": [
       "   Unnamed: 0  app_id                  app_name  review_id  language  \\\n",
       "0           0  292030  The Witcher 3: Wild Hunt   85185598  schinese   \n",
       "1           1  292030  The Witcher 3: Wild Hunt   85185250  schinese   \n",
       "2           2  292030  The Witcher 3: Wild Hunt   85185111  schinese   \n",
       "3           3  292030  The Witcher 3: Wild Hunt   85184605   english   \n",
       "4           4  292030  The Witcher 3: Wild Hunt   85184287  schinese   \n",
       "\n",
       "    timestamp_created   timestamp_updated  recommended  votes_helpful  \\\n",
       "0 2021-01-23 06:00:29 2021-01-23 06:00:29         True              0   \n",
       "1 2021-01-23 05:50:30 2021-01-23 05:50:30         True              0   \n",
       "2 2021-01-23 05:46:40 2021-01-23 05:46:40         True              0   \n",
       "3 2021-01-23 05:32:50 2021-01-23 05:32:50         True              0   \n",
       "4 2021-01-23 05:23:47 2021-01-23 05:23:47         True              0   \n",
       "\n",
       "   votes_funny  ...  steam_purchase  received_for_free  \\\n",
       "0            0  ...            True              False   \n",
       "1            0  ...            True              False   \n",
       "2            0  ...            True              False   \n",
       "3            0  ...            True              False   \n",
       "4            0  ...            True              False   \n",
       "\n",
       "   written_during_early_access     author.steamid  author.num_games_owned  \\\n",
       "0                        False  76561199095369542                       6   \n",
       "1                        False  76561198949504115                      30   \n",
       "2                        False  76561199090098988                       5   \n",
       "3                        False  76561199054755373                       5   \n",
       "4                        False  76561199028326951                       7   \n",
       "\n",
       "   author.num_reviews  author.playtime_forever  \\\n",
       "0                   2                   1909.0   \n",
       "1                  10                   2764.0   \n",
       "2                   1                   1061.0   \n",
       "3                   3                   5587.0   \n",
       "4                   4                    217.0   \n",
       "\n",
       "   author.playtime_last_two_weeks  author.playtime_at_review  \\\n",
       "0                          1448.0                     1909.0   \n",
       "1                          2743.0                     2674.0   \n",
       "2                          1061.0                     1060.0   \n",
       "3                          3200.0                     5524.0   \n",
       "4                            42.0                      217.0   \n",
       "\n",
       "   author.last_played  \n",
       "0 2021-01-22 19:23:03  \n",
       "1 2021-01-23 07:18:27  \n",
       "2 2021-01-23 06:36:17  \n",
       "3 2021-01-23 06:35:44  \n",
       "4 2021-01-16 09:10:49  \n",
       "\n",
       "[5 rows x 22 columns]"
      ]
     },
     "execution_count": 10,
     "metadata": {},
     "output_type": "execute_result"
    }
   ],
   "source": [
    "dataset = dataset.drop([\"review\",], axis=1)\n",
    "dataset.head()"
   ]
  },
  {
   "cell_type": "code",
   "execution_count": 11,
   "id": "03414733",
   "metadata": {},
   "outputs": [
    {
     "data": {
      "text/html": [
       "<div>\n",
       "<style scoped>\n",
       "    .dataframe tbody tr th:only-of-type {\n",
       "        vertical-align: middle;\n",
       "    }\n",
       "\n",
       "    .dataframe tbody tr th {\n",
       "        vertical-align: top;\n",
       "    }\n",
       "\n",
       "    .dataframe thead th {\n",
       "        text-align: right;\n",
       "    }\n",
       "</style>\n",
       "<table border=\"1\" class=\"dataframe\">\n",
       "  <thead>\n",
       "    <tr style=\"text-align: right;\">\n",
       "      <th></th>\n",
       "      <th>Unnamed: 0</th>\n",
       "      <th>app_id</th>\n",
       "      <th>app_name</th>\n",
       "      <th>review_id</th>\n",
       "      <th>language</th>\n",
       "      <th>timestamp_created</th>\n",
       "      <th>timestamp_updated</th>\n",
       "      <th>recommended</th>\n",
       "      <th>votes_helpful</th>\n",
       "      <th>votes_funny</th>\n",
       "      <th>...</th>\n",
       "      <th>steam_purchase</th>\n",
       "      <th>received_for_free</th>\n",
       "      <th>written_during_early_access</th>\n",
       "      <th>author.steamid</th>\n",
       "      <th>author.num_games_owned</th>\n",
       "      <th>author.num_reviews</th>\n",
       "      <th>author.playtime_forever</th>\n",
       "      <th>author.playtime_last_two_weeks</th>\n",
       "      <th>author.playtime_at_review</th>\n",
       "      <th>author.last_played</th>\n",
       "    </tr>\n",
       "  </thead>\n",
       "  <tbody>\n",
       "    <tr>\n",
       "      <th>0</th>\n",
       "      <td>0</td>\n",
       "      <td>292030</td>\n",
       "      <td>The Witcher 3: Wild Hunt</td>\n",
       "      <td>85185598</td>\n",
       "      <td>schinese</td>\n",
       "      <td>2021-01-23 06:00:29</td>\n",
       "      <td>2021-01-23 06:00:29</td>\n",
       "      <td>True</td>\n",
       "      <td>0</td>\n",
       "      <td>0</td>\n",
       "      <td>...</td>\n",
       "      <td>True</td>\n",
       "      <td>False</td>\n",
       "      <td>False</td>\n",
       "      <td>76561199095369542</td>\n",
       "      <td>6</td>\n",
       "      <td>2</td>\n",
       "      <td>1909.0</td>\n",
       "      <td>1448.0</td>\n",
       "      <td>1909.0</td>\n",
       "      <td>2021-01-22 19:23:03</td>\n",
       "    </tr>\n",
       "    <tr>\n",
       "      <th>1</th>\n",
       "      <td>1</td>\n",
       "      <td>292030</td>\n",
       "      <td>The Witcher 3: Wild Hunt</td>\n",
       "      <td>85185250</td>\n",
       "      <td>schinese</td>\n",
       "      <td>2021-01-23 05:50:30</td>\n",
       "      <td>2021-01-23 05:50:30</td>\n",
       "      <td>True</td>\n",
       "      <td>0</td>\n",
       "      <td>0</td>\n",
       "      <td>...</td>\n",
       "      <td>True</td>\n",
       "      <td>False</td>\n",
       "      <td>False</td>\n",
       "      <td>76561198949504115</td>\n",
       "      <td>30</td>\n",
       "      <td>10</td>\n",
       "      <td>2764.0</td>\n",
       "      <td>2743.0</td>\n",
       "      <td>2674.0</td>\n",
       "      <td>2021-01-23 07:18:27</td>\n",
       "    </tr>\n",
       "    <tr>\n",
       "      <th>2</th>\n",
       "      <td>2</td>\n",
       "      <td>292030</td>\n",
       "      <td>The Witcher 3: Wild Hunt</td>\n",
       "      <td>85185111</td>\n",
       "      <td>schinese</td>\n",
       "      <td>2021-01-23 05:46:40</td>\n",
       "      <td>2021-01-23 05:46:40</td>\n",
       "      <td>True</td>\n",
       "      <td>0</td>\n",
       "      <td>0</td>\n",
       "      <td>...</td>\n",
       "      <td>True</td>\n",
       "      <td>False</td>\n",
       "      <td>False</td>\n",
       "      <td>76561199090098988</td>\n",
       "      <td>5</td>\n",
       "      <td>1</td>\n",
       "      <td>1061.0</td>\n",
       "      <td>1061.0</td>\n",
       "      <td>1060.0</td>\n",
       "      <td>2021-01-23 06:36:17</td>\n",
       "    </tr>\n",
       "    <tr>\n",
       "      <th>3</th>\n",
       "      <td>3</td>\n",
       "      <td>292030</td>\n",
       "      <td>The Witcher 3: Wild Hunt</td>\n",
       "      <td>85184605</td>\n",
       "      <td>english</td>\n",
       "      <td>2021-01-23 05:32:50</td>\n",
       "      <td>2021-01-23 05:32:50</td>\n",
       "      <td>True</td>\n",
       "      <td>0</td>\n",
       "      <td>0</td>\n",
       "      <td>...</td>\n",
       "      <td>True</td>\n",
       "      <td>False</td>\n",
       "      <td>False</td>\n",
       "      <td>76561199054755373</td>\n",
       "      <td>5</td>\n",
       "      <td>3</td>\n",
       "      <td>5587.0</td>\n",
       "      <td>3200.0</td>\n",
       "      <td>5524.0</td>\n",
       "      <td>2021-01-23 06:35:44</td>\n",
       "    </tr>\n",
       "    <tr>\n",
       "      <th>4</th>\n",
       "      <td>4</td>\n",
       "      <td>292030</td>\n",
       "      <td>The Witcher 3: Wild Hunt</td>\n",
       "      <td>85184287</td>\n",
       "      <td>schinese</td>\n",
       "      <td>2021-01-23 05:23:47</td>\n",
       "      <td>2021-01-23 05:23:47</td>\n",
       "      <td>True</td>\n",
       "      <td>0</td>\n",
       "      <td>0</td>\n",
       "      <td>...</td>\n",
       "      <td>True</td>\n",
       "      <td>False</td>\n",
       "      <td>False</td>\n",
       "      <td>76561199028326951</td>\n",
       "      <td>7</td>\n",
       "      <td>4</td>\n",
       "      <td>217.0</td>\n",
       "      <td>42.0</td>\n",
       "      <td>217.0</td>\n",
       "      <td>2021-01-16 09:10:49</td>\n",
       "    </tr>\n",
       "  </tbody>\n",
       "</table>\n",
       "<p>5 rows × 22 columns</p>\n",
       "</div>"
      ],
      "text/plain": [
       "   Unnamed: 0  app_id                  app_name  review_id  language  \\\n",
       "0           0  292030  The Witcher 3: Wild Hunt   85185598  schinese   \n",
       "1           1  292030  The Witcher 3: Wild Hunt   85185250  schinese   \n",
       "2           2  292030  The Witcher 3: Wild Hunt   85185111  schinese   \n",
       "3           3  292030  The Witcher 3: Wild Hunt   85184605   english   \n",
       "4           4  292030  The Witcher 3: Wild Hunt   85184287  schinese   \n",
       "\n",
       "    timestamp_created   timestamp_updated  recommended  votes_helpful  \\\n",
       "0 2021-01-23 06:00:29 2021-01-23 06:00:29         True              0   \n",
       "1 2021-01-23 05:50:30 2021-01-23 05:50:30         True              0   \n",
       "2 2021-01-23 05:46:40 2021-01-23 05:46:40         True              0   \n",
       "3 2021-01-23 05:32:50 2021-01-23 05:32:50         True              0   \n",
       "4 2021-01-23 05:23:47 2021-01-23 05:23:47         True              0   \n",
       "\n",
       "   votes_funny  ...  steam_purchase  received_for_free  \\\n",
       "0            0  ...            True              False   \n",
       "1            0  ...            True              False   \n",
       "2            0  ...            True              False   \n",
       "3            0  ...            True              False   \n",
       "4            0  ...            True              False   \n",
       "\n",
       "   written_during_early_access     author.steamid  author.num_games_owned  \\\n",
       "0                        False  76561199095369542                       6   \n",
       "1                        False  76561198949504115                      30   \n",
       "2                        False  76561199090098988                       5   \n",
       "3                        False  76561199054755373                       5   \n",
       "4                        False  76561199028326951                       7   \n",
       "\n",
       "   author.num_reviews  author.playtime_forever  \\\n",
       "0                   2                   1909.0   \n",
       "1                  10                   2764.0   \n",
       "2                   1                   1061.0   \n",
       "3                   3                   5587.0   \n",
       "4                   4                    217.0   \n",
       "\n",
       "   author.playtime_last_two_weeks  author.playtime_at_review  \\\n",
       "0                          1448.0                     1909.0   \n",
       "1                          2743.0                     2674.0   \n",
       "2                          1061.0                     1060.0   \n",
       "3                          3200.0                     5524.0   \n",
       "4                            42.0                      217.0   \n",
       "\n",
       "   author.last_played  \n",
       "0 2021-01-22 19:23:03  \n",
       "1 2021-01-23 07:18:27  \n",
       "2 2021-01-23 06:36:17  \n",
       "3 2021-01-23 06:35:44  \n",
       "4 2021-01-16 09:10:49  \n",
       "\n",
       "[5 rows x 22 columns]"
      ]
     },
     "execution_count": 11,
     "metadata": {},
     "output_type": "execute_result"
    }
   ],
   "source": [
    "dataset['author.playtime_at_review'].replace(np.nan, 0)\n",
    "dataset.head()"
   ]
  },
  {
   "cell_type": "code",
   "execution_count": 12,
   "id": "d150cf48",
   "metadata": {},
   "outputs": [
    {
     "data": {
      "text/plain": [
       "Unnamed: 0                           0\n",
       "app_id                               0\n",
       "app_name                             0\n",
       "review_id                            0\n",
       "language                             0\n",
       "timestamp_created                    0\n",
       "timestamp_updated                    0\n",
       "recommended                          0\n",
       "votes_helpful                        0\n",
       "votes_funny                          0\n",
       "weighted_vote_score                  0\n",
       "comment_count                        0\n",
       "steam_purchase                       0\n",
       "received_for_free                    0\n",
       "written_during_early_access          0\n",
       "author.steamid                       0\n",
       "author.num_games_owned               0\n",
       "author.num_reviews                   0\n",
       "author.playtime_forever              0\n",
       "author.playtime_last_two_weeks       0\n",
       "author.playtime_at_review         3317\n",
       "author.last_played                   0\n",
       "dtype: int64"
      ]
     },
     "execution_count": 12,
     "metadata": {},
     "output_type": "execute_result"
    }
   ],
   "source": [
    "dataset.isnull().sum()"
   ]
  },
  {
   "cell_type": "markdown",
   "id": "e2f0bcaf",
   "metadata": {},
   "source": [
    "For further cleaning we will eliminate outliers."
   ]
  },
  {
   "cell_type": "code",
   "execution_count": 13,
   "id": "23fb7412",
   "metadata": {},
   "outputs": [
    {
     "data": {
      "text/plain": [
       "<AxesSubplot:>"
      ]
     },
     "execution_count": 13,
     "metadata": {},
     "output_type": "execute_result"
    },
    {
     "data": {
      "image/png": "[encoded data removed]",
      "text/plain": [
       "<Figure size 432x288 with 2 Axes>"
      ]
     },
     "metadata": {
      "needs_background": "light"
     },
     "output_type": "display_data"
    }
   ],
   "source": [
    "corr = dataset.corr()\n",
    "sns.heatmap(corr)"
   ]
  },
  {
   "cell_type": "markdown",
   "id": "bd1d163a",
   "metadata": {},
   "source": [
    "The heatmap above shows how each column value changes with regards to other columns."
   ]
  },
  {
   "cell_type": "code",
   "execution_count": 270,
   "id": "b9d507cc",
   "metadata": {},
   "outputs": [
    {
     "data": {
      "image/png": "[encoded data removed]",
      "text/plain": [
       "<Figure size 864x720 with 1 Axes>"
      ]
     },
     "metadata": {
      "needs_background": "light"
     },
     "output_type": "display_data"
    }
   ],
   "source": [
    "plt.figure(figsize=(12,10))\n",
    "count = dataset['language'].value_counts()\n",
    "plt.scatter(dataset['weighted_vote_score'], dataset['weighted_vote_score'])\n",
    "plt.xticks(rotation=\"vertical\")\n",
    "plt.show()"
   ]
  },
  {
   "cell_type": "code",
   "execution_count": 382,
   "id": "838bdca4",
   "metadata": {},
   "outputs": [
    {
     "name": "stderr",
     "output_type": "stream",
     "text": [
      "C:\\Users\\Parsa33033\\anaconda3\\lib\\site-packages\\seaborn\\_decorators.py:36: FutureWarning: Pass the following variable as a keyword arg: x. From version 0.12, the only valid positional argument will be `data`, and passing other arguments without an explicit keyword will result in an error or misinterpretation.\n",
      "  warnings.warn(\n",
      "C:\\Users\\Parsa33033\\anaconda3\\lib\\site-packages\\seaborn\\_decorators.py:36: FutureWarning: Pass the following variable as a keyword arg: x. From version 0.12, the only valid positional argument will be `data`, and passing other arguments without an explicit keyword will result in an error or misinterpretation.\n",
      "  warnings.warn(\n",
      "C:\\Users\\Parsa33033\\anaconda3\\lib\\site-packages\\seaborn\\_decorators.py:36: FutureWarning: Pass the following variable as a keyword arg: x. From version 0.12, the only valid positional argument will be `data`, and passing other arguments without an explicit keyword will result in an error or misinterpretation.\n",
      "  warnings.warn(\n"
     ]
    },
    {
     "data": {
      "image/png": "[encoded data removed]",
      "text/plain": [
       "<Figure size 1080x360 with 6 Axes>"
      ]
     },
     "metadata": {
      "needs_background": "light"
     },
     "output_type": "display_data"
    }
   ],
   "source": [
    "fig, ax = plt.subplots(2, 3, figsize=(15, 5), sharey=True)\n",
    "sns.boxplot(dataset['weighted_vote_score'], ax=ax[0,0])\n",
    "sns.boxplot(dataset['comment_count'], ax=ax[0,1])\n",
    "sns.boxplot(dataset['app_id'], ax=ax[0,2])\n",
    "plt.show()"
   ]
  },
  {
   "cell_type": "markdown",
   "id": "5ce8b1d9",
   "metadata": {},
   "source": [
    "#### Extract knowledge by visualizing the data\n",
    "\n",
    "As we can see from the data"
   ]
  },
  {
   "cell_type": "markdown",
   "id": "9184ae1b",
   "metadata": {},
   "source": [
    "##  [RQ2] \n",
    "\n",
    " Let's explore the dataset by finding simple insights into the reviews.\n",
    "\n",
    "    Plot the number of reviews for each application in descending order.\n",
    "    What applications have the best Weighted Vote Score?\n",
    "    Which applications have the most and the least recommendations?\n",
    "    How many of these applications were purchased, and how many were given for free?\n",
    "\n"
   ]
  },
  {
   "cell_type": "markdown",
   "id": "e24f9691",
   "metadata": {},
   "source": [
    "### Answer 2\n",
    "---\n"
   ]
  },
  {
   "cell_type": "markdown",
   "id": "0f0e10d3",
   "metadata": {},
   "source": [
    "#### number of reviews for each application in descending order"
   ]
  },
  {
   "cell_type": "code",
   "execution_count": 202,
   "id": "42dcea20",
   "metadata": {},
   "outputs": [
    {
     "data": {
      "image/png": "[encoded data removed]",
      "text/plain": [
       "<Figure size 1008x720 with 1 Axes>"
      ]
     },
     "metadata": {
      "needs_background": "light"
     },
     "output_type": "display_data"
    }
   ],
   "source": [
    "plt.figure(figsize=(14,10))\n",
    "plt.bar(dataset.app_name.unique(), dataset.app_name.value_counts())\n",
    "plt.xticks(rotation='vertical')\n",
    "plt.show()"
   ]
  },
  {
   "cell_type": "code",
   "execution_count": 421,
   "id": "448da305",
   "metadata": {},
   "outputs": [
    {
     "name": "stdout",
     "output_type": "stream",
     "text": [
      "Application which have the top ten best weighted vote score:\n",
      "  > Sid Meier's Civilization V\n",
      "  > The Witcher 3: Wild Hunt\n"
     ]
    }
   ],
   "source": [
    "top_ten_weighted_vote_score = dataset[dataset[\"weighted_vote_score\"] > 0].sort_values(by = \"weighted_vote_score\")[-10:]\n",
    "print(\"Application which have the top ten best weighted vote score:\")\n",
    "for i in top_ten_weighted_vote_score['app_name'].unique():\n",
    "    print(\"  > \" + i)"
   ]
  },
  {
   "cell_type": "code",
   "execution_count": 474,
   "id": "203a3eef",
   "metadata": {},
   "outputs": [
    {
     "data": {
      "text/html": [
       "<div>\n",
       "<style scoped>\n",
       "    .dataframe tbody tr th:only-of-type {\n",
       "        vertical-align: middle;\n",
       "    }\n",
       "\n",
       "    .dataframe tbody tr th {\n",
       "        vertical-align: top;\n",
       "    }\n",
       "\n",
       "    .dataframe thead th {\n",
       "        text-align: right;\n",
       "    }\n",
       "</style>\n",
       "<table border=\"1\" class=\"dataframe\">\n",
       "  <thead>\n",
       "    <tr style=\"text-align: right;\">\n",
       "      <th></th>\n",
       "      <th>app_name</th>\n",
       "      <th>recommended</th>\n",
       "      <th>0</th>\n",
       "    </tr>\n",
       "  </thead>\n",
       "  <tbody>\n",
       "    <tr>\n",
       "      <th>5</th>\n",
       "      <td>Garry's Mod</td>\n",
       "      <td>True</td>\n",
       "      <td>632558</td>\n",
       "    </tr>\n",
       "    <tr>\n",
       "      <th>15</th>\n",
       "      <td>The Witcher 3: Wild Hunt</td>\n",
       "      <td>True</td>\n",
       "      <td>460252</td>\n",
       "    </tr>\n",
       "    <tr>\n",
       "      <th>11</th>\n",
       "      <td>Portal 2</td>\n",
       "      <td>True</td>\n",
       "      <td>229470</td>\n",
       "    </tr>\n",
       "    <tr>\n",
       "      <th>3</th>\n",
       "      <td>Dead by Daylight</td>\n",
       "      <td>True</td>\n",
       "      <td>227356</td>\n",
       "    </tr>\n",
       "    <tr>\n",
       "      <th>13</th>\n",
       "      <td>Sid Meier's Civilization V</td>\n",
       "      <td>True</td>\n",
       "      <td>164797</td>\n",
       "    </tr>\n",
       "    <tr>\n",
       "      <th>1</th>\n",
       "      <td>Counter-Strike: Source</td>\n",
       "      <td>True</td>\n",
       "      <td>113430</td>\n",
       "    </tr>\n",
       "    <tr>\n",
       "      <th>7</th>\n",
       "      <td>Half-Life</td>\n",
       "      <td>True</td>\n",
       "      <td>55312</td>\n",
       "    </tr>\n",
       "    <tr>\n",
       "      <th>9</th>\n",
       "      <td>Half-Life 2: Episode Two</td>\n",
       "      <td>True</td>\n",
       "      <td>22704</td>\n",
       "    </tr>\n",
       "    <tr>\n",
       "      <th>17</th>\n",
       "      <td>X Rebirth</td>\n",
       "      <td>True</td>\n",
       "      <td>2970</td>\n",
       "    </tr>\n",
       "  </tbody>\n",
       "</table>\n",
       "</div>"
      ],
      "text/plain": [
       "                      app_name  recommended       0\n",
       "5                  Garry's Mod         True  632558\n",
       "15    The Witcher 3: Wild Hunt         True  460252\n",
       "11                    Portal 2         True  229470\n",
       "3             Dead by Daylight         True  227356\n",
       "13  Sid Meier's Civilization V         True  164797\n",
       "1       Counter-Strike: Source         True  113430\n",
       "7                    Half-Life         True   55312\n",
       "9     Half-Life 2: Episode Two         True   22704\n",
       "17                   X Rebirth         True    2970"
      ]
     },
     "execution_count": 474,
     "metadata": {},
     "output_type": "execute_result"
    }
   ],
   "source": [
    "recommended_apps = dataset.groupby([\"app_name\", \"recommended\"]).size().reset_index()\n",
    "recommended_apps = recommended_apps[recommended_apps[\"recommended\"] == True]\n",
    "recommended_apps = recommended_apps.sort_values(recommended_apps.columns[2], ascending = False)\n",
    "recommended_apps"
   ]
  },
  {
   "cell_type": "code",
   "execution_count": 471,
   "id": "466e308e",
   "metadata": {},
   "outputs": [
    {
     "name": "stdout",
     "output_type": "stream",
     "text": [
      "'Garry's Mod' had the most recommendations by 632558 and 'X Rebirth' had the least recommendation by 2970\n"
     ]
    }
   ],
   "source": [
    "print(\"'{}' had the most recommendations by {} and '{}' had the least recommendation by {}\"\n",
    "      .format(recommended_apps.iloc[0, 0], recommended_apps.iloc[0, -1], recommended_apps.iloc[-1, 0], recommended_apps.iloc[-1, -1]))"
   ]
  },
  {
   "cell_type": "code",
   "execution_count": 483,
   "id": "d1f6b85c",
   "metadata": {},
   "outputs": [
    {
     "data": {
      "text/html": [
       "<div>\n",
       "<style scoped>\n",
       "    .dataframe tbody tr th:only-of-type {\n",
       "        vertical-align: middle;\n",
       "    }\n",
       "\n",
       "    .dataframe tbody tr th {\n",
       "        vertical-align: top;\n",
       "    }\n",
       "\n",
       "    .dataframe thead th {\n",
       "        text-align: right;\n",
       "    }\n",
       "</style>\n",
       "<table border=\"1\" class=\"dataframe\">\n",
       "  <thead>\n",
       "    <tr style=\"text-align: right;\">\n",
       "      <th></th>\n",
       "      <th>app_name</th>\n",
       "      <th>steam_purchase</th>\n",
       "      <th>0</th>\n",
       "    </tr>\n",
       "  </thead>\n",
       "  <tbody>\n",
       "    <tr>\n",
       "      <th>0</th>\n",
       "      <td>Counter-Strike: Source</td>\n",
       "      <td>False</td>\n",
       "      <td>43264</td>\n",
       "    </tr>\n",
       "    <tr>\n",
       "      <th>1</th>\n",
       "      <td>Counter-Strike: Source</td>\n",
       "      <td>True</td>\n",
       "      <td>74817</td>\n",
       "    </tr>\n",
       "    <tr>\n",
       "      <th>2</th>\n",
       "      <td>Dead by Daylight</td>\n",
       "      <td>False</td>\n",
       "      <td>71328</td>\n",
       "    </tr>\n",
       "    <tr>\n",
       "      <th>3</th>\n",
       "      <td>Dead by Daylight</td>\n",
       "      <td>True</td>\n",
       "      <td>194118</td>\n",
       "    </tr>\n",
       "    <tr>\n",
       "      <th>4</th>\n",
       "      <td>Garry's Mod</td>\n",
       "      <td>False</td>\n",
       "      <td>104274</td>\n",
       "    </tr>\n",
       "    <tr>\n",
       "      <th>5</th>\n",
       "      <td>Garry's Mod</td>\n",
       "      <td>True</td>\n",
       "      <td>551250</td>\n",
       "    </tr>\n",
       "    <tr>\n",
       "      <th>6</th>\n",
       "      <td>Half-Life</td>\n",
       "      <td>False</td>\n",
       "      <td>13445</td>\n",
       "    </tr>\n",
       "    <tr>\n",
       "      <th>7</th>\n",
       "      <td>Half-Life</td>\n",
       "      <td>True</td>\n",
       "      <td>43875</td>\n",
       "    </tr>\n",
       "    <tr>\n",
       "      <th>8</th>\n",
       "      <td>Half-Life 2: Episode Two</td>\n",
       "      <td>False</td>\n",
       "      <td>5962</td>\n",
       "    </tr>\n",
       "    <tr>\n",
       "      <th>9</th>\n",
       "      <td>Half-Life 2: Episode Two</td>\n",
       "      <td>True</td>\n",
       "      <td>17538</td>\n",
       "    </tr>\n",
       "    <tr>\n",
       "      <th>10</th>\n",
       "      <td>Portal 2</td>\n",
       "      <td>False</td>\n",
       "      <td>49377</td>\n",
       "    </tr>\n",
       "    <tr>\n",
       "      <th>11</th>\n",
       "      <td>Portal 2</td>\n",
       "      <td>True</td>\n",
       "      <td>182952</td>\n",
       "    </tr>\n",
       "    <tr>\n",
       "      <th>12</th>\n",
       "      <td>Sid Meier's Civilization V</td>\n",
       "      <td>False</td>\n",
       "      <td>65937</td>\n",
       "    </tr>\n",
       "    <tr>\n",
       "      <th>13</th>\n",
       "      <td>Sid Meier's Civilization V</td>\n",
       "      <td>True</td>\n",
       "      <td>105467</td>\n",
       "    </tr>\n",
       "    <tr>\n",
       "      <th>14</th>\n",
       "      <td>The Witcher 3: Wild Hunt</td>\n",
       "      <td>False</td>\n",
       "      <td>39986</td>\n",
       "    </tr>\n",
       "    <tr>\n",
       "      <th>15</th>\n",
       "      <td>The Witcher 3: Wild Hunt</td>\n",
       "      <td>True</td>\n",
       "      <td>429409</td>\n",
       "    </tr>\n",
       "    <tr>\n",
       "      <th>16</th>\n",
       "      <td>X Rebirth</td>\n",
       "      <td>False</td>\n",
       "      <td>2067</td>\n",
       "    </tr>\n",
       "    <tr>\n",
       "      <th>17</th>\n",
       "      <td>X Rebirth</td>\n",
       "      <td>True</td>\n",
       "      <td>4934</td>\n",
       "    </tr>\n",
       "  </tbody>\n",
       "</table>\n",
       "</div>"
      ],
      "text/plain": [
       "                      app_name  steam_purchase       0\n",
       "0       Counter-Strike: Source           False   43264\n",
       "1       Counter-Strike: Source            True   74817\n",
       "2             Dead by Daylight           False   71328\n",
       "3             Dead by Daylight            True  194118\n",
       "4                  Garry's Mod           False  104274\n",
       "5                  Garry's Mod            True  551250\n",
       "6                    Half-Life           False   13445\n",
       "7                    Half-Life            True   43875\n",
       "8     Half-Life 2: Episode Two           False    5962\n",
       "9     Half-Life 2: Episode Two            True   17538\n",
       "10                    Portal 2           False   49377\n",
       "11                    Portal 2            True  182952\n",
       "12  Sid Meier's Civilization V           False   65937\n",
       "13  Sid Meier's Civilization V            True  105467\n",
       "14    The Witcher 3: Wild Hunt           False   39986\n",
       "15    The Witcher 3: Wild Hunt            True  429409\n",
       "16                   X Rebirth           False    2067\n",
       "17                   X Rebirth            True    4934"
      ]
     },
     "execution_count": 483,
     "metadata": {},
     "output_type": "execute_result"
    }
   ],
   "source": [
    "purchased_apps = dataset.groupby([\"app_name\", \"steam_purchase\"]).size().reset_index()\n",
    "purchased_apps"
   ]
  },
  {
   "cell_type": "markdown",
   "id": "4fe0315b",
   "metadata": {},
   "source": [
    "## [RQ3]\n",
    "\n",
    "*Now it's important to understand the preferred time to do reviews.*\n",
    "- What is the most common time that authors review an application? For example, authors usually write a review at 17:44.\n",
    "- Create a function that receives as a parameter a list of time intervals and returns the plot the number of reviews for each of the intervals.\n",
    "- Use the function that you created in the previous literal to plot the number of reviews between the following time intervals: \n",
    "    \n",
    "| Initial time | Final time |\n",
    "| ----------- | ----------- |\n",
    "|06:00:00 | 10:59:59|\n",
    "|11:00:00 | 13:59:59|\n",
    "|14:00:00 | 16:59:59|\n",
    "|17:00:00 | 19:59:59|\n",
    "|20:00:00 | 23:59:59|\n",
    "|00:00:00 | 02:59:59|\n",
    "|03:00:00 | 05:59:59|"
   ]
  },
  {
   "cell_type": "markdown",
   "id": "221d5e4d",
   "metadata": {},
   "source": [
    "### Answer 3\n",
    "---\n"
   ]
  },
  {
   "cell_type": "code",
   "execution_count": 360,
   "id": "8fe84b97",
   "metadata": {},
   "outputs": [
    {
     "data": {
      "text/plain": [
       "15:54:53    56\n",
       "18:12:37    54\n",
       "21:08:22    52\n",
       "15:00:44    52\n",
       "19:39:49    52\n",
       "            ..\n",
       "07:19:46     5\n",
       "03:30:54     5\n",
       "04:28:48     5\n",
       "05:31:53     4\n",
       "05:27:13     4\n",
       "Name: timestamp_created, Length: 86400, dtype: int64"
      ]
     },
     "execution_count": 360,
     "metadata": {},
     "output_type": "execute_result"
    }
   ],
   "source": [
    "dataset['timestamp_created'] = pd.to_datetime(dataset['timestamp_created'])\n",
    "t = dataset['timestamp_created'].dt.time\n",
    "# t = t.apply(lambda x: x.strftime(\"%H:%M:%S\"))\n",
    "t_count = t.value_counts()\n",
    "t_count"
   ]
  },
  {
   "cell_type": "markdown",
   "id": "61a79e8c",
   "metadata": {},
   "source": [
    "As we can see in the count of each of the unique timestamp values of the created reviews, most reviews happened at \"15:54:53\"."
   ]
  },
  {
   "cell_type": "code",
   "execution_count": 369,
   "id": "c17ea50a",
   "metadata": {},
   "outputs": [
    {
     "name": "stdout",
     "output_type": "stream",
     "text": [
      "0          06:00:29\n",
      "1          05:50:30\n",
      "2          05:46:40\n",
      "3          05:32:50\n",
      "4          05:23:47\n",
      "             ...   \n",
      "1999995    11:30:49\n",
      "1999996    11:29:06\n",
      "1999997    11:27:55\n",
      "1999998    11:27:23\n",
      "1999999    11:26:46\n",
      "Name: timestamp_created, Length: 2000000, dtype: object\n"
     ]
    },
    {
     "ename": "AttributeError",
     "evalue": "'Categorical' object has no attribute 'plot'",
     "output_type": "error",
     "traceback": [
      "\u001b[1;31m---------------------------------------------------------------------------\u001b[0m",
      "\u001b[1;31mAttributeError\u001b[0m                            Traceback (most recent call last)",
      "\u001b[1;32m<ipython-input-369-7d19272cd7dc>\u001b[0m in \u001b[0;36m<module>\u001b[1;34m\u001b[0m\n\u001b[0;32m     12\u001b[0m \u001b[0mc\u001b[0m \u001b[1;33m=\u001b[0m \u001b[0mlist\u001b[0m\u001b[1;33m(\u001b[0m\u001b[0mdict\u001b[0m\u001b[1;33m(\u001b[0m\u001b[0mt_count\u001b[0m\u001b[1;33m)\u001b[0m\u001b[1;33m.\u001b[0m\u001b[0mvalues\u001b[0m\u001b[1;33m(\u001b[0m\u001b[1;33m)\u001b[0m\u001b[1;33m)\u001b[0m\u001b[1;33m\u001b[0m\u001b[1;33m\u001b[0m\u001b[0m\n\u001b[0;32m     13\u001b[0m \u001b[0mout\u001b[0m \u001b[1;33m=\u001b[0m \u001b[0mpd\u001b[0m\u001b[1;33m.\u001b[0m\u001b[0mcut\u001b[0m\u001b[1;33m(\u001b[0m\u001b[0mc\u001b[0m\u001b[1;33m,\u001b[0m \u001b[0mbins\u001b[0m\u001b[1;33m=\u001b[0m\u001b[0mnp\u001b[0m\u001b[1;33m.\u001b[0m\u001b[0mlinspace\u001b[0m\u001b[1;33m(\u001b[0m\u001b[1;36m0\u001b[0m\u001b[1;33m,\u001b[0m\u001b[1;36m23\u001b[0m\u001b[1;33m,\u001b[0m\u001b[1;36m24\u001b[0m\u001b[1;33m)\u001b[0m\u001b[1;33m,\u001b[0m \u001b[0minclude_lowest\u001b[0m\u001b[1;33m=\u001b[0m\u001b[1;32mTrue\u001b[0m\u001b[1;33m)\u001b[0m\u001b[1;33m\u001b[0m\u001b[1;33m\u001b[0m\u001b[0m\n\u001b[1;32m---> 14\u001b[1;33m \u001b[0mout\u001b[0m\u001b[1;33m.\u001b[0m\u001b[0mplot\u001b[0m\u001b[1;33m.\u001b[0m\u001b[0mbar\u001b[0m\u001b[1;33m(\u001b[0m\u001b[1;33m)\u001b[0m\u001b[1;33m\u001b[0m\u001b[1;33m\u001b[0m\u001b[0m\n\u001b[0m\u001b[0;32m     15\u001b[0m \u001b[1;33m\u001b[0m\u001b[0m\n\u001b[0;32m     16\u001b[0m \u001b[1;31m# x = dict(t_count)\u001b[0m\u001b[1;33m\u001b[0m\u001b[1;33m\u001b[0m\u001b[1;33m\u001b[0m\u001b[0m\n",
      "\u001b[1;31mAttributeError\u001b[0m: 'Categorical' object has no attribute 'plot'"
     ]
    }
   ],
   "source": [
    "l = [\"06:00:00\",\n",
    "    \"11:00:00\",\n",
    "    \"14:00:00\",\n",
    "    \"17:00:00\",\n",
    "    \"20:00:00\",\n",
    "    \"00:00:00\",\n",
    "    \"03:00:00\"]\n",
    "x = []\n",
    "for i in l:\n",
    "    x.append(datetime.strptime(i, \"%H:%M:%S\").time())\n",
    "print(t)\n",
    "c = list(dict(t_count).values())\n",
    "out = pd.cut(c, bins=np.linspace(0,23,24), include_lowest=True)\n",
    "out.plot.bar()\n",
    "\n",
    "# x = dict(t_count)\n",
    "# t_keys = np.array(list(x.keys()))\n",
    "# t_keys = np.linspace(0, len(t_keys), len(t_keys))\n",
    "# t_vals = np.array(list(x.values()))\n",
    "# print(t_vals)\n",
    "# plt.figure(figsize=(18, 16))\n",
    "# plt.bar(t_keys, t_vals)\n",
    "# plt.xticks(rotation='vertical')\n",
    "# plt.show()"
   ]
  },
  {
   "cell_type": "code",
   "execution_count": 265,
   "id": "1f0abe64",
   "metadata": {},
   "outputs": [],
   "source": [
    "def plotIntervalNum(timestamp_col, l):\n",
    "    timestamp_col = timestamp_col.dt.time\n",
    "    timestamp_col_count = timestamp_col.value_counts()\n",
    "    timestamp_col_count = timestamp_col_count.sort_index()\n",
    "    intervals = []\n",
    "    counts = []\n",
    "    for i in l:\n",
    "        start, end = i\n",
    "        intervals.append(start + \"-\" + end)\n",
    "        start = datetime.strptime(start, \"%H:%M:%S\").time()\n",
    "        end = datetime.strptime(end, \"%H:%M:%S\").time()\n",
    "        c = 0\n",
    "        for time, count in dict(timestamp_col_count).items():\n",
    "            if start <= time < end:\n",
    "                c += count\n",
    "            elif time >= end:\n",
    "                break\n",
    "        counts.append(c)\n",
    "    plt.figure()\n",
    "    plt.bar(intervals, counts)\n",
    "    plt.xticks(rotation='vertical')\n",
    "    plt.show()\n",
    "    "
   ]
  },
  {
   "cell_type": "code",
   "execution_count": 346,
   "id": "555af2a8",
   "metadata": {},
   "outputs": [
    {
     "data": {
      "image/png": "[encoded data removed]",
      "text/plain": [
       "<Figure size 432x288 with 1 Axes>"
      ]
     },
     "metadata": {
      "needs_background": "light"
     },
     "output_type": "display_data"
    }
   ],
   "source": [
    "l = [[\"06:00:00\",\"10:59:59\"],\n",
    "    [\"11:00:00\",\"13:59:59\"],\n",
    "    [\"14:00:00\",\"16:59:59\"],\n",
    "    [\"17:00:00\",\"19:59:59\"],\n",
    "    [\"20:00:00\",\"23:59:59\"],\n",
    "    [\"00:00:00\",\"02:59:59\"],\n",
    "    [\"03:00:00\",\"05:59:59\"]]\n",
    "\n",
    "plotIntervalNum(dataset['timestamp_created'], l)"
   ]
  },
  {
   "cell_type": "markdown",
   "id": "21842356",
   "metadata": {},
   "source": [
    "## [**RQ4**] \n",
    "\n",
    "*As Steam is a worldwide platform, the reviews can be done in many languages. Let's extract some information about it.*\n",
    "- What are the top 3 languages used to review applications?\n",
    "- Create a function that receives as parameters both the name of a data set and a list of languages’ names and returns a data frame filtered only with the reviews written in the provided languages.\n",
    "- Use the function created in the previous literal to find what percentage of these reviews (associated with the top 3 languages) were voted as funny?\n",
    "- Use the function created in the literal “a” to find what percentage of these reviews (associated with the top 3 languages) were voted as helpful?"
   ]
  },
  {
   "cell_type": "markdown",
   "id": "2fa87eaa",
   "metadata": {},
   "source": [
    "### Answer 4\n",
    "---\n"
   ]
  },
  {
   "cell_type": "code",
   "execution_count": 319,
   "id": "86ac2659",
   "metadata": {},
   "outputs": [
    {
     "data": {
      "text/plain": [
       "english     876981\n",
       "russian     355410\n",
       "schinese    172649\n",
       "Name: language, dtype: int64"
      ]
     },
     "execution_count": 319,
     "metadata": {},
     "output_type": "execute_result"
    }
   ],
   "source": [
    "top_three_langs = dataset['language'].value_counts()[:3]\n",
    "top_three_langs"
   ]
  },
  {
   "cell_type": "code",
   "execution_count": 320,
   "id": "c214d2d9",
   "metadata": {},
   "outputs": [
    {
     "data": {
      "text/plain": [
       "['english', 'russian', 'schinese']"
      ]
     },
     "execution_count": 320,
     "metadata": {},
     "output_type": "execute_result"
    }
   ],
   "source": [
    "top_three_langs = list(dict(top_three_langs).keys())\n",
    "top_three_langs"
   ]
  },
  {
   "cell_type": "code",
   "execution_count": 321,
   "id": "1e256b1a",
   "metadata": {},
   "outputs": [],
   "source": [
    "def fetch_dataset_with_Lang(dataset, langList):\n",
    "    return dataset[dataset['language'].isin(langList)]"
   ]
  },
  {
   "cell_type": "code",
   "execution_count": 384,
   "id": "2ce72278",
   "metadata": {},
   "outputs": [
    {
     "name": "stdout",
     "output_type": "stream",
     "text": [
      "5.45% of the data contain english, russian, and schinese languages which are funny\n"
     ]
    }
   ],
   "source": [
    "top_three_langs_records = fetch_dataset_with_Lang(dataset, top_three_langs)\n",
    "funny_top_three_langs_records = top_three_langs_records[top_three_langs_records['votes_funny'] == True]\n",
    "print(\"{:.2f}% of the data contain {}, {}, and {} languages which are funny\".format(len(funny_top_three_langs_records)/len(dataset)*100, top_three_langs[0], top_three_langs[1], top_three_langs[2]))"
   ]
  },
  {
   "cell_type": "code",
   "execution_count": 383,
   "id": "9bed08cb",
   "metadata": {},
   "outputs": [
    {
     "name": "stdout",
     "output_type": "stream",
     "text": [
      "12.45% of the data contain english, russian, and schinese languages which are helpful\n"
     ]
    }
   ],
   "source": [
    "helpful_top_three_langs_records = top_three_langs_records[top_three_langs_records['votes_helpful'] == True]\n",
    "print(\"{:.2f}% of the data contain {}, {}, and {} languages which are helpful\".format(len(helpful_top_three_langs_records)/len(dataset)*100, top_three_langs[0], top_three_langs[1], top_three_langs[2]))"
   ]
  },
  {
   "cell_type": "markdown",
   "id": "387916e1",
   "metadata": {},
   "source": [
    "## [**RQ5**] \n",
    "\n",
    "*The reviews' authors are users from the game that provide their opinion on it. Now you can check how often they make reviews.*\n",
    "- Plot the top 10 most popular reviewers and the number of reviews.\n",
    "- What applications did the most popular author review? \n",
    "- How many applications did he purchase, and how many did he get as free? Provide the number (count) and the percentage.\n",
    "- How many of the applications he purchased reviewed positively, and how many negatively? How about the applications he received for free?"
   ]
  },
  {
   "cell_type": "markdown",
   "id": "095c0b8a",
   "metadata": {},
   "source": [
    "### Answer 5\n",
    "---\n"
   ]
  },
  {
   "cell_type": "code",
   "execution_count": null,
   "id": "4b0f6653",
   "metadata": {},
   "outputs": [],
   "source": []
  },
  {
   "cell_type": "markdown",
   "id": "5171573d",
   "metadata": {},
   "source": [
    "## [**RQ6**]\n",
    "\n",
    "*It's time to get information from the updates that a user does to his reviews.*\n",
    "- What is the average time (days and minutes) a user lets pass before he updates a review?\n",
    "- Plot the top 3 authors that usually update their reviews."
   ]
  },
  {
   "cell_type": "markdown",
   "id": "dd17a19e",
   "metadata": {},
   "source": [
    "### Answer 6\n",
    "---\n"
   ]
  },
  {
   "cell_type": "markdown",
   "id": "008e0a73",
   "metadata": {},
   "source": [
    "## [**RQ7**] \n",
    "\n",
    "*Of course, calculating probabilities is a job that any Data Scientist must know. Let's compute Some interesting figures.*\n",
    "- What’s the probability that a review has a Weighted Vote Score equal to or bigger than 0.5?\n",
    "- What’s the probability that a review has at least one vote as funny given that the Weighted Vote Score is bigger than 0.5?\n",
    "- Is the probability that “a review has at least one vote as funny” independent of the “probability that a review has a Weighted Vote Score equal or bigger than 0.5”?"
   ]
  },
  {
   "cell_type": "markdown",
   "id": "c9c3e119",
   "metadata": {},
   "source": [
    "### Answer 7\n",
    "---\n"
   ]
  },
  {
   "cell_type": "code",
   "execution_count": null,
   "id": "7c3ef230",
   "metadata": {},
   "outputs": [],
   "source": []
  },
  {
   "cell_type": "markdown",
   "id": "3276f158",
   "metadata": {},
   "source": [
    "## [**RQ8**] \n",
    "\n",
    "*Every decision you take in a data-based environment should be reinforced with charts, statistical tests and analysis methods to check if a hypothesis is correct or not.*\n",
    "- Is there a significant difference in the Weighted Vote Score of reviews made in Chinese vs the ones made in Russian? Use an appropriate statistical test or technique and support your choice.\n",
    "- Can you find any significant relationship between the time that a user lets pass before he updates the review and the Weighted Vote Score?  Use an appropriate statistical test or technique and support your choice.\n",
    "- Is there any change in the relationship of the variables mentioned in the previous literal if you include whether an application is recommended or not in the review?  Use an appropriate statistical test or technique and support your choice.\n",
    "- What are histograms, bar plots, scatterplots and pie charts used for?\n",
    "- What insights can you extract from a Box Plot?"
   ]
  },
  {
   "cell_type": "markdown",
   "id": "5c5da745",
   "metadata": {},
   "source": [
    "### Answer 8\n",
    "---\n"
   ]
  },
  {
   "cell_type": "code",
   "execution_count": 485,
   "id": "77261f79",
   "metadata": {},
   "outputs": [
    {
     "data": {
      "text/plain": [
       "array(['schinese', 'english', 'turkish', 'spanish', 'russian', 'koreana',\n",
       "       'latam', 'brazilian', 'portuguese', 'vietnamese', 'polish',\n",
       "       'french', 'german', 'hungarian', 'ukrainian', 'tchinese',\n",
       "       'bulgarian', 'czech', 'italian', 'thai', 'greek', 'dutch',\n",
       "       'finnish', 'romanian', 'japanese', 'swedish', 'danish',\n",
       "       'norwegian'], dtype=object)"
      ]
     },
     "execution_count": 485,
     "metadata": {},
     "output_type": "execute_result"
    }
   ],
   "source": [
    "dataset.language.unique()"
   ]
  },
  {
   "cell_type": "code",
   "execution_count": 506,
   "id": "1cb63899",
   "metadata": {},
   "outputs": [
    {
     "name": "stdout",
     "output_type": "stream",
     "text": [
      "0          0.00000\n",
      "1          0.00000\n",
      "2          0.00000\n",
      "4          0.00000\n",
      "8          0.00000\n",
      "            ...   \n",
      "1999969    0.00000\n",
      "1999972    0.00000\n",
      "1999980    0.52381\n",
      "1999984    0.52381\n",
      "1999994    0.00000\n",
      "Name: weighted_vote_score, Length: 172649, dtype: float64\n"
     ]
    }
   ],
   "source": [
    "chinese = dataset[dataset['language'] == 'schinese']\n",
    "russian = dataset[dataset['language'] == 'russian']\n",
    "chi = chinese['weighted_vote_score']\n",
    "rus = russian['weighted_vote_score']\n",
    "\n",
    "print(chi)"
   ]
  },
  {
   "cell_type": "code",
   "execution_count": 505,
   "id": "57fe25e1",
   "metadata": {},
   "outputs": [
    {
     "data": {
      "text/plain": [
       "F_onewayResult(statistic=5126.2785746130485, pvalue=0.0)"
      ]
     },
     "execution_count": 505,
     "metadata": {},
     "output_type": "execute_result"
    }
   ],
   "source": [
    "f_oneway(chi, rus)"
   ]
  },
  {
   "cell_type": "markdown",
   "id": "3dee11ae",
   "metadata": {},
   "source": [
    "### TQ1\n",
    "We are given the following algorithm.\n",
    "```\n",
    "Input: \n",
    "    A: array of length n\n",
    "    k: integers between 1 and n\n",
    "    \n",
    "function alg(A, k):\n",
    "  s <-- a random element of A\n",
    "  set L = [all the elements of A with value <= s]\n",
    "  set R = [all the elements of A with value > s]\n",
    "  r = len(L)\n",
    "  if k == r:\n",
    "    return s\n",
    "  else if k < r:  \n",
    "    return alg(L, k)\n",
    "  else:\n",
    "    return alg(R, k - r)\n",
    "```\n",
    "1. What does the algorithm compute?\n",
    "2. What is asymptotically (i.e., we are asking for big-O complexity) the running time of the algorithm in the worst case, as a function of n?\n",
    "3. What is asymptotically the running time of the algorithm in the best case?"
   ]
  },
  {
   "cell_type": "markdown",
   "id": "53db9f81",
   "metadata": {},
   "source": [
    "Answer\n",
    "-----"
   ]
  },
  {
   "cell_type": "markdown",
   "id": "6d3dd0d2",
   "metadata": {},
   "source": [
    "1. The algorithm computes\n",
    "2. The time complexity of the algorithm is \n",
    "3. The best case time complexity is"
   ]
  },
  {
   "cell_type": "markdown",
   "id": "c4334ba0",
   "metadata": {},
   "source": [
    "\n",
    "### TQ2\n",
    "You are given the recursive function *splitSwap*, which accepts an array *a*, an index *i*, and a length *n*.\n",
    "```\n",
    "function splitSwap(a, l, n):\n",
    "  if n <= 1:\n",
    "    return\n",
    "  splitSwap(a, l, n/2)\n",
    "  splitSwap(a, l+ n /2, n/2)\n",
    "  swapList(a, l, n)\n",
    "```\n",
    "The subroutine swapList is described here:\n",
    "```\n",
    "function swapList(a, l, n):\n",
    "  for i = 0 to n/2:\n",
    "    tmp = a[l + i]\n",
    "    a[l + i] = a[l + n/2 + i]\n",
    "    a[l + n/2 + i] = tmp\n",
    "```\n",
    "1. How much running time does it take to execute *splitSwap(a, 0, n)*? (We want a Big O analysis.)\n",
    "2. What does this algorithm do? Is it optimal? Describe the mechanism of the algorithm in details, we do not want to know only its final result.\n",
    "\n",
    "**HINT:** Consider the scenario where len(a) and n are numbers that are a power of 2.\n"
   ]
  },
  {
   "cell_type": "markdown",
   "id": "2b2e2c6c",
   "metadata": {},
   "source": [
    "Answer\n",
    "-----"
   ]
  },
  {
   "cell_type": "markdown",
   "id": "1ffe0c91",
   "metadata": {},
   "source": [
    "### TQ3\n",
    "In the knapsack problem we are given n objects and each object *i* has a weight *w_i* and a value *v_i*. We are also given a weight budget *W*.\n",
    "The problem is to select a set of objects with total weight bounded by *W* that maximized the sum of their values.\n",
    "The following are three natural heuristics:\n",
    "   - Order them in increasing order of weight and then visit them sequentially, adding them to the solution as long as the budget is not exceeded\n",
    "   - Order them in decreasing order of values, and then visit them sequentially, adding them to the solution if the budget is not exceeded\n",
    "   - Order them in decreasing relative value *(v_i / w_i)*, and then visit them sequentially, adding them to the solution if the budget is not exceeded\n",
    "\n",
    "For each of the heuristics, provide a counterexample, that is, an example of a problem instance in which the heuristic fails to provide the optimal solution."
   ]
  },
  {
   "cell_type": "markdown",
   "id": "003c4e22",
   "metadata": {},
   "source": [
    "Answer\n",
    "-----"
   ]
  },
  {
   "cell_type": "code",
   "execution_count": null,
   "id": "5982c5a2",
   "metadata": {},
   "outputs": [],
   "source": []
  }
 ],
 "metadata": {
  "kernelspec": {
   "display_name": "Python 3",
   "language": "python",
   "name": "python3"
  },
  "language_info": {
   "codemirror_mode": {
    "name": "ipython",
    "version": 3
   },
   "file_extension": ".py",
   "mimetype": "text/x-python",
   "name": "python",
   "nbconvert_exporter": "python",
   "pygments_lexer": "ipython3",
   "version": "3.8.8"
  }
 },
 "nbformat": 4,
 "nbformat_minor": 5
}
