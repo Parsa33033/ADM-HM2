{
 "cells": [
  {
   "cell_type": "markdown",
   "id": "ccefda11",
   "metadata": {},
   "source": [
    "# Homework 2\n",
    "Parsa Heidary Moghadam,\n",
    "Daniel Losada,\n",
    "Vahid Ghanbari Zadeh,\n",
    "\n",
    "- steam_reviews.csv should be in the same folder of homework2.ipynb file"
   ]
  },
  {
   "cell_type": "code",
   "execution_count": 1,
   "id": "53e37729",
   "metadata": {},
   "outputs": [],
   "source": [
    "# dependencies\n",
    "import pandas as pd\n",
    "import numpy as np\n",
    "import matplotlib.pyplot as plt\n",
    "\n",
    "from pandas import read_csv"
   ]
  },
  {
   "cell_type": "code",
   "execution_count": 2,
   "id": "1bb0e6c1",
   "metadata": {},
   "outputs": [],
   "source": [
    "#Load main dataset\n",
    "Dataframe = read_csv(\"steam_reviews.csv\", header=0, delimiter=',', na_values='?', na_filter=True)"
   ]
  },
  {
   "cell_type": "code",
   "execution_count": 3,
   "id": "8e3b00bd",
   "metadata": {},
   "outputs": [],
   "source": [
    "#Load bonus datasets and concatenation of all of them in one pandas Dataset\n",
    "Dataframe_bonus_1 = read_csv(\"steam_reviews_bonus_1.csv\", header=0, delimiter=',', na_values='?', na_filter=True, low_memory=False)\n",
    "Dataframe_bonus_2 = read_csv(\"steam_reviews_bonus_2.csv\", header=0, delimiter=',', na_values='?', na_filter=True, low_memory=False)\n",
    "\n",
    "Dataframe_bonus_1.drop(columns=Dataframe_bonus_1.columns[1], axis=1)\n",
    "Dataframe_bonus_2.drop(columns=Dataframe_bonus_2.columns[1], axis=1)\n",
    "\n",
    "Dataframe = pd.concat([Dataframe, Dataframe_bonus_1, Dataframe_bonus_2])"
   ]
  },
  {
   "cell_type": "markdown",
   "id": "2c3c7bab",
   "metadata": {},
   "source": [
    "## [RQ1]\n",
    "\n",
    "After collecting information, the Data Scientists have to know what dataset they are dealing with, so let's start with an Exploratory Data Analysis (EDA). What can you say about our dataset? Please summarize its main characteristics with visual and tabular methods."
   ]
  },
  {
   "cell_type": "markdown",
   "id": "0eccd194",
   "metadata": {},
   "source": [
    "### Answer1\n",
    "---\n"
   ]
  },
  {
   "cell_type": "code",
   "execution_count": 6,
   "id": "920f7054",
   "metadata": {},
   "outputs": [
    {
     "name": "stdout",
     "output_type": "stream",
     "text": [
      "Dataset columns:  Index(['Unnamed: 0', 'app_id', 'app_name', 'review_id', 'language', 'review',\n",
      "       'timestamp_created', 'timestamp_updated', 'recommended',\n",
      "       'votes_helpful', 'votes_funny', 'weighted_vote_score', 'comment_count',\n",
      "       'steam_purchase', 'received_for_free', 'written_during_early_access',\n",
      "       'author.steamid', 'author.num_games_owned', 'author.num_reviews',\n",
      "       'author.playtime_forever', 'author.playtime_last_two_weeks',\n",
      "       'author.playtime_at_review', 'author.last_played', 'Unnamed: 0.1'],\n",
      "      dtype='object')\n"
     ]
    }
   ],
   "source": [
    "print(\"Dataset columns: \", Dataframe.columns)"
   ]
  },
  {
   "cell_type": "code",
   "execution_count": 4,
   "id": "13fb2e2f",
   "metadata": {},
   "outputs": [
    {
     "name": "stdout",
     "output_type": "stream",
     "text": [
      "Dataset shape:  (38747379, 24)\n",
      "Dataset stats:               app_id     review_id  timestamp_created   votes_funny  \\\n",
      "count  3.874738e+07  3.874738e+07       3.874737e+07  3.874737e+07   \n",
      "mean   3.977625e+05  5.206593e+07       1.423774e+09  1.580738e+10   \n",
      "std    6.570122e+05  2.091447e+07       1.886010e+08  3.478825e+13   \n",
      "min    7.000000e+01  0.000000e+00       0.000000e+00  0.000000e+00   \n",
      "25%    2.509000e+05  3.658355e+07       1.313597e+09  0.000000e+00   \n",
      "50%    3.595500e+05  5.427064e+07       1.501319e+09  0.000000e+00   \n",
      "75%    5.780800e+05  6.955756e+07       1.575174e+09  0.000000e+00   \n",
      "max    1.571293e+09  8.521867e+07       1.611426e+09  7.656120e+16   \n",
      "\n",
      "       weighted_vote_score  comment_count  author.steamid  \\\n",
      "count         3.874737e+07   3.874737e+07    3.874737e+07   \n",
      "mean          1.623657e-01   1.255994e-01    7.656118e+16   \n",
      "std           2.623215e-01   2.038802e+00    3.478825e+13   \n",
      "min           0.000000e+00   0.000000e+00    1.001227e+09   \n",
      "25%           0.000000e+00   0.000000e+00    7.656120e+16   \n",
      "50%           0.000000e+00   0.000000e+00    7.656120e+16   \n",
      "75%           4.800000e-01   0.000000e+00    7.656120e+16   \n",
      "max           4.230000e+02   4.893000e+03    7.656120e+16   \n",
      "\n",
      "       author.num_games_owned  author.num_reviews  author.playtime_forever  \\\n",
      "count            3.874736e+07        3.874736e+07             3.874736e+07   \n",
      "mean             1.021682e+06        4.540331e+05             1.641747e+04   \n",
      "std              2.119629e+09        1.413086e+09             3.791797e+04   \n",
      "min              0.000000e+00        1.000000e+00             0.000000e+00   \n",
      "25%              2.100000e+01        2.000000e+00             1.237000e+03   \n",
      "50%              5.900000e+01        4.000000e+00             4.325000e+03   \n",
      "75%              1.420000e+02        9.000000e+00             1.531000e+04   \n",
      "max              4.398047e+12        4.398047e+12             3.744943e+06   \n",
      "\n",
      "       author.playtime_last_two_weeks  author.playtime_at_review  \\\n",
      "count                    3.874736e+07               3.870170e+07   \n",
      "mean                     1.607805e+02               8.974073e+03   \n",
      "std                      7.427153e+02               2.421316e+04   \n",
      "min                      0.000000e+00               1.000000e+00   \n",
      "25%                      0.000000e+00               5.540000e+02   \n",
      "50%                      0.000000e+00               1.870000e+03   \n",
      "75%                      0.000000e+00               6.941000e+03   \n",
      "max                      2.703900e+04               3.228103e+06   \n",
      "\n",
      "       author.last_played  Unnamed: 0.1  \n",
      "count        3.874736e+07  1.700001e+07  \n",
      "mean         1.439595e+09  8.500619e+06  \n",
      "std          2.041765e+08  4.990663e+06  \n",
      "min          0.000000e+00  0.000000e+00  \n",
      "25%          1.303980e+09  4.250003e+06  \n",
      "50%          1.543079e+09  8.500004e+06  \n",
      "75%          1.602592e+09  1.275001e+07  \n",
      "max          1.611434e+09  1.569662e+09  \n"
     ]
    }
   ],
   "source": [
    "print(\"Dataset shape: \", Dataframe.shape)\n",
    "\n",
    "print(\"Dataset stats: \", Dataframe.describe())"
   ]
  },
  {
   "cell_type": "code",
   "execution_count": 9,
   "id": "6c86acd9",
   "metadata": {},
   "outputs": [
    {
     "name": "stdout",
     "output_type": "stream",
     "text": [
      "app_id:  0\n",
      "app_name:  0\n",
      "review_id:  0\n",
      "language:  0\n",
      "review:  62275\n",
      "timestamp_created:  8\n",
      "timestamp_updated:  8\n",
      "recommended:  8\n",
      "votes_helpful:  8\n",
      "votes_funny:  8\n",
      "weighted_vote_score:  8\n",
      "comment_count:  8\n",
      "steam_purchase:  8\n",
      "received_for_free:  8\n",
      "written_during_early_access:  8\n",
      "author.steamid:  8\n",
      "author.num_games_owned:  16\n",
      "author.num_reviews:  16\n",
      "author.playtime_forever:  20\n",
      "author.playtime_last_two_weeks:  20\n",
      "author.playtime_at_review:  45683\n",
      "author.last_played:  18\n"
     ]
    }
   ],
   "source": [
    "print('app_id: ', Dataframe.app_id.isnull().sum())\n",
    "print('app_name: ', Dataframe.app_name.isnull().sum())\n",
    "print('review_id: ', Dataframe.review_id.isnull().sum())\n",
    "print('language: ', Dataframe.language.isnull().sum())\n",
    "print('review: ', Dataframe.review.isnull().sum())\n",
    "\n",
    "print('timestamp_created: ', Dataframe.timestamp_created.isnull().sum())\n",
    "print('timestamp_updated: ', Dataframe.timestamp_updated.isnull().sum())\n",
    "print('recommended: ', Dataframe.recommended.isnull().sum())\n",
    "print('votes_helpful: ', Dataframe.votes_helpful.isnull().sum())\n",
    "print('votes_funny: ', Dataframe.votes_funny.isnull().sum())\n",
    "\n",
    "print('weighted_vote_score: ', Dataframe.weighted_vote_score.isnull().sum())\n",
    "print('comment_count: ', Dataframe.comment_count.isnull().sum())\n",
    "print('steam_purchase: ', Dataframe.steam_purchase.isnull().sum())\n",
    "print('received_for_free: ', Dataframe.received_for_free.isnull().sum())\n",
    "print('written_during_early_access: ', Dataframe.written_during_early_access.isnull().sum())\n",
    "\n",
    "print('author.steamid: ', Dataframe['author.steamid'].isnull().sum())\n",
    "print('author.num_games_owned: ', Dataframe['author.num_games_owned'].isnull().sum())\n",
    "print('author.num_reviews: ', Dataframe['author.num_reviews'].isnull().sum())\n",
    "print('author.playtime_forever: ', Dataframe['author.playtime_forever'].isnull().sum())\n",
    "print('author.playtime_last_two_weeks: ', Dataframe['author.playtime_last_two_weeks'].isnull().sum())\n",
    "\n",
    "print('author.playtime_at_review: ', Dataframe['author.playtime_at_review'].isnull().sum())\n",
    "print('author.last_played: ', Dataframe['author.last_played'].isnull().sum())"
   ]
  },
  {
   "cell_type": "markdown",
   "id": "9c57fb60",
   "metadata": {},
   "source": [
    "##  [RQ2] \n",
    "\n",
    " Let's explore the dataset by finding simple insights into the reviews.\n",
    "\n",
    "    Plot the number of reviews for each application in descending order.\n",
    "    What applications have the best Weighted Vote Score?\n",
    "    Which applications have the most and the least recommendations?\n",
    "    How many of these applications were purchased, and how many were given for free?\n",
    "\n"
   ]
  },
  {
   "cell_type": "markdown",
   "id": "e0aa27ec",
   "metadata": {},
   "source": [
    "### Answer 2\n",
    "---\n"
   ]
  },
  {
   "cell_type": "code",
   "execution_count": null,
   "id": "77441ed7",
   "metadata": {},
   "outputs": [],
   "source": []
  },
  {
   "cell_type": "markdown",
   "id": "eee72a09",
   "metadata": {},
   "source": [
    "## [RQ3]\n",
    "\n",
    "*Now it's important to understand the preferred time to do reviews.*\n",
    "- What is the most common time that authors review an application? For example, authors usually write a review at 17:44.\n",
    "- Create a function that receives as a parameter a list of time intervals and returns the plot the number of reviews for each of the intervals.\n",
    "- Use the function that you created in the previous literal to plot the number of reviews between the following time intervals: \n",
    "    \n",
    "| Initial time | Final time |\n",
    "| ----------- | ----------- |\n",
    "|06:00:00 | 10:59:59|\n",
    "|11:00:00 | 13:59:59|\n",
    "|14:00:00 | 16:59:59|\n",
    "|17:00:00 | 19:59:59|\n",
    "|20:00:00 | 23:59:59|\n",
    "|00:00:00 | 02:59:59|\n",
    "|03:00:00 | 05:59:59|"
   ]
  },
  {
   "cell_type": "markdown",
   "id": "fba5d2c2",
   "metadata": {},
   "source": [
    "### Answer 3\n",
    "---\n"
   ]
  },
  {
   "cell_type": "code",
   "execution_count": null,
   "id": "13e68b47",
   "metadata": {},
   "outputs": [],
   "source": []
  },
  {
   "cell_type": "markdown",
   "id": "17ab6cb7",
   "metadata": {},
   "source": [
    "## [**RQ4**] \n",
    "\n",
    "*As Steam is a worldwide platform, the reviews can be done in many languages. Let's extract some information about it.*\n",
    "- What are the top 3 languages used to review applications?\n",
    "- Create a function that receives as parameters both the name of a data set and a list of languages’ names and returns a data frame filtered only with the reviews written in the provided languages.\n",
    "- Use the function created in the previous literal to find what percentage of these reviews (associated with the top 3 languages) were voted as funny?\n",
    "- Use the function created in the literal “a” to find what percentage of these reviews (associated with the top 3 languages) were voted as helpful?"
   ]
  },
  {
   "cell_type": "markdown",
   "id": "6ea6e7c8",
   "metadata": {},
   "source": [
    "### Answer 4\n",
    "---\n"
   ]
  },
  {
   "cell_type": "code",
   "execution_count": null,
   "id": "b449683e",
   "metadata": {},
   "outputs": [],
   "source": []
  },
  {
   "cell_type": "markdown",
   "id": "0afe16b9",
   "metadata": {},
   "source": [
    "## [**RQ5**] \n",
    "\n",
    "*The reviews' authors are users from the game that provide their opinion on it. Now you can check how often they make reviews.*\n",
    "- Plot the top 10 most popular reviewers and the number of reviews.\n",
    "- What applications did the most popular author review? \n",
    "- How many applications did he purchase, and how many did he get as free? Provide the number (count) and the percentage.\n",
    "- How many of the applications he purchased reviewed positively, and how many negatively? How about the applications he received for free?"
   ]
  },
  {
   "cell_type": "markdown",
   "id": "e3db0b59",
   "metadata": {},
   "source": [
    "### Answer 5\n",
    "---\n"
   ]
  },
  {
   "cell_type": "code",
   "execution_count": null,
   "id": "2fbd48ff",
   "metadata": {},
   "outputs": [],
   "source": []
  },
  {
   "cell_type": "markdown",
   "id": "1fa5ab6c",
   "metadata": {},
   "source": [
    "## [**RQ6**]\n",
    "\n",
    "*It's time to get information from the updates that a user does to his reviews.*\n",
    "- What is the average time (days and minutes) a user lets pass before he updates a review?\n",
    "- Plot the top 3 authors that usually update their reviews."
   ]
  },
  {
   "cell_type": "markdown",
   "id": "e517e0b6",
   "metadata": {},
   "source": [
    "### Answer 6\n",
    "---\n"
   ]
  },
  {
   "cell_type": "markdown",
   "id": "e18adb2e",
   "metadata": {},
   "source": [
    "## [**RQ7**] \n",
    "\n",
    "*Of course, calculating probabilities is a job that any Data Scientist must know. Let's compute Some interesting figures.*\n",
    "- What’s the probability that a review has a Weighted Vote Score equal to or bigger than 0.5?\n",
    "- What’s the probability that a review has at least one vote as funny given that the Weighted Vote Score is bigger than 0.5?\n",
    "- Is the probability that “a review has at least one vote as funny” independent of the “probability that a review has a Weighted Vote Score equal or bigger than 0.5”?"
   ]
  },
  {
   "cell_type": "markdown",
   "id": "29aca5a5",
   "metadata": {},
   "source": [
    "### Answer 7\n",
    "---\n"
   ]
  },
  {
   "cell_type": "code",
   "execution_count": null,
   "id": "4b1ced5b",
   "metadata": {},
   "outputs": [],
   "source": []
  },
  {
   "cell_type": "markdown",
   "id": "a9a31b7b",
   "metadata": {},
   "source": [
    "## [**RQ8**] \n",
    "\n",
    "*Every decision you take in a data-based environment should be reinforced with charts, statistical tests and analysis methods to check if a hypothesis is correct or not.*\n",
    "- Is there a significant difference in the Weighted Vote Score of reviews made in Chinese vs the ones made in Russian? Use an appropriate statistical test or technique and support your choice.\n",
    "- Can you find any significant relationship between the time that a user lets pass before he updates the review and the Weighted Vote Score?  Use an appropriate statistical test or technique and support your choice.\n",
    "- Is there any change in the relationship of the variables mentioned in the previous literal if you include whether an application is recommended or not in the review?  Use an appropriate statistical test or technique and support your choice.\n",
    "- What are histograms, bar plots, scatterplots and pie charts used for?\n",
    "- What insights can you extract from a Box Plot?"
   ]
  },
  {
   "cell_type": "markdown",
   "id": "bbd753f7",
   "metadata": {},
   "source": [
    "### Answer 8\n",
    "---\n"
   ]
  },
  {
   "cell_type": "code",
   "execution_count": null,
   "id": "dded3ba9",
   "metadata": {},
   "outputs": [],
   "source": []
  }
 ],
 "metadata": {
  "kernelspec": {
   "display_name": "Python 3 (ipykernel)",
   "language": "python",
   "name": "python3"
  },
  "language_info": {
   "codemirror_mode": {
    "name": "ipython",
    "version": 3
   },
   "file_extension": ".py",
   "mimetype": "text/x-python",
   "name": "python",
   "nbconvert_exporter": "python",
   "pygments_lexer": "ipython3",
   "version": "3.8.8"
  }
 },
 "nbformat": 4,
 "nbformat_minor": 5
}
