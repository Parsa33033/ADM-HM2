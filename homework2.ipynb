{
 "cells": [
  {
   "cell_type": "markdown",
   "id": "0e21683f",
   "metadata": {},
   "source": [
    "# Homework 2\n",
    "Parsa Heidary Moghadam,\n",
    "Daniel Losada,\n",
    "Vahid Ghanbari Zadeh,\n",
    "\n",
    "- steam_reviews.csv should be in the same folder of homework2.ipynb file\n",
    "- https://github.com/lucamaiano/ADM/blob/master/2021/Homework_2/README.md"
   ]
  },
  {
   "cell_type": "code",
   "execution_count": 1,
   "id": "8945c23a",
   "metadata": {},
   "outputs": [],
   "source": [
    "# dependencies\n",
    "import pandas as pd\n",
    "import numpy as np\n",
    "import matplotlib.pyplot as plt\n",
    "import seaborn as sns"
   ]
  },
  {
   "cell_type": "markdown",
   "id": "0716eeed",
   "metadata": {},
   "source": [
    "## [RQ1]\n",
    "\n",
    "After collecting information, the Data Scientists have to know what dataset they are dealing with, so let's start with an Exploratory Data Analysis (EDA). What can you say about our dataset? Please summarize its main characteristics with visual and tabular methods."
   ]
  },
  {
   "cell_type": "markdown",
   "id": "9f6d835e",
   "metadata": {},
   "source": [
    "### Answer1\n",
    "---\n"
   ]
  },
  {
   "cell_type": "markdown",
   "id": "a0c449e8",
   "metadata": {},
   "source": [
    "For the first step we are trying to understand the data. Therefore, we will fetch columns and some rows of the data and fetch some information from them such as their shape and ..."
   ]
  },
  {
   "cell_type": "code",
   "execution_count": 2,
   "id": "88f4ec99",
   "metadata": {},
   "outputs": [
    {
     "data": {
      "text/html": [
       "<div>\n",
       "<style scoped>\n",
       "    .dataframe tbody tr th:only-of-type {\n",
       "        vertical-align: middle;\n",
       "    }\n",
       "\n",
       "    .dataframe tbody tr th {\n",
       "        vertical-align: top;\n",
       "    }\n",
       "\n",
       "    .dataframe thead th {\n",
       "        text-align: right;\n",
       "    }\n",
       "</style>\n",
       "<table border=\"1\" class=\"dataframe\">\n",
       "  <thead>\n",
       "    <tr style=\"text-align: right;\">\n",
       "      <th></th>\n",
       "      <th>Unnamed: 0</th>\n",
       "      <th>app_id</th>\n",
       "      <th>app_name</th>\n",
       "      <th>review_id</th>\n",
       "      <th>language</th>\n",
       "      <th>review</th>\n",
       "      <th>timestamp_created</th>\n",
       "      <th>timestamp_updated</th>\n",
       "      <th>recommended</th>\n",
       "      <th>votes_helpful</th>\n",
       "      <th>...</th>\n",
       "      <th>steam_purchase</th>\n",
       "      <th>received_for_free</th>\n",
       "      <th>written_during_early_access</th>\n",
       "      <th>author.steamid</th>\n",
       "      <th>author.num_games_owned</th>\n",
       "      <th>author.num_reviews</th>\n",
       "      <th>author.playtime_forever</th>\n",
       "      <th>author.playtime_last_two_weeks</th>\n",
       "      <th>author.playtime_at_review</th>\n",
       "      <th>author.last_played</th>\n",
       "    </tr>\n",
       "  </thead>\n",
       "  <tbody>\n",
       "    <tr>\n",
       "      <th>0</th>\n",
       "      <td>0</td>\n",
       "      <td>292030</td>\n",
       "      <td>The Witcher 3: Wild Hunt</td>\n",
       "      <td>85185598</td>\n",
       "      <td>schinese</td>\n",
       "      <td>不玩此生遗憾，RPG游戏里的天花板，太吸引人了</td>\n",
       "      <td>2021-01-23 06:00:29</td>\n",
       "      <td>2021-01-23 06:00:29</td>\n",
       "      <td>True</td>\n",
       "      <td>0</td>\n",
       "      <td>...</td>\n",
       "      <td>True</td>\n",
       "      <td>False</td>\n",
       "      <td>False</td>\n",
       "      <td>76561199095369542</td>\n",
       "      <td>6</td>\n",
       "      <td>2</td>\n",
       "      <td>1909.0</td>\n",
       "      <td>1448.0</td>\n",
       "      <td>1909.0</td>\n",
       "      <td>2021-01-22 19:23:03</td>\n",
       "    </tr>\n",
       "    <tr>\n",
       "      <th>1</th>\n",
       "      <td>1</td>\n",
       "      <td>292030</td>\n",
       "      <td>The Witcher 3: Wild Hunt</td>\n",
       "      <td>85185250</td>\n",
       "      <td>schinese</td>\n",
       "      <td>拔DIAO无情打桩机--杰洛特!!!</td>\n",
       "      <td>2021-01-23 05:50:30</td>\n",
       "      <td>2021-01-23 05:50:30</td>\n",
       "      <td>True</td>\n",
       "      <td>0</td>\n",
       "      <td>...</td>\n",
       "      <td>True</td>\n",
       "      <td>False</td>\n",
       "      <td>False</td>\n",
       "      <td>76561198949504115</td>\n",
       "      <td>30</td>\n",
       "      <td>10</td>\n",
       "      <td>2764.0</td>\n",
       "      <td>2743.0</td>\n",
       "      <td>2674.0</td>\n",
       "      <td>2021-01-23 07:18:27</td>\n",
       "    </tr>\n",
       "    <tr>\n",
       "      <th>2</th>\n",
       "      <td>2</td>\n",
       "      <td>292030</td>\n",
       "      <td>The Witcher 3: Wild Hunt</td>\n",
       "      <td>85185111</td>\n",
       "      <td>schinese</td>\n",
       "      <td>巫师3NB</td>\n",
       "      <td>2021-01-23 05:46:40</td>\n",
       "      <td>2021-01-23 05:46:40</td>\n",
       "      <td>True</td>\n",
       "      <td>0</td>\n",
       "      <td>...</td>\n",
       "      <td>True</td>\n",
       "      <td>False</td>\n",
       "      <td>False</td>\n",
       "      <td>76561199090098988</td>\n",
       "      <td>5</td>\n",
       "      <td>1</td>\n",
       "      <td>1061.0</td>\n",
       "      <td>1061.0</td>\n",
       "      <td>1060.0</td>\n",
       "      <td>2021-01-23 06:36:17</td>\n",
       "    </tr>\n",
       "    <tr>\n",
       "      <th>3</th>\n",
       "      <td>3</td>\n",
       "      <td>292030</td>\n",
       "      <td>The Witcher 3: Wild Hunt</td>\n",
       "      <td>85184605</td>\n",
       "      <td>english</td>\n",
       "      <td>One of the best RPG's of all time, worthy of a...</td>\n",
       "      <td>2021-01-23 05:32:50</td>\n",
       "      <td>2021-01-23 05:32:50</td>\n",
       "      <td>True</td>\n",
       "      <td>0</td>\n",
       "      <td>...</td>\n",
       "      <td>True</td>\n",
       "      <td>False</td>\n",
       "      <td>False</td>\n",
       "      <td>76561199054755373</td>\n",
       "      <td>5</td>\n",
       "      <td>3</td>\n",
       "      <td>5587.0</td>\n",
       "      <td>3200.0</td>\n",
       "      <td>5524.0</td>\n",
       "      <td>2021-01-23 06:35:44</td>\n",
       "    </tr>\n",
       "    <tr>\n",
       "      <th>4</th>\n",
       "      <td>4</td>\n",
       "      <td>292030</td>\n",
       "      <td>The Witcher 3: Wild Hunt</td>\n",
       "      <td>85184287</td>\n",
       "      <td>schinese</td>\n",
       "      <td>大作</td>\n",
       "      <td>2021-01-23 05:23:47</td>\n",
       "      <td>2021-01-23 05:23:47</td>\n",
       "      <td>True</td>\n",
       "      <td>0</td>\n",
       "      <td>...</td>\n",
       "      <td>True</td>\n",
       "      <td>False</td>\n",
       "      <td>False</td>\n",
       "      <td>76561199028326951</td>\n",
       "      <td>7</td>\n",
       "      <td>4</td>\n",
       "      <td>217.0</td>\n",
       "      <td>42.0</td>\n",
       "      <td>217.0</td>\n",
       "      <td>2021-01-16 09:10:49</td>\n",
       "    </tr>\n",
       "  </tbody>\n",
       "</table>\n",
       "<p>5 rows × 23 columns</p>\n",
       "</div>"
      ],
      "text/plain": [
       "   Unnamed: 0  app_id                  app_name  review_id  language  \\\n",
       "0           0  292030  The Witcher 3: Wild Hunt   85185598  schinese   \n",
       "1           1  292030  The Witcher 3: Wild Hunt   85185250  schinese   \n",
       "2           2  292030  The Witcher 3: Wild Hunt   85185111  schinese   \n",
       "3           3  292030  The Witcher 3: Wild Hunt   85184605   english   \n",
       "4           4  292030  The Witcher 3: Wild Hunt   85184287  schinese   \n",
       "\n",
       "                                              review   timestamp_created  \\\n",
       "0                            不玩此生遗憾，RPG游戏里的天花板，太吸引人了 2021-01-23 06:00:29   \n",
       "1                                 拔DIAO无情打桩机--杰洛特!!! 2021-01-23 05:50:30   \n",
       "2                                              巫师3NB 2021-01-23 05:46:40   \n",
       "3  One of the best RPG's of all time, worthy of a... 2021-01-23 05:32:50   \n",
       "4                                                 大作 2021-01-23 05:23:47   \n",
       "\n",
       "    timestamp_updated  recommended  votes_helpful  ...  steam_purchase  \\\n",
       "0 2021-01-23 06:00:29         True              0  ...            True   \n",
       "1 2021-01-23 05:50:30         True              0  ...            True   \n",
       "2 2021-01-23 05:46:40         True              0  ...            True   \n",
       "3 2021-01-23 05:32:50         True              0  ...            True   \n",
       "4 2021-01-23 05:23:47         True              0  ...            True   \n",
       "\n",
       "   received_for_free  written_during_early_access     author.steamid  \\\n",
       "0              False                        False  76561199095369542   \n",
       "1              False                        False  76561198949504115   \n",
       "2              False                        False  76561199090098988   \n",
       "3              False                        False  76561199054755373   \n",
       "4              False                        False  76561199028326951   \n",
       "\n",
       "   author.num_games_owned  author.num_reviews  author.playtime_forever  \\\n",
       "0                       6                   2                   1909.0   \n",
       "1                      30                  10                   2764.0   \n",
       "2                       5                   1                   1061.0   \n",
       "3                       5                   3                   5587.0   \n",
       "4                       7                   4                    217.0   \n",
       "\n",
       "   author.playtime_last_two_weeks  author.playtime_at_review  \\\n",
       "0                          1448.0                     1909.0   \n",
       "1                          2743.0                     2674.0   \n",
       "2                          1061.0                     1060.0   \n",
       "3                          3200.0                     5524.0   \n",
       "4                            42.0                      217.0   \n",
       "\n",
       "   author.last_played  \n",
       "0 2021-01-22 19:23:03  \n",
       "1 2021-01-23 07:18:27  \n",
       "2 2021-01-23 06:36:17  \n",
       "3 2021-01-23 06:35:44  \n",
       "4 2021-01-16 09:10:49  \n",
       "\n",
       "[5 rows x 23 columns]"
      ]
     },
     "execution_count": 2,
     "metadata": {},
     "output_type": "execute_result"
    }
   ],
   "source": [
    "def dateparse(time_in_secs):\n",
    "    return pd.to_datetime(time_in_secs, unit='s')\n",
    "\n",
    "dataset = pd.read_csv('./steam_reviews.csv',\n",
    "                      header='infer',\n",
    "                      nrows=2000000,\n",
    "                      parse_dates=['timestamp_created','timestamp_updated', 'author.last_played'],\n",
    "                      date_parser=dateparse)\n",
    "dataset.head()"
   ]
  },
  {
   "cell_type": "code",
   "execution_count": 3,
   "id": "f32d3988",
   "metadata": {},
   "outputs": [
    {
     "data": {
      "text/html": [
       "<div>\n",
       "<style scoped>\n",
       "    .dataframe tbody tr th:only-of-type {\n",
       "        vertical-align: middle;\n",
       "    }\n",
       "\n",
       "    .dataframe tbody tr th {\n",
       "        vertical-align: top;\n",
       "    }\n",
       "\n",
       "    .dataframe thead th {\n",
       "        text-align: right;\n",
       "    }\n",
       "</style>\n",
       "<table border=\"1\" class=\"dataframe\">\n",
       "  <thead>\n",
       "    <tr style=\"text-align: right;\">\n",
       "      <th></th>\n",
       "      <th>Unnamed: 0</th>\n",
       "      <th>app_id</th>\n",
       "      <th>app_name</th>\n",
       "      <th>review_id</th>\n",
       "      <th>language</th>\n",
       "      <th>review</th>\n",
       "      <th>timestamp_created</th>\n",
       "      <th>timestamp_updated</th>\n",
       "      <th>recommended</th>\n",
       "      <th>votes_helpful</th>\n",
       "      <th>...</th>\n",
       "      <th>steam_purchase</th>\n",
       "      <th>received_for_free</th>\n",
       "      <th>written_during_early_access</th>\n",
       "      <th>author.steamid</th>\n",
       "      <th>author.num_games_owned</th>\n",
       "      <th>author.num_reviews</th>\n",
       "      <th>author.playtime_forever</th>\n",
       "      <th>author.playtime_last_two_weeks</th>\n",
       "      <th>author.playtime_at_review</th>\n",
       "      <th>author.last_played</th>\n",
       "    </tr>\n",
       "  </thead>\n",
       "  <tbody>\n",
       "    <tr>\n",
       "      <th>1999995</th>\n",
       "      <td>1999996</td>\n",
       "      <td>381210</td>\n",
       "      <td>Dead by Daylight</td>\n",
       "      <td>46559668</td>\n",
       "      <td>russian</td>\n",
       "      <td>Dead by daylight это когда:\\n1)Обе стороны ною...</td>\n",
       "      <td>2018-11-23 11:30:49</td>\n",
       "      <td>2018-11-23 11:30:49</td>\n",
       "      <td>True</td>\n",
       "      <td>2</td>\n",
       "      <td>...</td>\n",
       "      <td>True</td>\n",
       "      <td>False</td>\n",
       "      <td>False</td>\n",
       "      <td>76561198354639547</td>\n",
       "      <td>29</td>\n",
       "      <td>1</td>\n",
       "      <td>43119.0</td>\n",
       "      <td>0.0</td>\n",
       "      <td>31005.0</td>\n",
       "      <td>2020-09-09 15:49:25</td>\n",
       "    </tr>\n",
       "    <tr>\n",
       "      <th>1999996</th>\n",
       "      <td>1999997</td>\n",
       "      <td>381210</td>\n",
       "      <td>Dead by Daylight</td>\n",
       "      <td>46559372</td>\n",
       "      <td>japanese</td>\n",
       "      <td>非対称対戦です\\n楽しいです\\nだんだんと上手になっていくのは楽しいです\\nでもやはり人との...</td>\n",
       "      <td>2018-11-23 11:29:06</td>\n",
       "      <td>2018-11-23 11:29:06</td>\n",
       "      <td>True</td>\n",
       "      <td>0</td>\n",
       "      <td>...</td>\n",
       "      <td>False</td>\n",
       "      <td>False</td>\n",
       "      <td>False</td>\n",
       "      <td>76561198015995067</td>\n",
       "      <td>120</td>\n",
       "      <td>1</td>\n",
       "      <td>81176.0</td>\n",
       "      <td>0.0</td>\n",
       "      <td>45680.0</td>\n",
       "      <td>2020-12-29 03:25:25</td>\n",
       "    </tr>\n",
       "    <tr>\n",
       "      <th>1999997</th>\n",
       "      <td>1999998</td>\n",
       "      <td>381210</td>\n",
       "      <td>Dead by Daylight</td>\n",
       "      <td>46559194</td>\n",
       "      <td>russian</td>\n",
       "      <td>Найс игра.</td>\n",
       "      <td>2018-11-23 11:27:55</td>\n",
       "      <td>2018-11-23 11:27:55</td>\n",
       "      <td>True</td>\n",
       "      <td>1</td>\n",
       "      <td>...</td>\n",
       "      <td>True</td>\n",
       "      <td>False</td>\n",
       "      <td>False</td>\n",
       "      <td>76561198451140399</td>\n",
       "      <td>38</td>\n",
       "      <td>3</td>\n",
       "      <td>10037.0</td>\n",
       "      <td>0.0</td>\n",
       "      <td>4746.0</td>\n",
       "      <td>2020-04-06 16:34:06</td>\n",
       "    </tr>\n",
       "    <tr>\n",
       "      <th>1999998</th>\n",
       "      <td>1999999</td>\n",
       "      <td>381210</td>\n",
       "      <td>Dead by Daylight</td>\n",
       "      <td>46559119</td>\n",
       "      <td>thai</td>\n",
       "      <td>เป็นเกมที่สุดยอดที่สุดเเล้วครับ</td>\n",
       "      <td>2018-11-23 11:27:23</td>\n",
       "      <td>2019-11-27 11:52:51</td>\n",
       "      <td>True</td>\n",
       "      <td>0</td>\n",
       "      <td>...</td>\n",
       "      <td>True</td>\n",
       "      <td>False</td>\n",
       "      <td>False</td>\n",
       "      <td>76561198085660348</td>\n",
       "      <td>117</td>\n",
       "      <td>4</td>\n",
       "      <td>38910.0</td>\n",
       "      <td>79.0</td>\n",
       "      <td>34692.0</td>\n",
       "      <td>2021-01-12 17:20:45</td>\n",
       "    </tr>\n",
       "    <tr>\n",
       "      <th>1999999</th>\n",
       "      <td>2000000</td>\n",
       "      <td>381210</td>\n",
       "      <td>Dead by Daylight</td>\n",
       "      <td>46559035</td>\n",
       "      <td>brazilian</td>\n",
       "      <td>amo muito &lt;3</td>\n",
       "      <td>2018-11-23 11:26:46</td>\n",
       "      <td>2018-11-23 11:26:46</td>\n",
       "      <td>True</td>\n",
       "      <td>1</td>\n",
       "      <td>...</td>\n",
       "      <td>True</td>\n",
       "      <td>False</td>\n",
       "      <td>False</td>\n",
       "      <td>76561198192456735</td>\n",
       "      <td>251</td>\n",
       "      <td>16</td>\n",
       "      <td>2055.0</td>\n",
       "      <td>0.0</td>\n",
       "      <td>1594.0</td>\n",
       "      <td>2020-09-13 01:35:56</td>\n",
       "    </tr>\n",
       "  </tbody>\n",
       "</table>\n",
       "<p>5 rows × 23 columns</p>\n",
       "</div>"
      ],
      "text/plain": [
       "         Unnamed: 0  app_id          app_name  review_id   language  \\\n",
       "1999995     1999996  381210  Dead by Daylight   46559668    russian   \n",
       "1999996     1999997  381210  Dead by Daylight   46559372   japanese   \n",
       "1999997     1999998  381210  Dead by Daylight   46559194    russian   \n",
       "1999998     1999999  381210  Dead by Daylight   46559119       thai   \n",
       "1999999     2000000  381210  Dead by Daylight   46559035  brazilian   \n",
       "\n",
       "                                                    review  \\\n",
       "1999995  Dead by daylight это когда:\\n1)Обе стороны ною...   \n",
       "1999996  非対称対戦です\\n楽しいです\\nだんだんと上手になっていくのは楽しいです\\nでもやはり人との...   \n",
       "1999997                                         Найс игра.   \n",
       "1999998                    เป็นเกมที่สุดยอดที่สุดเเล้วครับ   \n",
       "1999999                                       amo muito <3   \n",
       "\n",
       "          timestamp_created   timestamp_updated  recommended  votes_helpful  \\\n",
       "1999995 2018-11-23 11:30:49 2018-11-23 11:30:49         True              2   \n",
       "1999996 2018-11-23 11:29:06 2018-11-23 11:29:06         True              0   \n",
       "1999997 2018-11-23 11:27:55 2018-11-23 11:27:55         True              1   \n",
       "1999998 2018-11-23 11:27:23 2019-11-27 11:52:51         True              0   \n",
       "1999999 2018-11-23 11:26:46 2018-11-23 11:26:46         True              1   \n",
       "\n",
       "         ...  steam_purchase  received_for_free  written_during_early_access  \\\n",
       "1999995  ...            True              False                        False   \n",
       "1999996  ...           False              False                        False   \n",
       "1999997  ...            True              False                        False   \n",
       "1999998  ...            True              False                        False   \n",
       "1999999  ...            True              False                        False   \n",
       "\n",
       "            author.steamid  author.num_games_owned  author.num_reviews  \\\n",
       "1999995  76561198354639547                      29                   1   \n",
       "1999996  76561198015995067                     120                   1   \n",
       "1999997  76561198451140399                      38                   3   \n",
       "1999998  76561198085660348                     117                   4   \n",
       "1999999  76561198192456735                     251                  16   \n",
       "\n",
       "         author.playtime_forever  author.playtime_last_two_weeks  \\\n",
       "1999995                  43119.0                             0.0   \n",
       "1999996                  81176.0                             0.0   \n",
       "1999997                  10037.0                             0.0   \n",
       "1999998                  38910.0                            79.0   \n",
       "1999999                   2055.0                             0.0   \n",
       "\n",
       "         author.playtime_at_review  author.last_played  \n",
       "1999995                    31005.0 2020-09-09 15:49:25  \n",
       "1999996                    45680.0 2020-12-29 03:25:25  \n",
       "1999997                     4746.0 2020-04-06 16:34:06  \n",
       "1999998                    34692.0 2021-01-12 17:20:45  \n",
       "1999999                     1594.0 2020-09-13 01:35:56  \n",
       "\n",
       "[5 rows x 23 columns]"
      ]
     },
     "execution_count": 3,
     "metadata": {},
     "output_type": "execute_result"
    }
   ],
   "source": [
    "dataset.tail()"
   ]
  },
  {
   "cell_type": "code",
   "execution_count": 4,
   "id": "96376848",
   "metadata": {},
   "outputs": [
    {
     "name": "stdout",
     "output_type": "stream",
     "text": [
      "There are 2000000 user reviews -- each review contains 23 columns of information\n"
     ]
    }
   ],
   "source": [
    "rows, cols = dataset.shape\n",
    "print(\"There are {0} user reviews -- each review contains {1} columns of information\".format(rows, cols))"
   ]
  },
  {
   "cell_type": "code",
   "execution_count": 5,
   "id": "415b3bf5",
   "metadata": {},
   "outputs": [],
   "source": [
    "cols = dataset.columns"
   ]
  },
  {
   "cell_type": "markdown",
   "id": "651a2664",
   "metadata": {},
   "source": [
    "Each column describes:\n",
    "- app_id: the game id\n",
    "- app_name: the name for the game\n",
    "- review_id: the id of the reviewer\n",
    "- language: language of the review\n",
    "- review: review text\n",
    "- timestamp_created: Review creation timestamp\n",
    "- timestamp_updated: Review latest update timestamp\n",
    "- recommended: Whether review recommends the app\n",
    "- votes_helpful: Number of \"helpful\" votes for review"
   ]
  },
  {
   "cell_type": "code",
   "execution_count": null,
   "id": "b74a77a8",
   "metadata": {},
   "outputs": [],
   "source": [
    "dataset.describe()"
   ]
  },
  {
   "cell_type": "code",
   "execution_count": null,
   "id": "c71ec6f7",
   "metadata": {},
   "outputs": [],
   "source": [
    "dataset.nunique()"
   ]
  },
  {
   "cell_type": "markdown",
   "id": "1cbfc0a1",
   "metadata": {},
   "source": [
    "As we can see from the uniqueness of each column's values, we can infer how many categories can be taken for each column"
   ]
  },
  {
   "cell_type": "code",
   "execution_count": null,
   "id": "a89e6291",
   "metadata": {},
   "outputs": [],
   "source": [
    "dataset.isnull().sum()"
   ]
  },
  {
   "cell_type": "markdown",
   "id": "949877fc",
   "metadata": {},
   "source": [
    "As we can see the \"review\" and \"playtime_at_review\" columns have null values. But, since the review column contians the reviews, we don't necessarily need it. Therefore, we can just remove \"review\" and clean \"author.playtime_at_review\" (by replacing NaN values with zero) columns. Note: we don't eliminate these rows because they are not critical to be around."
   ]
  },
  {
   "cell_type": "code",
   "execution_count": null,
   "id": "af80dc4a",
   "metadata": {},
   "outputs": [],
   "source": [
    "dataset = dataset.drop([\"review\",], axis=1)\n",
    "dataset.head()"
   ]
  },
  {
   "cell_type": "code",
   "execution_count": null,
   "id": "03414733",
   "metadata": {},
   "outputs": [],
   "source": [
    "dataset['author.playtime_at_review'].replace(np.nan, 0)\n",
    "dataset.head()"
   ]
  },
  {
   "cell_type": "code",
   "execution_count": null,
   "id": "d150cf48",
   "metadata": {},
   "outputs": [],
   "source": [
    "dataset.isnull().sum()"
   ]
  },
  {
   "cell_type": "markdown",
   "id": "e2f0bcaf",
   "metadata": {},
   "source": [
    "For further cleaning we will eliminate outliers."
   ]
  },
  {
   "cell_type": "code",
   "execution_count": null,
   "id": "23fb7412",
   "metadata": {},
   "outputs": [],
   "source": [
    "corr = dataset.corr()\n",
    "sns.heatmap(corr)"
   ]
  },
  {
   "cell_type": "markdown",
   "id": "bd1d163a",
   "metadata": {},
   "source": [
    "The heatmap above shows how each column value changes with regards to other columns."
   ]
  },
  {
   "cell_type": "code",
   "execution_count": null,
   "id": "b9d507cc",
   "metadata": {},
   "outputs": [],
   "source": [
    "plt.figure()\n",
    "count = dataset['language'].value_counts()\n",
    "plt.scatter(dataset['language'], dataset['votes_helpful'])\n",
    "plt.xticks(rotation=\"vertical\")\n",
    "plt.show()"
   ]
  },
  {
   "cell_type": "markdown",
   "id": "5ce8b1d9",
   "metadata": {},
   "source": [
    "#### Extract knowledge by visualizing the data\n",
    "\n",
    "As we can see from the data"
   ]
  },
  {
   "cell_type": "markdown",
   "id": "9184ae1b",
   "metadata": {},
   "source": [
    "##  [RQ2] \n",
    "\n",
    " Let's explore the dataset by finding simple insights into the reviews.\n",
    "\n",
    "    Plot the number of reviews for each application in descending order.\n",
    "    What applications have the best Weighted Vote Score?\n",
    "    Which applications have the most and the least recommendations?\n",
    "    How many of these applications were purchased, and how many were given for free?\n",
    "\n"
   ]
  },
  {
   "cell_type": "markdown",
   "id": "e24f9691",
   "metadata": {},
   "source": [
    "### Answer 2\n",
    "---\n"
   ]
  },
  {
   "cell_type": "markdown",
   "id": "0f0e10d3",
   "metadata": {},
   "source": [
    "#### number of reviews for each application in descending order"
   ]
  },
  {
   "cell_type": "code",
   "execution_count": null,
   "id": "42dcea20",
   "metadata": {},
   "outputs": [],
   "source": [
    "plt.figure()\n",
    "plt.bar(dataset.app_name.unique(), dataset.app_name.value_counts())\n",
    "plt.xticks(rotation='vertical')\n",
    "plt.show()"
   ]
  },
  {
   "cell_type": "markdown",
   "id": "4fe0315b",
   "metadata": {},
   "source": [
    "## [RQ3]\n",
    "\n",
    "*Now it's important to understand the preferred time to do reviews.*\n",
    "- What is the most common time that authors review an application? For example, authors usually write a review at 17:44.\n",
    "- Create a function that receives as a parameter a list of time intervals and returns the plot the number of reviews for each of the intervals.\n",
    "- Use the function that you created in the previous literal to plot the number of reviews between the following time intervals: \n",
    "    \n",
    "| Initial time | Final time |\n",
    "| ----------- | ----------- |\n",
    "|06:00:00 | 10:59:59|\n",
    "|11:00:00 | 13:59:59|\n",
    "|14:00:00 | 16:59:59|\n",
    "|17:00:00 | 19:59:59|\n",
    "|20:00:00 | 23:59:59|\n",
    "|00:00:00 | 02:59:59|\n",
    "|03:00:00 | 05:59:59|"
   ]
  },
  {
   "cell_type": "markdown",
   "id": "221d5e4d",
   "metadata": {},
   "source": [
    "### Answer 3\n",
    "---\n"
   ]
  },
  {
   "cell_type": "markdown",
   "id": "a206ae3b",
   "metadata": {},
   "source": [
    "sdfasdf"
   ]
  },
  {
   "cell_type": "markdown",
   "id": "21842356",
   "metadata": {},
   "source": [
    "## [**RQ4**] \n",
    "\n",
    "*As Steam is a worldwide platform, the reviews can be done in many languages. Let's extract some information about it.*\n",
    "- What are the top 3 languages used to review applications?\n",
    "- Create a function that receives as parameters both the name of a data set and a list of languages’ names and returns a data frame filtered only with the reviews written in the provided languages.\n",
    "- Use the function created in the previous literal to find what percentage of these reviews (associated with the top 3 languages) were voted as funny?\n",
    "- Use the function created in the literal “a” to find what percentage of these reviews (associated with the top 3 languages) were voted as helpful?"
   ]
  },
  {
   "cell_type": "markdown",
   "id": "2fa87eaa",
   "metadata": {},
   "source": [
    "### Answer 4\n",
    "---\n"
   ]
  },
  {
   "cell_type": "code",
   "execution_count": null,
   "id": "86ac2659",
   "metadata": {},
   "outputs": [],
   "source": []
  },
  {
   "cell_type": "markdown",
   "id": "387916e1",
   "metadata": {},
   "source": [
    "## [**RQ5**] \n",
    "\n",
    "*The reviews' authors are users from the game that provide their opinion on it. Now you can check how often they make reviews.*\n",
    "- Plot the top 10 most popular reviewers and the number of reviews.\n",
    "- What applications did the most popular author review? \n",
    "- How many applications did he purchase, and how many did he get as free? Provide the number (count) and the percentage.\n",
    "- How many of the applications he purchased reviewed positively, and how many negatively? How about the applications he received for free?"
   ]
  },
  {
   "cell_type": "markdown",
   "id": "095c0b8a",
   "metadata": {},
   "source": [
    "### Answer 5\n",
    "---\n"
   ]
  },
  {
   "cell_type": "code",
   "execution_count": 6,
   "id": "4b0f6653",
   "metadata": {},
   "outputs": [
    {
     "name": "stdout",
     "output_type": "stream",
     "text": [
      "We can obtain the number of reviews that an author has:\n",
      " 76561198385306369    8\n",
      "76561198048462415    8\n",
      "76561198077273370    8\n",
      "76561198067958868    8\n",
      "76561198158899342    7\n",
      "                    ..\n",
      "76561198109562812    1\n",
      "76561199026808952    1\n",
      "76561199042144895    1\n",
      "76561198879915663    1\n",
      "76561198192456735    1\n",
      "Name: author.steamid, Length: 1819576, dtype: int64 \n",
      "\n",
      "Top 10 authors with more reviews:  [76561198385306369, 76561198048462415, 76561198077273370] \n",
      "\n",
      "Most popular author id:  76561198385306369\n",
      "App names of the most popular author review: ['The Witcher 3: Wild Hunt' 'Half-Life' 'Counter-Strike: Source'\n",
      " 'Half-Life 2: Episode Two' 'Portal 2' \"Garry's Mod\"\n",
      " \"Sid Meier's Civilization V\" 'Dead by Daylight']\n",
      "The most popular author has purchased 8 apps ( 100.0 %)\n",
      "The most popular author has got for free  0 apps ( 0.0 %)\n",
      "\n",
      "\n",
      "The most popular author reviewed positively  1 and negatively  7 of the games he purchased.\n",
      "The most popular author reviewed positively  0 and negatively  0 of the games he got for free.\n"
     ]
    }
   ],
   "source": [
    "\n",
    "authorCounts = dataset['author.steamid'].value_counts()\n",
    "print(\"To know the most popular reviewers, we are going to use the reviews we have in the dataset, as we know for sure that they exist. We could use the votes of the reviews to do that, but probably that depends more on the popularity of the game.\")\n",
    "print(\"We can obtain the number of reviews that an author has:\\n\", authorCounts, \"\\n\")\n",
    "print(\"Top 10 authors with more reviews: \", authorCounts[:3].index.tolist(), \"\\n\")\n",
    "\n",
    "mostPopularAuthor = authorCounts[:1].index.tolist()[0]\n",
    "print(\"Now we can easily know who is the most popular author.\")\n",
    "print(\"Most popular author id: \" , mostPopularAuthor)\n",
    "#rslt_df = dataframe[dataframe['Percentage'] > 80]\n",
    "\n",
    "appMPARows = dataset[dataset['author.steamid'] == mostPopularAuthor]\n",
    "print(\"App names of the most popular author review:\", appMPARows['app_name'].values)\n",
    "print(\"The most popular author has purchased\", appMPARows['steam_purchase'].sum(), \"apps (\",  appMPARows['steam_purchase'].sum()*100/len(appMPARows), \"%)\")\n",
    "print(\"The most popular author has got for free \", appMPARows['received_for_free'].sum(), \"apps (\",  appMPARows['received_for_free'].sum()*100/len(appMPARows), \"%)\\n\\n\")\n",
    "\n",
    "\n",
    "\n",
    "appMPApurchased = appMPARows[appMPARows['steam_purchase'] == True]\n",
    "appPurchasedReviewedPositively = appMPApurchased[appMPApurchased['recommended'] == 1]\n",
    "\n",
    "appPurchasedReviewedNegatively = appMPApurchased[appMPApurchased['recommended'] == 0]\n",
    "\n",
    "\n",
    "appMPAfree = appMPARows[appMPARows['received_for_free'] == True]\n",
    "appFreeReviewedPositively = appMPAfree[appMPAfree['recommended'] == 1]\n",
    "\n",
    "appFreeReviewedNegatively = appMPAfree[appMPAfree['recommended'] == 0]\n",
    "\n",
    "\n",
    "print(\"The most popular author reviewed positively \", len(appPurchasedReviewedPositively), \"and negatively \", len(appPurchasedReviewedNegatively), 'of the games he purchased.')\n",
    "print(\"The most popular author reviewed positively \", len(appFreeReviewedPositively), \"and negatively \", len(appFreeReviewedNegatively), 'of the games he got for free.')"
   ]
  },
  {
   "cell_type": "markdown",
   "id": "5171573d",
   "metadata": {},
   "source": [
    "## [**RQ6**]\n",
    "\n",
    "*It's time to get information from the updates that a user does to his reviews.*\n",
    "- What is the average time (days and minutes) a user lets pass before he updates a review?\n",
    "- Plot the top 3 authors that usually update their reviews."
   ]
  },
  {
   "cell_type": "markdown",
   "id": "dd17a19e",
   "metadata": {},
   "source": [
    "### Answer 6\n",
    "---\n"
   ]
  },
  {
   "cell_type": "code",
   "execution_count": 26,
   "id": "eb645b5f",
   "metadata": {
    "scrolled": true
   },
   "outputs": [
    {
     "name": "stdout",
     "output_type": "stream",
     "text": [
      "The average time a user lets pass before he updates a review is : 49 days 05:24:15.798352 \n",
      " That's because we are not counting all the reviews that has 0 time passed because the 'timestamp_updated' and the 'timestamp_created' are the same.\n",
      "But if we only count the reviews that has been updated, the average is:  452 days 01:46:13.902899784\n"
     ]
    }
   ],
   "source": [
    "updateTime = dataset['timestamp_updated'] - dataset['timestamp_created']\n",
    "\n",
    "print(\"The average time a user lets pass before he updates a review is :\",updateTime.mean(), \"\\n That's because we are not counting all the reviews that has 0 time passed because the 'timestamp_updated' and the 'timestamp_created' are the same.\")\n",
    "\n",
    "updateTimeEditedRows = dataset[dataset['timestamp_updated'] != dataset['timestamp_created']]\n",
    "updateTimeNOTEditedRows = dataset[dataset['timestamp_updated'] == dataset['timestamp_created']]\n",
    "updateTimeEdited = updateTimeEditedRows['timestamp_updated'] - updateTimeEditedRows['timestamp_created']\n",
    "print(\"But if we only count the reviews that has been updated, the average is: \", updateTimeEdited.mean())\n",
    "\n",
    "\n",
    "datasetAuthorGroup = dataset.groupby(\"author.steamid\")\n",
    "\n",
    "nUpdates = {}\n",
    "nUpdatesRate = {}\n",
    "\n",
    "for name, group in datasetAuthorGroup:\n",
    "    group['updated'] = np.where(group['timestamp_updated'] != group['timestamp_created'], True, False)\n",
    "    nUpdated = group['updated'].sum()\n",
    "    nUpdates[name] = nUpdated\n",
    "    nUpdatesRate[name] = nUpdated * 100 / len(group)\n"
   ]
  },
  {
   "cell_type": "code",
   "execution_count": 34,
   "id": "d67175b0",
   "metadata": {},
   "outputs": [
    {
     "name": "stdout",
     "output_type": "stream",
     "text": [
      "The 3 authors id that have updated more reviews are:\n",
      "76561198054625538 With  7 updated reviews.\n",
      "76561197977081885 With  6 updated reviews.\n",
      "76561197982182239 With  6 updated reviews.\n",
      "\n",
      "\n",
      "The 3 authors id that have a higher update percentage are:\n",
      "76561197960267408 With  100.0 % updates in its reviews.\n",
      "76561197960269200 With  100.0 % updates in its reviews.\n",
      "76561197960270173 With  100.0 % updates in its reviews.\n",
      "\n",
      "As we can see, it's common that an author has a 100% update in its review ( 167901 Authors). That's because many authors only have one review, and get a 100% it's not really strange when you have few reviews.\n"
     ]
    }
   ],
   "source": [
    "sortednUpdates = sorted(nUpdates, key=nUpdates.get, reverse=True)\n",
    "sortednUpdatesRate = sorted(nUpdatesRate, key=nUpdatesRate.get, reverse=True)\n",
    "\n",
    "print(\"The 3 authors id that have updated more reviews are:\")\n",
    "print(sortednUpdates[0], 'With ', nUpdates[sortednUpdates[0]], 'updated reviews.')\n",
    "print(sortednUpdates[1], 'With ', nUpdates[sortednUpdates[1]], 'updated reviews.')\n",
    "print(sortednUpdates[2], 'With ', nUpdates[sortednUpdates[2]], 'updated reviews.\\n\\n')\n",
    "\n",
    "print(\"The 3 authors id that have a higher update percentage are:\")\n",
    "print(sortednUpdatesRate[0], 'With ', nUpdatesRate[sortednUpdatesRate[0]], '% updates in its reviews.')\n",
    "print(sortednUpdatesRate[1], 'With ', nUpdatesRate[sortednUpdatesRate[1]], '% updates in its reviews.')\n",
    "print(sortednUpdatesRate[2], 'With ', nUpdatesRate[sortednUpdatesRate[2]], '% updates in its reviews.\\n')\n",
    "\n",
    "print(\"As we can see, it's common that an author has a 100% update in its review (\", len(list(filter(lambda x: x == 100.0, list(nUpdatesRate.values())))),\"Authors). That's because many authors only have one review, and get a 100% it's not really strange when you have few reviews.\")"
   ]
  },
  {
   "cell_type": "markdown",
   "id": "008e0a73",
   "metadata": {},
   "source": [
    "## [**RQ7**] \n",
    "\n",
    "*Of course, calculating probabilities is a job that any Data Scientist must know. Let's compute Some interesting figures.*\n",
    "- What’s the probability that a review has a Weighted Vote Score equal to or bigger than 0.5?\n",
    "- What’s the probability that a review has at least one vote as funny given that the Weighted Vote Score is bigger than 0.5?\n",
    "- Is the probability that “a review has at least one vote as funny” independent of the “probability that a review has a Weighted Vote Score equal or bigger than 0.5”?"
   ]
  },
  {
   "cell_type": "markdown",
   "id": "c9c3e119",
   "metadata": {},
   "source": [
    "### Answer 7\n",
    "---\n"
   ]
  },
  {
   "cell_type": "code",
   "execution_count": null,
   "id": "7c3ef230",
   "metadata": {},
   "outputs": [],
   "source": [
    "probWeightScore = len(dataset[dataset['weighted_vote_score'] >= 0.5])*100/len(dataset)\n",
    "print(\"The probability that a review has a Weighted Vote Score equal to or bigger than 0.5 is\" , probWeightScore, '%')\n",
    "print(\"For knowing it, we can count how many of them are over 0.5 and divide it by the amount of reviews.\")\n",
    "\n",
    "probVoteAsFunny = len(dataset[dataset['votes_funny'] > 0])*100/len(dataset)\n",
    "probVoteAsFunnyAndWeight = len(dataset[(dataset['votes_funny'] > 0) & (dataset['weighted_vote_score'] >= 0.5)])*100/len(dataset)\n",
    "print(\"The probability that a review has at least one vote as funny given that the Weighted Vote Score is bigger than 0.5 is\", probVoteAsFunnyAndWeight/probVoteAsFunny, \"%\")\n",
    "\n",
    "aux = probVoteAsFunnyAndWeight/100\n",
    "aux2 = (probVoteAsFunny/100)*(probWeightScore/100)\n",
    "print(\"If the conditional probability of two events is equal to the probability that these 2 events happen, they are independent\")\n",
    "print(\"The probability of 'review has at least one vote as funny given that the Weighted Vote Score is bigger than 0.5' is\", probVoteAsFunnyAndWeight, \"%. And the probabilities of 'a review has at least one vote as funny' and 'probability that a review has a Weighted Vote Score equal or bigger than 0.5' are\", probVoteAsFunny, '% and', probWeightScore, '%. So the probability of these two events happening is the multiplication of the 2 probabilities: ', aux2*100, '%')\n",
    "if(aux == aux2):\n",
    "    print(\"The 2 variables are INDEPENDENT\")\n",
    "else:\n",
    "    print(\"The 2 variables are DEPENDENT\")\n",
    "\n"
   ]
  },
  {
   "cell_type": "markdown",
   "id": "3276f158",
   "metadata": {},
   "source": [
    "## [**RQ8**] \n",
    "\n",
    "*Every decision you take in a data-based environment should be reinforced with charts, statistical tests and analysis methods to check if a hypothesis is correct or not.*\n",
    "- Is there a significant difference in the Weighted Vote Score of reviews made in Chinese vs the ones made in Russian? Use an appropriate statistical test or technique and support your choice.\n",
    "- Can you find any significant relationship between the time that a user lets pass before he updates the review and the Weighted Vote Score?  Use an appropriate statistical test or technique and support your choice.\n",
    "- Is there any change in the relationship of the variables mentioned in the previous literal if you include whether an application is recommended or not in the review?  Use an appropriate statistical test or technique and support your choice.\n",
    "- What are histograms, bar plots, scatterplots and pie charts used for?\n",
    "- What insights can you extract from a Box Plot?"
   ]
  },
  {
   "cell_type": "markdown",
   "id": "5c5da745",
   "metadata": {},
   "source": [
    "### Answer 8\n",
    "---\n"
   ]
  },
  {
   "cell_type": "code",
   "execution_count": null,
   "id": "77261f79",
   "metadata": {},
   "outputs": [],
   "source": []
  }
 ],
 "metadata": {
  "kernelspec": {
   "display_name": "Python 3 (ipykernel)",
   "language": "python",
   "name": "python3"
  },
  "language_info": {
   "codemirror_mode": {
    "name": "ipython",
    "version": 3
   },
   "file_extension": ".py",
   "mimetype": "text/x-python",
   "name": "python",
   "nbconvert_exporter": "python",
   "pygments_lexer": "ipython3",
   "version": "3.8.8"
  }
 },
 "nbformat": 4,
 "nbformat_minor": 5
}
