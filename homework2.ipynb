{
 "cells": [
  {
   "cell_type": "markdown",
   "id": "0e21683f",
   "metadata": {},
   "source": [
    "# Homework 2\n",
    "Parsa Heidary Moghadam,\n",
    "Daniel Losada,\n",
    "Vahid Ghanbari Zadeh,\n",
    "\n",
    "- steam_reviews.csv should be in the same folder of homework2.ipynb file\n",
    "- https://github.com/lucamaiano/ADM/blob/master/2021/Homework_2/README.md"
   ]
  },
  {
   "cell_type": "code",
   "execution_count": 2,
   "id": "8945c23a",
   "metadata": {},
   "outputs": [],
   "source": [
    "# dependencies\n",
    "import pandas as pd\n",
    "import numpy as np\n",
    "import matplotlib.pyplot as plt\n",
    "import seaborn as sns\n",
    "from datetime import datetime\n",
    "from scipy.stats import ttest_ind, f_oneway"
   ]
  },
  {
   "cell_type": "markdown",
   "id": "0716eeed",
   "metadata": {},
   "source": [
    "## [RQ1]\n",
    "\n",
    "After collecting information, the Data Scientists have to know what dataset they are dealing with, so let's start with an Exploratory Data Analysis (EDA). What can you say about our dataset? Please summarize its main characteristics with visual and tabular methods."
   ]
  },
  {
   "cell_type": "markdown",
   "id": "9f6d835e",
   "metadata": {},
   "source": [
    "### Answer1\n",
    "---\n"
   ]
  },
  {
   "cell_type": "markdown",
   "id": "a0c449e8",
   "metadata": {},
   "source": [
    "For the first step we are trying to understand the data. Therefore, we will fetch columns and some rows of the data and fetch some information from them such as their shape and ..."
   ]
  },
  {
   "cell_type": "code",
   "execution_count": 4,
   "id": "88f4ec99",
   "metadata": {},
   "outputs": [
    {
     "name": "stdout",
     "output_type": "stream",
     "text": [
      "Chunk 1 ---> fetching a chunk of 2000000 data, collected: 2000000 data.\n",
      "Chunk 2 ---> fetching a chunk of 2000000 data, collected: 4000000 data.\n",
      "Chunk 3 ---> fetching a chunk of 2000000 data, collected: 6000000 data.\n",
      "Chunk 4 ---> fetching a chunk of 2000000 data, collected: 8000000 data.\n",
      "Chunk 5 ---> fetching a chunk of 2000000 data, collected: 10000000 data.\n",
      "Chunk 6 ---> fetching a chunk of 2000000 data, collected: 12000000 data.\n",
      "Chunk 7 ---> fetching a chunk of 2000000 data, collected: 14000000 data.\n",
      "Chunk 8 ---> fetching a chunk of 2000000 data, collected: 16000000 data.\n",
      "Chunk 9 ---> fetching a chunk of 2000000 data, collected: 18000000 data.\n",
      "Chunk 10 ---> fetching a chunk of 2000000 data, collected: 20000000 data.\n",
      "Chunk 11 ---> fetching a chunk of 2000000 data, collected: 21747371 data.\n"
     ]
    }
   ],
   "source": [
    "def dateparse(time_in_secs):\n",
    "    return pd.to_datetime(time_in_secs, unit='s')\n",
    "\n",
    "dataset =  pd.read_csv('./steam_reviews.csv',\n",
    "                      header='infer',\n",
    "#                       nrows=20000,\n",
    "                      chunksize=2000000,\n",
    "                      iterator=True,\n",
    "                      parse_dates=['timestamp_created','timestamp_updated', 'author.last_played'],\n",
    "                      date_parser=dateparse)\n",
    "\n",
    "ds = []\n",
    "i = 1\n",
    "collected = 0\n",
    "for chunk in dataset:\n",
    "    collected += len(chunk)\n",
    "    print(\"Chunk\", i, \"---> fetching a chunk of 2000000 data, collected:\", collected, \"data.\")\n",
    "    ds.append(chunk)\n",
    "    i += 1\n",
    "ds = pd.concat(ds)"
   ]
  },
  {
   "cell_type": "code",
   "execution_count": 5,
   "id": "1a185908",
   "metadata": {},
   "outputs": [
    {
     "data": {
      "text/html": [
       "<div>\n",
       "<style scoped>\n",
       "    .dataframe tbody tr th:only-of-type {\n",
       "        vertical-align: middle;\n",
       "    }\n",
       "\n",
       "    .dataframe tbody tr th {\n",
       "        vertical-align: top;\n",
       "    }\n",
       "\n",
       "    .dataframe thead th {\n",
       "        text-align: right;\n",
       "    }\n",
       "</style>\n",
       "<table border=\"1\" class=\"dataframe\">\n",
       "  <thead>\n",
       "    <tr style=\"text-align: right;\">\n",
       "      <th></th>\n",
       "      <th>Unnamed: 0</th>\n",
       "      <th>app_id</th>\n",
       "      <th>app_name</th>\n",
       "      <th>review_id</th>\n",
       "      <th>language</th>\n",
       "      <th>review</th>\n",
       "      <th>timestamp_created</th>\n",
       "      <th>timestamp_updated</th>\n",
       "      <th>recommended</th>\n",
       "      <th>votes_helpful</th>\n",
       "      <th>...</th>\n",
       "      <th>steam_purchase</th>\n",
       "      <th>received_for_free</th>\n",
       "      <th>written_during_early_access</th>\n",
       "      <th>author.steamid</th>\n",
       "      <th>author.num_games_owned</th>\n",
       "      <th>author.num_reviews</th>\n",
       "      <th>author.playtime_forever</th>\n",
       "      <th>author.playtime_last_two_weeks</th>\n",
       "      <th>author.playtime_at_review</th>\n",
       "      <th>author.last_played</th>\n",
       "    </tr>\n",
       "  </thead>\n",
       "  <tbody>\n",
       "    <tr>\n",
       "      <th>0</th>\n",
       "      <td>0</td>\n",
       "      <td>292030</td>\n",
       "      <td>The Witcher 3: Wild Hunt</td>\n",
       "      <td>85185598</td>\n",
       "      <td>schinese</td>\n",
       "      <td>不玩此生遗憾，RPG游戏里的天花板，太吸引人了</td>\n",
       "      <td>2021-01-23 06:00:29</td>\n",
       "      <td>2021-01-23 06:00:29</td>\n",
       "      <td>True</td>\n",
       "      <td>0</td>\n",
       "      <td>...</td>\n",
       "      <td>True</td>\n",
       "      <td>False</td>\n",
       "      <td>False</td>\n",
       "      <td>76561199095369542</td>\n",
       "      <td>6</td>\n",
       "      <td>2</td>\n",
       "      <td>1909.0</td>\n",
       "      <td>1448.0</td>\n",
       "      <td>1909.0</td>\n",
       "      <td>2021-01-22 19:23:03</td>\n",
       "    </tr>\n",
       "    <tr>\n",
       "      <th>1</th>\n",
       "      <td>1</td>\n",
       "      <td>292030</td>\n",
       "      <td>The Witcher 3: Wild Hunt</td>\n",
       "      <td>85185250</td>\n",
       "      <td>schinese</td>\n",
       "      <td>拔DIAO无情打桩机--杰洛特!!!</td>\n",
       "      <td>2021-01-23 05:50:30</td>\n",
       "      <td>2021-01-23 05:50:30</td>\n",
       "      <td>True</td>\n",
       "      <td>0</td>\n",
       "      <td>...</td>\n",
       "      <td>True</td>\n",
       "      <td>False</td>\n",
       "      <td>False</td>\n",
       "      <td>76561198949504115</td>\n",
       "      <td>30</td>\n",
       "      <td>10</td>\n",
       "      <td>2764.0</td>\n",
       "      <td>2743.0</td>\n",
       "      <td>2674.0</td>\n",
       "      <td>2021-01-23 07:18:27</td>\n",
       "    </tr>\n",
       "    <tr>\n",
       "      <th>2</th>\n",
       "      <td>2</td>\n",
       "      <td>292030</td>\n",
       "      <td>The Witcher 3: Wild Hunt</td>\n",
       "      <td>85185111</td>\n",
       "      <td>schinese</td>\n",
       "      <td>巫师3NB</td>\n",
       "      <td>2021-01-23 05:46:40</td>\n",
       "      <td>2021-01-23 05:46:40</td>\n",
       "      <td>True</td>\n",
       "      <td>0</td>\n",
       "      <td>...</td>\n",
       "      <td>True</td>\n",
       "      <td>False</td>\n",
       "      <td>False</td>\n",
       "      <td>76561199090098988</td>\n",
       "      <td>5</td>\n",
       "      <td>1</td>\n",
       "      <td>1061.0</td>\n",
       "      <td>1061.0</td>\n",
       "      <td>1060.0</td>\n",
       "      <td>2021-01-23 06:36:17</td>\n",
       "    </tr>\n",
       "    <tr>\n",
       "      <th>3</th>\n",
       "      <td>3</td>\n",
       "      <td>292030</td>\n",
       "      <td>The Witcher 3: Wild Hunt</td>\n",
       "      <td>85184605</td>\n",
       "      <td>english</td>\n",
       "      <td>One of the best RPG's of all time, worthy of a...</td>\n",
       "      <td>2021-01-23 05:32:50</td>\n",
       "      <td>2021-01-23 05:32:50</td>\n",
       "      <td>True</td>\n",
       "      <td>0</td>\n",
       "      <td>...</td>\n",
       "      <td>True</td>\n",
       "      <td>False</td>\n",
       "      <td>False</td>\n",
       "      <td>76561199054755373</td>\n",
       "      <td>5</td>\n",
       "      <td>3</td>\n",
       "      <td>5587.0</td>\n",
       "      <td>3200.0</td>\n",
       "      <td>5524.0</td>\n",
       "      <td>2021-01-23 06:35:44</td>\n",
       "    </tr>\n",
       "    <tr>\n",
       "      <th>4</th>\n",
       "      <td>4</td>\n",
       "      <td>292030</td>\n",
       "      <td>The Witcher 3: Wild Hunt</td>\n",
       "      <td>85184287</td>\n",
       "      <td>schinese</td>\n",
       "      <td>大作</td>\n",
       "      <td>2021-01-23 05:23:47</td>\n",
       "      <td>2021-01-23 05:23:47</td>\n",
       "      <td>True</td>\n",
       "      <td>0</td>\n",
       "      <td>...</td>\n",
       "      <td>True</td>\n",
       "      <td>False</td>\n",
       "      <td>False</td>\n",
       "      <td>76561199028326951</td>\n",
       "      <td>7</td>\n",
       "      <td>4</td>\n",
       "      <td>217.0</td>\n",
       "      <td>42.0</td>\n",
       "      <td>217.0</td>\n",
       "      <td>2021-01-16 09:10:49</td>\n",
       "    </tr>\n",
       "  </tbody>\n",
       "</table>\n",
       "<p>5 rows × 23 columns</p>\n",
       "</div>"
      ],
      "text/plain": [
       "   Unnamed: 0  app_id                  app_name  review_id  language  \\\n",
       "0           0  292030  The Witcher 3: Wild Hunt   85185598  schinese   \n",
       "1           1  292030  The Witcher 3: Wild Hunt   85185250  schinese   \n",
       "2           2  292030  The Witcher 3: Wild Hunt   85185111  schinese   \n",
       "3           3  292030  The Witcher 3: Wild Hunt   85184605   english   \n",
       "4           4  292030  The Witcher 3: Wild Hunt   85184287  schinese   \n",
       "\n",
       "                                              review   timestamp_created  \\\n",
       "0                            不玩此生遗憾，RPG游戏里的天花板，太吸引人了 2021-01-23 06:00:29   \n",
       "1                                 拔DIAO无情打桩机--杰洛特!!! 2021-01-23 05:50:30   \n",
       "2                                              巫师3NB 2021-01-23 05:46:40   \n",
       "3  One of the best RPG's of all time, worthy of a... 2021-01-23 05:32:50   \n",
       "4                                                 大作 2021-01-23 05:23:47   \n",
       "\n",
       "    timestamp_updated  recommended  votes_helpful  ...  steam_purchase  \\\n",
       "0 2021-01-23 06:00:29         True              0  ...            True   \n",
       "1 2021-01-23 05:50:30         True              0  ...            True   \n",
       "2 2021-01-23 05:46:40         True              0  ...            True   \n",
       "3 2021-01-23 05:32:50         True              0  ...            True   \n",
       "4 2021-01-23 05:23:47         True              0  ...            True   \n",
       "\n",
       "   received_for_free  written_during_early_access     author.steamid  \\\n",
       "0              False                        False  76561199095369542   \n",
       "1              False                        False  76561198949504115   \n",
       "2              False                        False  76561199090098988   \n",
       "3              False                        False  76561199054755373   \n",
       "4              False                        False  76561199028326951   \n",
       "\n",
       "   author.num_games_owned  author.num_reviews  author.playtime_forever  \\\n",
       "0                       6                   2                   1909.0   \n",
       "1                      30                  10                   2764.0   \n",
       "2                       5                   1                   1061.0   \n",
       "3                       5                   3                   5587.0   \n",
       "4                       7                   4                    217.0   \n",
       "\n",
       "   author.playtime_last_two_weeks  author.playtime_at_review  \\\n",
       "0                          1448.0                     1909.0   \n",
       "1                          2743.0                     2674.0   \n",
       "2                          1061.0                     1060.0   \n",
       "3                          3200.0                     5524.0   \n",
       "4                            42.0                      217.0   \n",
       "\n",
       "   author.last_played  \n",
       "0 2021-01-22 19:23:03  \n",
       "1 2021-01-23 07:18:27  \n",
       "2 2021-01-23 06:36:17  \n",
       "3 2021-01-23 06:35:44  \n",
       "4 2021-01-16 09:10:49  \n",
       "\n",
       "[5 rows x 23 columns]"
      ]
     },
     "execution_count": 5,
     "metadata": {},
     "output_type": "execute_result"
    }
   ],
   "source": [
    "ds.head()"
   ]
  },
  {
   "cell_type": "code",
   "execution_count": 29,
   "id": "f32d3988",
   "metadata": {},
   "outputs": [
    {
     "data": {
      "text/html": [
       "<div>\n",
       "<style scoped>\n",
       "    .dataframe tbody tr th:only-of-type {\n",
       "        vertical-align: middle;\n",
       "    }\n",
       "\n",
       "    .dataframe tbody tr th {\n",
       "        vertical-align: top;\n",
       "    }\n",
       "\n",
       "    .dataframe thead th {\n",
       "        text-align: right;\n",
       "    }\n",
       "</style>\n",
       "<table border=\"1\" class=\"dataframe\">\n",
       "  <thead>\n",
       "    <tr style=\"text-align: right;\">\n",
       "      <th></th>\n",
       "      <th>Unnamed: 0</th>\n",
       "      <th>app_id</th>\n",
       "      <th>app_name</th>\n",
       "      <th>review_id</th>\n",
       "      <th>language</th>\n",
       "      <th>review</th>\n",
       "      <th>timestamp_created</th>\n",
       "      <th>timestamp_updated</th>\n",
       "      <th>recommended</th>\n",
       "      <th>votes_helpful</th>\n",
       "      <th>...</th>\n",
       "      <th>steam_purchase</th>\n",
       "      <th>received_for_free</th>\n",
       "      <th>written_during_early_access</th>\n",
       "      <th>author.steamid</th>\n",
       "      <th>author.num_games_owned</th>\n",
       "      <th>author.num_reviews</th>\n",
       "      <th>author.playtime_forever</th>\n",
       "      <th>author.playtime_last_two_weeks</th>\n",
       "      <th>author.playtime_at_review</th>\n",
       "      <th>author.last_played</th>\n",
       "    </tr>\n",
       "  </thead>\n",
       "  <tbody>\n",
       "    <tr>\n",
       "      <th>21747366</th>\n",
       "      <td>21747371</td>\n",
       "      <td>546560</td>\n",
       "      <td>Half-Life: Alyx</td>\n",
       "      <td>65645125</td>\n",
       "      <td>english</td>\n",
       "      <td>Holy balls</td>\n",
       "      <td>2020-03-23 18:05:04</td>\n",
       "      <td>2020-03-23 18:05:04</td>\n",
       "      <td>True</td>\n",
       "      <td>0</td>\n",
       "      <td>...</td>\n",
       "      <td>True</td>\n",
       "      <td>False</td>\n",
       "      <td>False</td>\n",
       "      <td>76561197967033932</td>\n",
       "      <td>431</td>\n",
       "      <td>7</td>\n",
       "      <td>432.0</td>\n",
       "      <td>0.0</td>\n",
       "      <td>29.0</td>\n",
       "      <td>2020-04-11 17:56:56</td>\n",
       "    </tr>\n",
       "    <tr>\n",
       "      <th>21747367</th>\n",
       "      <td>21747372</td>\n",
       "      <td>546560</td>\n",
       "      <td>Half-Life: Alyx</td>\n",
       "      <td>65645115</td>\n",
       "      <td>english</td>\n",
       "      <td>A tripod thing bears down on you, it looks imm...</td>\n",
       "      <td>2020-03-23 18:04:53</td>\n",
       "      <td>2020-03-23 18:04:53</td>\n",
       "      <td>True</td>\n",
       "      <td>0</td>\n",
       "      <td>...</td>\n",
       "      <td>False</td>\n",
       "      <td>False</td>\n",
       "      <td>False</td>\n",
       "      <td>76561198046495482</td>\n",
       "      <td>70</td>\n",
       "      <td>10</td>\n",
       "      <td>3296.0</td>\n",
       "      <td>15.0</td>\n",
       "      <td>24.0</td>\n",
       "      <td>2021-01-19 18:17:11</td>\n",
       "    </tr>\n",
       "    <tr>\n",
       "      <th>21747368</th>\n",
       "      <td>21747373</td>\n",
       "      <td>546560</td>\n",
       "      <td>Half-Life: Alyx</td>\n",
       "      <td>65645100</td>\n",
       "      <td>english</td>\n",
       "      <td>Honestly this is the best vr game ever</td>\n",
       "      <td>2020-03-23 18:04:33</td>\n",
       "      <td>2020-03-23 18:04:33</td>\n",
       "      <td>True</td>\n",
       "      <td>0</td>\n",
       "      <td>...</td>\n",
       "      <td>True</td>\n",
       "      <td>False</td>\n",
       "      <td>False</td>\n",
       "      <td>76561198176379749</td>\n",
       "      <td>79</td>\n",
       "      <td>17</td>\n",
       "      <td>2654.0</td>\n",
       "      <td>0.0</td>\n",
       "      <td>34.0</td>\n",
       "      <td>2020-06-08 16:29:13</td>\n",
       "    </tr>\n",
       "    <tr>\n",
       "      <th>21747369</th>\n",
       "      <td>21747374</td>\n",
       "      <td>546560</td>\n",
       "      <td>Half-Life: Alyx</td>\n",
       "      <td>65645066</td>\n",
       "      <td>english</td>\n",
       "      <td>Smooth turning is not working right now.\\nIt a...</td>\n",
       "      <td>2020-03-23 18:03:51</td>\n",
       "      <td>2020-04-08 21:47:02</td>\n",
       "      <td>True</td>\n",
       "      <td>0</td>\n",
       "      <td>...</td>\n",
       "      <td>True</td>\n",
       "      <td>False</td>\n",
       "      <td>False</td>\n",
       "      <td>76561198041763187</td>\n",
       "      <td>140</td>\n",
       "      <td>3</td>\n",
       "      <td>210.0</td>\n",
       "      <td>0.0</td>\n",
       "      <td>12.0</td>\n",
       "      <td>2020-05-17 11:36:55</td>\n",
       "    </tr>\n",
       "    <tr>\n",
       "      <th>21747370</th>\n",
       "      <td>21747375</td>\n",
       "      <td>546560</td>\n",
       "      <td>Half-Life: Alyx</td>\n",
       "      <td>65644930</td>\n",
       "      <td>schinese</td>\n",
       "      <td>WMR加载中闪退，无法进入游戏\\nWMR Flashback in Load，cant pl...</td>\n",
       "      <td>2020-03-23 18:01:45</td>\n",
       "      <td>2020-06-13 15:06:40</td>\n",
       "      <td>True</td>\n",
       "      <td>0</td>\n",
       "      <td>...</td>\n",
       "      <td>True</td>\n",
       "      <td>False</td>\n",
       "      <td>False</td>\n",
       "      <td>76561198116747069</td>\n",
       "      <td>253</td>\n",
       "      <td>7</td>\n",
       "      <td>1062.0</td>\n",
       "      <td>0.0</td>\n",
       "      <td>8.0</td>\n",
       "      <td>2020-10-16 14:12:23</td>\n",
       "    </tr>\n",
       "  </tbody>\n",
       "</table>\n",
       "<p>5 rows × 23 columns</p>\n",
       "</div>"
      ],
      "text/plain": [
       "          Unnamed: 0  app_id         app_name  review_id  language  \\\n",
       "21747366    21747371  546560  Half-Life: Alyx   65645125   english   \n",
       "21747367    21747372  546560  Half-Life: Alyx   65645115   english   \n",
       "21747368    21747373  546560  Half-Life: Alyx   65645100   english   \n",
       "21747369    21747374  546560  Half-Life: Alyx   65645066   english   \n",
       "21747370    21747375  546560  Half-Life: Alyx   65644930  schinese   \n",
       "\n",
       "                                                     review  \\\n",
       "21747366                                         Holy balls   \n",
       "21747367  A tripod thing bears down on you, it looks imm...   \n",
       "21747368             Honestly this is the best vr game ever   \n",
       "21747369  Smooth turning is not working right now.\\nIt a...   \n",
       "21747370  WMR加载中闪退，无法进入游戏\\nWMR Flashback in Load，cant pl...   \n",
       "\n",
       "           timestamp_created   timestamp_updated  recommended  votes_helpful  \\\n",
       "21747366 2020-03-23 18:05:04 2020-03-23 18:05:04         True              0   \n",
       "21747367 2020-03-23 18:04:53 2020-03-23 18:04:53         True              0   \n",
       "21747368 2020-03-23 18:04:33 2020-03-23 18:04:33         True              0   \n",
       "21747369 2020-03-23 18:03:51 2020-04-08 21:47:02         True              0   \n",
       "21747370 2020-03-23 18:01:45 2020-06-13 15:06:40         True              0   \n",
       "\n",
       "          ...  steam_purchase  received_for_free  written_during_early_access  \\\n",
       "21747366  ...            True              False                        False   \n",
       "21747367  ...           False              False                        False   \n",
       "21747368  ...            True              False                        False   \n",
       "21747369  ...            True              False                        False   \n",
       "21747370  ...            True              False                        False   \n",
       "\n",
       "             author.steamid  author.num_games_owned  author.num_reviews  \\\n",
       "21747366  76561197967033932                     431                   7   \n",
       "21747367  76561198046495482                      70                  10   \n",
       "21747368  76561198176379749                      79                  17   \n",
       "21747369  76561198041763187                     140                   3   \n",
       "21747370  76561198116747069                     253                   7   \n",
       "\n",
       "          author.playtime_forever  author.playtime_last_two_weeks  \\\n",
       "21747366                    432.0                             0.0   \n",
       "21747367                   3296.0                            15.0   \n",
       "21747368                   2654.0                             0.0   \n",
       "21747369                    210.0                             0.0   \n",
       "21747370                   1062.0                             0.0   \n",
       "\n",
       "          author.playtime_at_review  author.last_played  \n",
       "21747366                       29.0 2020-04-11 17:56:56  \n",
       "21747367                       24.0 2021-01-19 18:17:11  \n",
       "21747368                       34.0 2020-06-08 16:29:13  \n",
       "21747369                       12.0 2020-05-17 11:36:55  \n",
       "21747370                        8.0 2020-10-16 14:12:23  \n",
       "\n",
       "[5 rows x 23 columns]"
      ]
     },
     "execution_count": 29,
     "metadata": {},
     "output_type": "execute_result"
    }
   ],
   "source": [
    "ds.tail()"
   ]
  },
  {
   "cell_type": "code",
   "execution_count": 31,
   "id": "96376848",
   "metadata": {},
   "outputs": [
    {
     "name": "stdout",
     "output_type": "stream",
     "text": [
      "There are 21747371 user reviews -- each review contains 23 columns of information\n"
     ]
    }
   ],
   "source": [
    "rows, cols = ds.shape\n",
    "print(\"There are {0} user reviews -- each review contains {1} columns of information\".format(rows, cols))"
   ]
  },
  {
   "cell_type": "code",
   "execution_count": 33,
   "id": "415b3bf5",
   "metadata": {},
   "outputs": [
    {
     "data": {
      "text/plain": [
       "Index(['Unnamed: 0', 'app_id', 'app_name', 'review_id', 'language', 'review',\n",
       "       'timestamp_created', 'timestamp_updated', 'recommended',\n",
       "       'votes_helpful', 'votes_funny', 'weighted_vote_score', 'comment_count',\n",
       "       'steam_purchase', 'received_for_free', 'written_during_early_access',\n",
       "       'author.steamid', 'author.num_games_owned', 'author.num_reviews',\n",
       "       'author.playtime_forever', 'author.playtime_last_two_weeks',\n",
       "       'author.playtime_at_review', 'author.last_played'],\n",
       "      dtype='object')"
      ]
     },
     "execution_count": 33,
     "metadata": {},
     "output_type": "execute_result"
    }
   ],
   "source": [
    "cols = ds.columns\n",
    "cols"
   ]
  },
  {
   "cell_type": "markdown",
   "id": "651a2664",
   "metadata": {},
   "source": [
    "Each column describes:\n",
    "- app_id: the game id\n",
    "- app_name: the name for the game\n",
    "- review_id: the id of the reviewer\n",
    "- language: language of the review\n",
    "- review: review text\n",
    "- timestamp_created: Review creation timestamp\n",
    "- timestamp_updated: Review latest update timestamp\n",
    "- recommended: Whether review recommends the app\n",
    "- votes_helpful: Number of \"helpful\" votes for review"
   ]
  },
  {
   "cell_type": "code",
   "execution_count": 34,
   "id": "b8904e82",
   "metadata": {},
   "outputs": [
    {
     "data": {
      "text/plain": [
       "Unnamed: 0                                 int64\n",
       "app_id                                     int64\n",
       "app_name                                  object\n",
       "review_id                                  int64\n",
       "language                                  object\n",
       "review                                    object\n",
       "timestamp_created                 datetime64[ns]\n",
       "timestamp_updated                 datetime64[ns]\n",
       "recommended                                 bool\n",
       "votes_helpful                              int64\n",
       "votes_funny                                int64\n",
       "weighted_vote_score                      float64\n",
       "comment_count                              int64\n",
       "steam_purchase                              bool\n",
       "received_for_free                           bool\n",
       "written_during_early_access                 bool\n",
       "author.steamid                             int64\n",
       "author.num_games_owned                     int64\n",
       "author.num_reviews                         int64\n",
       "author.playtime_forever                  float64\n",
       "author.playtime_last_two_weeks           float64\n",
       "author.playtime_at_review                float64\n",
       "author.last_played                datetime64[ns]\n",
       "dtype: object"
      ]
     },
     "execution_count": 34,
     "metadata": {},
     "output_type": "execute_result"
    }
   ],
   "source": [
    "ds.dtypes"
   ]
  },
  {
   "cell_type": "code",
   "execution_count": 36,
   "id": "b74a77a8",
   "metadata": {},
   "outputs": [
    {
     "data": {
      "text/html": [
       "<div>\n",
       "<style scoped>\n",
       "    .dataframe tbody tr th:only-of-type {\n",
       "        vertical-align: middle;\n",
       "    }\n",
       "\n",
       "    .dataframe tbody tr th {\n",
       "        vertical-align: top;\n",
       "    }\n",
       "\n",
       "    .dataframe thead th {\n",
       "        text-align: right;\n",
       "    }\n",
       "</style>\n",
       "<table border=\"1\" class=\"dataframe\">\n",
       "  <thead>\n",
       "    <tr style=\"text-align: right;\">\n",
       "      <th></th>\n",
       "      <th>Unnamed: 0</th>\n",
       "      <th>app_id</th>\n",
       "      <th>review_id</th>\n",
       "      <th>votes_helpful</th>\n",
       "      <th>votes_funny</th>\n",
       "      <th>weighted_vote_score</th>\n",
       "      <th>comment_count</th>\n",
       "      <th>author.steamid</th>\n",
       "      <th>author.num_games_owned</th>\n",
       "      <th>author.num_reviews</th>\n",
       "      <th>author.playtime_forever</th>\n",
       "      <th>author.playtime_last_two_weeks</th>\n",
       "      <th>author.playtime_at_review</th>\n",
       "    </tr>\n",
       "  </thead>\n",
       "  <tbody>\n",
       "    <tr>\n",
       "      <th>count</th>\n",
       "      <td>2.174737e+07</td>\n",
       "      <td>2.174737e+07</td>\n",
       "      <td>2.174737e+07</td>\n",
       "      <td>2.174737e+07</td>\n",
       "      <td>2.174737e+07</td>\n",
       "      <td>2.174737e+07</td>\n",
       "      <td>2.174737e+07</td>\n",
       "      <td>2.174737e+07</td>\n",
       "      <td>2.174737e+07</td>\n",
       "      <td>2.174737e+07</td>\n",
       "      <td>2.174737e+07</td>\n",
       "      <td>2.174737e+07</td>\n",
       "      <td>2.172169e+07</td>\n",
       "    </tr>\n",
       "    <tr>\n",
       "      <th>mean</th>\n",
       "      <td>1.087369e+07</td>\n",
       "      <td>3.928181e+05</td>\n",
       "      <td>5.187500e+07</td>\n",
       "      <td>4.044689e+05</td>\n",
       "      <td>1.267917e+05</td>\n",
       "      <td>1.654424e-01</td>\n",
       "      <td>1.308768e-01</td>\n",
       "      <td>7.656120e+16</td>\n",
       "      <td>1.011300e+06</td>\n",
       "      <td>4.044775e+05</td>\n",
       "      <td>1.609105e+04</td>\n",
       "      <td>1.555421e+02</td>\n",
       "      <td>8.807421e+03</td>\n",
       "    </tr>\n",
       "    <tr>\n",
       "      <th>std</th>\n",
       "      <td>6.277927e+06</td>\n",
       "      <td>2.480977e+05</td>\n",
       "      <td>2.084267e+07</td>\n",
       "      <td>1.333741e+09</td>\n",
       "      <td>2.333553e+07</td>\n",
       "      <td>2.434006e-01</td>\n",
       "      <td>2.199398e+00</td>\n",
       "      <td>3.179438e+08</td>\n",
       "      <td>2.108829e+09</td>\n",
       "      <td>1.333741e+09</td>\n",
       "      <td>3.743057e+04</td>\n",
       "      <td>7.300488e+02</td>\n",
       "      <td>2.388553e+04</td>\n",
       "    </tr>\n",
       "    <tr>\n",
       "      <th>min</th>\n",
       "      <td>0.000000e+00</td>\n",
       "      <td>7.000000e+01</td>\n",
       "      <td>4.300000e+01</td>\n",
       "      <td>0.000000e+00</td>\n",
       "      <td>0.000000e+00</td>\n",
       "      <td>0.000000e+00</td>\n",
       "      <td>0.000000e+00</td>\n",
       "      <td>7.656120e+16</td>\n",
       "      <td>0.000000e+00</td>\n",
       "      <td>1.000000e+00</td>\n",
       "      <td>0.000000e+00</td>\n",
       "      <td>0.000000e+00</td>\n",
       "      <td>1.000000e+00</td>\n",
       "    </tr>\n",
       "    <tr>\n",
       "      <th>25%</th>\n",
       "      <td>5.436844e+06</td>\n",
       "      <td>2.427600e+05</td>\n",
       "      <td>3.639355e+07</td>\n",
       "      <td>0.000000e+00</td>\n",
       "      <td>0.000000e+00</td>\n",
       "      <td>0.000000e+00</td>\n",
       "      <td>0.000000e+00</td>\n",
       "      <td>7.656120e+16</td>\n",
       "      <td>2.200000e+01</td>\n",
       "      <td>2.000000e+00</td>\n",
       "      <td>1.250000e+03</td>\n",
       "      <td>0.000000e+00</td>\n",
       "      <td>5.590000e+02</td>\n",
       "    </tr>\n",
       "    <tr>\n",
       "      <th>50%</th>\n",
       "      <td>1.087369e+07</td>\n",
       "      <td>3.595500e+05</td>\n",
       "      <td>5.384058e+07</td>\n",
       "      <td>0.000000e+00</td>\n",
       "      <td>0.000000e+00</td>\n",
       "      <td>0.000000e+00</td>\n",
       "      <td>0.000000e+00</td>\n",
       "      <td>7.656120e+16</td>\n",
       "      <td>6.100000e+01</td>\n",
       "      <td>4.000000e+00</td>\n",
       "      <td>4.307000e+03</td>\n",
       "      <td>0.000000e+00</td>\n",
       "      <td>1.881000e+03</td>\n",
       "    </tr>\n",
       "    <tr>\n",
       "      <th>75%</th>\n",
       "      <td>1.631053e+07</td>\n",
       "      <td>5.780800e+05</td>\n",
       "      <td>6.928793e+07</td>\n",
       "      <td>1.000000e+00</td>\n",
       "      <td>0.000000e+00</td>\n",
       "      <td>4.827586e-01</td>\n",
       "      <td>0.000000e+00</td>\n",
       "      <td>7.656120e+16</td>\n",
       "      <td>1.450000e+02</td>\n",
       "      <td>1.000000e+01</td>\n",
       "      <td>1.491200e+04</td>\n",
       "      <td>0.000000e+00</td>\n",
       "      <td>6.823000e+03</td>\n",
       "    </tr>\n",
       "    <tr>\n",
       "      <th>max</th>\n",
       "      <td>2.174738e+07</td>\n",
       "      <td>1.291340e+06</td>\n",
       "      <td>8.521867e+07</td>\n",
       "      <td>4.398047e+12</td>\n",
       "      <td>4.294967e+09</td>\n",
       "      <td>9.959868e-01</td>\n",
       "      <td>4.893000e+03</td>\n",
       "      <td>7.656120e+16</td>\n",
       "      <td>4.398047e+12</td>\n",
       "      <td>4.398047e+12</td>\n",
       "      <td>3.744943e+06</td>\n",
       "      <td>2.703900e+04</td>\n",
       "      <td>3.228103e+06</td>\n",
       "    </tr>\n",
       "  </tbody>\n",
       "</table>\n",
       "</div>"
      ],
      "text/plain": [
       "         Unnamed: 0        app_id     review_id  votes_helpful   votes_funny  \\\n",
       "count  2.174737e+07  2.174737e+07  2.174737e+07   2.174737e+07  2.174737e+07   \n",
       "mean   1.087369e+07  3.928181e+05  5.187500e+07   4.044689e+05  1.267917e+05   \n",
       "std    6.277927e+06  2.480977e+05  2.084267e+07   1.333741e+09  2.333553e+07   \n",
       "min    0.000000e+00  7.000000e+01  4.300000e+01   0.000000e+00  0.000000e+00   \n",
       "25%    5.436844e+06  2.427600e+05  3.639355e+07   0.000000e+00  0.000000e+00   \n",
       "50%    1.087369e+07  3.595500e+05  5.384058e+07   0.000000e+00  0.000000e+00   \n",
       "75%    1.631053e+07  5.780800e+05  6.928793e+07   1.000000e+00  0.000000e+00   \n",
       "max    2.174738e+07  1.291340e+06  8.521867e+07   4.398047e+12  4.294967e+09   \n",
       "\n",
       "       weighted_vote_score  comment_count  author.steamid  \\\n",
       "count         2.174737e+07   2.174737e+07    2.174737e+07   \n",
       "mean          1.654424e-01   1.308768e-01    7.656120e+16   \n",
       "std           2.434006e-01   2.199398e+00    3.179438e+08   \n",
       "min           0.000000e+00   0.000000e+00    7.656120e+16   \n",
       "25%           0.000000e+00   0.000000e+00    7.656120e+16   \n",
       "50%           0.000000e+00   0.000000e+00    7.656120e+16   \n",
       "75%           4.827586e-01   0.000000e+00    7.656120e+16   \n",
       "max           9.959868e-01   4.893000e+03    7.656120e+16   \n",
       "\n",
       "       author.num_games_owned  author.num_reviews  author.playtime_forever  \\\n",
       "count            2.174737e+07        2.174737e+07             2.174737e+07   \n",
       "mean             1.011300e+06        4.044775e+05             1.609105e+04   \n",
       "std              2.108829e+09        1.333741e+09             3.743057e+04   \n",
       "min              0.000000e+00        1.000000e+00             0.000000e+00   \n",
       "25%              2.200000e+01        2.000000e+00             1.250000e+03   \n",
       "50%              6.100000e+01        4.000000e+00             4.307000e+03   \n",
       "75%              1.450000e+02        1.000000e+01             1.491200e+04   \n",
       "max              4.398047e+12        4.398047e+12             3.744943e+06   \n",
       "\n",
       "       author.playtime_last_two_weeks  author.playtime_at_review  \n",
       "count                    2.174737e+07               2.172169e+07  \n",
       "mean                     1.555421e+02               8.807421e+03  \n",
       "std                      7.300488e+02               2.388553e+04  \n",
       "min                      0.000000e+00               1.000000e+00  \n",
       "25%                      0.000000e+00               5.590000e+02  \n",
       "50%                      0.000000e+00               1.881000e+03  \n",
       "75%                      0.000000e+00               6.823000e+03  \n",
       "max                      2.703900e+04               3.228103e+06  "
      ]
     },
     "execution_count": 36,
     "metadata": {},
     "output_type": "execute_result"
    }
   ],
   "source": [
    "ds.describe()"
   ]
  },
  {
   "cell_type": "code",
   "execution_count": 37,
   "id": "c71ec6f7",
   "metadata": {},
   "outputs": [
    {
     "data": {
      "text/plain": [
       "Unnamed: 0                        21747371\n",
       "app_id                                 315\n",
       "app_name                               315\n",
       "review_id                         21612444\n",
       "language                                28\n",
       "review                            16657837\n",
       "timestamp_created                 18932372\n",
       "timestamp_updated                 18739831\n",
       "recommended                              2\n",
       "votes_helpful                         2716\n",
       "votes_funny                           2215\n",
       "weighted_vote_score                1304322\n",
       "comment_count                          351\n",
       "steam_purchase                           2\n",
       "received_for_free                        2\n",
       "written_during_early_access              2\n",
       "author.steamid                    12406560\n",
       "author.num_games_owned                7097\n",
       "author.num_reviews                     983\n",
       "author.playtime_forever             297891\n",
       "author.playtime_last_two_weeks       17261\n",
       "author.playtime_at_review           218306\n",
       "author.last_played                16009725\n",
       "dtype: int64"
      ]
     },
     "execution_count": 37,
     "metadata": {},
     "output_type": "execute_result"
    }
   ],
   "source": [
    "ds.nunique()"
   ]
  },
  {
   "cell_type": "markdown",
   "id": "1cbfc0a1",
   "metadata": {},
   "source": [
    "### As we can see from the uniqueness of each column's values, we can infer how many categories can be taken for each column"
   ]
  },
  {
   "cell_type": "code",
   "execution_count": 38,
   "id": "a89e6291",
   "metadata": {},
   "outputs": [
    {
     "data": {
      "text/plain": [
       "Unnamed: 0                            0\n",
       "app_id                                0\n",
       "app_name                              0\n",
       "review_id                             0\n",
       "language                              0\n",
       "review                            33742\n",
       "timestamp_created                     0\n",
       "timestamp_updated                     0\n",
       "recommended                           0\n",
       "votes_helpful                         0\n",
       "votes_funny                           0\n",
       "weighted_vote_score                   0\n",
       "comment_count                         0\n",
       "steam_purchase                        0\n",
       "received_for_free                     0\n",
       "written_during_early_access           0\n",
       "author.steamid                        0\n",
       "author.num_games_owned                0\n",
       "author.num_reviews                    0\n",
       "author.playtime_forever               2\n",
       "author.playtime_last_two_weeks        2\n",
       "author.playtime_at_review         25682\n",
       "author.last_played                    2\n",
       "dtype: int64"
      ]
     },
     "execution_count": 38,
     "metadata": {},
     "output_type": "execute_result"
    }
   ],
   "source": [
    "ds.isnull().sum()"
   ]
  },
  {
   "cell_type": "markdown",
   "id": "949877fc",
   "metadata": {},
   "source": [
    "### As we can see the \"review\" and \"playtime_at_review\" columns have null values. But, since the review column contians the reviews, we don't necessarily need it. Therefore, we can just remove \"review\" and clean \"author.playtime_at_review\" (by replacing NaN values with zero) columns. Note: we don't eliminate these rows because they are not critical to be around."
   ]
  },
  {
   "cell_type": "markdown",
   "id": "149b1c2f",
   "metadata": {},
   "source": [
    "Now we will try to clean the data."
   ]
  },
  {
   "cell_type": "code",
   "execution_count": 6,
   "id": "af80dc4a",
   "metadata": {},
   "outputs": [
    {
     "data": {
      "text/html": [
       "<div>\n",
       "<style scoped>\n",
       "    .dataframe tbody tr th:only-of-type {\n",
       "        vertical-align: middle;\n",
       "    }\n",
       "\n",
       "    .dataframe tbody tr th {\n",
       "        vertical-align: top;\n",
       "    }\n",
       "\n",
       "    .dataframe thead th {\n",
       "        text-align: right;\n",
       "    }\n",
       "</style>\n",
       "<table border=\"1\" class=\"dataframe\">\n",
       "  <thead>\n",
       "    <tr style=\"text-align: right;\">\n",
       "      <th></th>\n",
       "      <th>Unnamed: 0</th>\n",
       "      <th>app_id</th>\n",
       "      <th>app_name</th>\n",
       "      <th>review_id</th>\n",
       "      <th>language</th>\n",
       "      <th>timestamp_created</th>\n",
       "      <th>timestamp_updated</th>\n",
       "      <th>recommended</th>\n",
       "      <th>votes_helpful</th>\n",
       "      <th>votes_funny</th>\n",
       "      <th>...</th>\n",
       "      <th>steam_purchase</th>\n",
       "      <th>received_for_free</th>\n",
       "      <th>written_during_early_access</th>\n",
       "      <th>author.steamid</th>\n",
       "      <th>author.num_games_owned</th>\n",
       "      <th>author.num_reviews</th>\n",
       "      <th>author.playtime_forever</th>\n",
       "      <th>author.playtime_last_two_weeks</th>\n",
       "      <th>author.playtime_at_review</th>\n",
       "      <th>author.last_played</th>\n",
       "    </tr>\n",
       "  </thead>\n",
       "  <tbody>\n",
       "    <tr>\n",
       "      <th>0</th>\n",
       "      <td>0</td>\n",
       "      <td>292030</td>\n",
       "      <td>The Witcher 3: Wild Hunt</td>\n",
       "      <td>85185598</td>\n",
       "      <td>schinese</td>\n",
       "      <td>2021-01-23 06:00:29</td>\n",
       "      <td>2021-01-23 06:00:29</td>\n",
       "      <td>True</td>\n",
       "      <td>0</td>\n",
       "      <td>0</td>\n",
       "      <td>...</td>\n",
       "      <td>True</td>\n",
       "      <td>False</td>\n",
       "      <td>False</td>\n",
       "      <td>76561199095369542</td>\n",
       "      <td>6</td>\n",
       "      <td>2</td>\n",
       "      <td>1909.0</td>\n",
       "      <td>1448.0</td>\n",
       "      <td>1909.0</td>\n",
       "      <td>2021-01-22 19:23:03</td>\n",
       "    </tr>\n",
       "    <tr>\n",
       "      <th>1</th>\n",
       "      <td>1</td>\n",
       "      <td>292030</td>\n",
       "      <td>The Witcher 3: Wild Hunt</td>\n",
       "      <td>85185250</td>\n",
       "      <td>schinese</td>\n",
       "      <td>2021-01-23 05:50:30</td>\n",
       "      <td>2021-01-23 05:50:30</td>\n",
       "      <td>True</td>\n",
       "      <td>0</td>\n",
       "      <td>0</td>\n",
       "      <td>...</td>\n",
       "      <td>True</td>\n",
       "      <td>False</td>\n",
       "      <td>False</td>\n",
       "      <td>76561198949504115</td>\n",
       "      <td>30</td>\n",
       "      <td>10</td>\n",
       "      <td>2764.0</td>\n",
       "      <td>2743.0</td>\n",
       "      <td>2674.0</td>\n",
       "      <td>2021-01-23 07:18:27</td>\n",
       "    </tr>\n",
       "    <tr>\n",
       "      <th>2</th>\n",
       "      <td>2</td>\n",
       "      <td>292030</td>\n",
       "      <td>The Witcher 3: Wild Hunt</td>\n",
       "      <td>85185111</td>\n",
       "      <td>schinese</td>\n",
       "      <td>2021-01-23 05:46:40</td>\n",
       "      <td>2021-01-23 05:46:40</td>\n",
       "      <td>True</td>\n",
       "      <td>0</td>\n",
       "      <td>0</td>\n",
       "      <td>...</td>\n",
       "      <td>True</td>\n",
       "      <td>False</td>\n",
       "      <td>False</td>\n",
       "      <td>76561199090098988</td>\n",
       "      <td>5</td>\n",
       "      <td>1</td>\n",
       "      <td>1061.0</td>\n",
       "      <td>1061.0</td>\n",
       "      <td>1060.0</td>\n",
       "      <td>2021-01-23 06:36:17</td>\n",
       "    </tr>\n",
       "    <tr>\n",
       "      <th>3</th>\n",
       "      <td>3</td>\n",
       "      <td>292030</td>\n",
       "      <td>The Witcher 3: Wild Hunt</td>\n",
       "      <td>85184605</td>\n",
       "      <td>english</td>\n",
       "      <td>2021-01-23 05:32:50</td>\n",
       "      <td>2021-01-23 05:32:50</td>\n",
       "      <td>True</td>\n",
       "      <td>0</td>\n",
       "      <td>0</td>\n",
       "      <td>...</td>\n",
       "      <td>True</td>\n",
       "      <td>False</td>\n",
       "      <td>False</td>\n",
       "      <td>76561199054755373</td>\n",
       "      <td>5</td>\n",
       "      <td>3</td>\n",
       "      <td>5587.0</td>\n",
       "      <td>3200.0</td>\n",
       "      <td>5524.0</td>\n",
       "      <td>2021-01-23 06:35:44</td>\n",
       "    </tr>\n",
       "    <tr>\n",
       "      <th>4</th>\n",
       "      <td>4</td>\n",
       "      <td>292030</td>\n",
       "      <td>The Witcher 3: Wild Hunt</td>\n",
       "      <td>85184287</td>\n",
       "      <td>schinese</td>\n",
       "      <td>2021-01-23 05:23:47</td>\n",
       "      <td>2021-01-23 05:23:47</td>\n",
       "      <td>True</td>\n",
       "      <td>0</td>\n",
       "      <td>0</td>\n",
       "      <td>...</td>\n",
       "      <td>True</td>\n",
       "      <td>False</td>\n",
       "      <td>False</td>\n",
       "      <td>76561199028326951</td>\n",
       "      <td>7</td>\n",
       "      <td>4</td>\n",
       "      <td>217.0</td>\n",
       "      <td>42.0</td>\n",
       "      <td>217.0</td>\n",
       "      <td>2021-01-16 09:10:49</td>\n",
       "    </tr>\n",
       "  </tbody>\n",
       "</table>\n",
       "<p>5 rows × 22 columns</p>\n",
       "</div>"
      ],
      "text/plain": [
       "   Unnamed: 0  app_id                  app_name  review_id  language  \\\n",
       "0           0  292030  The Witcher 3: Wild Hunt   85185598  schinese   \n",
       "1           1  292030  The Witcher 3: Wild Hunt   85185250  schinese   \n",
       "2           2  292030  The Witcher 3: Wild Hunt   85185111  schinese   \n",
       "3           3  292030  The Witcher 3: Wild Hunt   85184605   english   \n",
       "4           4  292030  The Witcher 3: Wild Hunt   85184287  schinese   \n",
       "\n",
       "    timestamp_created   timestamp_updated  recommended  votes_helpful  \\\n",
       "0 2021-01-23 06:00:29 2021-01-23 06:00:29         True              0   \n",
       "1 2021-01-23 05:50:30 2021-01-23 05:50:30         True              0   \n",
       "2 2021-01-23 05:46:40 2021-01-23 05:46:40         True              0   \n",
       "3 2021-01-23 05:32:50 2021-01-23 05:32:50         True              0   \n",
       "4 2021-01-23 05:23:47 2021-01-23 05:23:47         True              0   \n",
       "\n",
       "   votes_funny  ...  steam_purchase  received_for_free  \\\n",
       "0            0  ...            True              False   \n",
       "1            0  ...            True              False   \n",
       "2            0  ...            True              False   \n",
       "3            0  ...            True              False   \n",
       "4            0  ...            True              False   \n",
       "\n",
       "   written_during_early_access     author.steamid  author.num_games_owned  \\\n",
       "0                        False  76561199095369542                       6   \n",
       "1                        False  76561198949504115                      30   \n",
       "2                        False  76561199090098988                       5   \n",
       "3                        False  76561199054755373                       5   \n",
       "4                        False  76561199028326951                       7   \n",
       "\n",
       "   author.num_reviews  author.playtime_forever  \\\n",
       "0                   2                   1909.0   \n",
       "1                  10                   2764.0   \n",
       "2                   1                   1061.0   \n",
       "3                   3                   5587.0   \n",
       "4                   4                    217.0   \n",
       "\n",
       "   author.playtime_last_two_weeks  author.playtime_at_review  \\\n",
       "0                          1448.0                     1909.0   \n",
       "1                          2743.0                     2674.0   \n",
       "2                          1061.0                     1060.0   \n",
       "3                          3200.0                     5524.0   \n",
       "4                            42.0                      217.0   \n",
       "\n",
       "   author.last_played  \n",
       "0 2021-01-22 19:23:03  \n",
       "1 2021-01-23 07:18:27  \n",
       "2 2021-01-23 06:36:17  \n",
       "3 2021-01-23 06:35:44  \n",
       "4 2021-01-16 09:10:49  \n",
       "\n",
       "[5 rows x 22 columns]"
      ]
     },
     "execution_count": 6,
     "metadata": {},
     "output_type": "execute_result"
    }
   ],
   "source": [
    "dataset = ds.drop([\"review\",], axis=1)\n",
    "dataset.head()"
   ]
  },
  {
   "cell_type": "code",
   "execution_count": 58,
   "id": "03414733",
   "metadata": {},
   "outputs": [
    {
     "data": {
      "text/html": [
       "<div>\n",
       "<style scoped>\n",
       "    .dataframe tbody tr th:only-of-type {\n",
       "        vertical-align: middle;\n",
       "    }\n",
       "\n",
       "    .dataframe tbody tr th {\n",
       "        vertical-align: top;\n",
       "    }\n",
       "\n",
       "    .dataframe thead th {\n",
       "        text-align: right;\n",
       "    }\n",
       "</style>\n",
       "<table border=\"1\" class=\"dataframe\">\n",
       "  <thead>\n",
       "    <tr style=\"text-align: right;\">\n",
       "      <th></th>\n",
       "      <th>Unnamed: 0</th>\n",
       "      <th>app_id</th>\n",
       "      <th>app_name</th>\n",
       "      <th>review_id</th>\n",
       "      <th>language</th>\n",
       "      <th>timestamp_created</th>\n",
       "      <th>timestamp_updated</th>\n",
       "      <th>recommended</th>\n",
       "      <th>votes_helpful</th>\n",
       "      <th>votes_funny</th>\n",
       "      <th>...</th>\n",
       "      <th>steam_purchase</th>\n",
       "      <th>received_for_free</th>\n",
       "      <th>written_during_early_access</th>\n",
       "      <th>author.steamid</th>\n",
       "      <th>author.num_games_owned</th>\n",
       "      <th>author.num_reviews</th>\n",
       "      <th>author.playtime_forever</th>\n",
       "      <th>author.playtime_last_two_weeks</th>\n",
       "      <th>author.playtime_at_review</th>\n",
       "      <th>author.last_played</th>\n",
       "    </tr>\n",
       "  </thead>\n",
       "  <tbody>\n",
       "    <tr>\n",
       "      <th>0</th>\n",
       "      <td>0</td>\n",
       "      <td>292030</td>\n",
       "      <td>The Witcher 3: Wild Hunt</td>\n",
       "      <td>85185598</td>\n",
       "      <td>schinese</td>\n",
       "      <td>2021-01-23 06:00:29</td>\n",
       "      <td>2021-01-23 06:00:29</td>\n",
       "      <td>True</td>\n",
       "      <td>0</td>\n",
       "      <td>0</td>\n",
       "      <td>...</td>\n",
       "      <td>True</td>\n",
       "      <td>False</td>\n",
       "      <td>False</td>\n",
       "      <td>76561199095369542</td>\n",
       "      <td>6</td>\n",
       "      <td>2</td>\n",
       "      <td>1909.0</td>\n",
       "      <td>1448.0</td>\n",
       "      <td>1909.0</td>\n",
       "      <td>2021-01-22 19:23:03</td>\n",
       "    </tr>\n",
       "    <tr>\n",
       "      <th>1</th>\n",
       "      <td>1</td>\n",
       "      <td>292030</td>\n",
       "      <td>The Witcher 3: Wild Hunt</td>\n",
       "      <td>85185250</td>\n",
       "      <td>schinese</td>\n",
       "      <td>2021-01-23 05:50:30</td>\n",
       "      <td>2021-01-23 05:50:30</td>\n",
       "      <td>True</td>\n",
       "      <td>0</td>\n",
       "      <td>0</td>\n",
       "      <td>...</td>\n",
       "      <td>True</td>\n",
       "      <td>False</td>\n",
       "      <td>False</td>\n",
       "      <td>76561198949504115</td>\n",
       "      <td>30</td>\n",
       "      <td>10</td>\n",
       "      <td>2764.0</td>\n",
       "      <td>2743.0</td>\n",
       "      <td>2674.0</td>\n",
       "      <td>2021-01-23 07:18:27</td>\n",
       "    </tr>\n",
       "    <tr>\n",
       "      <th>2</th>\n",
       "      <td>2</td>\n",
       "      <td>292030</td>\n",
       "      <td>The Witcher 3: Wild Hunt</td>\n",
       "      <td>85185111</td>\n",
       "      <td>schinese</td>\n",
       "      <td>2021-01-23 05:46:40</td>\n",
       "      <td>2021-01-23 05:46:40</td>\n",
       "      <td>True</td>\n",
       "      <td>0</td>\n",
       "      <td>0</td>\n",
       "      <td>...</td>\n",
       "      <td>True</td>\n",
       "      <td>False</td>\n",
       "      <td>False</td>\n",
       "      <td>76561199090098988</td>\n",
       "      <td>5</td>\n",
       "      <td>1</td>\n",
       "      <td>1061.0</td>\n",
       "      <td>1061.0</td>\n",
       "      <td>1060.0</td>\n",
       "      <td>2021-01-23 06:36:17</td>\n",
       "    </tr>\n",
       "    <tr>\n",
       "      <th>3</th>\n",
       "      <td>3</td>\n",
       "      <td>292030</td>\n",
       "      <td>The Witcher 3: Wild Hunt</td>\n",
       "      <td>85184605</td>\n",
       "      <td>english</td>\n",
       "      <td>2021-01-23 05:32:50</td>\n",
       "      <td>2021-01-23 05:32:50</td>\n",
       "      <td>True</td>\n",
       "      <td>0</td>\n",
       "      <td>0</td>\n",
       "      <td>...</td>\n",
       "      <td>True</td>\n",
       "      <td>False</td>\n",
       "      <td>False</td>\n",
       "      <td>76561199054755373</td>\n",
       "      <td>5</td>\n",
       "      <td>3</td>\n",
       "      <td>5587.0</td>\n",
       "      <td>3200.0</td>\n",
       "      <td>5524.0</td>\n",
       "      <td>2021-01-23 06:35:44</td>\n",
       "    </tr>\n",
       "    <tr>\n",
       "      <th>4</th>\n",
       "      <td>4</td>\n",
       "      <td>292030</td>\n",
       "      <td>The Witcher 3: Wild Hunt</td>\n",
       "      <td>85184287</td>\n",
       "      <td>schinese</td>\n",
       "      <td>2021-01-23 05:23:47</td>\n",
       "      <td>2021-01-23 05:23:47</td>\n",
       "      <td>True</td>\n",
       "      <td>0</td>\n",
       "      <td>0</td>\n",
       "      <td>...</td>\n",
       "      <td>True</td>\n",
       "      <td>False</td>\n",
       "      <td>False</td>\n",
       "      <td>76561199028326951</td>\n",
       "      <td>7</td>\n",
       "      <td>4</td>\n",
       "      <td>217.0</td>\n",
       "      <td>42.0</td>\n",
       "      <td>217.0</td>\n",
       "      <td>2021-01-16 09:10:49</td>\n",
       "    </tr>\n",
       "  </tbody>\n",
       "</table>\n",
       "<p>5 rows × 22 columns</p>\n",
       "</div>"
      ],
      "text/plain": [
       "   Unnamed: 0  app_id                  app_name  review_id  language  \\\n",
       "0           0  292030  The Witcher 3: Wild Hunt   85185598  schinese   \n",
       "1           1  292030  The Witcher 3: Wild Hunt   85185250  schinese   \n",
       "2           2  292030  The Witcher 3: Wild Hunt   85185111  schinese   \n",
       "3           3  292030  The Witcher 3: Wild Hunt   85184605   english   \n",
       "4           4  292030  The Witcher 3: Wild Hunt   85184287  schinese   \n",
       "\n",
       "    timestamp_created   timestamp_updated  recommended  votes_helpful  \\\n",
       "0 2021-01-23 06:00:29 2021-01-23 06:00:29         True              0   \n",
       "1 2021-01-23 05:50:30 2021-01-23 05:50:30         True              0   \n",
       "2 2021-01-23 05:46:40 2021-01-23 05:46:40         True              0   \n",
       "3 2021-01-23 05:32:50 2021-01-23 05:32:50         True              0   \n",
       "4 2021-01-23 05:23:47 2021-01-23 05:23:47         True              0   \n",
       "\n",
       "   votes_funny  ...  steam_purchase  received_for_free  \\\n",
       "0            0  ...            True              False   \n",
       "1            0  ...            True              False   \n",
       "2            0  ...            True              False   \n",
       "3            0  ...            True              False   \n",
       "4            0  ...            True              False   \n",
       "\n",
       "   written_during_early_access     author.steamid  author.num_games_owned  \\\n",
       "0                        False  76561199095369542                       6   \n",
       "1                        False  76561198949504115                      30   \n",
       "2                        False  76561199090098988                       5   \n",
       "3                        False  76561199054755373                       5   \n",
       "4                        False  76561199028326951                       7   \n",
       "\n",
       "   author.num_reviews  author.playtime_forever  \\\n",
       "0                   2                   1909.0   \n",
       "1                  10                   2764.0   \n",
       "2                   1                   1061.0   \n",
       "3                   3                   5587.0   \n",
       "4                   4                    217.0   \n",
       "\n",
       "   author.playtime_last_two_weeks  author.playtime_at_review  \\\n",
       "0                          1448.0                     1909.0   \n",
       "1                          2743.0                     2674.0   \n",
       "2                          1061.0                     1060.0   \n",
       "3                          3200.0                     5524.0   \n",
       "4                            42.0                      217.0   \n",
       "\n",
       "    author.last_played  \n",
       "0  2021-01-22 19:23:03  \n",
       "1  2021-01-23 07:18:27  \n",
       "2  2021-01-23 06:36:17  \n",
       "3  2021-01-23 06:35:44  \n",
       "4  2021-01-16 09:10:49  \n",
       "\n",
       "[5 rows x 22 columns]"
      ]
     },
     "execution_count": 58,
     "metadata": {},
     "output_type": "execute_result"
    }
   ],
   "source": [
    "dataset['author.playtime_at_review'] = dataset['author.playtime_at_review'].replace(np.nan, 0)\n",
    "dataset['author.last_played'] = dataset['author.last_played'].replace(np.nan, 0)\n",
    "dataset['author.playtime_last_two_weeks'] = dataset['author.playtime_last_two_weeks'].replace(np.nan, 0)\n",
    "dataset['author.playtime_forever'] = dataset['author.playtime_forever'].replace(np.nan, 0)\n",
    "dataset.head()"
   ]
  },
  {
   "cell_type": "code",
   "execution_count": 59,
   "id": "d150cf48",
   "metadata": {},
   "outputs": [
    {
     "data": {
      "text/plain": [
       "Unnamed: 0                        0\n",
       "app_id                            0\n",
       "app_name                          0\n",
       "review_id                         0\n",
       "language                          0\n",
       "timestamp_created                 0\n",
       "timestamp_updated                 0\n",
       "recommended                       0\n",
       "votes_helpful                     0\n",
       "votes_funny                       0\n",
       "weighted_vote_score               0\n",
       "comment_count                     0\n",
       "steam_purchase                    0\n",
       "received_for_free                 0\n",
       "written_during_early_access       0\n",
       "author.steamid                    0\n",
       "author.num_games_owned            0\n",
       "author.num_reviews                0\n",
       "author.playtime_forever           0\n",
       "author.playtime_last_two_weeks    0\n",
       "author.playtime_at_review         0\n",
       "author.last_played                0\n",
       "dtype: int64"
      ]
     },
     "execution_count": 59,
     "metadata": {},
     "output_type": "execute_result"
    }
   ],
   "source": [
    "dataset.isnull().sum()"
   ]
  },
  {
   "cell_type": "markdown",
   "id": "e2f0bcaf",
   "metadata": {},
   "source": [
    "For further cleaning we will eliminate outliers."
   ]
  },
  {
   "cell_type": "code",
   "execution_count": 60,
   "id": "23fb7412",
   "metadata": {},
   "outputs": [
    {
     "data": {
      "image/png": "[encoded data removed]",
      "text/plain": [
       "<Figure size 720x576 with 2 Axes>"
      ]
     },
     "metadata": {
      "needs_background": "light"
     },
     "output_type": "display_data"
    }
   ],
   "source": [
    "plt.figure(figsize=(10,8))\n",
    "corr = dataset.corr()\n",
    "sns.heatmap(corr)\n",
    "plt.show()"
   ]
  },
  {
   "cell_type": "markdown",
   "id": "cae64430",
   "metadata": {},
   "source": [
    "### The heatmap above shows the correlation between each column. As we can see from the heat-map, only a few columns are correlated with each other and other columns are not correlated. For instance, review_id is highly correlated with app_id which makes sense. The reviewers have a certain taste in games which explains the apps they review."
   ]
  },
  {
   "cell_type": "code",
   "execution_count": 7,
   "id": "346c160b",
   "metadata": {},
   "outputs": [
    {
     "data": {
      "text/plain": [
       "<seaborn.axisgrid.FacetGrid at 0x1854020c070>"
      ]
     },
     "execution_count": 7,
     "metadata": {},
     "output_type": "execute_result"
    },
    {
     "data": {
      "image/png": "[encoded data removed]",
      "text/plain": [
       "<Figure size 360x360 with 1 Axes>"
      ]
     },
     "metadata": {
      "needs_background": "light"
     },
     "output_type": "display_data"
    }
   ],
   "source": [
    "sns.relplot(x='app_id', y='review_id', data=dataset)"
   ]
  },
  {
   "cell_type": "code",
   "execution_count": 84,
   "id": "ce5e17a0",
   "metadata": {},
   "outputs": [
    {
     "data": {
      "text/plain": [
       "<seaborn.axisgrid.FacetGrid at 0x22bb9ab9f70>"
      ]
     },
     "execution_count": 84,
     "metadata": {},
     "output_type": "execute_result"
    },
    {
     "data": {
      "image/png": "[encoded data removed]",
      "text/plain": [
       "<Figure size 360x360 with 1 Axes>"
      ]
     },
     "metadata": {
      "needs_background": "light"
     },
     "output_type": "display_data"
    }
   ],
   "source": [
    "sns.relplot(x='author.playtime_at_review', y='author.playtime_forever', data=dataset)"
   ]
  },
  {
   "cell_type": "code",
   "execution_count": 17,
   "id": "b9c4cea3",
   "metadata": {},
   "outputs": [
    {
     "data": {
      "image/png": "[encoded data removed]",
      "text/plain": [
       "<Figure size 1152x1368 with 6 Axes>"
      ]
     },
     "metadata": {
      "needs_background": "light"
     },
     "output_type": "display_data"
    }
   ],
   "source": [
    "plt.figure()\n",
    "\n",
    "plt.subplot(321)\n",
    "dataset['steam_purchase'].value_counts().plot(kind='bar', title='Steam purchase', figsize=(16,19))\n",
    "plt.xticks(rotation=0)\n",
    "\n",
    "plt.subplot(322)\n",
    "dataset['received_for_free'].value_counts().plot(kind='bar', title='Received for free', figsize=(16,19))\n",
    "plt.xticks(rotation=0)\n",
    "\n",
    "plt.subplot(323)\n",
    "vote_helpful = dataset[\"votes_helpful\"].value_counts()\n",
    "bins = [0,1,2,3,5,10,20,max(vote_helpful)]\n",
    "out_vote_helpful = pd.cut(dataset[\"votes_helpful\"], bins=bins, include_lowest=True)\n",
    "c_helpful = out_vote_helpful.value_counts(sort=False)\n",
    "c_helpful.plot.bar(title=\"votes_helpful\",ylabel='count', figsize=(16,19))\n",
    "plt.xticks([0,1,2,3,4,5,6], ['1','2','3','4-5','6-10','11-20','more than 20'])\n",
    "plt.yticks(np.arange(0,1,0.1))\n",
    "\n",
    "plt.subplot(324)\n",
    "vote_funny = dataset[\"votes_funny\"].value_counts()\n",
    "bins = [0,1,2,3,5,10,20,max(vote_funny)]\n",
    "out_vote_funny = pd.cut(dataset[\"votes_funny\"], bins=bins, include_lowest=True)\n",
    "c_funny = out_vote_funny.value_counts(sort=False)\n",
    "c_funny.plot.bar(title=\"votes_funny\", ylabel='count', figsize=(16,19))\n",
    "plt.xticks([0,1,2,3,4,5,6], ['1','2','3','4-5','6-10','11-20','more than 20'])\n",
    "plt.yticks(np.arange(0,1,0.1))\n",
    "\n",
    "plt.subplot(325)\n",
    "dataset['recommended'].value_counts().plot(kind='bar', title='Recommended', figsize=(16,19))\n",
    "plt.xticks(rotation=0)\n",
    "\n",
    "plt.subplot(326)\n",
    "dataset['language'].value_counts().plot(kind='bar', title='Review language', figsize=(16,19))\n",
    "plt.xticks(rotation=\"vertical\")\n",
    "\n",
    "plt.show()"
   ]
  },
  {
   "cell_type": "markdown",
   "id": "30a935bc",
   "metadata": {},
   "source": [
    "### As we can see from the plots, there are more purchases than receiving for free. more recommended reviews and more reviews in english and russian than any other language"
   ]
  },
  {
   "cell_type": "code",
   "execution_count": 18,
   "id": "ed6990dd",
   "metadata": {},
   "outputs": [
    {
     "data": {
      "image/png": "[encoded data removed]",
      "text/plain": [
       "<Figure size 1296x1296 with 1 Axes>"
      ]
     },
     "metadata": {},
     "output_type": "display_data"
    }
   ],
   "source": [
    "plt.rcParams['figure.figsize'] = (18, 18)\n",
    "plt.pie(dataset['comment_count'].value_counts(),\n",
    "labels = dataset.comment_count.unique(),\n",
    "explode = [0.3 for value in range(0, dataset.comment_count.nunique())],\n",
    "shadow = True, autopct = '%.1f%%')\n",
    "plt.title('comment_count', fontsize = 20)\n",
    "plt.axis('off')\n",
    "plt.show()"
   ]
  },
  {
   "cell_type": "markdown",
   "id": "3281bf13",
   "metadata": {},
   "source": [
    "### The pie chart shows that 95.5% did not comment, 2.6% did comment just once and ..."
   ]
  },
  {
   "cell_type": "code",
   "execution_count": 19,
   "id": "838bdca4",
   "metadata": {},
   "outputs": [
    {
     "name": "stderr",
     "output_type": "stream",
     "text": [
      "C:\\Users\\Parsa33033\\anaconda3\\lib\\site-packages\\seaborn\\_decorators.py:36: FutureWarning: Pass the following variable as a keyword arg: x. From version 0.12, the only valid positional argument will be `data`, and passing other arguments without an explicit keyword will result in an error or misinterpretation.\n",
      "  warnings.warn(\n",
      "C:\\Users\\Parsa33033\\anaconda3\\lib\\site-packages\\seaborn\\_decorators.py:36: FutureWarning: Pass the following variable as a keyword arg: x. From version 0.12, the only valid positional argument will be `data`, and passing other arguments without an explicit keyword will result in an error or misinterpretation.\n",
      "  warnings.warn(\n",
      "C:\\Users\\Parsa33033\\anaconda3\\lib\\site-packages\\seaborn\\_decorators.py:36: FutureWarning: Pass the following variable as a keyword arg: x. From version 0.12, the only valid positional argument will be `data`, and passing other arguments without an explicit keyword will result in an error or misinterpretation.\n",
      "  warnings.warn(\n"
     ]
    },
    {
     "data": {
      "image/png": "[encoded data removed]",
      "text/plain": [
       "<Figure size 1080x216 with 3 Axes>"
      ]
     },
     "metadata": {
      "needs_background": "light"
     },
     "output_type": "display_data"
    }
   ],
   "source": [
    "fig, ax = plt.subplots(1, 3, figsize=(15, 3), sharey=True)\n",
    "sns.boxplot(dataset['weighted_vote_score'], ax=ax[0])\n",
    "sns.boxplot(dataset['comment_count'], ax=ax[1])\n",
    "sns.boxplot(dataset['app_id'], ax=ax[2])\n",
    "plt.show()"
   ]
  },
  {
   "cell_type": "markdown",
   "id": "9184ae1b",
   "metadata": {},
   "source": [
    "##  [RQ2] \n",
    "\n",
    " Let's explore the dataset by finding simple insights into the reviews.\n",
    "\n",
    "    Plot the number of reviews for each application in descending order.\n",
    "    What applications have the best Weighted Vote Score?\n",
    "    Which applications have the most and the least recommendations?\n",
    "    How many of these applications were purchased, and how many were given for free?\n",
    "\n"
   ]
  },
  {
   "cell_type": "markdown",
   "id": "e24f9691",
   "metadata": {},
   "source": [
    "### Answer 2\n",
    "---\n"
   ]
  },
  {
   "cell_type": "markdown",
   "id": "0f0e10d3",
   "metadata": {},
   "source": [
    "#### Plot the number of reviews for each application in descending order."
   ]
  },
  {
   "cell_type": "code",
   "execution_count": 20,
   "id": "42dcea20",
   "metadata": {},
   "outputs": [
    {
     "name": "stderr",
     "output_type": "stream",
     "text": [
      "C:\\Users\\Parsa33033\\anaconda3\\lib\\site-packages\\matplotlib\\backends\\backend_agg.py:238: RuntimeWarning: Glyph 19977 missing from current font.\n",
      "  font.set_text(s, 0.0, flags=flags)\n",
      "C:\\Users\\Parsa33033\\anaconda3\\lib\\site-packages\\matplotlib\\backends\\backend_agg.py:238: RuntimeWarning: Glyph 22269 missing from current font.\n",
      "  font.set_text(s, 0.0, flags=flags)\n",
      "C:\\Users\\Parsa33033\\anaconda3\\lib\\site-packages\\matplotlib\\backends\\backend_agg.py:238: RuntimeWarning: Glyph 32676 missing from current font.\n",
      "  font.set_text(s, 0.0, flags=flags)\n",
      "C:\\Users\\Parsa33033\\anaconda3\\lib\\site-packages\\matplotlib\\backends\\backend_agg.py:238: RuntimeWarning: Glyph 33521 missing from current font.\n",
      "  font.set_text(s, 0.0, flags=flags)\n",
      "C:\\Users\\Parsa33033\\anaconda3\\lib\\site-packages\\matplotlib\\backends\\backend_agg.py:238: RuntimeWarning: Glyph 20256 missing from current font.\n",
      "  font.set_text(s, 0.0, flags=flags)\n",
      "C:\\Users\\Parsa33033\\anaconda3\\lib\\site-packages\\matplotlib\\backends\\backend_agg.py:238: RuntimeWarning: Glyph 40857 missing from current font.\n",
      "  font.set_text(s, 0.0, flags=flags)\n",
      "C:\\Users\\Parsa33033\\anaconda3\\lib\\site-packages\\matplotlib\\backends\\backend_agg.py:238: RuntimeWarning: Glyph 23830 missing from current font.\n",
      "  font.set_text(s, 0.0, flags=flags)\n",
      "C:\\Users\\Parsa33033\\anaconda3\\lib\\site-packages\\matplotlib\\backends\\backend_agg.py:238: RuntimeWarning: Glyph 65290 missing from current font.\n",
      "  font.set_text(s, 0.0, flags=flags)\n",
      "C:\\Users\\Parsa33033\\anaconda3\\lib\\site-packages\\matplotlib\\backends\\backend_agg.py:201: RuntimeWarning: Glyph 19977 missing from current font.\n",
      "  font.set_text(s, 0, flags=flags)\n",
      "C:\\Users\\Parsa33033\\anaconda3\\lib\\site-packages\\matplotlib\\backends\\backend_agg.py:201: RuntimeWarning: Glyph 22269 missing from current font.\n",
      "  font.set_text(s, 0, flags=flags)\n",
      "C:\\Users\\Parsa33033\\anaconda3\\lib\\site-packages\\matplotlib\\backends\\backend_agg.py:201: RuntimeWarning: Glyph 32676 missing from current font.\n",
      "  font.set_text(s, 0, flags=flags)\n",
      "C:\\Users\\Parsa33033\\anaconda3\\lib\\site-packages\\matplotlib\\backends\\backend_agg.py:201: RuntimeWarning: Glyph 33521 missing from current font.\n",
      "  font.set_text(s, 0, flags=flags)\n",
      "C:\\Users\\Parsa33033\\anaconda3\\lib\\site-packages\\matplotlib\\backends\\backend_agg.py:201: RuntimeWarning: Glyph 20256 missing from current font.\n",
      "  font.set_text(s, 0, flags=flags)\n",
      "C:\\Users\\Parsa33033\\anaconda3\\lib\\site-packages\\matplotlib\\backends\\backend_agg.py:201: RuntimeWarning: Glyph 40857 missing from current font.\n",
      "  font.set_text(s, 0, flags=flags)\n",
      "C:\\Users\\Parsa33033\\anaconda3\\lib\\site-packages\\matplotlib\\backends\\backend_agg.py:201: RuntimeWarning: Glyph 23830 missing from current font.\n",
      "  font.set_text(s, 0, flags=flags)\n",
      "C:\\Users\\Parsa33033\\anaconda3\\lib\\site-packages\\matplotlib\\backends\\backend_agg.py:201: RuntimeWarning: Glyph 65290 missing from current font.\n",
      "  font.set_text(s, 0, flags=flags)\n"
     ]
    },
    {
     "data": {
      "image/png": "[encoded data removed]",
      "text/plain": [
       "<Figure size 1008x720 with 1 Axes>"
      ]
     },
     "metadata": {
      "needs_background": "light"
     },
     "output_type": "display_data"
    }
   ],
   "source": [
    "plt.figure(figsize=(14,10))\n",
    "plt.bar(dataset.app_name.unique(), dataset.app_name.value_counts())\n",
    "plt.xticks(rotation='vertical')\n",
    "plt.show()"
   ]
  },
  {
   "cell_type": "markdown",
   "id": "e66ff63d",
   "metadata": {},
   "source": [
    "#### What applications have the best Weighted Vote Score?"
   ]
  },
  {
   "cell_type": "code",
   "execution_count": 21,
   "id": "448da305",
   "metadata": {},
   "outputs": [
    {
     "name": "stdout",
     "output_type": "stream",
     "text": [
      "Application which have the top ten best weighted vote score:\n",
      "  > Human: Fall Flat\n",
      "  > The Elder Scrolls Online\n",
      "  > Monster Hunter: World\n",
      "  > The Forest\n",
      "  > Terraria\n",
      "  > Wallpaper Engine\n",
      "  > Mirror\n",
      "  > Subnautica\n",
      "  > Divinity: Original Sin 2\n",
      "  > Stardew Valley\n"
     ]
    }
   ],
   "source": [
    "top_ten_weighted_vote_score = dataset[dataset[\"weighted_vote_score\"] > 0].sort_values(by = \"weighted_vote_score\")[-10:]\n",
    "print(\"Application which have the top ten best weighted vote score:\")\n",
    "for i in top_ten_weighted_vote_score['app_name'].unique():\n",
    "    print(\"  > \" + i)"
   ]
  },
  {
   "cell_type": "markdown",
   "id": "c52c4eac",
   "metadata": {},
   "source": [
    "#### Which applications have the most and the least recommendations?"
   ]
  },
  {
   "cell_type": "code",
   "execution_count": 22,
   "id": "203a3eef",
   "metadata": {},
   "outputs": [
    {
     "data": {
      "text/html": [
       "<div>\n",
       "<style scoped>\n",
       "    .dataframe tbody tr th:only-of-type {\n",
       "        vertical-align: middle;\n",
       "    }\n",
       "\n",
       "    .dataframe tbody tr th {\n",
       "        vertical-align: top;\n",
       "    }\n",
       "\n",
       "    .dataframe thead th {\n",
       "        text-align: right;\n",
       "    }\n",
       "</style>\n",
       "<table border=\"1\" class=\"dataframe\">\n",
       "  <thead>\n",
       "    <tr style=\"text-align: right;\">\n",
       "      <th></th>\n",
       "      <th>app_name</th>\n",
       "      <th>recommended</th>\n",
       "      <th>0</th>\n",
       "    </tr>\n",
       "  </thead>\n",
       "  <tbody>\n",
       "    <tr>\n",
       "      <th>365</th>\n",
       "      <td>PLAYERUNKNOWN'S BATTLEGROUNDS</td>\n",
       "      <td>True</td>\n",
       "      <td>886417</td>\n",
       "    </tr>\n",
       "    <tr>\n",
       "      <th>237</th>\n",
       "      <td>Grand Theft Auto V</td>\n",
       "      <td>True</td>\n",
       "      <td>831311</td>\n",
       "    </tr>\n",
       "    <tr>\n",
       "      <th>547</th>\n",
       "      <td>Tom Clancy's Rainbow Six Siege</td>\n",
       "      <td>True</td>\n",
       "      <td>742397</td>\n",
       "    </tr>\n",
       "    <tr>\n",
       "      <th>497</th>\n",
       "      <td>Terraria</td>\n",
       "      <td>True</td>\n",
       "      <td>658741</td>\n",
       "    </tr>\n",
       "    <tr>\n",
       "      <th>229</th>\n",
       "      <td>Garry's Mod</td>\n",
       "      <td>True</td>\n",
       "      <td>632558</td>\n",
       "    </tr>\n",
       "    <tr>\n",
       "      <th>...</th>\n",
       "      <td>...</td>\n",
       "      <td>...</td>\n",
       "      <td>...</td>\n",
       "    </tr>\n",
       "    <tr>\n",
       "      <th>353</th>\n",
       "      <td>Out of the Park Baseball 19</td>\n",
       "      <td>True</td>\n",
       "      <td>594</td>\n",
       "    </tr>\n",
       "    <tr>\n",
       "      <th>447</th>\n",
       "      <td>Shadow Complex Remastered</td>\n",
       "      <td>True</td>\n",
       "      <td>587</td>\n",
       "    </tr>\n",
       "    <tr>\n",
       "      <th>277</th>\n",
       "      <td>Identity</td>\n",
       "      <td>True</td>\n",
       "      <td>439</td>\n",
       "    </tr>\n",
       "    <tr>\n",
       "      <th>119</th>\n",
       "      <td>DRAGON QUEST HEROES™ II</td>\n",
       "      <td>True</td>\n",
       "      <td>423</td>\n",
       "    </tr>\n",
       "    <tr>\n",
       "      <th>329</th>\n",
       "      <td>Neon Hardcorps</td>\n",
       "      <td>True</td>\n",
       "      <td>89</td>\n",
       "    </tr>\n",
       "  </tbody>\n",
       "</table>\n",
       "<p>315 rows × 3 columns</p>\n",
       "</div>"
      ],
      "text/plain": [
       "                           app_name  recommended       0\n",
       "365   PLAYERUNKNOWN'S BATTLEGROUNDS         True  886417\n",
       "237              Grand Theft Auto V         True  831311\n",
       "547  Tom Clancy's Rainbow Six Siege         True  742397\n",
       "497                        Terraria         True  658741\n",
       "229                     Garry's Mod         True  632558\n",
       "..                              ...          ...     ...\n",
       "353     Out of the Park Baseball 19         True     594\n",
       "447       Shadow Complex Remastered         True     587\n",
       "277                        Identity         True     439\n",
       "119         DRAGON QUEST HEROES™ II         True     423\n",
       "329                  Neon Hardcorps         True      89\n",
       "\n",
       "[315 rows x 3 columns]"
      ]
     },
     "execution_count": 22,
     "metadata": {},
     "output_type": "execute_result"
    }
   ],
   "source": [
    "recommended_apps = dataset.groupby([\"app_name\", \"recommended\"]).size().reset_index()\n",
    "recommended_apps = recommended_apps[recommended_apps[\"recommended\"] == True]\n",
    "recommended_apps = recommended_apps.sort_values(recommended_apps.columns[2], ascending = False)\n",
    "recommended_apps"
   ]
  },
  {
   "cell_type": "code",
   "execution_count": 23,
   "id": "466e308e",
   "metadata": {},
   "outputs": [
    {
     "name": "stdout",
     "output_type": "stream",
     "text": [
      "'PLAYERUNKNOWN'S BATTLEGROUNDS' had the most recommendations by 886417 and 'Neon Hardcorps' had the least recommendation by 89\n"
     ]
    }
   ],
   "source": [
    "print(\"'{}' had the most recommendations by {} and '{}' had the least recommendation by {}\"\n",
    "      .format(recommended_apps.iloc[0, 0], recommended_apps.iloc[0, -1], recommended_apps.iloc[-1, 0], recommended_apps.iloc[-1, -1]))"
   ]
  },
  {
   "cell_type": "markdown",
   "id": "3fd227b2",
   "metadata": {},
   "source": [
    "#### How many of these applications were purchased, and how many were given for free?"
   ]
  },
  {
   "cell_type": "code",
   "execution_count": 24,
   "id": "d1f6b85c",
   "metadata": {},
   "outputs": [
    {
     "data": {
      "text/html": [
       "<div>\n",
       "<style scoped>\n",
       "    .dataframe tbody tr th:only-of-type {\n",
       "        vertical-align: middle;\n",
       "    }\n",
       "\n",
       "    .dataframe tbody tr th {\n",
       "        vertical-align: top;\n",
       "    }\n",
       "\n",
       "    .dataframe thead th {\n",
       "        text-align: right;\n",
       "    }\n",
       "</style>\n",
       "<table border=\"1\" class=\"dataframe\">\n",
       "  <thead>\n",
       "    <tr style=\"text-align: right;\">\n",
       "      <th></th>\n",
       "      <th>app_name</th>\n",
       "      <th>steam_purchase</th>\n",
       "      <th>0</th>\n",
       "    </tr>\n",
       "  </thead>\n",
       "  <tbody>\n",
       "    <tr>\n",
       "      <th>0</th>\n",
       "      <td>20XX</td>\n",
       "      <td>False</td>\n",
       "      <td>406</td>\n",
       "    </tr>\n",
       "    <tr>\n",
       "      <th>1</th>\n",
       "      <td>20XX</td>\n",
       "      <td>True</td>\n",
       "      <td>3204</td>\n",
       "    </tr>\n",
       "    <tr>\n",
       "      <th>2</th>\n",
       "      <td>A Hat in Time</td>\n",
       "      <td>False</td>\n",
       "      <td>7717</td>\n",
       "    </tr>\n",
       "    <tr>\n",
       "      <th>3</th>\n",
       "      <td>A Hat in Time</td>\n",
       "      <td>True</td>\n",
       "      <td>27262</td>\n",
       "    </tr>\n",
       "    <tr>\n",
       "      <th>4</th>\n",
       "      <td>A Short Hike</td>\n",
       "      <td>False</td>\n",
       "      <td>1281</td>\n",
       "    </tr>\n",
       "    <tr>\n",
       "      <th>...</th>\n",
       "      <td>...</td>\n",
       "      <td>...</td>\n",
       "      <td>...</td>\n",
       "    </tr>\n",
       "    <tr>\n",
       "      <th>623</th>\n",
       "      <td>Youtubers Life</td>\n",
       "      <td>True</td>\n",
       "      <td>11437</td>\n",
       "    </tr>\n",
       "    <tr>\n",
       "      <th>624</th>\n",
       "      <td>theHunter: Call of the Wild™</td>\n",
       "      <td>False</td>\n",
       "      <td>11456</td>\n",
       "    </tr>\n",
       "    <tr>\n",
       "      <th>625</th>\n",
       "      <td>theHunter: Call of the Wild™</td>\n",
       "      <td>True</td>\n",
       "      <td>55784</td>\n",
       "    </tr>\n",
       "    <tr>\n",
       "      <th>626</th>\n",
       "      <td>三国群英传8 Heroes of the Three Kingdoms 8</td>\n",
       "      <td>False</td>\n",
       "      <td>1080</td>\n",
       "    </tr>\n",
       "    <tr>\n",
       "      <th>627</th>\n",
       "      <td>三国群英传8 Heroes of the Three Kingdoms 8</td>\n",
       "      <td>True</td>\n",
       "      <td>7031</td>\n",
       "    </tr>\n",
       "  </tbody>\n",
       "</table>\n",
       "<p>628 rows × 3 columns</p>\n",
       "</div>"
      ],
      "text/plain": [
       "                                  app_name  steam_purchase      0\n",
       "0                                     20XX           False    406\n",
       "1                                     20XX            True   3204\n",
       "2                            A Hat in Time           False   7717\n",
       "3                            A Hat in Time            True  27262\n",
       "4                             A Short Hike           False   1281\n",
       "..                                     ...             ...    ...\n",
       "623                         Youtubers Life            True  11437\n",
       "624           theHunter: Call of the Wild™           False  11456\n",
       "625           theHunter: Call of the Wild™            True  55784\n",
       "626  三国群英传8 Heroes of the Three Kingdoms 8           False   1080\n",
       "627  三国群英传8 Heroes of the Three Kingdoms 8            True   7031\n",
       "\n",
       "[628 rows x 3 columns]"
      ]
     },
     "execution_count": 24,
     "metadata": {},
     "output_type": "execute_result"
    }
   ],
   "source": [
    "purchased_apps = dataset.groupby([\"app_name\", \"steam_purchase\"]).size().reset_index()\n",
    "purchased_apps"
   ]
  },
  {
   "cell_type": "markdown",
   "id": "4fe0315b",
   "metadata": {},
   "source": [
    "## [RQ3]\n",
    "\n",
    "*Now it's important to understand the preferred time to do reviews.*\n",
    "- What is the most common time that authors review an application? For example, authors usually write a review at 17:44.\n",
    "- Create a function that receives as a parameter a list of time intervals and returns the plot the number of reviews for each of the intervals.\n",
    "- Use the function that you created in the previous literal to plot the number of reviews between the following time intervals: \n",
    "    \n",
    "| Initial time | Final time |\n",
    "| ----------- | ----------- |\n",
    "|06:00:00 | 10:59:59|\n",
    "|11:00:00 | 13:59:59|\n",
    "|14:00:00 | 16:59:59|\n",
    "|17:00:00 | 19:59:59|\n",
    "|20:00:00 | 23:59:59|\n",
    "|00:00:00 | 02:59:59|\n",
    "|03:00:00 | 05:59:59|"
   ]
  },
  {
   "cell_type": "markdown",
   "id": "221d5e4d",
   "metadata": {},
   "source": [
    "### Answer 3\n",
    "---\n"
   ]
  },
  {
   "cell_type": "markdown",
   "id": "742a7ca2",
   "metadata": {},
   "source": [
    "#### What is the most common time that authors review an application? For example, authors usually write a review at 17:44."
   ]
  },
  {
   "cell_type": "code",
   "execution_count": 25,
   "id": "8fe84b97",
   "metadata": {},
   "outputs": [
    {
     "data": {
      "text/plain": [
       "15:54:53    583\n",
       "17:56:41    393\n",
       "15:24:50    390\n",
       "17:53:12    389\n",
       "14:42:19    387\n",
       "           ... \n",
       "01:06:09    155\n",
       "05:04:27    153\n",
       "05:44:32    151\n",
       "00:00:45    150\n",
       "05:43:49    150\n",
       "Name: timestamp_created, Length: 86400, dtype: int64"
      ]
     },
     "execution_count": 25,
     "metadata": {},
     "output_type": "execute_result"
    }
   ],
   "source": [
    "dataset['timestamp_created'] = pd.to_datetime(dataset['timestamp_created'])\n",
    "t = dataset['timestamp_created'].dt.time\n",
    "# t = t.apply(lambda x: x.strftime(\"%H:%M:%S\"))\n",
    "t_count = t.value_counts()\n",
    "t_count"
   ]
  },
  {
   "cell_type": "markdown",
   "id": "61a79e8c",
   "metadata": {},
   "source": [
    "As we can see in the count of each of the unique timestamp values of the created reviews, most reviews happened at \"15:54:53\"."
   ]
  },
  {
   "cell_type": "markdown",
   "id": "4385f553",
   "metadata": {},
   "source": [
    "#### Create a function that receives as a parameter a list of time intervals and returns the plot the number of reviews for each of the intervals."
   ]
  },
  {
   "cell_type": "code",
   "execution_count": 26,
   "id": "28255496",
   "metadata": {},
   "outputs": [],
   "source": [
    "def plot_interval_num(timestamp_col, l):\n",
    "    timestamp_col = timestamp_col.dt.time\n",
    "    timestamp_col_count = timestamp_col.value_counts()\n",
    "    timestamp_col_count = timestamp_col_count.sort_index()\n",
    "    intervals = []\n",
    "    counts = []\n",
    "    for i in l:\n",
    "        start, end = i\n",
    "        intervals.append(start + \"-\" + end)\n",
    "        start = datetime.strptime(start, \"%H:%M:%S\").time()\n",
    "        end = datetime.strptime(end, \"%H:%M:%S\").time()\n",
    "        c = 0\n",
    "        for time, count in dict(timestamp_col_count).items():\n",
    "            if start <= time < end:\n",
    "                c += count\n",
    "            elif time >= end:\n",
    "                break\n",
    "        counts.append(c)\n",
    "    plt.figure()\n",
    "    plt.bar(intervals, counts)\n",
    "    plt.xticks(rotation='vertical')\n",
    "    plt.show()\n",
    "    "
   ]
  },
  {
   "cell_type": "markdown",
   "id": "a9e73775",
   "metadata": {},
   "source": [
    "#### Use the function that you created in the previous literal to plot the number of reviews between the following time intervals: \n",
    "\n",
    "| Initial time | Final time |\n",
    "| ----------- | ----------- |\n",
    "|06:00:00 | 10:59:59|\n",
    "|11:00:00 | 13:59:59|\n",
    "|14:00:00 | 16:59:59|\n",
    "|17:00:00 | 19:59:59|\n",
    "|20:00:00 | 23:59:59|\n",
    "|00:00:00 | 02:59:59|\n",
    "|03:00:00 | 05:59:59|"
   ]
  },
  {
   "cell_type": "code",
   "execution_count": 27,
   "id": "555af2a8",
   "metadata": {},
   "outputs": [
    {
     "data": {
      "image/png": "[encoded data removed]",
      "text/plain": [
       "<Figure size 1296x1296 with 1 Axes>"
      ]
     },
     "metadata": {
      "needs_background": "light"
     },
     "output_type": "display_data"
    }
   ],
   "source": [
    "l = [[\"06:00:00\",\"10:59:59\"],\n",
    "    [\"11:00:00\",\"13:59:59\"],\n",
    "    [\"14:00:00\",\"16:59:59\"],\n",
    "    [\"17:00:00\",\"19:59:59\"],\n",
    "    [\"20:00:00\",\"23:59:59\"],\n",
    "    [\"00:00:00\",\"02:59:59\"],\n",
    "    [\"03:00:00\",\"05:59:59\"]]\n",
    "\n",
    "plot_interval_num(dataset['timestamp_created'], l)"
   ]
  },
  {
   "cell_type": "markdown",
   "id": "21842356",
   "metadata": {},
   "source": [
    "## [**RQ4**] \n",
    "\n",
    "*As Steam is a worldwide platform, the reviews can be done in many languages. Let's extract some information about it.*\n",
    "- What are the top 3 languages used to review applications?\n",
    "- Create a function that receives as parameters both the name of a data set and a list of languages’ names and returns a data frame filtered only with the reviews written in the provided languages.\n",
    "- Use the function created in the previous literal to find what percentage of these reviews (associated with the top 3 languages) were voted as funny?\n",
    "- Use the function created in the literal “a” to find what percentage of these reviews (associated with the top 3 languages) were voted as helpful?"
   ]
  },
  {
   "cell_type": "markdown",
   "id": "2fa87eaa",
   "metadata": {},
   "source": [
    "### Answer 4\n",
    "---\n"
   ]
  },
  {
   "cell_type": "markdown",
   "id": "06b380f3",
   "metadata": {},
   "source": [
    "#### What are the top 3 languages used to review applications?"
   ]
  },
  {
   "cell_type": "code",
   "execution_count": 28,
   "id": "86ac2659",
   "metadata": {},
   "outputs": [
    {
     "data": {
      "text/plain": [
       "english     9635437\n",
       "schinese    3764967\n",
       "russian     2348900\n",
       "Name: language, dtype: int64"
      ]
     },
     "execution_count": 28,
     "metadata": {},
     "output_type": "execute_result"
    }
   ],
   "source": [
    "top_three_langs = dataset['language'].value_counts()[:3]\n",
    "top_three_langs"
   ]
  },
  {
   "cell_type": "markdown",
   "id": "26b941dc",
   "metadata": {},
   "source": [
    "#### Create a function that receives as parameters both the name of a data set and a list of languages’ names and returns a data frame filtered only with the reviews written in the provided languages."
   ]
  },
  {
   "cell_type": "code",
   "execution_count": 29,
   "id": "c214d2d9",
   "metadata": {},
   "outputs": [
    {
     "data": {
      "text/plain": [
       "['english', 'schinese', 'russian']"
      ]
     },
     "execution_count": 29,
     "metadata": {},
     "output_type": "execute_result"
    }
   ],
   "source": [
    "top_three_langs = list(dict(top_three_langs).keys())\n",
    "top_three_langs"
   ]
  },
  {
   "cell_type": "code",
   "execution_count": 30,
   "id": "1e256b1a",
   "metadata": {},
   "outputs": [],
   "source": [
    "def fetch_dataset_with_Lang(dataset, langList):\n",
    "    return dataset[dataset['language'].isin(langList)]"
   ]
  },
  {
   "cell_type": "markdown",
   "id": "ca91f686",
   "metadata": {},
   "source": [
    "#### Use the function created in the previous literal to find what percentage of these reviews (associated with the top 3 languages) were voted as funny?"
   ]
  },
  {
   "cell_type": "code",
   "execution_count": 31,
   "id": "2ce72278",
   "metadata": {},
   "outputs": [
    {
     "name": "stdout",
     "output_type": "stream",
     "text": [
      "5.86% of the data contain english, schinese, and russian languages which are funny\n"
     ]
    }
   ],
   "source": [
    "top_three_langs_records = fetch_dataset_with_Lang(dataset, top_three_langs)\n",
    "funny_top_three_langs_records = top_three_langs_records[top_three_langs_records['votes_funny'] == True]\n",
    "print(\"{:.2f}% of the data contain {}, {}, and {} languages which are funny\".format(len(funny_top_three_langs_records)/len(dataset)*100, top_three_langs[0], top_three_langs[1], top_three_langs[2]))"
   ]
  },
  {
   "cell_type": "markdown",
   "id": "2c646888",
   "metadata": {},
   "source": [
    "#### Use the function created in the literal “a” to find what percentage of these reviews (associated with the top 3 languages) were voted as helpful?"
   ]
  },
  {
   "cell_type": "code",
   "execution_count": 32,
   "id": "9bed08cb",
   "metadata": {},
   "outputs": [
    {
     "name": "stdout",
     "output_type": "stream",
     "text": [
      "12.26% of the data contain english, schinese, and russian languages which are helpful\n"
     ]
    }
   ],
   "source": [
    "helpful_top_three_langs_records = top_three_langs_records[top_three_langs_records['votes_helpful'] == True]\n",
    "print(\"{:.2f}% of the data contain {}, {}, and {} languages which are helpful\".format(len(helpful_top_three_langs_records)/len(dataset)*100, top_three_langs[0], top_three_langs[1], top_three_langs[2]))"
   ]
  },
  {
   "cell_type": "markdown",
   "id": "387916e1",
   "metadata": {},
   "source": [
    "## [**RQ5**] \n",
    "\n",
    "*The reviews' authors are users from the game that provide their opinion on it. Now you can check how often they make reviews.*\n",
    "- Plot the top 10 most popular reviewers and the number of reviews.\n",
    "- What applications did the most popular author review? \n",
    "- How many applications did he purchase, and how many did he get as free? Provide the number (count) and the percentage.\n",
    "- How many of the applications he purchased reviewed positively, and how many negatively? How about the applications he received for free?"
   ]
  },
  {
   "cell_type": "markdown",
   "id": "095c0b8a",
   "metadata": {},
   "source": [
    "### Answer 5\n",
    "---\n"
   ]
  },
  {
   "cell_type": "code",
   "execution_count": 33,
   "id": "4b0f6653",
   "metadata": {},
   "outputs": [
    {
     "name": "stdout",
     "output_type": "stream",
     "text": [
      "To know the most popular reviewers, we are going to use the reviews we have in the dataset, as we know for sure that they exist. We could use the votes of the reviews to do that, but probably that depends more on the popularity of the game.\n",
      "We can obtain the number of reviews that an author has:\n",
      " 76561198062813911    149\n",
      "76561198315585536    132\n",
      "76561198192166873    107\n",
      "76561198239163744    106\n",
      "76561198045381877    103\n",
      "                    ... \n",
      "76561197998621018      1\n",
      "76561198074089832      1\n",
      "76561198267023722      1\n",
      "76561198262831467      1\n",
      "76561198149535743      1\n",
      "Name: author.steamid, Length: 12406560, dtype: int64 \n",
      "\n",
      "Top 10 authors with more reviews:  [76561198062813911, 76561198315585536, 76561198192166873] \n",
      "\n",
      "Now we can easily know who is the most popular author.\n",
      "Most popular author id:  76561198062813911\n",
      "App names of the most popular author review: ['Half-Life' 'Counter-Strike: Source' 'Half-Life 2: Episode Two'\n",
      " 'Portal 2' \"Garry's Mod\" \"Sid Meier's Civilization V\" 'Dead by Daylight'\n",
      " \"Sid Meier's Civilization VI\" 'Subnautica' 'Human: Fall Flat' 'Banished'\n",
      " 'Celeste' 'Getting Over It with Bennett Foddy' 'A Hat in Time'\n",
      " 'The Forest' 'Axiom Verge' 'The Binding of Isaac: Rebirth' 'To the Moon'\n",
      " 'Cave Story+' 'Titan Souls' 'Super Meat Boy'\n",
      " \"Don't Escape: 4 Days to Survive\" 'Volgarr the Viking'\n",
      " 'Enter the Gungeon' 'Salt and Sanctuary' 'Hollow Knight'\n",
      " 'The End Is Nigh' 'Factorio' 'RimWorld' 'Insurgency: Sandstorm'\n",
      " 'Euro Truck Simulator 2' 'Foundation' 'Kenshi' 'Into the Breach'\n",
      " 'Warhammer: Vermintide 2' 'DOOM Eternal'\n",
      " 'Age of Empires: Definitive Edition' 'Void Bastards' 'Stardew Valley'\n",
      " 'Among Us' 'Blackwake' 'Little Nightmares' 'Bomber Crew' 'Rust'\n",
      " 'HITMAN™ 2' 'Phasmophobia' 'Mount & Blade: Warband' 'Resident Evil 2'\n",
      " 'Slime Rancher' 'Hotline Miami' 'Tomb Raider' 'BattleBlock Theater'\n",
      " 'Dishonored' 'South Park™: The Stick of Truth™' 'Undertale'\n",
      " \"Don't Starve\" 'Rocket League' 'Dead Cells' 'Broforce'\n",
      " 'The Wolf Among Us' 'The Walking Dead' 'One Finger Death Punch'\n",
      " 'Oxygen Not Included' 'Cuphead' 'ULTRAKILL' 'Castle Crashers'\n",
      " 'Townscaper' 'Papers, Please' 'GRIS' 'DUSK' 'Outlast'\n",
      " 'FTL: Faster Than Light' 'Dying Light' 'American Truck Simulator'\n",
      " 'Saints Row: The Third' 'STAR WARS™ Empire at War: Gold Pack'\n",
      " 'Age of Empires II (2013)' 'Super Hexagon' 'BioShock Infinite' 'DOOM'\n",
      " 'Black Mesa' 'Finding Paradise' 'Keep Talking and Nobody Explodes'\n",
      " 'Duck Game' 'Mark of the Ninja' 'Phoenix Wright: Ace Attorney Trilogy'\n",
      " 'Gunpoint' \"PLAYERUNKNOWN'S BATTLEGROUNDS\" 'Monster Hunter: World'\n",
      " 'The Elder Scrolls Online' 'Total War: WARHAMMER II' 'Cities: Skylines'\n",
      " 'Stellaris' 'Black Desert Online' 'Kingdom Come: Deliverance'\n",
      " 'Jurassic World Evolution' 'ARK: Survival Evolved' \"No Man's Sky\"\n",
      " 'Frostpunk' 'Fallout 4' 'DARK SOULS™ III' 'Rise of the Tomb Raider'\n",
      " 'Middle-earth™: Shadow of War™' 'Hearts of Iron IV' 'They Are Billions'\n",
      " 'Total War Saga: Thrones of Britannia'\n",
      " 'Total War: ROME II - Emperor Edition' 'Terraria' 'PAYDAY 2' 'XCOM 2'\n",
      " 'Deep Rock Galactic' 'Hunt: Showdown' 'Conan Exiles' 'Two Point Hospital'\n",
      " 'Total War: WARHAMMER' 'The Elder Scrolls V: Skyrim Special Edition'\n",
      " 'NieR:Automata™' 'House Flipper' 'Surviving Mars'\n",
      " 'Ni no Kuni™ II: Revenant Kingdom' 'Railway Empire' 'Rise of Industry'\n",
      " 'Devil May Cry HD Collection' 'Heroes of Hammerwatch' 'Ghost of a Tale'\n",
      " 'Ancestors Legacy' 'FAR: Lone Sails' 'Totally Accurate Battlegrounds'\n",
      " 'Vampyr' 'Yakuza 0' 'Thief Simulator' 'Darksiders III'\n",
      " 'Mutant Year Zero: Road to Eden' 'Just Cause 4' 'Planet Coaster'\n",
      " 'Nioh: Complete Edition' 'Europa Universalis IV' 'Just Cause 3'\n",
      " 'Resident Evil 7 Biohazard' 'Urban Empire' 'Youtubers Life'\n",
      " 'Night in the Woods' 'Northgard' 'Sniper Elite 4' 'Hollow Knight'\n",
      " 'Day of Infamy' 'SimAirport' 'Dead Rising 4' 'Styx: Shards of Darkness']\n",
      "The most popular author has purchased 110 apps ( 73.8255033557047 %)\n",
      "The most popular author has got for free  4 apps ( 2.684563758389262 %)\n",
      "\n",
      "\n",
      "The most popular author reviewed positively  108 and negatively  2 of the games he purchased.\n",
      "The most popular author reviewed positively  4 and negatively  0 of the games he got for free.\n"
     ]
    }
   ],
   "source": [
    "\n",
    "authorCounts = dataset['author.steamid'].value_counts()\n",
    "print(\"To know the most popular reviewers, we are going to use the reviews we have in the dataset, as we know for sure that they exist. We could use the votes of the reviews to do that, but probably that depends more on the popularity of the game.\")\n",
    "print(\"We can obtain the number of reviews that an author has:\\n\", authorCounts, \"\\n\")\n",
    "print(\"Top 10 authors with more reviews: \", authorCounts[:3].index.tolist(), \"\\n\")\n",
    "\n",
    "mostPopularAuthor = authorCounts[:1].index.tolist()[0]\n",
    "print(\"Now we can easily know who is the most popular author.\")\n",
    "print(\"Most popular author id: \" , mostPopularAuthor)\n",
    "#rslt_df = dataframe[dataframe['Percentage'] > 80]\n",
    "\n",
    "appMPARows = dataset[dataset['author.steamid'] == mostPopularAuthor]\n",
    "print(\"App names of the most popular author review:\", appMPARows['app_name'].values)\n",
    "print(\"The most popular author has purchased\", appMPARows['steam_purchase'].sum(), \"apps (\",  appMPARows['steam_purchase'].sum()*100/len(appMPARows), \"%)\")\n",
    "print(\"The most popular author has got for free \", appMPARows['received_for_free'].sum(), \"apps (\",  appMPARows['received_for_free'].sum()*100/len(appMPARows), \"%)\\n\\n\")\n",
    "\n",
    "\n",
    "\n",
    "appMPApurchased = appMPARows[appMPARows['steam_purchase'] == True]\n",
    "appPurchasedReviewedPositively = appMPApurchased[appMPApurchased['recommended'] == 1]\n",
    "\n",
    "appPurchasedReviewedNegatively = appMPApurchased[appMPApurchased['recommended'] == 0]\n",
    "\n",
    "\n",
    "appMPAfree = appMPARows[appMPARows['received_for_free'] == True]\n",
    "appFreeReviewedPositively = appMPAfree[appMPAfree['recommended'] == 1]\n",
    "\n",
    "appFreeReviewedNegatively = appMPAfree[appMPAfree['recommended'] == 0]\n",
    "\n",
    "\n",
    "print(\"The most popular author reviewed positively \", len(appPurchasedReviewedPositively), \"and negatively \", len(appPurchasedReviewedNegatively), 'of the games he purchased.')\n",
    "print(\"The most popular author reviewed positively \", len(appFreeReviewedPositively), \"and negatively \", len(appFreeReviewedNegatively), 'of the games he got for free.')"
   ]
  },
  {
   "cell_type": "markdown",
   "id": "5171573d",
   "metadata": {},
   "source": [
    "## [**RQ6**]\n",
    "\n",
    "*It's time to get information from the updates that a user does to his reviews.*\n",
    "- What is the average time (days and minutes) a user lets pass before he updates a review?\n",
    "- Plot the top 3 authors that usually update their reviews."
   ]
  },
  {
   "cell_type": "markdown",
   "id": "dd17a19e",
   "metadata": {},
   "source": [
    "### Answer 6\n",
    "---\n"
   ]
  },
  {
   "cell_type": "code",
   "execution_count": 35,
   "id": "d67175b0",
   "metadata": {},
   "outputs": [
    {
     "name": "stdout",
     "output_type": "stream",
     "text": [
      "The average time a user lets pass before he updates a review is : 36 days 03:33:10.465412482 \n",
      " That's because we are not counting all the reviews that has 0 time passed because the 'timestamp_updated' and the 'timestamp_created' are the same.\n",
      "But if we only count the reviews that has been updated, the average is:  321 days 00:46:24.845186976\n"
     ]
    },
    {
     "ename": "KeyboardInterrupt",
     "evalue": "",
     "output_type": "error",
     "traceback": [
      "\u001b[1;31m---------------------------------------------------------------------------\u001b[0m",
      "\u001b[1;31mKeyboardInterrupt\u001b[0m                         Traceback (most recent call last)",
      "\u001b[1;32m<ipython-input-35-682b17c84df3>\u001b[0m in \u001b[0;36m<module>\u001b[1;34m\u001b[0m\n\u001b[0;32m     15\u001b[0m \u001b[1;33m\u001b[0m\u001b[0m\n\u001b[0;32m     16\u001b[0m \u001b[1;32mfor\u001b[0m \u001b[0mname\u001b[0m\u001b[1;33m,\u001b[0m \u001b[0mgroup\u001b[0m \u001b[1;32min\u001b[0m \u001b[0mdatasetAuthorGroup\u001b[0m\u001b[1;33m:\u001b[0m\u001b[1;33m\u001b[0m\u001b[1;33m\u001b[0m\u001b[0m\n\u001b[1;32m---> 17\u001b[1;33m     \u001b[0mgroup\u001b[0m\u001b[1;33m[\u001b[0m\u001b[1;34m'updated'\u001b[0m\u001b[1;33m]\u001b[0m \u001b[1;33m=\u001b[0m \u001b[0mnp\u001b[0m\u001b[1;33m.\u001b[0m\u001b[0mwhere\u001b[0m\u001b[1;33m(\u001b[0m\u001b[0mgroup\u001b[0m\u001b[1;33m[\u001b[0m\u001b[1;34m'timestamp_updated'\u001b[0m\u001b[1;33m]\u001b[0m \u001b[1;33m!=\u001b[0m \u001b[0mgroup\u001b[0m\u001b[1;33m[\u001b[0m\u001b[1;34m'timestamp_created'\u001b[0m\u001b[1;33m]\u001b[0m\u001b[1;33m,\u001b[0m \u001b[1;32mTrue\u001b[0m\u001b[1;33m,\u001b[0m \u001b[1;32mFalse\u001b[0m\u001b[1;33m)\u001b[0m\u001b[1;33m\u001b[0m\u001b[1;33m\u001b[0m\u001b[0m\n\u001b[0m\u001b[0;32m     18\u001b[0m     \u001b[0mnUpdated\u001b[0m \u001b[1;33m=\u001b[0m \u001b[0mgroup\u001b[0m\u001b[1;33m[\u001b[0m\u001b[1;34m'updated'\u001b[0m\u001b[1;33m]\u001b[0m\u001b[1;33m.\u001b[0m\u001b[0msum\u001b[0m\u001b[1;33m(\u001b[0m\u001b[1;33m)\u001b[0m\u001b[1;33m\u001b[0m\u001b[1;33m\u001b[0m\u001b[0m\n\u001b[0;32m     19\u001b[0m     \u001b[0mnUpdates\u001b[0m\u001b[1;33m[\u001b[0m\u001b[0mname\u001b[0m\u001b[1;33m]\u001b[0m \u001b[1;33m=\u001b[0m \u001b[0mnUpdated\u001b[0m\u001b[1;33m\u001b[0m\u001b[1;33m\u001b[0m\u001b[0m\n",
      "\u001b[1;32m~\\anaconda3\\lib\\site-packages\\pandas\\core\\frame.py\u001b[0m in \u001b[0;36m__getitem__\u001b[1;34m(self, key)\u001b[0m\n\u001b[0;32m   2994\u001b[0m                 \u001b[1;32mif\u001b[0m \u001b[0misinstance\u001b[0m\u001b[1;33m(\u001b[0m\u001b[0mself\u001b[0m\u001b[1;33m.\u001b[0m\u001b[0mcolumns\u001b[0m\u001b[1;33m,\u001b[0m \u001b[0mMultiIndex\u001b[0m\u001b[1;33m)\u001b[0m\u001b[1;33m:\u001b[0m\u001b[1;33m\u001b[0m\u001b[1;33m\u001b[0m\u001b[0m\n\u001b[0;32m   2995\u001b[0m                     \u001b[1;32mreturn\u001b[0m \u001b[0mself\u001b[0m\u001b[1;33m.\u001b[0m\u001b[0m_getitem_multilevel\u001b[0m\u001b[1;33m(\u001b[0m\u001b[0mkey\u001b[0m\u001b[1;33m)\u001b[0m\u001b[1;33m\u001b[0m\u001b[1;33m\u001b[0m\u001b[0m\n\u001b[1;32m-> 2996\u001b[1;33m                 \u001b[1;32mreturn\u001b[0m \u001b[0mself\u001b[0m\u001b[1;33m.\u001b[0m\u001b[0m_get_item_cache\u001b[0m\u001b[1;33m(\u001b[0m\u001b[0mkey\u001b[0m\u001b[1;33m)\u001b[0m\u001b[1;33m\u001b[0m\u001b[1;33m\u001b[0m\u001b[0m\n\u001b[0m\u001b[0;32m   2997\u001b[0m \u001b[1;33m\u001b[0m\u001b[0m\n\u001b[0;32m   2998\u001b[0m         \u001b[1;31m# Do we have a slicer (on rows)?\u001b[0m\u001b[1;33m\u001b[0m\u001b[1;33m\u001b[0m\u001b[1;33m\u001b[0m\u001b[0m\n",
      "\u001b[1;32m~\\anaconda3\\lib\\site-packages\\pandas\\core\\generic.py\u001b[0m in \u001b[0;36m_get_item_cache\u001b[1;34m(self, item)\u001b[0m\n\u001b[0;32m   3791\u001b[0m \u001b[1;33m\u001b[0m\u001b[0m\n\u001b[0;32m   3792\u001b[0m             \u001b[0mloc\u001b[0m \u001b[1;33m=\u001b[0m \u001b[0mself\u001b[0m\u001b[1;33m.\u001b[0m\u001b[0mcolumns\u001b[0m\u001b[1;33m.\u001b[0m\u001b[0mget_loc\u001b[0m\u001b[1;33m(\u001b[0m\u001b[0mitem\u001b[0m\u001b[1;33m)\u001b[0m\u001b[1;33m\u001b[0m\u001b[1;33m\u001b[0m\u001b[0m\n\u001b[1;32m-> 3793\u001b[1;33m             \u001b[0mvalues\u001b[0m \u001b[1;33m=\u001b[0m \u001b[0mself\u001b[0m\u001b[1;33m.\u001b[0m\u001b[0m_mgr\u001b[0m\u001b[1;33m.\u001b[0m\u001b[0miget\u001b[0m\u001b[1;33m(\u001b[0m\u001b[0mloc\u001b[0m\u001b[1;33m)\u001b[0m\u001b[1;33m\u001b[0m\u001b[1;33m\u001b[0m\u001b[0m\n\u001b[0m\u001b[0;32m   3794\u001b[0m             \u001b[0mres\u001b[0m \u001b[1;33m=\u001b[0m \u001b[0mself\u001b[0m\u001b[1;33m.\u001b[0m\u001b[0m_box_col_values\u001b[0m\u001b[1;33m(\u001b[0m\u001b[0mvalues\u001b[0m\u001b[1;33m,\u001b[0m \u001b[0mloc\u001b[0m\u001b[1;33m)\u001b[0m\u001b[1;33m.\u001b[0m\u001b[0m__finalize__\u001b[0m\u001b[1;33m(\u001b[0m\u001b[0mself\u001b[0m\u001b[1;33m)\u001b[0m\u001b[1;33m\u001b[0m\u001b[1;33m\u001b[0m\u001b[0m\n\u001b[0;32m   3795\u001b[0m \u001b[1;33m\u001b[0m\u001b[0m\n",
      "\u001b[1;32m~\\anaconda3\\lib\\site-packages\\pandas\\core\\internals\\managers.py\u001b[0m in \u001b[0;36miget\u001b[1;34m(self, i)\u001b[0m\n\u001b[0;32m   1000\u001b[0m         \u001b[0mReturn\u001b[0m \u001b[0mthe\u001b[0m \u001b[0mdata\u001b[0m \u001b[1;32mas\u001b[0m \u001b[0ma\u001b[0m \u001b[0mSingleBlockManager\u001b[0m\u001b[1;33m.\u001b[0m\u001b[1;33m\u001b[0m\u001b[1;33m\u001b[0m\u001b[0m\n\u001b[0;32m   1001\u001b[0m         \"\"\"\n\u001b[1;32m-> 1002\u001b[1;33m         \u001b[0mblock\u001b[0m \u001b[1;33m=\u001b[0m \u001b[0mself\u001b[0m\u001b[1;33m.\u001b[0m\u001b[0mblocks\u001b[0m\u001b[1;33m[\u001b[0m\u001b[0mself\u001b[0m\u001b[1;33m.\u001b[0m\u001b[0mblknos\u001b[0m\u001b[1;33m[\u001b[0m\u001b[0mi\u001b[0m\u001b[1;33m]\u001b[0m\u001b[1;33m]\u001b[0m\u001b[1;33m\u001b[0m\u001b[1;33m\u001b[0m\u001b[0m\n\u001b[0m\u001b[0;32m   1003\u001b[0m         \u001b[0mvalues\u001b[0m \u001b[1;33m=\u001b[0m \u001b[0mblock\u001b[0m\u001b[1;33m.\u001b[0m\u001b[0miget\u001b[0m\u001b[1;33m(\u001b[0m\u001b[0mself\u001b[0m\u001b[1;33m.\u001b[0m\u001b[0mblklocs\u001b[0m\u001b[1;33m[\u001b[0m\u001b[0mi\u001b[0m\u001b[1;33m]\u001b[0m\u001b[1;33m)\u001b[0m\u001b[1;33m\u001b[0m\u001b[1;33m\u001b[0m\u001b[0m\n\u001b[0;32m   1004\u001b[0m \u001b[1;33m\u001b[0m\u001b[0m\n",
      "\u001b[1;32m~\\anaconda3\\lib\\site-packages\\pandas\\core\\internals\\managers.py\u001b[0m in \u001b[0;36mblknos\u001b[1;34m(self)\u001b[0m\n\u001b[0;32m    167\u001b[0m         \u001b[1;32mif\u001b[0m \u001b[0mself\u001b[0m\u001b[1;33m.\u001b[0m\u001b[0m_blknos\u001b[0m \u001b[1;32mis\u001b[0m \u001b[1;32mNone\u001b[0m\u001b[1;33m:\u001b[0m\u001b[1;33m\u001b[0m\u001b[1;33m\u001b[0m\u001b[0m\n\u001b[0;32m    168\u001b[0m             \u001b[1;31m# Note: these can be altered by other BlockManager methods.\u001b[0m\u001b[1;33m\u001b[0m\u001b[1;33m\u001b[0m\u001b[1;33m\u001b[0m\u001b[0m\n\u001b[1;32m--> 169\u001b[1;33m             \u001b[0mself\u001b[0m\u001b[1;33m.\u001b[0m\u001b[0m_rebuild_blknos_and_blklocs\u001b[0m\u001b[1;33m(\u001b[0m\u001b[1;33m)\u001b[0m\u001b[1;33m\u001b[0m\u001b[1;33m\u001b[0m\u001b[0m\n\u001b[0m\u001b[0;32m    170\u001b[0m \u001b[1;33m\u001b[0m\u001b[0m\n\u001b[0;32m    171\u001b[0m         \u001b[1;32mreturn\u001b[0m \u001b[0mself\u001b[0m\u001b[1;33m.\u001b[0m\u001b[0m_blknos\u001b[0m\u001b[1;33m\u001b[0m\u001b[1;33m\u001b[0m\u001b[0m\n",
      "\u001b[1;32m~\\anaconda3\\lib\\site-packages\\pandas\\core\\internals\\managers.py\u001b[0m in \u001b[0;36m_rebuild_blknos_and_blklocs\u001b[1;34m(self)\u001b[0m\n\u001b[0;32m    242\u001b[0m             \u001b[0mrl\u001b[0m \u001b[1;33m=\u001b[0m \u001b[0mblk\u001b[0m\u001b[1;33m.\u001b[0m\u001b[0mmgr_locs\u001b[0m\u001b[1;33m\u001b[0m\u001b[1;33m\u001b[0m\u001b[0m\n\u001b[0;32m    243\u001b[0m             \u001b[0mnew_blknos\u001b[0m\u001b[1;33m[\u001b[0m\u001b[0mrl\u001b[0m\u001b[1;33m.\u001b[0m\u001b[0mindexer\u001b[0m\u001b[1;33m]\u001b[0m \u001b[1;33m=\u001b[0m \u001b[0mblkno\u001b[0m\u001b[1;33m\u001b[0m\u001b[1;33m\u001b[0m\u001b[0m\n\u001b[1;32m--> 244\u001b[1;33m             \u001b[0mnew_blklocs\u001b[0m\u001b[1;33m[\u001b[0m\u001b[0mrl\u001b[0m\u001b[1;33m.\u001b[0m\u001b[0mindexer\u001b[0m\u001b[1;33m]\u001b[0m \u001b[1;33m=\u001b[0m \u001b[0mnp\u001b[0m\u001b[1;33m.\u001b[0m\u001b[0marange\u001b[0m\u001b[1;33m(\u001b[0m\u001b[0mlen\u001b[0m\u001b[1;33m(\u001b[0m\u001b[0mrl\u001b[0m\u001b[1;33m)\u001b[0m\u001b[1;33m)\u001b[0m\u001b[1;33m\u001b[0m\u001b[1;33m\u001b[0m\u001b[0m\n\u001b[0m\u001b[0;32m    245\u001b[0m \u001b[1;33m\u001b[0m\u001b[0m\n\u001b[0;32m    246\u001b[0m         \u001b[1;32mif\u001b[0m \u001b[1;33m(\u001b[0m\u001b[0mnew_blknos\u001b[0m \u001b[1;33m==\u001b[0m \u001b[1;33m-\u001b[0m\u001b[1;36m1\u001b[0m\u001b[1;33m)\u001b[0m\u001b[1;33m.\u001b[0m\u001b[0many\u001b[0m\u001b[1;33m(\u001b[0m\u001b[1;33m)\u001b[0m\u001b[1;33m:\u001b[0m\u001b[1;33m\u001b[0m\u001b[1;33m\u001b[0m\u001b[0m\n",
      "\u001b[1;31mKeyboardInterrupt\u001b[0m: "
     ]
    }
   ],
   "source": [
    "updateTime = dataset['timestamp_updated'] - dataset['timestamp_created']\n",
    "\n",
    "print(\"The average time a user lets pass before he updates a review is :\",updateTime.mean(), \"\\n That's because we are not counting all the reviews that has 0 time passed because the 'timestamp_updated' and the 'timestamp_created' are the same.\")\n",
    "\n",
    "updateTimeEditedRows = dataset[dataset['timestamp_updated'] != dataset['timestamp_created']]\n",
    "updateTimeNOTEditedRows = dataset[dataset['timestamp_updated'] == dataset['timestamp_created']]\n",
    "updateTimeEdited = updateTimeEditedRows['timestamp_updated'] - updateTimeEditedRows['timestamp_created']\n",
    "print(\"But if we only count the reviews that has been updated, the average is: \", updateTimeEdited.mean())\n",
    "\n",
    "\n",
    "datasetAuthorGroup = dataset.groupby(\"author.steamid\")\n",
    "\n",
    "nUpdates = {}\n",
    "nUpdatesRate = {}\n",
    "\n",
    "for name, group in datasetAuthorGroup:\n",
    "    group['updated'] = np.where(group['timestamp_updated'] != group['timestamp_created'], True, False)\n",
    "    nUpdated = group['updated'].sum()\n",
    "    nUpdates[name] = nUpdated\n",
    "    nUpdatesRate[name] = nUpdated * 100 / len(group)\n"
   ]
  },
  {
   "cell_type": "code",
   "execution_count": 36,
   "id": "bd03376d",
   "metadata": {},
   "outputs": [
    {
     "name": "stdout",
     "output_type": "stream",
     "text": [
      "The 3 authors id that have updated more reviews are:\n",
      "76561197997059777 With  59 updated reviews.\n",
      "76561197999935168 With  58 updated reviews.\n",
      "76561197993023804 With  54 updated reviews.\n",
      "\n",
      "\n",
      "The 3 authors id that have a higher update percentage are:\n",
      "76561197960265908 With  100.0 % updates in its reviews.\n",
      "76561197960266179 With  100.0 % updates in its reviews.\n",
      "76561197960267120 With  100.0 % updates in its reviews.\n",
      "\n",
      "As we can see, it's common that an author has a 100% update in its review ( 54493 Authors). That's because many authors only have one review, and get a 100% it's not really strange when you have few reviews.\n"
     ]
    }
   ],
   "source": [
    "sortednUpdates = sorted(nUpdates, key=nUpdates.get, reverse=True)\n",
    "sortednUpdatesRate = sorted(nUpdatesRate, key=nUpdatesRate.get, reverse=True)\n",
    "\n",
    "print(\"The 3 authors id that have updated more reviews are:\")\n",
    "print(sortednUpdates[0], 'With ', nUpdates[sortednUpdates[0]], 'updated reviews.')\n",
    "print(sortednUpdates[1], 'With ', nUpdates[sortednUpdates[1]], 'updated reviews.')\n",
    "print(sortednUpdates[2], 'With ', nUpdates[sortednUpdates[2]], 'updated reviews.\\n\\n')\n",
    "\n",
    "print(\"The 3 authors id that have a higher update percentage are:\")\n",
    "print(sortednUpdatesRate[0], 'With ', nUpdatesRate[sortednUpdatesRate[0]], '% updates in its reviews.')\n",
    "print(sortednUpdatesRate[1], 'With ', nUpdatesRate[sortednUpdatesRate[1]], '% updates in its reviews.')\n",
    "print(sortednUpdatesRate[2], 'With ', nUpdatesRate[sortednUpdatesRate[2]], '% updates in its reviews.\\n')\n",
    "\n",
    "print(\"As we can see, it's common that an author has a 100% update in its review (\", len(list(filter(lambda x: x == 100.0, list(nUpdatesRate.values())))),\"Authors). That's because many authors only have one review, and get a 100% it's not really strange when you have few reviews.\")"
   ]
  },
  {
   "cell_type": "markdown",
   "id": "008e0a73",
   "metadata": {},
   "source": [
    "## [**RQ7**] \n",
    "\n",
    "*Of course, calculating probabilities is a job that any Data Scientist must know. Let's compute Some interesting figures.*\n",
    "- What’s the probability that a review has a Weighted Vote Score equal to or bigger than 0.5?\n",
    "- What’s the probability that a review has at least one vote as funny given that the Weighted Vote Score is bigger than 0.5?\n",
    "- Is the probability that “a review has at least one vote as funny” independent of the “probability that a review has a Weighted Vote Score equal or bigger than 0.5”?"
   ]
  },
  {
   "cell_type": "markdown",
   "id": "c9c3e119",
   "metadata": {},
   "source": [
    "### Answer 7\n",
    "---\n"
   ]
  },
  {
   "cell_type": "code",
   "execution_count": 37,
   "id": "7c3ef230",
   "metadata": {},
   "outputs": [
    {
     "name": "stdout",
     "output_type": "stream",
     "text": [
      "The probability that a review has a Weighted Vote Score equal to or bigger than 0.5 is 21.998484322541792 %\n",
      "For knowing it, we can count how many of them are over 0.5 and divide it by the amount of reviews.\n",
      "The probability that a review has at least one vote as funny given that the Weighted Vote Score is bigger than 0.5 is 0.4578882182283087 %\n",
      "If the conditional probability of two events is equal to the probability that these 2 events happen, they are independent\n",
      "The probability of 'review has at least one vote as funny given that the Weighted Vote Score is bigger than 0.5' is 5.480736039312522 %. And the probabilities of 'a review has at least one vote as funny' and 'probability that a review has a Weighted Vote Score equal or bigger than 0.5' are 11.96959393390585 % and 21.998484322541792 %. So the probability of these two events happening is the multiplication of the 2 probabilities:  2.6331292450221917 %\n",
      "The 2 variables are DEPENDENT\n"
     ]
    }
   ],
   "source": [
    "probWeightScore = len(dataset[dataset['weighted_vote_score'] >= 0.5])*100/len(dataset)\n",
    "print(\"The probability that a review has a Weighted Vote Score equal to or bigger than 0.5 is\" , probWeightScore, '%')\n",
    "print(\"For knowing it, we can count how many of them are over 0.5 and divide it by the amount of reviews.\")\n",
    "\n",
    "probVoteAsFunny = len(dataset[dataset['votes_funny'] > 0])*100/len(dataset)\n",
    "probVoteAsFunnyAndWeight = len(dataset[(dataset['votes_funny'] > 0) & (dataset['weighted_vote_score'] >= 0.5)])*100/len(dataset)\n",
    "print(\"The probability that a review has at least one vote as funny given that the Weighted Vote Score is bigger than 0.5 is\", probVoteAsFunnyAndWeight/probVoteAsFunny, \"%\")\n",
    "\n",
    "aux = probVoteAsFunnyAndWeight/100\n",
    "aux2 = (probVoteAsFunny/100)*(probWeightScore/100)\n",
    "print(\"If the conditional probability of two events is equal to the probability that these 2 events happen, they are independent\")\n",
    "print(\"The probability of 'review has at least one vote as funny given that the Weighted Vote Score is bigger than 0.5' is\", probVoteAsFunnyAndWeight, \"%. And the probabilities of 'a review has at least one vote as funny' and 'probability that a review has a Weighted Vote Score equal or bigger than 0.5' are\", probVoteAsFunny, '% and', probWeightScore, '%. So the probability of these two events happening is the multiplication of the 2 probabilities: ', aux2*100, '%')\n",
    "if(aux == aux2):\n",
    "    print(\"The 2 variables are INDEPENDENT\")\n",
    "else:\n",
    "    print(\"The 2 variables are DEPENDENT\")\n",
    "\n"
   ]
  },
  {
   "cell_type": "markdown",
   "id": "3276f158",
   "metadata": {},
   "source": [
    "## [**RQ8**] \n",
    "\n",
    "*Every decision you take in a data-based environment should be reinforced with charts, statistical tests and analysis methods to check if a hypothesis is correct or not.*\n",
    "- Is there a significant difference in the Weighted Vote Score of reviews made in Chinese vs the ones made in Russian? Use an appropriate statistical test or technique and support your choice.\n",
    "- Can you find any significant relationship between the time that a user lets pass before he updates the review and the Weighted Vote Score?  Use an appropriate statistical test or technique and support your choice.\n",
    "- Is there any change in the relationship of the variables mentioned in the previous literal if you include whether an application is recommended or not in the review?  Use an appropriate statistical test or technique and support your choice.\n",
    "- What are histograms, bar plots, scatterplots and pie charts used for?\n",
    "- What insights can you extract from a Box Plot?"
   ]
  },
  {
   "cell_type": "markdown",
   "id": "5c5da745",
   "metadata": {},
   "source": [
    "### Answer 8\n",
    "---\n"
   ]
  },
  {
   "cell_type": "markdown",
   "id": "e2085f90",
   "metadata": {},
   "source": [
    "#### Is there a significant difference in the Weighted Vote Score of reviews made in Chinese vs the ones made in Russian? Use an appropriate statistical test or technique and support your choice."
   ]
  },
  {
   "cell_type": "code",
   "execution_count": 38,
   "id": "1cb63899",
   "metadata": {},
   "outputs": [
    {
     "data": {
      "text/plain": [
       "Ttest_indResult(statistic=103.25727519235977, pvalue=0.0)"
      ]
     },
     "execution_count": 38,
     "metadata": {},
     "output_type": "execute_result"
    }
   ],
   "source": [
    "chinese = dataset[dataset['language'] == 'schinese']\n",
    "russian = dataset[dataset['language'] == 'russian']\n",
    "chi_wvs = list(chinese[chinese['weighted_vote_score'] != 0]['weighted_vote_score'])\n",
    "rus_wvs = list(russian[russian['weighted_vote_score'] != 0]['weighted_vote_score'])\n",
    "\n",
    "ttest_ind(chi_wvs, rus_wvs)"
   ]
  },
  {
   "cell_type": "code",
   "execution_count": 39,
   "id": "d684e1c2",
   "metadata": {},
   "outputs": [
    {
     "data": {
      "text/plain": [
       "F_onewayResult(statistic=10662.064880150765, pvalue=0.0)"
      ]
     },
     "execution_count": 39,
     "metadata": {},
     "output_type": "execute_result"
    }
   ],
   "source": [
    "f_oneway(chi_wvs, rus_wvs)"
   ]
  },
  {
   "cell_type": "markdown",
   "id": "5b46f180",
   "metadata": {},
   "source": [
    "Since p < 0.05 in t-test and one-way anova, the weighted vote scores for both groups of russian and chinese language are statistically significan and it rejects the null hypothesis which indicates that weighted vote scores for each group is a result of chance."
   ]
  },
  {
   "cell_type": "markdown",
   "id": "a945a5e5",
   "metadata": {},
   "source": [
    "#### Can you find any significant relationship between the time that a user lets pass before he updates the review and the Weighted Vote Score? Use an appropriate statistical test or technique and support your choice."
   ]
  },
  {
   "cell_type": "code",
   "execution_count": 40,
   "id": "e664b0c6",
   "metadata": {},
   "outputs": [
    {
     "data": {
      "text/plain": [
       "F_onewayResult(statistic=1305197.2472254417, pvalue=0.0)"
      ]
     },
     "execution_count": 40,
     "metadata": {},
     "output_type": "execute_result"
    }
   ],
   "source": [
    "time_diff = dataset['timestamp_updated'] - dataset['timestamp_created']\n",
    "time_diff = time_diff.dt.total_seconds()\n",
    "time_diff_non_zero = time_diff[time_diff != 0]\n",
    "idx = time_diff_non_zero.index\n",
    "wvs = dataset['weighted_vote_score']\n",
    "f_oneway(time_diff_non_zero, wvs.iloc[idx])"
   ]
  },
  {
   "cell_type": "markdown",
   "id": "f89f4b90",
   "metadata": {},
   "source": [
    "Relationship between the difference of the time that the review was updated and the time that it was created with weighted_vote_score is statistically significant"
   ]
  },
  {
   "cell_type": "markdown",
   "id": "9eedd6df",
   "metadata": {},
   "source": [
    "#### Is there any change in the relationship of the variables mentioned in the previous literal if you include whether an application is recommended or not in the review? Use an appropriate statistical test or technique and support your choice."
   ]
  },
  {
   "cell_type": "code",
   "execution_count": 41,
   "id": "e521603c",
   "metadata": {},
   "outputs": [
    {
     "name": "stderr",
     "output_type": "stream",
     "text": [
      "<ipython-input-41-a9be909b12e2>:1: UserWarning: Boolean Series key will be reindexed to match DataFrame index.\n",
      "  d = dataset.iloc[idx][dataset['recommended'] == False]\n"
     ]
    },
    {
     "data": {
      "text/plain": [
       "Ttest_indResult(statistic=497.83220679412284, pvalue=0.0)"
      ]
     },
     "execution_count": 41,
     "metadata": {},
     "output_type": "execute_result"
    }
   ],
   "source": [
    "d = dataset.iloc[idx][dataset['recommended'] == False]\n",
    "ttest_ind(time_diff.iloc[d.index], wvs.iloc[d.index])"
   ]
  },
  {
   "cell_type": "markdown",
   "id": "73b1fd0e",
   "metadata": {},
   "source": [
    "Relationship between the difference of the time that the review was updated and the time that it was created with weighted_vote_score when the review recommends the applicatino is statistically significant"
   ]
  },
  {
   "cell_type": "markdown",
   "id": "9d1bcfd2",
   "metadata": {},
   "source": [
    "#### What are histograms, bar plots, scatterplots and pie charts used for?"
   ]
  },
  {
   "cell_type": "markdown",
   "id": "98c3fe87",
   "metadata": {},
   "source": [
    "- Histograms are used to show the distribution of values in a column\n",
    "- Pie charts are used to show the percentage of the quantity of each category within a single column\n",
    "- Bar plots are used to show the quantity of each category or value within a single column\n",
    "- Scatter plots are used for showing the relationship between two columns"
   ]
  },
  {
   "cell_type": "markdown",
   "id": "230eea27",
   "metadata": {},
   "source": [
    "#### What insights can you extract from a Box Plot?"
   ]
  },
  {
   "cell_type": "markdown",
   "id": "438c6e86",
   "metadata": {},
   "source": [
    "- In box plots we can see the median, 1st and 3d quartile, standard deviation, and the outliers"
   ]
  },
  {
   "cell_type": "markdown",
   "id": "3dee11ae",
   "metadata": {},
   "source": [
    "### TQ1\n",
    "We are given the following algorithm.\n",
    "```\n",
    "Input: \n",
    "    A: array of length n\n",
    "    k: integers between 1 and n\n",
    "    \n",
    "function alg(A, k):\n",
    "  s <-- a random element of A\n",
    "  set L = [all the elements of A with value <= s]\n",
    "  set R = [all the elements of A with value > s]\n",
    "  r = len(L)\n",
    "  if k == r:\n",
    "    return s\n",
    "  else if k < r:  \n",
    "    return alg(L, k)\n",
    "  else:\n",
    "    return alg(R, k - r)\n",
    "```\n",
    "1. What does the algorithm compute?\n",
    "2. What is asymptotically (i.e., we are asking for big-O complexity) the running time of the algorithm in the worst case, as a function of n?\n",
    "3. What is asymptotically the running time of the algorithm in the best case?"
   ]
  },
  {
   "cell_type": "markdown",
   "id": "cd3f7202",
   "metadata": {},
   "source": [
    "# Answer"
   ]
  },
  {
   "cell_type": "markdown",
   "id": "53db9f81",
   "metadata": {},
   "source": [
    "1.\tThe algorithm finds the K-th smallest value. By using a randomized algorithm, a random value ‘s’ will be picked from the array. Subsequently, this random element will be checked if it is the k-th smallest value by checking the length of the array containing elements smaller than the ‘s’.\n",
    "Each time, the array gets separated by ‘s’ and smaller values are picked in L and bigger values are picked in R. Therefore, by using recursion, a tree will be made. So, at each recurrence, the smaller list will be checked for the k-th smallest value and if it finds it by checking the length of the L, the algorithm will print that it found the k-th value which is the random number picked, other wise it will keep the recursion. \n",
    "\n",
    "2.\tIn the worst case the random element picked from the array will be the smallest or largest element in the array by which each iteration in the tree will have n-1 elements of the previous array.\n",
    "\n",
    "1 $ \\rightarrow $ T(n)= T(n-1) + c       \n",
    "\n",
    "2 $ \\rightarrow $ T(n)= T(n-2) + c + c = T(n-2) + 2c \n",
    "\n",
    "3 $ \\rightarrow $  T(n)= T(n-3) + 3c \n",
    ".<br>\n",
    ".<br>\n",
    ".<br>\n",
    "i $ \\rightarrow $  T(n) = T(n-i)+i \\\n",
    "    n-i=1 $ \\rightarrow $ i= n-1  \n",
    " \n",
    " T(n) $ \\epsilon $ C(n-1) $ \\epsilon $ O(n) \n",
    " \n",
    " \n",
    "\n",
    "3.\tIn the best case the random element picked from the array will be the middle element of the array, which in turn, separates the array into two arrays of equal size.\n",
    "\n",
    "1 $ \\rightarrow $  T(n)= T ($\\frac{n}{2}$) + c \n",
    "\n",
    "2 $ \\rightarrow $ $\\;\\;\\;\\; $   = (T ($\\frac{n}{2^2}$) + c) + c =T ($\\frac{n}{2^2}$) + 2c \n",
    "\n",
    "3 $ \\rightarrow $  $\\;\\;\\;\\; $   = (T ($\\frac{n}{2^3}$) + c) + 2c = (T ($\\frac{n}{2^3}$) + 3c \n",
    "\n",
    ".<br>\n",
    ".<br>\n",
    ".<br>\n",
    "\n",
    "i $ \\rightarrow $       = T ($\\frac{n}{2^i}$) + ic \n",
    "\n",
    "$\\frac{n}{2^i}$ = 1  ,   i = $log(n)$ \n",
    "\n",
    "T(1) + c $log(n)$  $ \\epsilon $ o ($log(n)$)\n",
    "              \n",
    "                   \n",
    "             "
   ]
  },
  {
   "cell_type": "markdown",
   "id": "6d3dd0d2",
   "metadata": {},
   "source": [
    "1. The algorithm computes\n",
    "2. The time complexity of the algorithm is \n",
    "3. The best case time complexity is"
   ]
  },
  {
   "cell_type": "markdown",
   "id": "c4334ba0",
   "metadata": {},
   "source": [
    "\n",
    "### TQ2\n",
    "You are given the recursive function *splitSwap*, which accepts an array *a*, an index *i*, and a length *n*.\n",
    "```\n",
    "function splitSwap(a, l, n):\n",
    "  if n <= 1:\n",
    "    return\n",
    "  splitSwap(a, l, n/2)\n",
    "  splitSwap(a, l+ n /2, n/2)\n",
    "  swapList(a, l, n)\n",
    "```\n",
    "The subroutine swapList is described here:\n",
    "```\n",
    "function swapList(a, l, n):\n",
    "  for i = 0 to n/2:\n",
    "    tmp = a[l + i]\n",
    "    a[l + i] = a[l + n/2 + i]\n",
    "    a[l + n/2 + i] = tmp\n",
    "```\n",
    "1. How much running time does it take to execute *splitSwap(a, 0, n)*? (We want a Big O analysis.)\n",
    "2. What does this algorithm do? Is it optimal? Describe the mechanism of the algorithm in details, we do not want to know only its final result.\n",
    "\n",
    "**HINT:** Consider the scenario where len(a) and n are numbers that are a power of 2.\n"
   ]
  },
  {
   "cell_type": "markdown",
   "id": "2b2e2c6c",
   "metadata": {},
   "source": [
    "Answer\n",
    "-----"
   ]
  },
  {
   "cell_type": "markdown",
   "id": "9fc12f27",
   "metadata": {},
   "source": [
    "1. time complexity of swap list is \n",
    "\n",
    "  T(n)= T ($\\frac{n}{2}$) + c   $ \\epsilon $ O(n) \n",
    "  \n",
    "  time complexity of split swap \n",
    "  \n",
    "1 $ \\rightarrow $  T(n)= 2T ($\\frac{n}{2}$) + O(n) \n",
    "\n",
    "2 $ \\rightarrow $      = 2(2T ($\\frac{n}{2^2}$) + O(n)) + O(n) = $2^2$T ($\\frac{n}{2^2}$)+ 2O(n) \n",
    "\n",
    "3 $ \\rightarrow $       =$2^3$T ($\\frac{n}{2^3}$)+ 3O(n) \n",
    "\n",
    ".<br>\n",
    ".<br>\n",
    ".<br> \n",
    "\n",
    "i $ \\rightarrow $  =$2^i$T ($\\frac{n}{2^i}$)+ iO(n) \n",
    "($\\frac{n}{2^i}$) =1 $ \\rightarrow $ i =$log(n)$ \n",
    "       \n",
    "= $2^{log}$ T (1) + n $log(n)$\n",
    "       \n",
    "= n + O(n) $log(n)$ $ \\epsilon $ O (n $log(n)$)\n",
    "  \n",
    "2.\tThis algorithm shuffles the elements of a list using Divide and Conquer algorithm. At each recurrence a Tree will be made where the list gets divided into two sub-lists by index “l” in which the sub-lists will get divided as well. At the end, when the tree traverses such that the length of the last sub-list is equal to 1, the sub-lists will be swapped from the middle and merged to create the parent list. This merge happens until all the sub-lists and their parents are swapped from the index “l”.\n"
   ]
  },
  {
   "cell_type": "markdown",
   "id": "1ffe0c91",
   "metadata": {},
   "source": [
    "### TQ3\n",
    "In the knapsack problem we are given n objects and each object *i* has a weight *w_i* and a value *v_i*. We are also given a weight budget *W*.\n",
    "The problem is to select a set of objects with total weight bounded by *W* that maximized the sum of their values.\n",
    "The following are three natural heuristics:\n",
    "   - Order them in increasing order of weight and then visit them sequentially, adding them to the solution as long as the budget is not exceeded\n",
    "   - Order them in decreasing order of values, and then visit them sequentially, adding them to the solution if the budget is not exceeded\n",
    "   - Order them in decreasing relative value *(v_i / w_i)*, and then visit them sequentially, adding them to the solution if the budget is not exceeded\n",
    "\n",
    "For each of the heuristics, provide a counterexample, that is, an example of a problem instance in which the heuristic fails to provide the optimal solution."
   ]
  },
  {
   "cell_type": "markdown",
   "id": "003c4e22",
   "metadata": {},
   "source": [
    "Answer\n",
    "-----"
   ]
  },
  {
   "cell_type": "markdown",
   "id": "015f71a7",
   "metadata": {},
   "source": [
    "1.   First heuristic\n",
    "If the higher value object has the higher weight, the heuristic will fail in case that the sum of all weights exceeds the budget, and the sum of all the previous values it's smaller than the higher value.\n",
    "\n",
    "W = 15\n",
    "w_i = [1,5,15]\n",
    "v_i = [2,1,50]\n",
    "\n",
    "The optimal solution is to take object 3, because the value would be 50. But the heuristic will take the objects 1 and 2 first, and 3 won't fit, so the total value would be 3.\n",
    "\n",
    "2.   Second heuristic\n",
    "\n",
    "If the sum of many small weight objects is higher than the value of the heavy ones, the heuristic will fail. For example:\n",
    "\n",
    "W = 15\n",
    "w_i = [11,5,5]\n",
    "v_i = [20,15,15]\n",
    "\n",
    "The heuristic will take object 1 first and the knapsack will be full, so the total value would be 20. But the optimal solution would be to take the object 2 and 3, so that the weight will be lower and the total value higher (30).\n",
    "\n",
    "3.    Third heuristic\n",
    "\n",
    "As this heuristic uses the relation of v_i divided of w_i. Can happen that the object with higher v_i/w_i relation fills the knapsack, despite the fact that the other ones together might be better.\n",
    "\n",
    "W = 20\n",
    "w_i = [15, 10, 10]\n",
    "v_i = [17, 10, 10]\n",
    "\n",
    "In this case, the distance between the value and weight of the first object is bigger, so the relation v_i/w_i will be bigger than 1. The other 2 objects will have a v_i/w_i of exactly 1. So the heuristic will take object one and the total value will be 17, and the second object will not fit. But the optimal solution would be to take object 2 and 3, so that the total value would be 20.\n"
   ]
  }
 ],
 "metadata": {
  "kernelspec": {
   "display_name": "Python 3",
   "language": "python",
   "name": "python3"
  },
  "language_info": {
   "codemirror_mode": {
    "name": "ipython",
    "version": 3
   },
   "file_extension": ".py",
   "mimetype": "text/x-python",
   "name": "python",
   "nbconvert_exporter": "python",
   "pygments_lexer": "ipython3",
   "version": "3.8.8"
  }
 },
 "nbformat": 4,
 "nbformat_minor": 5
}
