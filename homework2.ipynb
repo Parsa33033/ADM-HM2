{
 "cells": [
  {
   "cell_type": "markdown",
   "id": "69a929e8",
   "metadata": {},
   "source": [
    "# Homework 2\n",
    "Parsa Heidary Moghadam,\n",
    "Daniel Losada,\n",
    "Vahid Ghanbari Zadeh,"
   ]
  },
  {
   "cell_type": "code",
   "execution_count": 1,
   "id": "1649fb24",
   "metadata": {},
   "outputs": [],
   "source": [
    "# dependencies\n",
    "import pandas as pd\n",
    "import numpy as np"
   ]
  },
  {
   "cell_type": "markdown",
   "id": "960fe154",
   "metadata": {},
   "source": [
    "## [RQ1]\n",
    "\n",
    "After collecting information, the Data Scientists have to know what dataset they are dealing with, so let's start with an Exploratory Data Analysis (EDA). What can you say about our dataset? Please summarize its main characteristics with visual and tabular methods."
   ]
  },
  {
   "cell_type": "markdown",
   "id": "5944f80d",
   "metadata": {},
   "source": [
    "### Answer1\n",
    "---\n"
   ]
  },
  {
   "cell_type": "code",
   "execution_count": null,
   "id": "5403c017",
   "metadata": {},
   "outputs": [],
   "source": []
  },
  {
   "cell_type": "markdown",
   "id": "aa670a48",
   "metadata": {},
   "source": [
    "##  [RQ2] \n",
    "\n",
    " Let's explore the dataset by finding simple insights into the reviews.\n",
    "\n",
    "    Plot the number of reviews for each application in descending order.\n",
    "    What applications have the best Weighted Vote Score?\n",
    "    Which applications have the most and the least recommendations?\n",
    "    How many of these applications were purchased, and how many were given for free?\n",
    "\n"
   ]
  },
  {
   "cell_type": "markdown",
   "id": "4bc37fcf",
   "metadata": {},
   "source": [
    "### Answer1\n",
    "---\n"
   ]
  },
  {
   "cell_type": "code",
   "execution_count": null,
   "id": "822c0240",
   "metadata": {},
   "outputs": [],
   "source": []
  },
  {
   "cell_type": "markdown",
   "id": "fbc5d788",
   "metadata": {},
   "source": [
    "## [RQ3]\n",
    "\n",
    "*Now it's important to understand the preferred time to do reviews.*\n",
    "    - What is the most common time that authors review an application? For example, authors usually write a review at 17:44.\n",
    "    - Create a function that receives as a parameter a list of time intervals and returns the plot the number of reviews for each of the intervals.\n",
    "    - Use the function that you created in the previous literal to plot the number of reviews between the following time intervals: \n",
    "    \n",
    "| Initial time | Final time |\n",
    "| ----------- | ----------- |\n",
    "|06:00:00 | 10:59:59|\n",
    "|11:00:00 | 13:59:59|\n",
    "|14:00:00 | 16:59:59|\n",
    "|17:00:00 | 19:59:59|\n",
    "|20:00:00 | 23:59:59|\n",
    "|00:00:00 | 02:59:59|\n",
    "|03:00:00 | 05:59:59|"
   ]
  },
  {
   "cell_type": "code",
   "execution_count": null,
   "id": "36ec4179",
   "metadata": {},
   "outputs": [],
   "source": []
  }
 ],
 "metadata": {
  "kernelspec": {
   "display_name": "Python 3",
   "language": "python",
   "name": "python3"
  },
  "language_info": {
   "codemirror_mode": {
    "name": "ipython",
    "version": 3
   },
   "file_extension": ".py",
   "mimetype": "text/x-python",
   "name": "python",
   "nbconvert_exporter": "python",
   "pygments_lexer": "ipython3",
   "version": "3.8.8"
  }
 },
 "nbformat": 4,
 "nbformat_minor": 5
}
