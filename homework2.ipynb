{
 "cells": [
  {
   "cell_type": "markdown",
   "id": "0e21683f",
   "metadata": {},
   "source": [
    "# Homework 2\n",
    "Parsa Heidary Moghadam,\n",
    "Daniel Losada,\n",
    "Vahid Ghanbari Zadeh,\n",
    "\n",
    "- steam_reviews.csv should be in the same folder of homework2.ipynb file\n",
    "- https://github.com/lucamaiano/ADM/blob/master/2021/Homework_2/README.md"
   ]
  },
  {
   "cell_type": "code",
   "execution_count": 3,
   "id": "8945c23a",
   "metadata": {},
   "outputs": [],
   "source": [
    "# dependencies\n",
    "import pandas as pd\n",
    "import numpy as np\n",
    "import matplotlib.pyplot as plt\n",
    "import seaborn as sns\n",
    "from datetime import datetime\n",
    "from scipy.stats import ttest_ind, f_oneway"
   ]
  },
  {
   "cell_type": "markdown",
   "id": "0716eeed",
   "metadata": {},
   "source": [
    "## [RQ1]\n",
    "\n",
    "After collecting information, the Data Scientists have to know what dataset they are dealing with, so let's start with an Exploratory Data Analysis (EDA). What can you say about our dataset? Please summarize its main characteristics with visual and tabular methods."
   ]
  },
  {
   "cell_type": "markdown",
   "id": "9f6d835e",
   "metadata": {},
   "source": [
    "### Answer1\n",
    "---\n"
   ]
  },
  {
   "cell_type": "markdown",
   "id": "a0c449e8",
   "metadata": {},
   "source": [
    "For the first step we are trying to understand the data. Therefore, we will fetch columns and some rows of the data and fetch some information from them such as their shape and ..."
   ]
  },
  {
   "cell_type": "code",
   "execution_count": 4,
   "id": "88f4ec99",
   "metadata": {},
   "outputs": [
    {
     "data": {
      "text/html": [
       "<div>\n",
       "<style scoped>\n",
       "    .dataframe tbody tr th:only-of-type {\n",
       "        vertical-align: middle;\n",
       "    }\n",
       "\n",
       "    .dataframe tbody tr th {\n",
       "        vertical-align: top;\n",
       "    }\n",
       "\n",
       "    .dataframe thead th {\n",
       "        text-align: right;\n",
       "    }\n",
       "</style>\n",
       "<table border=\"1\" class=\"dataframe\">\n",
       "  <thead>\n",
       "    <tr style=\"text-align: right;\">\n",
       "      <th></th>\n",
       "      <th>Unnamed: 0</th>\n",
       "      <th>app_id</th>\n",
       "      <th>app_name</th>\n",
       "      <th>review_id</th>\n",
       "      <th>language</th>\n",
       "      <th>review</th>\n",
       "      <th>timestamp_created</th>\n",
       "      <th>timestamp_updated</th>\n",
       "      <th>recommended</th>\n",
       "      <th>votes_helpful</th>\n",
       "      <th>...</th>\n",
       "      <th>steam_purchase</th>\n",
       "      <th>received_for_free</th>\n",
       "      <th>written_during_early_access</th>\n",
       "      <th>author.steamid</th>\n",
       "      <th>author.num_games_owned</th>\n",
       "      <th>author.num_reviews</th>\n",
       "      <th>author.playtime_forever</th>\n",
       "      <th>author.playtime_last_two_weeks</th>\n",
       "      <th>author.playtime_at_review</th>\n",
       "      <th>author.last_played</th>\n",
       "    </tr>\n",
       "  </thead>\n",
       "  <tbody>\n",
       "    <tr>\n",
       "      <th>0</th>\n",
       "      <td>0</td>\n",
       "      <td>292030</td>\n",
       "      <td>The Witcher 3: Wild Hunt</td>\n",
       "      <td>85185598</td>\n",
       "      <td>schinese</td>\n",
       "      <td>不玩此生遗憾，RPG游戏里的天花板，太吸引人了</td>\n",
       "      <td>2021-01-23 06:00:29</td>\n",
       "      <td>2021-01-23 06:00:29</td>\n",
       "      <td>True</td>\n",
       "      <td>0</td>\n",
       "      <td>...</td>\n",
       "      <td>True</td>\n",
       "      <td>False</td>\n",
       "      <td>False</td>\n",
       "      <td>76561199095369542</td>\n",
       "      <td>6</td>\n",
       "      <td>2</td>\n",
       "      <td>1909.0</td>\n",
       "      <td>1448.0</td>\n",
       "      <td>1909.0</td>\n",
       "      <td>2021-01-22 19:23:03</td>\n",
       "    </tr>\n",
       "    <tr>\n",
       "      <th>1</th>\n",
       "      <td>1</td>\n",
       "      <td>292030</td>\n",
       "      <td>The Witcher 3: Wild Hunt</td>\n",
       "      <td>85185250</td>\n",
       "      <td>schinese</td>\n",
       "      <td>拔DIAO无情打桩机--杰洛特!!!</td>\n",
       "      <td>2021-01-23 05:50:30</td>\n",
       "      <td>2021-01-23 05:50:30</td>\n",
       "      <td>True</td>\n",
       "      <td>0</td>\n",
       "      <td>...</td>\n",
       "      <td>True</td>\n",
       "      <td>False</td>\n",
       "      <td>False</td>\n",
       "      <td>76561198949504115</td>\n",
       "      <td>30</td>\n",
       "      <td>10</td>\n",
       "      <td>2764.0</td>\n",
       "      <td>2743.0</td>\n",
       "      <td>2674.0</td>\n",
       "      <td>2021-01-23 07:18:27</td>\n",
       "    </tr>\n",
       "    <tr>\n",
       "      <th>2</th>\n",
       "      <td>2</td>\n",
       "      <td>292030</td>\n",
       "      <td>The Witcher 3: Wild Hunt</td>\n",
       "      <td>85185111</td>\n",
       "      <td>schinese</td>\n",
       "      <td>巫师3NB</td>\n",
       "      <td>2021-01-23 05:46:40</td>\n",
       "      <td>2021-01-23 05:46:40</td>\n",
       "      <td>True</td>\n",
       "      <td>0</td>\n",
       "      <td>...</td>\n",
       "      <td>True</td>\n",
       "      <td>False</td>\n",
       "      <td>False</td>\n",
       "      <td>76561199090098988</td>\n",
       "      <td>5</td>\n",
       "      <td>1</td>\n",
       "      <td>1061.0</td>\n",
       "      <td>1061.0</td>\n",
       "      <td>1060.0</td>\n",
       "      <td>2021-01-23 06:36:17</td>\n",
       "    </tr>\n",
       "    <tr>\n",
       "      <th>3</th>\n",
       "      <td>3</td>\n",
       "      <td>292030</td>\n",
       "      <td>The Witcher 3: Wild Hunt</td>\n",
       "      <td>85184605</td>\n",
       "      <td>english</td>\n",
       "      <td>One of the best RPG's of all time, worthy of a...</td>\n",
       "      <td>2021-01-23 05:32:50</td>\n",
       "      <td>2021-01-23 05:32:50</td>\n",
       "      <td>True</td>\n",
       "      <td>0</td>\n",
       "      <td>...</td>\n",
       "      <td>True</td>\n",
       "      <td>False</td>\n",
       "      <td>False</td>\n",
       "      <td>76561199054755373</td>\n",
       "      <td>5</td>\n",
       "      <td>3</td>\n",
       "      <td>5587.0</td>\n",
       "      <td>3200.0</td>\n",
       "      <td>5524.0</td>\n",
       "      <td>2021-01-23 06:35:44</td>\n",
       "    </tr>\n",
       "    <tr>\n",
       "      <th>4</th>\n",
       "      <td>4</td>\n",
       "      <td>292030</td>\n",
       "      <td>The Witcher 3: Wild Hunt</td>\n",
       "      <td>85184287</td>\n",
       "      <td>schinese</td>\n",
       "      <td>大作</td>\n",
       "      <td>2021-01-23 05:23:47</td>\n",
       "      <td>2021-01-23 05:23:47</td>\n",
       "      <td>True</td>\n",
       "      <td>0</td>\n",
       "      <td>...</td>\n",
       "      <td>True</td>\n",
       "      <td>False</td>\n",
       "      <td>False</td>\n",
       "      <td>76561199028326951</td>\n",
       "      <td>7</td>\n",
       "      <td>4</td>\n",
       "      <td>217.0</td>\n",
       "      <td>42.0</td>\n",
       "      <td>217.0</td>\n",
       "      <td>2021-01-16 09:10:49</td>\n",
       "    </tr>\n",
       "  </tbody>\n",
       "</table>\n",
       "<p>5 rows × 23 columns</p>\n",
       "</div>"
      ],
      "text/plain": [
       "   Unnamed: 0  app_id                  app_name  review_id  language  \\\n",
       "0           0  292030  The Witcher 3: Wild Hunt   85185598  schinese   \n",
       "1           1  292030  The Witcher 3: Wild Hunt   85185250  schinese   \n",
       "2           2  292030  The Witcher 3: Wild Hunt   85185111  schinese   \n",
       "3           3  292030  The Witcher 3: Wild Hunt   85184605   english   \n",
       "4           4  292030  The Witcher 3: Wild Hunt   85184287  schinese   \n",
       "\n",
       "                                              review   timestamp_created  \\\n",
       "0                            不玩此生遗憾，RPG游戏里的天花板，太吸引人了 2021-01-23 06:00:29   \n",
       "1                                 拔DIAO无情打桩机--杰洛特!!! 2021-01-23 05:50:30   \n",
       "2                                              巫师3NB 2021-01-23 05:46:40   \n",
       "3  One of the best RPG's of all time, worthy of a... 2021-01-23 05:32:50   \n",
       "4                                                 大作 2021-01-23 05:23:47   \n",
       "\n",
       "    timestamp_updated  recommended  votes_helpful  ...  steam_purchase  \\\n",
       "0 2021-01-23 06:00:29         True              0  ...            True   \n",
       "1 2021-01-23 05:50:30         True              0  ...            True   \n",
       "2 2021-01-23 05:46:40         True              0  ...            True   \n",
       "3 2021-01-23 05:32:50         True              0  ...            True   \n",
       "4 2021-01-23 05:23:47         True              0  ...            True   \n",
       "\n",
       "   received_for_free  written_during_early_access     author.steamid  \\\n",
       "0              False                        False  76561199095369542   \n",
       "1              False                        False  76561198949504115   \n",
       "2              False                        False  76561199090098988   \n",
       "3              False                        False  76561199054755373   \n",
       "4              False                        False  76561199028326951   \n",
       "\n",
       "   author.num_games_owned  author.num_reviews  author.playtime_forever  \\\n",
       "0                       6                   2                   1909.0   \n",
       "1                      30                  10                   2764.0   \n",
       "2                       5                   1                   1061.0   \n",
       "3                       5                   3                   5587.0   \n",
       "4                       7                   4                    217.0   \n",
       "\n",
       "   author.playtime_last_two_weeks  author.playtime_at_review  \\\n",
       "0                          1448.0                     1909.0   \n",
       "1                          2743.0                     2674.0   \n",
       "2                          1061.0                     1060.0   \n",
       "3                          3200.0                     5524.0   \n",
       "4                            42.0                      217.0   \n",
       "\n",
       "   author.last_played  \n",
       "0 2021-01-22 19:23:03  \n",
       "1 2021-01-23 07:18:27  \n",
       "2 2021-01-23 06:36:17  \n",
       "3 2021-01-23 06:35:44  \n",
       "4 2021-01-16 09:10:49  \n",
       "\n",
       "[5 rows x 23 columns]"
      ]
     },
     "execution_count": 4,
     "metadata": {},
     "output_type": "execute_result"
    }
   ],
   "source": [
    "def dateparse(time_in_secs):\n",
    "    return pd.to_datetime(time_in_secs, unit='s')\n",
    "\n",
    "dataset = pd.read_csv('./steam_reviews.csv',\n",
    "                      header='infer',\n",
    "                      nrows=2000000,\n",
    "                      parse_dates=['timestamp_created','timestamp_updated', 'author.last_played'],\n",
    "                      date_parser=dateparse)\n",
    "dataset.head()"
   ]
  },
  {
   "cell_type": "code",
   "execution_count": 5,
   "id": "f32d3988",
   "metadata": {},
   "outputs": [
    {
     "data": {
      "text/html": [
       "<div>\n",
       "<style scoped>\n",
       "    .dataframe tbody tr th:only-of-type {\n",
       "        vertical-align: middle;\n",
       "    }\n",
       "\n",
       "    .dataframe tbody tr th {\n",
       "        vertical-align: top;\n",
       "    }\n",
       "\n",
       "    .dataframe thead th {\n",
       "        text-align: right;\n",
       "    }\n",
       "</style>\n",
       "<table border=\"1\" class=\"dataframe\">\n",
       "  <thead>\n",
       "    <tr style=\"text-align: right;\">\n",
       "      <th></th>\n",
       "      <th>Unnamed: 0</th>\n",
       "      <th>app_id</th>\n",
       "      <th>app_name</th>\n",
       "      <th>review_id</th>\n",
       "      <th>language</th>\n",
       "      <th>review</th>\n",
       "      <th>timestamp_created</th>\n",
       "      <th>timestamp_updated</th>\n",
       "      <th>recommended</th>\n",
       "      <th>votes_helpful</th>\n",
       "      <th>...</th>\n",
       "      <th>steam_purchase</th>\n",
       "      <th>received_for_free</th>\n",
       "      <th>written_during_early_access</th>\n",
       "      <th>author.steamid</th>\n",
       "      <th>author.num_games_owned</th>\n",
       "      <th>author.num_reviews</th>\n",
       "      <th>author.playtime_forever</th>\n",
       "      <th>author.playtime_last_two_weeks</th>\n",
       "      <th>author.playtime_at_review</th>\n",
       "      <th>author.last_played</th>\n",
       "    </tr>\n",
       "  </thead>\n",
       "  <tbody>\n",
       "    <tr>\n",
       "      <th>1999995</th>\n",
       "      <td>1999996</td>\n",
       "      <td>381210</td>\n",
       "      <td>Dead by Daylight</td>\n",
       "      <td>46559668</td>\n",
       "      <td>russian</td>\n",
       "      <td>Dead by daylight это когда:\\n1)Обе стороны ною...</td>\n",
       "      <td>2018-11-23 11:30:49</td>\n",
       "      <td>2018-11-23 11:30:49</td>\n",
       "      <td>True</td>\n",
       "      <td>2</td>\n",
       "      <td>...</td>\n",
       "      <td>True</td>\n",
       "      <td>False</td>\n",
       "      <td>False</td>\n",
       "      <td>76561198354639547</td>\n",
       "      <td>29</td>\n",
       "      <td>1</td>\n",
       "      <td>43119.0</td>\n",
       "      <td>0.0</td>\n",
       "      <td>31005.0</td>\n",
       "      <td>2020-09-09 15:49:25</td>\n",
       "    </tr>\n",
       "    <tr>\n",
       "      <th>1999996</th>\n",
       "      <td>1999997</td>\n",
       "      <td>381210</td>\n",
       "      <td>Dead by Daylight</td>\n",
       "      <td>46559372</td>\n",
       "      <td>japanese</td>\n",
       "      <td>非対称対戦です\\n楽しいです\\nだんだんと上手になっていくのは楽しいです\\nでもやはり人との...</td>\n",
       "      <td>2018-11-23 11:29:06</td>\n",
       "      <td>2018-11-23 11:29:06</td>\n",
       "      <td>True</td>\n",
       "      <td>0</td>\n",
       "      <td>...</td>\n",
       "      <td>False</td>\n",
       "      <td>False</td>\n",
       "      <td>False</td>\n",
       "      <td>76561198015995067</td>\n",
       "      <td>120</td>\n",
       "      <td>1</td>\n",
       "      <td>81176.0</td>\n",
       "      <td>0.0</td>\n",
       "      <td>45680.0</td>\n",
       "      <td>2020-12-29 03:25:25</td>\n",
       "    </tr>\n",
       "    <tr>\n",
       "      <th>1999997</th>\n",
       "      <td>1999998</td>\n",
       "      <td>381210</td>\n",
       "      <td>Dead by Daylight</td>\n",
       "      <td>46559194</td>\n",
       "      <td>russian</td>\n",
       "      <td>Найс игра.</td>\n",
       "      <td>2018-11-23 11:27:55</td>\n",
       "      <td>2018-11-23 11:27:55</td>\n",
       "      <td>True</td>\n",
       "      <td>1</td>\n",
       "      <td>...</td>\n",
       "      <td>True</td>\n",
       "      <td>False</td>\n",
       "      <td>False</td>\n",
       "      <td>76561198451140399</td>\n",
       "      <td>38</td>\n",
       "      <td>3</td>\n",
       "      <td>10037.0</td>\n",
       "      <td>0.0</td>\n",
       "      <td>4746.0</td>\n",
       "      <td>2020-04-06 16:34:06</td>\n",
       "    </tr>\n",
       "    <tr>\n",
       "      <th>1999998</th>\n",
       "      <td>1999999</td>\n",
       "      <td>381210</td>\n",
       "      <td>Dead by Daylight</td>\n",
       "      <td>46559119</td>\n",
       "      <td>thai</td>\n",
       "      <td>เป็นเกมที่สุดยอดที่สุดเเล้วครับ</td>\n",
       "      <td>2018-11-23 11:27:23</td>\n",
       "      <td>2019-11-27 11:52:51</td>\n",
       "      <td>True</td>\n",
       "      <td>0</td>\n",
       "      <td>...</td>\n",
       "      <td>True</td>\n",
       "      <td>False</td>\n",
       "      <td>False</td>\n",
       "      <td>76561198085660348</td>\n",
       "      <td>117</td>\n",
       "      <td>4</td>\n",
       "      <td>38910.0</td>\n",
       "      <td>79.0</td>\n",
       "      <td>34692.0</td>\n",
       "      <td>2021-01-12 17:20:45</td>\n",
       "    </tr>\n",
       "    <tr>\n",
       "      <th>1999999</th>\n",
       "      <td>2000000</td>\n",
       "      <td>381210</td>\n",
       "      <td>Dead by Daylight</td>\n",
       "      <td>46559035</td>\n",
       "      <td>brazilian</td>\n",
       "      <td>amo muito &lt;3</td>\n",
       "      <td>2018-11-23 11:26:46</td>\n",
       "      <td>2018-11-23 11:26:46</td>\n",
       "      <td>True</td>\n",
       "      <td>1</td>\n",
       "      <td>...</td>\n",
       "      <td>True</td>\n",
       "      <td>False</td>\n",
       "      <td>False</td>\n",
       "      <td>76561198192456735</td>\n",
       "      <td>251</td>\n",
       "      <td>16</td>\n",
       "      <td>2055.0</td>\n",
       "      <td>0.0</td>\n",
       "      <td>1594.0</td>\n",
       "      <td>2020-09-13 01:35:56</td>\n",
       "    </tr>\n",
       "  </tbody>\n",
       "</table>\n",
       "<p>5 rows × 23 columns</p>\n",
       "</div>"
      ],
      "text/plain": [
       "         Unnamed: 0  app_id          app_name  review_id   language  \\\n",
       "1999995     1999996  381210  Dead by Daylight   46559668    russian   \n",
       "1999996     1999997  381210  Dead by Daylight   46559372   japanese   \n",
       "1999997     1999998  381210  Dead by Daylight   46559194    russian   \n",
       "1999998     1999999  381210  Dead by Daylight   46559119       thai   \n",
       "1999999     2000000  381210  Dead by Daylight   46559035  brazilian   \n",
       "\n",
       "                                                    review  \\\n",
       "1999995  Dead by daylight это когда:\\n1)Обе стороны ною...   \n",
       "1999996  非対称対戦です\\n楽しいです\\nだんだんと上手になっていくのは楽しいです\\nでもやはり人との...   \n",
       "1999997                                         Найс игра.   \n",
       "1999998                    เป็นเกมที่สุดยอดที่สุดเเล้วครับ   \n",
       "1999999                                       amo muito <3   \n",
       "\n",
       "          timestamp_created   timestamp_updated  recommended  votes_helpful  \\\n",
       "1999995 2018-11-23 11:30:49 2018-11-23 11:30:49         True              2   \n",
       "1999996 2018-11-23 11:29:06 2018-11-23 11:29:06         True              0   \n",
       "1999997 2018-11-23 11:27:55 2018-11-23 11:27:55         True              1   \n",
       "1999998 2018-11-23 11:27:23 2019-11-27 11:52:51         True              0   \n",
       "1999999 2018-11-23 11:26:46 2018-11-23 11:26:46         True              1   \n",
       "\n",
       "         ...  steam_purchase  received_for_free  written_during_early_access  \\\n",
       "1999995  ...            True              False                        False   \n",
       "1999996  ...           False              False                        False   \n",
       "1999997  ...            True              False                        False   \n",
       "1999998  ...            True              False                        False   \n",
       "1999999  ...            True              False                        False   \n",
       "\n",
       "            author.steamid  author.num_games_owned  author.num_reviews  \\\n",
       "1999995  76561198354639547                      29                   1   \n",
       "1999996  76561198015995067                     120                   1   \n",
       "1999997  76561198451140399                      38                   3   \n",
       "1999998  76561198085660348                     117                   4   \n",
       "1999999  76561198192456735                     251                  16   \n",
       "\n",
       "         author.playtime_forever  author.playtime_last_two_weeks  \\\n",
       "1999995                  43119.0                             0.0   \n",
       "1999996                  81176.0                             0.0   \n",
       "1999997                  10037.0                             0.0   \n",
       "1999998                  38910.0                            79.0   \n",
       "1999999                   2055.0                             0.0   \n",
       "\n",
       "         author.playtime_at_review  author.last_played  \n",
       "1999995                    31005.0 2020-09-09 15:49:25  \n",
       "1999996                    45680.0 2020-12-29 03:25:25  \n",
       "1999997                     4746.0 2020-04-06 16:34:06  \n",
       "1999998                    34692.0 2021-01-12 17:20:45  \n",
       "1999999                     1594.0 2020-09-13 01:35:56  \n",
       "\n",
       "[5 rows x 23 columns]"
      ]
     },
     "execution_count": 5,
     "metadata": {},
     "output_type": "execute_result"
    }
   ],
   "source": [
    "dataset.tail()"
   ]
  },
  {
   "cell_type": "code",
   "execution_count": 6,
   "id": "96376848",
   "metadata": {},
   "outputs": [
    {
     "name": "stdout",
     "output_type": "stream",
     "text": [
      "There are 2000000 user reviews -- each review contains 23 columns of information\n"
     ]
    }
   ],
   "source": [
    "rows, cols = dataset.shape\n",
    "print(\"There are {0} user reviews -- each review contains {1} columns of information\".format(rows, cols))"
   ]
  },
  {
   "cell_type": "code",
   "execution_count": 7,
   "id": "415b3bf5",
   "metadata": {},
   "outputs": [
    {
     "data": {
      "text/plain": [
       "Index(['Unnamed: 0', 'app_id', 'app_name', 'review_id', 'language', 'review',\n",
       "       'timestamp_created', 'timestamp_updated', 'recommended',\n",
       "       'votes_helpful', 'votes_funny', 'weighted_vote_score', 'comment_count',\n",
       "       'steam_purchase', 'received_for_free', 'written_during_early_access',\n",
       "       'author.steamid', 'author.num_games_owned', 'author.num_reviews',\n",
       "       'author.playtime_forever', 'author.playtime_last_two_weeks',\n",
       "       'author.playtime_at_review', 'author.last_played'],\n",
       "      dtype='object')"
      ]
     },
     "execution_count": 7,
     "metadata": {},
     "output_type": "execute_result"
    }
   ],
   "source": [
    "cols = dataset.columns\n",
    "cols"
   ]
  },
  {
   "cell_type": "markdown",
   "id": "651a2664",
   "metadata": {},
   "source": [
    "Each column describes:\n",
    "- app_id: the game id\n",
    "- app_name: the name for the game\n",
    "- review_id: the id of the reviewer\n",
    "- language: language of the review\n",
    "- review: review text\n",
    "- timestamp_created: Review creation timestamp\n",
    "- timestamp_updated: Review latest update timestamp\n",
    "- recommended: Whether review recommends the app\n",
    "- votes_helpful: Number of \"helpful\" votes for review"
   ]
  },
  {
   "cell_type": "code",
   "execution_count": 8,
   "id": "b8904e82",
   "metadata": {},
   "outputs": [
    {
     "data": {
      "text/plain": [
       "Unnamed: 0                                 int64\n",
       "app_id                                     int64\n",
       "app_name                                  object\n",
       "review_id                                  int64\n",
       "language                                  object\n",
       "review                                    object\n",
       "timestamp_created                 datetime64[ns]\n",
       "timestamp_updated                 datetime64[ns]\n",
       "recommended                                 bool\n",
       "votes_helpful                              int64\n",
       "votes_funny                                int64\n",
       "weighted_vote_score                      float64\n",
       "comment_count                              int64\n",
       "steam_purchase                              bool\n",
       "received_for_free                           bool\n",
       "written_during_early_access                 bool\n",
       "author.steamid                             int64\n",
       "author.num_games_owned                     int64\n",
       "author.num_reviews                         int64\n",
       "author.playtime_forever                  float64\n",
       "author.playtime_last_two_weeks           float64\n",
       "author.playtime_at_review                float64\n",
       "author.last_played                datetime64[ns]\n",
       "dtype: object"
      ]
     },
     "execution_count": 8,
     "metadata": {},
     "output_type": "execute_result"
    }
   ],
   "source": [
    "dataset.dtypes"
   ]
  },
  {
   "cell_type": "code",
   "execution_count": 9,
   "id": "b74a77a8",
   "metadata": {},
   "outputs": [
    {
     "data": {
      "text/html": [
       "<div>\n",
       "<style scoped>\n",
       "    .dataframe tbody tr th:only-of-type {\n",
       "        vertical-align: middle;\n",
       "    }\n",
       "\n",
       "    .dataframe tbody tr th {\n",
       "        vertical-align: top;\n",
       "    }\n",
       "\n",
       "    .dataframe thead th {\n",
       "        text-align: right;\n",
       "    }\n",
       "</style>\n",
       "<table border=\"1\" class=\"dataframe\">\n",
       "  <thead>\n",
       "    <tr style=\"text-align: right;\">\n",
       "      <th></th>\n",
       "      <th>Unnamed: 0</th>\n",
       "      <th>app_id</th>\n",
       "      <th>review_id</th>\n",
       "      <th>votes_helpful</th>\n",
       "      <th>votes_funny</th>\n",
       "      <th>weighted_vote_score</th>\n",
       "      <th>comment_count</th>\n",
       "      <th>author.steamid</th>\n",
       "      <th>author.num_games_owned</th>\n",
       "      <th>author.num_reviews</th>\n",
       "      <th>author.playtime_forever</th>\n",
       "      <th>author.playtime_last_two_weeks</th>\n",
       "      <th>author.playtime_at_review</th>\n",
       "    </tr>\n",
       "  </thead>\n",
       "  <tbody>\n",
       "    <tr>\n",
       "      <th>count</th>\n",
       "      <td>2.000000e+06</td>\n",
       "      <td>2.000000e+06</td>\n",
       "      <td>2.000000e+06</td>\n",
       "      <td>2.000000e+06</td>\n",
       "      <td>2.000000e+06</td>\n",
       "      <td>2.000000e+06</td>\n",
       "      <td>2.000000e+06</td>\n",
       "      <td>2.000000e+06</td>\n",
       "      <td>2.000000e+06</td>\n",
       "      <td>2.000000e+06</td>\n",
       "      <td>2.000000e+06</td>\n",
       "      <td>2.000000e+06</td>\n",
       "      <td>1.996683e+06</td>\n",
       "    </tr>\n",
       "    <tr>\n",
       "      <th>mean</th>\n",
       "      <td>1.000000e+06</td>\n",
       "      <td>1.213136e+05</td>\n",
       "      <td>4.736107e+07</td>\n",
       "      <td>1.202951e+00</td>\n",
       "      <td>1.352921e+05</td>\n",
       "      <td>1.516370e-01</td>\n",
       "      <td>1.134790e-01</td>\n",
       "      <td>7.656120e+16</td>\n",
       "      <td>1.134849e+02</td>\n",
       "      <td>1.009040e+01</td>\n",
       "      <td>2.024508e+04</td>\n",
       "      <td>1.386791e+02</td>\n",
       "      <td>1.213795e+04</td>\n",
       "    </tr>\n",
       "    <tr>\n",
       "      <th>std</th>\n",
       "      <td>5.773507e+05</td>\n",
       "      <td>1.568375e+05</td>\n",
       "      <td>2.332649e+07</td>\n",
       "      <td>2.332894e+01</td>\n",
       "      <td>2.410507e+07</td>\n",
       "      <td>2.370955e-01</td>\n",
       "      <td>1.592869e+00</td>\n",
       "      <td>3.165412e+08</td>\n",
       "      <td>2.344387e+02</td>\n",
       "      <td>3.230297e+01</td>\n",
       "      <td>5.077602e+04</td>\n",
       "      <td>6.878205e+02</td>\n",
       "      <td>3.517027e+04</td>\n",
       "    </tr>\n",
       "    <tr>\n",
       "      <th>min</th>\n",
       "      <td>0.000000e+00</td>\n",
       "      <td>7.000000e+01</td>\n",
       "      <td>4.300000e+01</td>\n",
       "      <td>0.000000e+00</td>\n",
       "      <td>0.000000e+00</td>\n",
       "      <td>0.000000e+00</td>\n",
       "      <td>0.000000e+00</td>\n",
       "      <td>7.656120e+16</td>\n",
       "      <td>0.000000e+00</td>\n",
       "      <td>1.000000e+00</td>\n",
       "      <td>0.000000e+00</td>\n",
       "      <td>0.000000e+00</td>\n",
       "      <td>1.000000e+00</td>\n",
       "    </tr>\n",
       "    <tr>\n",
       "      <th>25%</th>\n",
       "      <td>5.000008e+05</td>\n",
       "      <td>4.000000e+03</td>\n",
       "      <td>2.709848e+07</td>\n",
       "      <td>0.000000e+00</td>\n",
       "      <td>0.000000e+00</td>\n",
       "      <td>0.000000e+00</td>\n",
       "      <td>0.000000e+00</td>\n",
       "      <td>7.656120e+16</td>\n",
       "      <td>2.300000e+01</td>\n",
       "      <td>2.000000e+00</td>\n",
       "      <td>1.587000e+03</td>\n",
       "      <td>0.000000e+00</td>\n",
       "      <td>6.860000e+02</td>\n",
       "    </tr>\n",
       "    <tr>\n",
       "      <th>50%</th>\n",
       "      <td>1.000000e+06</td>\n",
       "      <td>4.000000e+03</td>\n",
       "      <td>5.174743e+07</td>\n",
       "      <td>0.000000e+00</td>\n",
       "      <td>0.000000e+00</td>\n",
       "      <td>0.000000e+00</td>\n",
       "      <td>0.000000e+00</td>\n",
       "      <td>7.656120e+16</td>\n",
       "      <td>5.600000e+01</td>\n",
       "      <td>4.000000e+00</td>\n",
       "      <td>6.088000e+03</td>\n",
       "      <td>0.000000e+00</td>\n",
       "      <td>2.646000e+03</td>\n",
       "    </tr>\n",
       "    <tr>\n",
       "      <th>75%</th>\n",
       "      <td>1.500000e+06</td>\n",
       "      <td>2.920300e+05</td>\n",
       "      <td>6.680106e+07</td>\n",
       "      <td>1.000000e+00</td>\n",
       "      <td>0.000000e+00</td>\n",
       "      <td>4.761905e-01</td>\n",
       "      <td>0.000000e+00</td>\n",
       "      <td>7.656120e+16</td>\n",
       "      <td>1.260000e+02</td>\n",
       "      <td>1.000000e+01</td>\n",
       "      <td>1.718700e+04</td>\n",
       "      <td>0.000000e+00</td>\n",
       "      <td>9.124000e+03</td>\n",
       "    </tr>\n",
       "    <tr>\n",
       "      <th>max</th>\n",
       "      <td>2.000000e+06</td>\n",
       "      <td>3.812100e+05</td>\n",
       "      <td>8.521823e+07</td>\n",
       "      <td>9.132000e+03</td>\n",
       "      <td>4.294967e+09</td>\n",
       "      <td>9.903845e-01</td>\n",
       "      <td>6.370000e+02</td>\n",
       "      <td>7.656120e+16</td>\n",
       "      <td>2.096900e+04</td>\n",
       "      <td>5.236000e+03</td>\n",
       "      <td>3.470649e+06</td>\n",
       "      <td>2.201000e+04</td>\n",
       "      <td>3.228103e+06</td>\n",
       "    </tr>\n",
       "  </tbody>\n",
       "</table>\n",
       "</div>"
      ],
      "text/plain": [
       "         Unnamed: 0        app_id     review_id  votes_helpful   votes_funny  \\\n",
       "count  2.000000e+06  2.000000e+06  2.000000e+06   2.000000e+06  2.000000e+06   \n",
       "mean   1.000000e+06  1.213136e+05  4.736107e+07   1.202951e+00  1.352921e+05   \n",
       "std    5.773507e+05  1.568375e+05  2.332649e+07   2.332894e+01  2.410507e+07   \n",
       "min    0.000000e+00  7.000000e+01  4.300000e+01   0.000000e+00  0.000000e+00   \n",
       "25%    5.000008e+05  4.000000e+03  2.709848e+07   0.000000e+00  0.000000e+00   \n",
       "50%    1.000000e+06  4.000000e+03  5.174743e+07   0.000000e+00  0.000000e+00   \n",
       "75%    1.500000e+06  2.920300e+05  6.680106e+07   1.000000e+00  0.000000e+00   \n",
       "max    2.000000e+06  3.812100e+05  8.521823e+07   9.132000e+03  4.294967e+09   \n",
       "\n",
       "       weighted_vote_score  comment_count  author.steamid  \\\n",
       "count         2.000000e+06   2.000000e+06    2.000000e+06   \n",
       "mean          1.516370e-01   1.134790e-01    7.656120e+16   \n",
       "std           2.370955e-01   1.592869e+00    3.165412e+08   \n",
       "min           0.000000e+00   0.000000e+00    7.656120e+16   \n",
       "25%           0.000000e+00   0.000000e+00    7.656120e+16   \n",
       "50%           0.000000e+00   0.000000e+00    7.656120e+16   \n",
       "75%           4.761905e-01   0.000000e+00    7.656120e+16   \n",
       "max           9.903845e-01   6.370000e+02    7.656120e+16   \n",
       "\n",
       "       author.num_games_owned  author.num_reviews  author.playtime_forever  \\\n",
       "count            2.000000e+06        2.000000e+06             2.000000e+06   \n",
       "mean             1.134849e+02        1.009040e+01             2.024508e+04   \n",
       "std              2.344387e+02        3.230297e+01             5.077602e+04   \n",
       "min              0.000000e+00        1.000000e+00             0.000000e+00   \n",
       "25%              2.300000e+01        2.000000e+00             1.587000e+03   \n",
       "50%              5.600000e+01        4.000000e+00             6.088000e+03   \n",
       "75%              1.260000e+02        1.000000e+01             1.718700e+04   \n",
       "max              2.096900e+04        5.236000e+03             3.470649e+06   \n",
       "\n",
       "       author.playtime_last_two_weeks  author.playtime_at_review  \n",
       "count                    2.000000e+06               1.996683e+06  \n",
       "mean                     1.386791e+02               1.213795e+04  \n",
       "std                      6.878205e+02               3.517027e+04  \n",
       "min                      0.000000e+00               1.000000e+00  \n",
       "25%                      0.000000e+00               6.860000e+02  \n",
       "50%                      0.000000e+00               2.646000e+03  \n",
       "75%                      0.000000e+00               9.124000e+03  \n",
       "max                      2.201000e+04               3.228103e+06  "
      ]
     },
     "execution_count": 9,
     "metadata": {},
     "output_type": "execute_result"
    }
   ],
   "source": [
    "dataset.describe()"
   ]
  },
  {
   "cell_type": "code",
   "execution_count": 10,
   "id": "c71ec6f7",
   "metadata": {},
   "outputs": [
    {
     "data": {
      "text/plain": [
       "Unnamed: 0                        2000000\n",
       "app_id                                  9\n",
       "app_name                                9\n",
       "review_id                         2000000\n",
       "language                               28\n",
       "review                            1562822\n",
       "timestamp_created                 1967089\n",
       "timestamp_updated                 1964007\n",
       "recommended                             2\n",
       "votes_helpful                         821\n",
       "votes_funny                           695\n",
       "weighted_vote_score                 97000\n",
       "comment_count                         153\n",
       "steam_purchase                          2\n",
       "received_for_free                       2\n",
       "written_during_early_access             1\n",
       "author.steamid                    1819576\n",
       "author.num_games_owned               3854\n",
       "author.num_reviews                    764\n",
       "author.playtime_forever            158434\n",
       "author.playtime_last_two_weeks       9282\n",
       "author.playtime_at_review          121602\n",
       "author.last_played                1908775\n",
       "dtype: int64"
      ]
     },
     "execution_count": 10,
     "metadata": {},
     "output_type": "execute_result"
    }
   ],
   "source": [
    "dataset.nunique()"
   ]
  },
  {
   "cell_type": "markdown",
   "id": "1cbfc0a1",
   "metadata": {},
   "source": [
    "### As we can see from the uniqueness of each column's values, we can infer how many categories can be taken for each column"
   ]
  },
  {
   "cell_type": "code",
   "execution_count": 11,
   "id": "a89e6291",
   "metadata": {},
   "outputs": [
    {
     "data": {
      "text/plain": [
       "Unnamed: 0                           0\n",
       "app_id                               0\n",
       "app_name                             0\n",
       "review_id                            0\n",
       "language                             0\n",
       "review                            3141\n",
       "timestamp_created                    0\n",
       "timestamp_updated                    0\n",
       "recommended                          0\n",
       "votes_helpful                        0\n",
       "votes_funny                          0\n",
       "weighted_vote_score                  0\n",
       "comment_count                        0\n",
       "steam_purchase                       0\n",
       "received_for_free                    0\n",
       "written_during_early_access          0\n",
       "author.steamid                       0\n",
       "author.num_games_owned               0\n",
       "author.num_reviews                   0\n",
       "author.playtime_forever              0\n",
       "author.playtime_last_two_weeks       0\n",
       "author.playtime_at_review         3317\n",
       "author.last_played                   0\n",
       "dtype: int64"
      ]
     },
     "execution_count": 11,
     "metadata": {},
     "output_type": "execute_result"
    }
   ],
   "source": [
    "dataset.isnull().sum()"
   ]
  },
  {
   "cell_type": "markdown",
   "id": "949877fc",
   "metadata": {},
   "source": [
    "### As we can see the \"review\" and \"playtime_at_review\" columns have null values. But, since the review column contians the reviews, we don't necessarily need it. Therefore, we can just remove \"review\" and clean \"author.playtime_at_review\" (by replacing NaN values with zero) columns. Note: we don't eliminate these rows because they are not critical to be around."
   ]
  },
  {
   "cell_type": "markdown",
   "id": "149b1c2f",
   "metadata": {},
   "source": [
    "Now we will try to clean the data."
   ]
  },
  {
   "cell_type": "code",
   "execution_count": 12,
   "id": "af80dc4a",
   "metadata": {},
   "outputs": [
    {
     "data": {
      "text/html": [
       "<div>\n",
       "<style scoped>\n",
       "    .dataframe tbody tr th:only-of-type {\n",
       "        vertical-align: middle;\n",
       "    }\n",
       "\n",
       "    .dataframe tbody tr th {\n",
       "        vertical-align: top;\n",
       "    }\n",
       "\n",
       "    .dataframe thead th {\n",
       "        text-align: right;\n",
       "    }\n",
       "</style>\n",
       "<table border=\"1\" class=\"dataframe\">\n",
       "  <thead>\n",
       "    <tr style=\"text-align: right;\">\n",
       "      <th></th>\n",
       "      <th>Unnamed: 0</th>\n",
       "      <th>app_id</th>\n",
       "      <th>app_name</th>\n",
       "      <th>review_id</th>\n",
       "      <th>language</th>\n",
       "      <th>timestamp_created</th>\n",
       "      <th>timestamp_updated</th>\n",
       "      <th>recommended</th>\n",
       "      <th>votes_helpful</th>\n",
       "      <th>votes_funny</th>\n",
       "      <th>...</th>\n",
       "      <th>steam_purchase</th>\n",
       "      <th>received_for_free</th>\n",
       "      <th>written_during_early_access</th>\n",
       "      <th>author.steamid</th>\n",
       "      <th>author.num_games_owned</th>\n",
       "      <th>author.num_reviews</th>\n",
       "      <th>author.playtime_forever</th>\n",
       "      <th>author.playtime_last_two_weeks</th>\n",
       "      <th>author.playtime_at_review</th>\n",
       "      <th>author.last_played</th>\n",
       "    </tr>\n",
       "  </thead>\n",
       "  <tbody>\n",
       "    <tr>\n",
       "      <th>0</th>\n",
       "      <td>0</td>\n",
       "      <td>292030</td>\n",
       "      <td>The Witcher 3: Wild Hunt</td>\n",
       "      <td>85185598</td>\n",
       "      <td>schinese</td>\n",
       "      <td>2021-01-23 06:00:29</td>\n",
       "      <td>2021-01-23 06:00:29</td>\n",
       "      <td>True</td>\n",
       "      <td>0</td>\n",
       "      <td>0</td>\n",
       "      <td>...</td>\n",
       "      <td>True</td>\n",
       "      <td>False</td>\n",
       "      <td>False</td>\n",
       "      <td>76561199095369542</td>\n",
       "      <td>6</td>\n",
       "      <td>2</td>\n",
       "      <td>1909.0</td>\n",
       "      <td>1448.0</td>\n",
       "      <td>1909.0</td>\n",
       "      <td>2021-01-22 19:23:03</td>\n",
       "    </tr>\n",
       "    <tr>\n",
       "      <th>1</th>\n",
       "      <td>1</td>\n",
       "      <td>292030</td>\n",
       "      <td>The Witcher 3: Wild Hunt</td>\n",
       "      <td>85185250</td>\n",
       "      <td>schinese</td>\n",
       "      <td>2021-01-23 05:50:30</td>\n",
       "      <td>2021-01-23 05:50:30</td>\n",
       "      <td>True</td>\n",
       "      <td>0</td>\n",
       "      <td>0</td>\n",
       "      <td>...</td>\n",
       "      <td>True</td>\n",
       "      <td>False</td>\n",
       "      <td>False</td>\n",
       "      <td>76561198949504115</td>\n",
       "      <td>30</td>\n",
       "      <td>10</td>\n",
       "      <td>2764.0</td>\n",
       "      <td>2743.0</td>\n",
       "      <td>2674.0</td>\n",
       "      <td>2021-01-23 07:18:27</td>\n",
       "    </tr>\n",
       "    <tr>\n",
       "      <th>2</th>\n",
       "      <td>2</td>\n",
       "      <td>292030</td>\n",
       "      <td>The Witcher 3: Wild Hunt</td>\n",
       "      <td>85185111</td>\n",
       "      <td>schinese</td>\n",
       "      <td>2021-01-23 05:46:40</td>\n",
       "      <td>2021-01-23 05:46:40</td>\n",
       "      <td>True</td>\n",
       "      <td>0</td>\n",
       "      <td>0</td>\n",
       "      <td>...</td>\n",
       "      <td>True</td>\n",
       "      <td>False</td>\n",
       "      <td>False</td>\n",
       "      <td>76561199090098988</td>\n",
       "      <td>5</td>\n",
       "      <td>1</td>\n",
       "      <td>1061.0</td>\n",
       "      <td>1061.0</td>\n",
       "      <td>1060.0</td>\n",
       "      <td>2021-01-23 06:36:17</td>\n",
       "    </tr>\n",
       "    <tr>\n",
       "      <th>3</th>\n",
       "      <td>3</td>\n",
       "      <td>292030</td>\n",
       "      <td>The Witcher 3: Wild Hunt</td>\n",
       "      <td>85184605</td>\n",
       "      <td>english</td>\n",
       "      <td>2021-01-23 05:32:50</td>\n",
       "      <td>2021-01-23 05:32:50</td>\n",
       "      <td>True</td>\n",
       "      <td>0</td>\n",
       "      <td>0</td>\n",
       "      <td>...</td>\n",
       "      <td>True</td>\n",
       "      <td>False</td>\n",
       "      <td>False</td>\n",
       "      <td>76561199054755373</td>\n",
       "      <td>5</td>\n",
       "      <td>3</td>\n",
       "      <td>5587.0</td>\n",
       "      <td>3200.0</td>\n",
       "      <td>5524.0</td>\n",
       "      <td>2021-01-23 06:35:44</td>\n",
       "    </tr>\n",
       "    <tr>\n",
       "      <th>4</th>\n",
       "      <td>4</td>\n",
       "      <td>292030</td>\n",
       "      <td>The Witcher 3: Wild Hunt</td>\n",
       "      <td>85184287</td>\n",
       "      <td>schinese</td>\n",
       "      <td>2021-01-23 05:23:47</td>\n",
       "      <td>2021-01-23 05:23:47</td>\n",
       "      <td>True</td>\n",
       "      <td>0</td>\n",
       "      <td>0</td>\n",
       "      <td>...</td>\n",
       "      <td>True</td>\n",
       "      <td>False</td>\n",
       "      <td>False</td>\n",
       "      <td>76561199028326951</td>\n",
       "      <td>7</td>\n",
       "      <td>4</td>\n",
       "      <td>217.0</td>\n",
       "      <td>42.0</td>\n",
       "      <td>217.0</td>\n",
       "      <td>2021-01-16 09:10:49</td>\n",
       "    </tr>\n",
       "  </tbody>\n",
       "</table>\n",
       "<p>5 rows × 22 columns</p>\n",
       "</div>"
      ],
      "text/plain": [
       "   Unnamed: 0  app_id                  app_name  review_id  language  \\\n",
       "0           0  292030  The Witcher 3: Wild Hunt   85185598  schinese   \n",
       "1           1  292030  The Witcher 3: Wild Hunt   85185250  schinese   \n",
       "2           2  292030  The Witcher 3: Wild Hunt   85185111  schinese   \n",
       "3           3  292030  The Witcher 3: Wild Hunt   85184605   english   \n",
       "4           4  292030  The Witcher 3: Wild Hunt   85184287  schinese   \n",
       "\n",
       "    timestamp_created   timestamp_updated  recommended  votes_helpful  \\\n",
       "0 2021-01-23 06:00:29 2021-01-23 06:00:29         True              0   \n",
       "1 2021-01-23 05:50:30 2021-01-23 05:50:30         True              0   \n",
       "2 2021-01-23 05:46:40 2021-01-23 05:46:40         True              0   \n",
       "3 2021-01-23 05:32:50 2021-01-23 05:32:50         True              0   \n",
       "4 2021-01-23 05:23:47 2021-01-23 05:23:47         True              0   \n",
       "\n",
       "   votes_funny  ...  steam_purchase  received_for_free  \\\n",
       "0            0  ...            True              False   \n",
       "1            0  ...            True              False   \n",
       "2            0  ...            True              False   \n",
       "3            0  ...            True              False   \n",
       "4            0  ...            True              False   \n",
       "\n",
       "   written_during_early_access     author.steamid  author.num_games_owned  \\\n",
       "0                        False  76561199095369542                       6   \n",
       "1                        False  76561198949504115                      30   \n",
       "2                        False  76561199090098988                       5   \n",
       "3                        False  76561199054755373                       5   \n",
       "4                        False  76561199028326951                       7   \n",
       "\n",
       "   author.num_reviews  author.playtime_forever  \\\n",
       "0                   2                   1909.0   \n",
       "1                  10                   2764.0   \n",
       "2                   1                   1061.0   \n",
       "3                   3                   5587.0   \n",
       "4                   4                    217.0   \n",
       "\n",
       "   author.playtime_last_two_weeks  author.playtime_at_review  \\\n",
       "0                          1448.0                     1909.0   \n",
       "1                          2743.0                     2674.0   \n",
       "2                          1061.0                     1060.0   \n",
       "3                          3200.0                     5524.0   \n",
       "4                            42.0                      217.0   \n",
       "\n",
       "   author.last_played  \n",
       "0 2021-01-22 19:23:03  \n",
       "1 2021-01-23 07:18:27  \n",
       "2 2021-01-23 06:36:17  \n",
       "3 2021-01-23 06:35:44  \n",
       "4 2021-01-16 09:10:49  \n",
       "\n",
       "[5 rows x 22 columns]"
      ]
     },
     "execution_count": 12,
     "metadata": {},
     "output_type": "execute_result"
    }
   ],
   "source": [
    "dataset = dataset.drop([\"review\",], axis=1)\n",
    "dataset.head()"
   ]
  },
  {
   "cell_type": "code",
   "execution_count": 13,
   "id": "03414733",
   "metadata": {},
   "outputs": [
    {
     "data": {
      "text/html": [
       "<div>\n",
       "<style scoped>\n",
       "    .dataframe tbody tr th:only-of-type {\n",
       "        vertical-align: middle;\n",
       "    }\n",
       "\n",
       "    .dataframe tbody tr th {\n",
       "        vertical-align: top;\n",
       "    }\n",
       "\n",
       "    .dataframe thead th {\n",
       "        text-align: right;\n",
       "    }\n",
       "</style>\n",
       "<table border=\"1\" class=\"dataframe\">\n",
       "  <thead>\n",
       "    <tr style=\"text-align: right;\">\n",
       "      <th></th>\n",
       "      <th>Unnamed: 0</th>\n",
       "      <th>app_id</th>\n",
       "      <th>app_name</th>\n",
       "      <th>review_id</th>\n",
       "      <th>language</th>\n",
       "      <th>timestamp_created</th>\n",
       "      <th>timestamp_updated</th>\n",
       "      <th>recommended</th>\n",
       "      <th>votes_helpful</th>\n",
       "      <th>votes_funny</th>\n",
       "      <th>...</th>\n",
       "      <th>steam_purchase</th>\n",
       "      <th>received_for_free</th>\n",
       "      <th>written_during_early_access</th>\n",
       "      <th>author.steamid</th>\n",
       "      <th>author.num_games_owned</th>\n",
       "      <th>author.num_reviews</th>\n",
       "      <th>author.playtime_forever</th>\n",
       "      <th>author.playtime_last_two_weeks</th>\n",
       "      <th>author.playtime_at_review</th>\n",
       "      <th>author.last_played</th>\n",
       "    </tr>\n",
       "  </thead>\n",
       "  <tbody>\n",
       "    <tr>\n",
       "      <th>0</th>\n",
       "      <td>0</td>\n",
       "      <td>292030</td>\n",
       "      <td>The Witcher 3: Wild Hunt</td>\n",
       "      <td>85185598</td>\n",
       "      <td>schinese</td>\n",
       "      <td>2021-01-23 06:00:29</td>\n",
       "      <td>2021-01-23 06:00:29</td>\n",
       "      <td>True</td>\n",
       "      <td>0</td>\n",
       "      <td>0</td>\n",
       "      <td>...</td>\n",
       "      <td>True</td>\n",
       "      <td>False</td>\n",
       "      <td>False</td>\n",
       "      <td>76561199095369542</td>\n",
       "      <td>6</td>\n",
       "      <td>2</td>\n",
       "      <td>1909.0</td>\n",
       "      <td>1448.0</td>\n",
       "      <td>1909.0</td>\n",
       "      <td>2021-01-22 19:23:03</td>\n",
       "    </tr>\n",
       "    <tr>\n",
       "      <th>1</th>\n",
       "      <td>1</td>\n",
       "      <td>292030</td>\n",
       "      <td>The Witcher 3: Wild Hunt</td>\n",
       "      <td>85185250</td>\n",
       "      <td>schinese</td>\n",
       "      <td>2021-01-23 05:50:30</td>\n",
       "      <td>2021-01-23 05:50:30</td>\n",
       "      <td>True</td>\n",
       "      <td>0</td>\n",
       "      <td>0</td>\n",
       "      <td>...</td>\n",
       "      <td>True</td>\n",
       "      <td>False</td>\n",
       "      <td>False</td>\n",
       "      <td>76561198949504115</td>\n",
       "      <td>30</td>\n",
       "      <td>10</td>\n",
       "      <td>2764.0</td>\n",
       "      <td>2743.0</td>\n",
       "      <td>2674.0</td>\n",
       "      <td>2021-01-23 07:18:27</td>\n",
       "    </tr>\n",
       "    <tr>\n",
       "      <th>2</th>\n",
       "      <td>2</td>\n",
       "      <td>292030</td>\n",
       "      <td>The Witcher 3: Wild Hunt</td>\n",
       "      <td>85185111</td>\n",
       "      <td>schinese</td>\n",
       "      <td>2021-01-23 05:46:40</td>\n",
       "      <td>2021-01-23 05:46:40</td>\n",
       "      <td>True</td>\n",
       "      <td>0</td>\n",
       "      <td>0</td>\n",
       "      <td>...</td>\n",
       "      <td>True</td>\n",
       "      <td>False</td>\n",
       "      <td>False</td>\n",
       "      <td>76561199090098988</td>\n",
       "      <td>5</td>\n",
       "      <td>1</td>\n",
       "      <td>1061.0</td>\n",
       "      <td>1061.0</td>\n",
       "      <td>1060.0</td>\n",
       "      <td>2021-01-23 06:36:17</td>\n",
       "    </tr>\n",
       "    <tr>\n",
       "      <th>3</th>\n",
       "      <td>3</td>\n",
       "      <td>292030</td>\n",
       "      <td>The Witcher 3: Wild Hunt</td>\n",
       "      <td>85184605</td>\n",
       "      <td>english</td>\n",
       "      <td>2021-01-23 05:32:50</td>\n",
       "      <td>2021-01-23 05:32:50</td>\n",
       "      <td>True</td>\n",
       "      <td>0</td>\n",
       "      <td>0</td>\n",
       "      <td>...</td>\n",
       "      <td>True</td>\n",
       "      <td>False</td>\n",
       "      <td>False</td>\n",
       "      <td>76561199054755373</td>\n",
       "      <td>5</td>\n",
       "      <td>3</td>\n",
       "      <td>5587.0</td>\n",
       "      <td>3200.0</td>\n",
       "      <td>5524.0</td>\n",
       "      <td>2021-01-23 06:35:44</td>\n",
       "    </tr>\n",
       "    <tr>\n",
       "      <th>4</th>\n",
       "      <td>4</td>\n",
       "      <td>292030</td>\n",
       "      <td>The Witcher 3: Wild Hunt</td>\n",
       "      <td>85184287</td>\n",
       "      <td>schinese</td>\n",
       "      <td>2021-01-23 05:23:47</td>\n",
       "      <td>2021-01-23 05:23:47</td>\n",
       "      <td>True</td>\n",
       "      <td>0</td>\n",
       "      <td>0</td>\n",
       "      <td>...</td>\n",
       "      <td>True</td>\n",
       "      <td>False</td>\n",
       "      <td>False</td>\n",
       "      <td>76561199028326951</td>\n",
       "      <td>7</td>\n",
       "      <td>4</td>\n",
       "      <td>217.0</td>\n",
       "      <td>42.0</td>\n",
       "      <td>217.0</td>\n",
       "      <td>2021-01-16 09:10:49</td>\n",
       "    </tr>\n",
       "  </tbody>\n",
       "</table>\n",
       "<p>5 rows × 22 columns</p>\n",
       "</div>"
      ],
      "text/plain": [
       "   Unnamed: 0  app_id                  app_name  review_id  language  \\\n",
       "0           0  292030  The Witcher 3: Wild Hunt   85185598  schinese   \n",
       "1           1  292030  The Witcher 3: Wild Hunt   85185250  schinese   \n",
       "2           2  292030  The Witcher 3: Wild Hunt   85185111  schinese   \n",
       "3           3  292030  The Witcher 3: Wild Hunt   85184605   english   \n",
       "4           4  292030  The Witcher 3: Wild Hunt   85184287  schinese   \n",
       "\n",
       "    timestamp_created   timestamp_updated  recommended  votes_helpful  \\\n",
       "0 2021-01-23 06:00:29 2021-01-23 06:00:29         True              0   \n",
       "1 2021-01-23 05:50:30 2021-01-23 05:50:30         True              0   \n",
       "2 2021-01-23 05:46:40 2021-01-23 05:46:40         True              0   \n",
       "3 2021-01-23 05:32:50 2021-01-23 05:32:50         True              0   \n",
       "4 2021-01-23 05:23:47 2021-01-23 05:23:47         True              0   \n",
       "\n",
       "   votes_funny  ...  steam_purchase  received_for_free  \\\n",
       "0            0  ...            True              False   \n",
       "1            0  ...            True              False   \n",
       "2            0  ...            True              False   \n",
       "3            0  ...            True              False   \n",
       "4            0  ...            True              False   \n",
       "\n",
       "   written_during_early_access     author.steamid  author.num_games_owned  \\\n",
       "0                        False  76561199095369542                       6   \n",
       "1                        False  76561198949504115                      30   \n",
       "2                        False  76561199090098988                       5   \n",
       "3                        False  76561199054755373                       5   \n",
       "4                        False  76561199028326951                       7   \n",
       "\n",
       "   author.num_reviews  author.playtime_forever  \\\n",
       "0                   2                   1909.0   \n",
       "1                  10                   2764.0   \n",
       "2                   1                   1061.0   \n",
       "3                   3                   5587.0   \n",
       "4                   4                    217.0   \n",
       "\n",
       "   author.playtime_last_two_weeks  author.playtime_at_review  \\\n",
       "0                          1448.0                     1909.0   \n",
       "1                          2743.0                     2674.0   \n",
       "2                          1061.0                     1060.0   \n",
       "3                          3200.0                     5524.0   \n",
       "4                            42.0                      217.0   \n",
       "\n",
       "   author.last_played  \n",
       "0 2021-01-22 19:23:03  \n",
       "1 2021-01-23 07:18:27  \n",
       "2 2021-01-23 06:36:17  \n",
       "3 2021-01-23 06:35:44  \n",
       "4 2021-01-16 09:10:49  \n",
       "\n",
       "[5 rows x 22 columns]"
      ]
     },
     "execution_count": 13,
     "metadata": {},
     "output_type": "execute_result"
    }
   ],
   "source": [
    "dataset['author.playtime_at_review'].replace(np.nan, 0)\n",
    "dataset.head()"
   ]
  },
  {
   "cell_type": "code",
   "execution_count": 14,
   "id": "d150cf48",
   "metadata": {},
   "outputs": [
    {
     "data": {
      "text/plain": [
       "Unnamed: 0                           0\n",
       "app_id                               0\n",
       "app_name                             0\n",
       "review_id                            0\n",
       "language                             0\n",
       "timestamp_created                    0\n",
       "timestamp_updated                    0\n",
       "recommended                          0\n",
       "votes_helpful                        0\n",
       "votes_funny                          0\n",
       "weighted_vote_score                  0\n",
       "comment_count                        0\n",
       "steam_purchase                       0\n",
       "received_for_free                    0\n",
       "written_during_early_access          0\n",
       "author.steamid                       0\n",
       "author.num_games_owned               0\n",
       "author.num_reviews                   0\n",
       "author.playtime_forever              0\n",
       "author.playtime_last_two_weeks       0\n",
       "author.playtime_at_review         3317\n",
       "author.last_played                   0\n",
       "dtype: int64"
      ]
     },
     "execution_count": 14,
     "metadata": {},
     "output_type": "execute_result"
    }
   ],
   "source": [
    "dataset.isnull().sum()"
   ]
  },
  {
   "cell_type": "markdown",
   "id": "e2f0bcaf",
   "metadata": {},
   "source": [
    "For further cleaning we will eliminate outliers."
   ]
  },
  {
   "cell_type": "code",
   "execution_count": 82,
   "id": "23fb7412",
   "metadata": {},
   "outputs": [
    {
     "data": {
      "image/png": "[encoded data removed]",
      "text/plain": [
       "<Figure size 720x576 with 2 Axes>"
      ]
     },
     "metadata": {
      "needs_background": "light"
     },
     "output_type": "display_data"
    }
   ],
   "source": [
    "plt.figure(figsize=(10,8))\n",
    "corr = dataset.corr()\n",
    "sns.heatmap(corr)\n",
    "plt.show()"
   ]
  },
  {
   "cell_type": "markdown",
   "id": "cae64430",
   "metadata": {},
   "source": [
    "### The heatmap above shows the correlation between each column. As we can see from the heat-map, only a few columns are correlated with each other and other columns are not correlated. For instance, vote_helpful is highly correlated with comment count which makes sense. The reviewers who thaught that the vote was helpful probably wrote a comment. For the bivariate analysis, the correlation between these two columns are evident below."
   ]
  },
  {
   "cell_type": "code",
   "execution_count": 83,
   "id": "346c160b",
   "metadata": {},
   "outputs": [
    {
     "data": {
      "text/plain": [
       "<seaborn.axisgrid.FacetGrid at 0x22b667053a0>"
      ]
     },
     "execution_count": 83,
     "metadata": {},
     "output_type": "execute_result"
    },
    {
     "data": {
      "image/png": "[encoded data removed]",
      "text/plain": [
       "<Figure size 360x360 with 1 Axes>"
      ]
     },
     "metadata": {
      "needs_background": "light"
     },
     "output_type": "display_data"
    }
   ],
   "source": [
    "sns.relplot(x='comment_count', y='votes_helpful', data=dataset)"
   ]
  },
  {
   "cell_type": "code",
   "execution_count": 84,
   "id": "ce5e17a0",
   "metadata": {},
   "outputs": [
    {
     "data": {
      "text/plain": [
       "<seaborn.axisgrid.FacetGrid at 0x22bb9ab9f70>"
      ]
     },
     "execution_count": 84,
     "metadata": {},
     "output_type": "execute_result"
    },
    {
     "data": {
      "image/png": "[encoded data removed]",
      "text/plain": [
       "<Figure size 360x360 with 1 Axes>"
      ]
     },
     "metadata": {
      "needs_background": "light"
     },
     "output_type": "display_data"
    }
   ],
   "source": [
    "sns.relplot(x='author.playtime_at_review', y='author.playtime_forever', data=dataset)"
   ]
  },
  {
   "cell_type": "code",
   "execution_count": 33,
   "id": "b9c4cea3",
   "metadata": {},
   "outputs": [
    {
     "data": {
      "image/png": "[encoded data removed]",
      "text/plain": [
       "<Figure size 1152x648 with 4 Axes>"
      ]
     },
     "metadata": {
      "needs_background": "light"
     },
     "output_type": "display_data"
    }
   ],
   "source": [
    "plt.figure()\n",
    "\n",
    "plt.subplot(221)\n",
    "dataset['steam_purchase'].value_counts().plot(kind='bar', title='Steam purchase', figsize=(16,9))\n",
    "plt.xticks(rotation=0)\n",
    "\n",
    "plt.subplot(222)\n",
    "dataset['received_for_free'].value_counts().plot(kind='bar', title='Received for free', figsize=(16,9))\n",
    "plt.xticks(rotation=0)\n",
    "\n",
    "plt.subplot(223)\n",
    "dataset['recommended'].value_counts().plot(kind='bar', title='Recommended', figsize=(16,9))\n",
    "plt.xticks(rotation=0)\n",
    "\n",
    "plt.subplot(224)\n",
    "dataset['language'].value_counts().plot(kind='bar', title='Review language', figsize=(16,9))\n",
    "plt.xticks(rotation=\"vertical\")\n",
    "\n",
    "plt.show()"
   ]
  },
  {
   "cell_type": "markdown",
   "id": "30a935bc",
   "metadata": {},
   "source": [
    "### As we can see from the plots, there are more purchases than receiving for free. more recommended reviews and more reviews in english and russian than any other language"
   ]
  },
  {
   "cell_type": "code",
   "execution_count": 51,
   "id": "ed6990dd",
   "metadata": {},
   "outputs": [
    {
     "data": {
      "image/png": "[encoded data removed]",
      "text/plain": [
       "<Figure size 1296x1296 with 1 Axes>"
      ]
     },
     "metadata": {},
     "output_type": "display_data"
    }
   ],
   "source": [
    "plt.rcParams['figure.figsize'] = (18, 18)\n",
    "plt.pie(dataset['comment_count'].value_counts(),\n",
    "labels = dataset.comment_count.unique(),\n",
    "explode = [0.3 for value in range(0, dataset.comment_count.nunique())],\n",
    "shadow = True, autopct = '%.1f%%')\n",
    "plt.title('comment_count', fontsize = 20)\n",
    "plt.axis('off')\n",
    "plt.show()"
   ]
  },
  {
   "cell_type": "markdown",
   "id": "3281bf13",
   "metadata": {},
   "source": [
    "### The pie chart shows that 95.3% did not comment, 2.9% did comment just once and ..."
   ]
  },
  {
   "cell_type": "code",
   "execution_count": 65,
   "id": "838bdca4",
   "metadata": {},
   "outputs": [
    {
     "name": "stderr",
     "output_type": "stream",
     "text": [
      "C:\\Users\\Parsa33033\\anaconda3\\lib\\site-packages\\seaborn\\_decorators.py:36: FutureWarning: Pass the following variable as a keyword arg: x. From version 0.12, the only valid positional argument will be `data`, and passing other arguments without an explicit keyword will result in an error or misinterpretation.\n",
      "  warnings.warn(\n",
      "C:\\Users\\Parsa33033\\anaconda3\\lib\\site-packages\\seaborn\\_decorators.py:36: FutureWarning: Pass the following variable as a keyword arg: x. From version 0.12, the only valid positional argument will be `data`, and passing other arguments without an explicit keyword will result in an error or misinterpretation.\n",
      "  warnings.warn(\n",
      "C:\\Users\\Parsa33033\\anaconda3\\lib\\site-packages\\seaborn\\_decorators.py:36: FutureWarning: Pass the following variable as a keyword arg: x. From version 0.12, the only valid positional argument will be `data`, and passing other arguments without an explicit keyword will result in an error or misinterpretation.\n",
      "  warnings.warn(\n"
     ]
    },
    {
     "data": {
      "image/png": "[encoded data removed]",
      "text/plain": [
       "<Figure size 1080x216 with 3 Axes>"
      ]
     },
     "metadata": {
      "needs_background": "light"
     },
     "output_type": "display_data"
    }
   ],
   "source": [
    "fig, ax = plt.subplots(1, 3, figsize=(15, 3), sharey=True)\n",
    "sns.boxplot(dataset['weighted_vote_score'], ax=ax[0])\n",
    "sns.boxplot(dataset['comment_count'], ax=ax[1])\n",
    "sns.boxplot(dataset['app_id'], ax=ax[2])\n",
    "plt.show()"
   ]
  },
  {
   "cell_type": "markdown",
   "id": "9184ae1b",
   "metadata": {},
   "source": [
    "##  [RQ2] \n",
    "\n",
    " Let's explore the dataset by finding simple insights into the reviews.\n",
    "\n",
    "    Plot the number of reviews for each application in descending order.\n",
    "    What applications have the best Weighted Vote Score?\n",
    "    Which applications have the most and the least recommendations?\n",
    "    How many of these applications were purchased, and how many were given for free?\n",
    "\n"
   ]
  },
  {
   "cell_type": "markdown",
   "id": "e24f9691",
   "metadata": {},
   "source": [
    "### Answer 2\n",
    "---\n"
   ]
  },
  {
   "cell_type": "markdown",
   "id": "0f0e10d3",
   "metadata": {},
   "source": [
    "#### Plot the number of reviews for each application in descending order."
   ]
  },
  {
   "cell_type": "code",
   "execution_count": 16,
   "id": "42dcea20",
   "metadata": {},
   "outputs": [
    {
     "data": {
      "image/png": "[encoded data removed]",
      "text/plain": [
       "<Figure size 1008x720 with 1 Axes>"
      ]
     },
     "metadata": {
      "needs_background": "light"
     },
     "output_type": "display_data"
    }
   ],
   "source": [
    "plt.figure(figsize=(14,10))\n",
    "plt.bar(dataset.app_name.unique(), dataset.app_name.value_counts())\n",
    "plt.xticks(rotation='vertical')\n",
    "plt.show()"
   ]
  },
  {
   "cell_type": "markdown",
   "id": "e66ff63d",
   "metadata": {},
   "source": [
    "#### What applications have the best Weighted Vote Score?"
   ]
  },
  {
   "cell_type": "code",
   "execution_count": 17,
   "id": "448da305",
   "metadata": {},
   "outputs": [
    {
     "name": "stdout",
     "output_type": "stream",
     "text": [
      "Application which have the top ten best weighted vote score:\n",
      "  > Sid Meier's Civilization V\n",
      "  > The Witcher 3: Wild Hunt\n"
     ]
    }
   ],
   "source": [
    "top_ten_weighted_vote_score = dataset[dataset[\"weighted_vote_score\"] > 0].sort_values(by = \"weighted_vote_score\")[-10:]\n",
    "print(\"Application which have the top ten best weighted vote score:\")\n",
    "for i in top_ten_weighted_vote_score['app_name'].unique():\n",
    "    print(\"  > \" + i)"
   ]
  },
  {
   "cell_type": "markdown",
   "id": "c52c4eac",
   "metadata": {},
   "source": [
    "#### Which applications have the most and the least recommendations?"
   ]
  },
  {
   "cell_type": "code",
   "execution_count": 18,
   "id": "203a3eef",
   "metadata": {},
   "outputs": [
    {
     "data": {
      "text/html": [
       "<div>\n",
       "<style scoped>\n",
       "    .dataframe tbody tr th:only-of-type {\n",
       "        vertical-align: middle;\n",
       "    }\n",
       "\n",
       "    .dataframe tbody tr th {\n",
       "        vertical-align: top;\n",
       "    }\n",
       "\n",
       "    .dataframe thead th {\n",
       "        text-align: right;\n",
       "    }\n",
       "</style>\n",
       "<table border=\"1\" class=\"dataframe\">\n",
       "  <thead>\n",
       "    <tr style=\"text-align: right;\">\n",
       "      <th></th>\n",
       "      <th>app_name</th>\n",
       "      <th>recommended</th>\n",
       "      <th>0</th>\n",
       "    </tr>\n",
       "  </thead>\n",
       "  <tbody>\n",
       "    <tr>\n",
       "      <th>5</th>\n",
       "      <td>Garry's Mod</td>\n",
       "      <td>True</td>\n",
       "      <td>632558</td>\n",
       "    </tr>\n",
       "    <tr>\n",
       "      <th>15</th>\n",
       "      <td>The Witcher 3: Wild Hunt</td>\n",
       "      <td>True</td>\n",
       "      <td>460252</td>\n",
       "    </tr>\n",
       "    <tr>\n",
       "      <th>11</th>\n",
       "      <td>Portal 2</td>\n",
       "      <td>True</td>\n",
       "      <td>229470</td>\n",
       "    </tr>\n",
       "    <tr>\n",
       "      <th>3</th>\n",
       "      <td>Dead by Daylight</td>\n",
       "      <td>True</td>\n",
       "      <td>227356</td>\n",
       "    </tr>\n",
       "    <tr>\n",
       "      <th>13</th>\n",
       "      <td>Sid Meier's Civilization V</td>\n",
       "      <td>True</td>\n",
       "      <td>164797</td>\n",
       "    </tr>\n",
       "    <tr>\n",
       "      <th>1</th>\n",
       "      <td>Counter-Strike: Source</td>\n",
       "      <td>True</td>\n",
       "      <td>113430</td>\n",
       "    </tr>\n",
       "    <tr>\n",
       "      <th>7</th>\n",
       "      <td>Half-Life</td>\n",
       "      <td>True</td>\n",
       "      <td>55312</td>\n",
       "    </tr>\n",
       "    <tr>\n",
       "      <th>9</th>\n",
       "      <td>Half-Life 2: Episode Two</td>\n",
       "      <td>True</td>\n",
       "      <td>22704</td>\n",
       "    </tr>\n",
       "    <tr>\n",
       "      <th>17</th>\n",
       "      <td>X Rebirth</td>\n",
       "      <td>True</td>\n",
       "      <td>2970</td>\n",
       "    </tr>\n",
       "  </tbody>\n",
       "</table>\n",
       "</div>"
      ],
      "text/plain": [
       "                      app_name  recommended       0\n",
       "5                  Garry's Mod         True  632558\n",
       "15    The Witcher 3: Wild Hunt         True  460252\n",
       "11                    Portal 2         True  229470\n",
       "3             Dead by Daylight         True  227356\n",
       "13  Sid Meier's Civilization V         True  164797\n",
       "1       Counter-Strike: Source         True  113430\n",
       "7                    Half-Life         True   55312\n",
       "9     Half-Life 2: Episode Two         True   22704\n",
       "17                   X Rebirth         True    2970"
      ]
     },
     "execution_count": 18,
     "metadata": {},
     "output_type": "execute_result"
    }
   ],
   "source": [
    "recommended_apps = dataset.groupby([\"app_name\", \"recommended\"]).size().reset_index()\n",
    "recommended_apps = recommended_apps[recommended_apps[\"recommended\"] == True]\n",
    "recommended_apps = recommended_apps.sort_values(recommended_apps.columns[2], ascending = False)\n",
    "recommended_apps"
   ]
  },
  {
   "cell_type": "code",
   "execution_count": 19,
   "id": "466e308e",
   "metadata": {},
   "outputs": [
    {
     "name": "stdout",
     "output_type": "stream",
     "text": [
      "'Garry's Mod' had the most recommendations by 632558 and 'X Rebirth' had the least recommendation by 2970\n"
     ]
    }
   ],
   "source": [
    "print(\"'{}' had the most recommendations by {} and '{}' had the least recommendation by {}\"\n",
    "      .format(recommended_apps.iloc[0, 0], recommended_apps.iloc[0, -1], recommended_apps.iloc[-1, 0], recommended_apps.iloc[-1, -1]))"
   ]
  },
  {
   "cell_type": "markdown",
   "id": "3fd227b2",
   "metadata": {},
   "source": [
    "#### How many of these applications were purchased, and how many were given for free?"
   ]
  },
  {
   "cell_type": "code",
   "execution_count": 20,
   "id": "d1f6b85c",
   "metadata": {},
   "outputs": [
    {
     "data": {
      "text/html": [
       "<div>\n",
       "<style scoped>\n",
       "    .dataframe tbody tr th:only-of-type {\n",
       "        vertical-align: middle;\n",
       "    }\n",
       "\n",
       "    .dataframe tbody tr th {\n",
       "        vertical-align: top;\n",
       "    }\n",
       "\n",
       "    .dataframe thead th {\n",
       "        text-align: right;\n",
       "    }\n",
       "</style>\n",
       "<table border=\"1\" class=\"dataframe\">\n",
       "  <thead>\n",
       "    <tr style=\"text-align: right;\">\n",
       "      <th></th>\n",
       "      <th>app_name</th>\n",
       "      <th>steam_purchase</th>\n",
       "      <th>0</th>\n",
       "    </tr>\n",
       "  </thead>\n",
       "  <tbody>\n",
       "    <tr>\n",
       "      <th>0</th>\n",
       "      <td>Counter-Strike: Source</td>\n",
       "      <td>False</td>\n",
       "      <td>43264</td>\n",
       "    </tr>\n",
       "    <tr>\n",
       "      <th>1</th>\n",
       "      <td>Counter-Strike: Source</td>\n",
       "      <td>True</td>\n",
       "      <td>74817</td>\n",
       "    </tr>\n",
       "    <tr>\n",
       "      <th>2</th>\n",
       "      <td>Dead by Daylight</td>\n",
       "      <td>False</td>\n",
       "      <td>71328</td>\n",
       "    </tr>\n",
       "    <tr>\n",
       "      <th>3</th>\n",
       "      <td>Dead by Daylight</td>\n",
       "      <td>True</td>\n",
       "      <td>194118</td>\n",
       "    </tr>\n",
       "    <tr>\n",
       "      <th>4</th>\n",
       "      <td>Garry's Mod</td>\n",
       "      <td>False</td>\n",
       "      <td>104274</td>\n",
       "    </tr>\n",
       "    <tr>\n",
       "      <th>5</th>\n",
       "      <td>Garry's Mod</td>\n",
       "      <td>True</td>\n",
       "      <td>551250</td>\n",
       "    </tr>\n",
       "    <tr>\n",
       "      <th>6</th>\n",
       "      <td>Half-Life</td>\n",
       "      <td>False</td>\n",
       "      <td>13445</td>\n",
       "    </tr>\n",
       "    <tr>\n",
       "      <th>7</th>\n",
       "      <td>Half-Life</td>\n",
       "      <td>True</td>\n",
       "      <td>43875</td>\n",
       "    </tr>\n",
       "    <tr>\n",
       "      <th>8</th>\n",
       "      <td>Half-Life 2: Episode Two</td>\n",
       "      <td>False</td>\n",
       "      <td>5962</td>\n",
       "    </tr>\n",
       "    <tr>\n",
       "      <th>9</th>\n",
       "      <td>Half-Life 2: Episode Two</td>\n",
       "      <td>True</td>\n",
       "      <td>17538</td>\n",
       "    </tr>\n",
       "    <tr>\n",
       "      <th>10</th>\n",
       "      <td>Portal 2</td>\n",
       "      <td>False</td>\n",
       "      <td>49377</td>\n",
       "    </tr>\n",
       "    <tr>\n",
       "      <th>11</th>\n",
       "      <td>Portal 2</td>\n",
       "      <td>True</td>\n",
       "      <td>182952</td>\n",
       "    </tr>\n",
       "    <tr>\n",
       "      <th>12</th>\n",
       "      <td>Sid Meier's Civilization V</td>\n",
       "      <td>False</td>\n",
       "      <td>65937</td>\n",
       "    </tr>\n",
       "    <tr>\n",
       "      <th>13</th>\n",
       "      <td>Sid Meier's Civilization V</td>\n",
       "      <td>True</td>\n",
       "      <td>105467</td>\n",
       "    </tr>\n",
       "    <tr>\n",
       "      <th>14</th>\n",
       "      <td>The Witcher 3: Wild Hunt</td>\n",
       "      <td>False</td>\n",
       "      <td>39986</td>\n",
       "    </tr>\n",
       "    <tr>\n",
       "      <th>15</th>\n",
       "      <td>The Witcher 3: Wild Hunt</td>\n",
       "      <td>True</td>\n",
       "      <td>429409</td>\n",
       "    </tr>\n",
       "    <tr>\n",
       "      <th>16</th>\n",
       "      <td>X Rebirth</td>\n",
       "      <td>False</td>\n",
       "      <td>2067</td>\n",
       "    </tr>\n",
       "    <tr>\n",
       "      <th>17</th>\n",
       "      <td>X Rebirth</td>\n",
       "      <td>True</td>\n",
       "      <td>4934</td>\n",
       "    </tr>\n",
       "  </tbody>\n",
       "</table>\n",
       "</div>"
      ],
      "text/plain": [
       "                      app_name  steam_purchase       0\n",
       "0       Counter-Strike: Source           False   43264\n",
       "1       Counter-Strike: Source            True   74817\n",
       "2             Dead by Daylight           False   71328\n",
       "3             Dead by Daylight            True  194118\n",
       "4                  Garry's Mod           False  104274\n",
       "5                  Garry's Mod            True  551250\n",
       "6                    Half-Life           False   13445\n",
       "7                    Half-Life            True   43875\n",
       "8     Half-Life 2: Episode Two           False    5962\n",
       "9     Half-Life 2: Episode Two            True   17538\n",
       "10                    Portal 2           False   49377\n",
       "11                    Portal 2            True  182952\n",
       "12  Sid Meier's Civilization V           False   65937\n",
       "13  Sid Meier's Civilization V            True  105467\n",
       "14    The Witcher 3: Wild Hunt           False   39986\n",
       "15    The Witcher 3: Wild Hunt            True  429409\n",
       "16                   X Rebirth           False    2067\n",
       "17                   X Rebirth            True    4934"
      ]
     },
     "execution_count": 20,
     "metadata": {},
     "output_type": "execute_result"
    }
   ],
   "source": [
    "purchased_apps = dataset.groupby([\"app_name\", \"steam_purchase\"]).size().reset_index()\n",
    "purchased_apps"
   ]
  },
  {
   "cell_type": "markdown",
   "id": "4fe0315b",
   "metadata": {},
   "source": [
    "## [RQ3]\n",
    "\n",
    "*Now it's important to understand the preferred time to do reviews.*\n",
    "- What is the most common time that authors review an application? For example, authors usually write a review at 17:44.\n",
    "- Create a function that receives as a parameter a list of time intervals and returns the plot the number of reviews for each of the intervals.\n",
    "- Use the function that you created in the previous literal to plot the number of reviews between the following time intervals: \n",
    "    \n",
    "| Initial time | Final time |\n",
    "| ----------- | ----------- |\n",
    "|06:00:00 | 10:59:59|\n",
    "|11:00:00 | 13:59:59|\n",
    "|14:00:00 | 16:59:59|\n",
    "|17:00:00 | 19:59:59|\n",
    "|20:00:00 | 23:59:59|\n",
    "|00:00:00 | 02:59:59|\n",
    "|03:00:00 | 05:59:59|"
   ]
  },
  {
   "cell_type": "markdown",
   "id": "221d5e4d",
   "metadata": {},
   "source": [
    "### Answer 3\n",
    "---\n"
   ]
  },
  {
   "cell_type": "markdown",
   "id": "742a7ca2",
   "metadata": {},
   "source": [
    "#### What is the most common time that authors review an application? For example, authors usually write a review at 17:44."
   ]
  },
  {
   "cell_type": "code",
   "execution_count": 21,
   "id": "8fe84b97",
   "metadata": {},
   "outputs": [
    {
     "data": {
      "text/plain": [
       "15:54:53    56\n",
       "18:12:37    54\n",
       "21:08:22    52\n",
       "15:00:44    52\n",
       "19:39:49    52\n",
       "            ..\n",
       "07:26:09     5\n",
       "04:12:25     5\n",
       "05:28:35     5\n",
       "05:31:53     4\n",
       "05:27:13     4\n",
       "Name: timestamp_created, Length: 86400, dtype: int64"
      ]
     },
     "execution_count": 21,
     "metadata": {},
     "output_type": "execute_result"
    }
   ],
   "source": [
    "dataset['timestamp_created'] = pd.to_datetime(dataset['timestamp_created'])\n",
    "t = dataset['timestamp_created'].dt.time\n",
    "# t = t.apply(lambda x: x.strftime(\"%H:%M:%S\"))\n",
    "t_count = t.value_counts()\n",
    "t_count"
   ]
  },
  {
   "cell_type": "markdown",
   "id": "61a79e8c",
   "metadata": {},
   "source": [
    "As we can see in the count of each of the unique timestamp values of the created reviews, most reviews happened at \"15:54:53\"."
   ]
  },
  {
   "cell_type": "markdown",
   "id": "4385f553",
   "metadata": {},
   "source": [
    "#### Create a function that receives as a parameter a list of time intervals and returns the plot the number of reviews for each of the intervals."
   ]
  },
  {
   "cell_type": "code",
   "execution_count": null,
   "id": "28255496",
   "metadata": {},
   "outputs": [],
   "source": [
    "def plot_interval_num(timestamp_col, l):\n",
    "    timestamp_col = timestamp_col.dt.time\n",
    "    timestamp_col_count = timestamp_col.value_counts()\n",
    "    timestamp_col_count = timestamp_col_count.sort_index()\n",
    "    intervals = []\n",
    "    counts = []\n",
    "    for i in l:\n",
    "        start, end = i\n",
    "        intervals.append(start + \"-\" + end)\n",
    "        start = datetime.strptime(start, \"%H:%M:%S\").time()\n",
    "        end = datetime.strptime(end, \"%H:%M:%S\").time()\n",
    "        c = 0\n",
    "        for time, count in dict(timestamp_col_count).items():\n",
    "            if start <= time < end:\n",
    "                c += count\n",
    "            elif time >= end:\n",
    "                break\n",
    "        counts.append(c)\n",
    "    plt.figure()\n",
    "    plt.bar(intervals, counts)\n",
    "    plt.xticks(rotation='vertical')\n",
    "    plt.show()\n",
    "    "
   ]
  },
  {
   "cell_type": "markdown",
   "id": "a9e73775",
   "metadata": {},
   "source": [
    "#### Use the function that you created in the previous literal to plot the number of reviews between the following time intervals: \n",
    "\n",
    "| Initial time | Final time |\n",
    "| ----------- | ----------- |\n",
    "|06:00:00 | 10:59:59|\n",
    "|11:00:00 | 13:59:59|\n",
    "|14:00:00 | 16:59:59|\n",
    "|17:00:00 | 19:59:59|\n",
    "|20:00:00 | 23:59:59|\n",
    "|00:00:00 | 02:59:59|\n",
    "|03:00:00 | 05:59:59|"
   ]
  },
  {
   "cell_type": "code",
   "execution_count": 27,
   "id": "555af2a8",
   "metadata": {},
   "outputs": [
    {
     "data": {
      "image/png": "[encoded data removed]",
      "text/plain": [
       "<Figure size 432x288 with 1 Axes>"
      ]
     },
     "metadata": {
      "needs_background": "light"
     },
     "output_type": "display_data"
    }
   ],
   "source": [
    "l = [[\"06:00:00\",\"10:59:59\"],\n",
    "    [\"11:00:00\",\"13:59:59\"],\n",
    "    [\"14:00:00\",\"16:59:59\"],\n",
    "    [\"17:00:00\",\"19:59:59\"],\n",
    "    [\"20:00:00\",\"23:59:59\"],\n",
    "    [\"00:00:00\",\"02:59:59\"],\n",
    "    [\"03:00:00\",\"05:59:59\"]]\n",
    "\n",
    "plot_interval_num(dataset['timestamp_created'], l)"
   ]
  },
  {
   "cell_type": "markdown",
   "id": "21842356",
   "metadata": {},
   "source": [
    "## [**RQ4**] \n",
    "\n",
    "*As Steam is a worldwide platform, the reviews can be done in many languages. Let's extract some information about it.*\n",
    "- What are the top 3 languages used to review applications?\n",
    "- Create a function that receives as parameters both the name of a data set and a list of languages’ names and returns a data frame filtered only with the reviews written in the provided languages.\n",
    "- Use the function created in the previous literal to find what percentage of these reviews (associated with the top 3 languages) were voted as funny?\n",
    "- Use the function created in the literal “a” to find what percentage of these reviews (associated with the top 3 languages) were voted as helpful?"
   ]
  },
  {
   "cell_type": "markdown",
   "id": "2fa87eaa",
   "metadata": {},
   "source": [
    "### Answer 4\n",
    "---\n"
   ]
  },
  {
   "cell_type": "markdown",
   "id": "06b380f3",
   "metadata": {},
   "source": [
    "#### What are the top 3 languages used to review applications?"
   ]
  },
  {
   "cell_type": "code",
   "execution_count": 28,
   "id": "86ac2659",
   "metadata": {},
   "outputs": [
    {
     "data": {
      "text/plain": [
       "english     876981\n",
       "russian     355410\n",
       "schinese    172649\n",
       "Name: language, dtype: int64"
      ]
     },
     "execution_count": 28,
     "metadata": {},
     "output_type": "execute_result"
    }
   ],
   "source": [
    "top_three_langs = dataset['language'].value_counts()[:3]\n",
    "top_three_langs"
   ]
  },
  {
   "cell_type": "markdown",
   "id": "26b941dc",
   "metadata": {},
   "source": [
    "#### Create a function that receives as parameters both the name of a data set and a list of languages’ names and returns a data frame filtered only with the reviews written in the provided languages."
   ]
  },
  {
   "cell_type": "code",
   "execution_count": 29,
   "id": "c214d2d9",
   "metadata": {},
   "outputs": [
    {
     "data": {
      "text/plain": [
       "['english', 'russian', 'schinese']"
      ]
     },
     "execution_count": 29,
     "metadata": {},
     "output_type": "execute_result"
    }
   ],
   "source": [
    "top_three_langs = list(dict(top_three_langs).keys())\n",
    "top_three_langs"
   ]
  },
  {
   "cell_type": "code",
   "execution_count": 30,
   "id": "1e256b1a",
   "metadata": {},
   "outputs": [],
   "source": [
    "def fetch_dataset_with_Lang(dataset, langList):\n",
    "    return dataset[dataset['language'].isin(langList)]"
   ]
  },
  {
   "cell_type": "markdown",
   "id": "ca91f686",
   "metadata": {},
   "source": [
    "#### Use the function created in the previous literal to find what percentage of these reviews (associated with the top 3 languages) were voted as funny?"
   ]
  },
  {
   "cell_type": "code",
   "execution_count": 31,
   "id": "2ce72278",
   "metadata": {},
   "outputs": [
    {
     "name": "stdout",
     "output_type": "stream",
     "text": [
      "5.45% of the data contain english, russian, and schinese languages which are funny\n"
     ]
    }
   ],
   "source": [
    "top_three_langs_records = fetch_dataset_with_Lang(dataset, top_three_langs)\n",
    "funny_top_three_langs_records = top_three_langs_records[top_three_langs_records['votes_funny'] == True]\n",
    "print(\"{:.2f}% of the data contain {}, {}, and {} languages which are funny\".format(len(funny_top_three_langs_records)/len(dataset)*100, top_three_langs[0], top_three_langs[1], top_three_langs[2]))"
   ]
  },
  {
   "cell_type": "markdown",
   "id": "2c646888",
   "metadata": {},
   "source": [
    "#### Use the function created in the literal “a” to find what percentage of these reviews (associated with the top 3 languages) were voted as helpful?"
   ]
  },
  {
   "cell_type": "code",
   "execution_count": 32,
   "id": "9bed08cb",
   "metadata": {},
   "outputs": [
    {
     "name": "stdout",
     "output_type": "stream",
     "text": [
      "12.45% of the data contain english, russian, and schinese languages which are helpful\n"
     ]
    }
   ],
   "source": [
    "helpful_top_three_langs_records = top_three_langs_records[top_three_langs_records['votes_helpful'] == True]\n",
    "print(\"{:.2f}% of the data contain {}, {}, and {} languages which are helpful\".format(len(helpful_top_three_langs_records)/len(dataset)*100, top_three_langs[0], top_three_langs[1], top_three_langs[2]))"
   ]
  },
  {
   "cell_type": "markdown",
   "id": "387916e1",
   "metadata": {},
   "source": [
    "## [**RQ5**] \n",
    "\n",
    "*The reviews' authors are users from the game that provide their opinion on it. Now you can check how often they make reviews.*\n",
    "- Plot the top 10 most popular reviewers and the number of reviews.\n",
    "- What applications did the most popular author review? \n",
    "- How many applications did he purchase, and how many did he get as free? Provide the number (count) and the percentage.\n",
    "- How many of the applications he purchased reviewed positively, and how many negatively? How about the applications he received for free?"
   ]
  },
  {
   "cell_type": "markdown",
   "id": "095c0b8a",
   "metadata": {},
   "source": [
    "### Answer 5\n",
    "---\n"
   ]
  },
  {
   "cell_type": "code",
   "execution_count": 33,
   "id": "4b0f6653",
   "metadata": {},
   "outputs": [
    {
     "name": "stdout",
     "output_type": "stream",
     "text": [
      "We can obtain the number of reviews that an author has:\n",
      " 76561198385306369    8\n",
      "76561198077273370    8\n",
      "76561198048462415    8\n",
      "76561198067958868    8\n",
      "76561197996644633    7\n",
      "                    ..\n",
      "76561198341899321    1\n",
      "76561198237035572    1\n",
      "76561198260241306    1\n",
      "76561198364923589    1\n",
      "76561198157924351    1\n",
      "Name: author.steamid, Length: 1819576, dtype: int64 \n",
      "\n",
      "Top 10 authors with more reviews:  [76561198385306369, 76561198077273370, 76561198048462415] \n",
      "\n",
      "Most popular author id:  76561198385306369\n",
      "App names of the most popular author review: ['The Witcher 3: Wild Hunt' 'Half-Life' 'Counter-Strike: Source'\n",
      " 'Half-Life 2: Episode Two' 'Portal 2' \"Garry's Mod\"\n",
      " \"Sid Meier's Civilization V\" 'Dead by Daylight']\n",
      "The most popular author has purchased 8 apps ( 100.0 %)\n",
      "The most popular author has got for free  0 apps ( 0.0 %)\n",
      "\n",
      "\n",
      "The most popular author reviewed positively  1 and negatively  7 of the games he purchased.\n",
      "The most popular author reviewed positively  0 and negatively  0 of the games he got for free.\n"
     ]
    }
   ],
   "source": [
    "\n",
    "authorCounts = dataset['author.steamid'].value_counts()\n",
    "print(\"To know the most popular reviewers, we are going to use the reviews we have in the dataset, as we know for sure that they exist. We could use the votes of the reviews to do that, but probably that depends more on the popularity of the game.\")\n",
    "print(\"We can obtain the number of reviews that an author has:\\n\", authorCounts, \"\\n\")\n",
    "print(\"Top 10 authors with more reviews: \", authorCounts[:3].index.tolist(), \"\\n\")\n",
    "\n",
    "mostPopularAuthor = authorCounts[:1].index.tolist()[0]\n",
    "print(\"Now we can easily know who is the most popular author.\")\n",
    "print(\"Most popular author id: \" , mostPopularAuthor)\n",
    "#rslt_df = dataframe[dataframe['Percentage'] > 80]\n",
    "\n",
    "appMPARows = dataset[dataset['author.steamid'] == mostPopularAuthor]\n",
    "print(\"App names of the most popular author review:\", appMPARows['app_name'].values)\n",
    "print(\"The most popular author has purchased\", appMPARows['steam_purchase'].sum(), \"apps (\",  appMPARows['steam_purchase'].sum()*100/len(appMPARows), \"%)\")\n",
    "print(\"The most popular author has got for free \", appMPARows['received_for_free'].sum(), \"apps (\",  appMPARows['received_for_free'].sum()*100/len(appMPARows), \"%)\\n\\n\")\n",
    "\n",
    "\n",
    "\n",
    "appMPApurchased = appMPARows[appMPARows['steam_purchase'] == True]\n",
    "appPurchasedReviewedPositively = appMPApurchased[appMPApurchased['recommended'] == 1]\n",
    "\n",
    "appPurchasedReviewedNegatively = appMPApurchased[appMPApurchased['recommended'] == 0]\n",
    "\n",
    "\n",
    "appMPAfree = appMPARows[appMPARows['received_for_free'] == True]\n",
    "appFreeReviewedPositively = appMPAfree[appMPAfree['recommended'] == 1]\n",
    "\n",
    "appFreeReviewedNegatively = appMPAfree[appMPAfree['recommended'] == 0]\n",
    "\n",
    "\n",
    "print(\"The most popular author reviewed positively \", len(appPurchasedReviewedPositively), \"and negatively \", len(appPurchasedReviewedNegatively), 'of the games he purchased.')\n",
    "print(\"The most popular author reviewed positively \", len(appFreeReviewedPositively), \"and negatively \", len(appFreeReviewedNegatively), 'of the games he got for free.')"
   ]
  },
  {
   "cell_type": "markdown",
   "id": "5171573d",
   "metadata": {},
   "source": [
    "## [**RQ6**]\n",
    "\n",
    "*It's time to get information from the updates that a user does to his reviews.*\n",
    "- What is the average time (days and minutes) a user lets pass before he updates a review?\n",
    "- Plot the top 3 authors that usually update their reviews."
   ]
  },
  {
   "cell_type": "markdown",
   "id": "dd17a19e",
   "metadata": {},
   "source": [
    "### Answer 6\n",
    "---\n"
   ]
  },
  {
   "cell_type": "code",
   "execution_count": 34,
   "id": "d67175b0",
   "metadata": {},
   "outputs": [
    {
     "name": "stdout",
     "output_type": "stream",
     "text": [
      "The average time a user lets pass before he updates a review is : 49 days 05:24:15.798352\n",
      "But if we only count the reviews that has been updated, the average is:  452 days 01:46:13.902899784\n",
      "To know the authors that usually update their reviews\n",
      "1782225\n",
      "204319\n"
     ]
    },
    {
     "ename": "NameError",
     "evalue": "name 'aux' is not defined",
     "output_type": "error",
     "traceback": [
      "\u001b[1;31m---------------------------------------------------------------------------\u001b[0m",
      "\u001b[1;31mNameError\u001b[0m                                 Traceback (most recent call last)",
      "\u001b[1;32m<ipython-input-34-89c6a0f2a92f>\u001b[0m in \u001b[0;36m<module>\u001b[1;34m\u001b[0m\n\u001b[0;32m     11\u001b[0m \u001b[0mprint\u001b[0m\u001b[1;33m(\u001b[0m\u001b[0mlen\u001b[0m\u001b[1;33m(\u001b[0m\u001b[0mupdateTimeNOTEditedRows\u001b[0m\u001b[1;33m)\u001b[0m\u001b[1;33m)\u001b[0m\u001b[1;33m\u001b[0m\u001b[1;33m\u001b[0m\u001b[0m\n\u001b[0;32m     12\u001b[0m \u001b[0mprint\u001b[0m\u001b[1;33m(\u001b[0m\u001b[0mlen\u001b[0m\u001b[1;33m(\u001b[0m\u001b[0mupdateTimeEditedRows\u001b[0m\u001b[1;33m[\u001b[0m\u001b[1;34m'author.steamid'\u001b[0m\u001b[1;33m]\u001b[0m\u001b[1;33m.\u001b[0m\u001b[0mvalue_counts\u001b[0m\u001b[1;33m(\u001b[0m\u001b[1;33m)\u001b[0m\u001b[1;33m)\u001b[0m\u001b[1;33m)\u001b[0m\u001b[1;33m\u001b[0m\u001b[1;33m\u001b[0m\u001b[0m\n\u001b[1;32m---> 13\u001b[1;33m \u001b[0mprint\u001b[0m\u001b[1;33m(\u001b[0m\u001b[0mlen\u001b[0m\u001b[1;33m(\u001b[0m\u001b[0mupdateTime\u001b[0m\u001b[1;33m)\u001b[0m\u001b[1;33m,\u001b[0m \u001b[0mlen\u001b[0m\u001b[1;33m(\u001b[0m\u001b[0maux\u001b[0m\u001b[1;33m)\u001b[0m\u001b[1;33m)\u001b[0m\u001b[1;33m\u001b[0m\u001b[1;33m\u001b[0m\u001b[0m\n\u001b[0m\u001b[0;32m     14\u001b[0m \u001b[1;33m\u001b[0m\u001b[0m\n",
      "\u001b[1;31mNameError\u001b[0m: name 'aux' is not defined"
     ]
    }
   ],
   "source": [
    "updateTime = dataset['timestamp_updated'] - dataset['timestamp_created']\n",
    "\n",
    "print(\"The average time a user lets pass before he updates a review is :\",updateTime.mean(), \"\\n That's because we are not counting all the reviews that has 0 time passed because the 'timestamp_updated' and the 'timestamp_created' are the same.\")\n",
    "\n",
    "updateTimeEditedRows = dataset[dataset['timestamp_updated'] != dataset['timestamp_created']]\n",
    "updateTimeNOTEditedRows = dataset[dataset['timestamp_updated'] == dataset['timestamp_created']]\n",
    "updateTimeEdited = updateTimeEditedRows['timestamp_updated'] - updateTimeEditedRows['timestamp_created']\n",
    "print(\"But if we only count the reviews that has been updated, the average is: \", updateTimeEdited.mean())\n",
    "\n",
    "\n",
    "datasetAuthorGroup = dataset.groupby(\"author.steamid\")\n",
    "\n",
    "nUpdates = {}\n",
    "nUpdatesRate = {}\n",
    "\n",
    "for name, group in datasetAuthorGroup:\n",
    "    group['updated'] = np.where(group['timestamp_updated'] != group['timestamp_created'], True, False)\n",
    "    nUpdated = group['updated'].sum()\n",
    "    nUpdates[name] = nUpdated\n",
    "    nUpdatesRate[name] = nUpdated * 100 / len(group)\n"
   ]
  },
  {
   "cell_type": "code",
   "execution_count": 34,
   "id": "bd03376d",
   "metadata": {},
   "outputs": [
    {
     "name": "stdout",
     "output_type": "stream",
     "text": [
      "The 3 authors id that have updated more reviews are:\n",
      "76561198054625538 With  7 updated reviews.\n",
      "76561197977081885 With  6 updated reviews.\n",
      "76561197982182239 With  6 updated reviews.\n",
      "\n",
      "\n",
      "The 3 authors id that have a higher update percentage are:\n",
      "76561197960267408 With  100.0 % updates in its reviews.\n",
      "76561197960269200 With  100.0 % updates in its reviews.\n",
      "76561197960270173 With  100.0 % updates in its reviews.\n",
      "\n",
      "As we can see, it's common that an author has a 100% update in its review ( 167901 Authors). That's because many authors only have one review, and get a 100% it's not really strange when you have few reviews.\n"
     ]
    }
   ],
   "source": [
    "sortednUpdates = sorted(nUpdates, key=nUpdates.get, reverse=True)\n",
    "sortednUpdatesRate = sorted(nUpdatesRate, key=nUpdatesRate.get, reverse=True)\n",
    "\n",
    "print(\"The 3 authors id that have updated more reviews are:\")\n",
    "print(sortednUpdates[0], 'With ', nUpdates[sortednUpdates[0]], 'updated reviews.')\n",
    "print(sortednUpdates[1], 'With ', nUpdates[sortednUpdates[1]], 'updated reviews.')\n",
    "print(sortednUpdates[2], 'With ', nUpdates[sortednUpdates[2]], 'updated reviews.\\n\\n')\n",
    "\n",
    "print(\"The 3 authors id that have a higher update percentage are:\")\n",
    "print(sortednUpdatesRate[0], 'With ', nUpdatesRate[sortednUpdatesRate[0]], '% updates in its reviews.')\n",
    "print(sortednUpdatesRate[1], 'With ', nUpdatesRate[sortednUpdatesRate[1]], '% updates in its reviews.')\n",
    "print(sortednUpdatesRate[2], 'With ', nUpdatesRate[sortednUpdatesRate[2]], '% updates in its reviews.\\n')\n",
    "\n",
    "print(\"As we can see, it's common that an author has a 100% update in its review (\", len(list(filter(lambda x: x == 100.0, list(nUpdatesRate.values())))),\"Authors). That's because many authors only have one review, and get a 100% it's not really strange when you have few reviews.\")"
   ]
  },
  {
   "cell_type": "markdown",
   "id": "008e0a73",
   "metadata": {},
   "source": [
    "## [**RQ7**] \n",
    "\n",
    "*Of course, calculating probabilities is a job that any Data Scientist must know. Let's compute Some interesting figures.*\n",
    "- What’s the probability that a review has a Weighted Vote Score equal to or bigger than 0.5?\n",
    "- What’s the probability that a review has at least one vote as funny given that the Weighted Vote Score is bigger than 0.5?\n",
    "- Is the probability that “a review has at least one vote as funny” independent of the “probability that a review has a Weighted Vote Score equal or bigger than 0.5”?"
   ]
  },
  {
   "cell_type": "markdown",
   "id": "c9c3e119",
   "metadata": {},
   "source": [
    "### Answer 7\n",
    "---\n"
   ]
  },
  {
   "cell_type": "code",
   "execution_count": 35,
   "id": "7c3ef230",
   "metadata": {},
   "outputs": [
    {
     "name": "stdout",
     "output_type": "stream",
     "text": [
      "The probability that a review has a Weighted Vote Score equal to or bigger than 0.5 is 21.735 %\n",
      "The probability that a review has at least one vote as funny given that the Weighted Vote Score is bigger than 0.5 is 0.45955605985391107 %\n",
      "If the conditional probability of two events is equal to the probability that these 2 events happen, they are independent\n",
      "The probability of 'review has at least one vote as funny given that the Weighted Vote Score is bigger than 0.5' is 4.86015 %. And the probabilities of 'a review has at least one vote as funny' and 'probability that a review has a Weighted Vote Score equal or bigger than 0.5' are 10.57575 % and 21.735 %. So the probability of these two events happening is the multiplication of the 2 probabilities:  2.2986392624999996 %\n",
      "The 2 variables are DEPENDENT\n"
     ]
    }
   ],
   "source": [
    "probWeightScore = len(dataset[dataset['weighted_vote_score'] >= 0.5])*100/len(dataset)\n",
    "print(\"The probability that a review has a Weighted Vote Score equal to or bigger than 0.5 is\" , probWeightScore, '%')\n",
    "print(\"For knowing it, we can count how many of them are over 0.5 and divide it by the amount of reviews.\")\n",
    "\n",
    "probVoteAsFunny = len(dataset[dataset['votes_funny'] > 0])*100/len(dataset)\n",
    "probVoteAsFunnyAndWeight = len(dataset[(dataset['votes_funny'] > 0) & (dataset['weighted_vote_score'] >= 0.5)])*100/len(dataset)\n",
    "print(\"The probability that a review has at least one vote as funny given that the Weighted Vote Score is bigger than 0.5 is\", probVoteAsFunnyAndWeight/probVoteAsFunny, \"%\")\n",
    "\n",
    "aux = probVoteAsFunnyAndWeight/100\n",
    "aux2 = (probVoteAsFunny/100)*(probWeightScore/100)\n",
    "print(\"If the conditional probability of two events is equal to the probability that these 2 events happen, they are independent\")\n",
    "print(\"The probability of 'review has at least one vote as funny given that the Weighted Vote Score is bigger than 0.5' is\", probVoteAsFunnyAndWeight, \"%. And the probabilities of 'a review has at least one vote as funny' and 'probability that a review has a Weighted Vote Score equal or bigger than 0.5' are\", probVoteAsFunny, '% and', probWeightScore, '%. So the probability of these two events happening is the multiplication of the 2 probabilities: ', aux2*100, '%')\n",
    "if(aux == aux2):\n",
    "    print(\"The 2 variables are INDEPENDENT\")\n",
    "else:\n",
    "    print(\"The 2 variables are DEPENDENT\")\n",
    "\n"
   ]
  },
  {
   "cell_type": "markdown",
   "id": "3276f158",
   "metadata": {},
   "source": [
    "## [**RQ8**] \n",
    "\n",
    "*Every decision you take in a data-based environment should be reinforced with charts, statistical tests and analysis methods to check if a hypothesis is correct or not.*\n",
    "- Is there a significant difference in the Weighted Vote Score of reviews made in Chinese vs the ones made in Russian? Use an appropriate statistical test or technique and support your choice.\n",
    "- Can you find any significant relationship between the time that a user lets pass before he updates the review and the Weighted Vote Score?  Use an appropriate statistical test or technique and support your choice.\n",
    "- Is there any change in the relationship of the variables mentioned in the previous literal if you include whether an application is recommended or not in the review?  Use an appropriate statistical test or technique and support your choice.\n",
    "- What are histograms, bar plots, scatterplots and pie charts used for?\n",
    "- What insights can you extract from a Box Plot?"
   ]
  },
  {
   "cell_type": "markdown",
   "id": "5c5da745",
   "metadata": {},
   "source": [
    "### Answer 8\n",
    "---\n"
   ]
  },
  {
   "cell_type": "markdown",
   "id": "e2085f90",
   "metadata": {},
   "source": [
    "#### Is there a significant difference in the Weighted Vote Score of reviews made in Chinese vs the ones made in Russian? Use an appropriate statistical test or technique and support your choice."
   ]
  },
  {
   "cell_type": "code",
   "execution_count": 42,
   "id": "1cb63899",
   "metadata": {},
   "outputs": [
    {
     "data": {
      "text/plain": [
       "Ttest_indResult(statistic=29.683462912199534, pvalue=3.903908896060725e-193)"
      ]
     },
     "execution_count": 42,
     "metadata": {},
     "output_type": "execute_result"
    }
   ],
   "source": [
    "chinese = dataset[dataset['language'] == 'schinese']\n",
    "russian = dataset[dataset['language'] == 'russian']\n",
    "chi_wvs = list(chinese[chinese['weighted_vote_score'] != 0]['weighted_vote_score'])\n",
    "rus_wvs = list(russian[russian['weighted_vote_score'] != 0]['weighted_vote_score'])\n",
    "\n",
    "ttest_ind(chi_wvs, rus_wvs)"
   ]
  },
  {
   "cell_type": "code",
   "execution_count": null,
   "id": "d684e1c2",
   "metadata": {},
   "outputs": [],
   "source": [
    "f_oneway(chi_wvs, rus_wvs)"
   ]
  },
  {
   "cell_type": "markdown",
   "id": "5b46f180",
   "metadata": {},
   "source": [
    "Since p < 0.05 in t-test and one-way anova, the weighted vote scores for both groups of russian and chinese language are statistically significan and it rejects the null hypothesis which indicates that weighted vote scores for each group is a result of chance."
   ]
  },
  {
   "cell_type": "markdown",
   "id": "a945a5e5",
   "metadata": {},
   "source": [
    "#### Can you find any significant relationship between the time that a user lets pass before he updates the review and the Weighted Vote Score? Use an appropriate statistical test or technique and support your choice."
   ]
  },
  {
   "cell_type": "code",
   "execution_count": 114,
   "id": "e664b0c6",
   "metadata": {},
   "outputs": [
    {
     "data": {
      "text/plain": [
       "F_onewayResult(statistic=143805.8904795836, pvalue=0.0)"
      ]
     },
     "execution_count": 114,
     "metadata": {},
     "output_type": "execute_result"
    }
   ],
   "source": [
    "time_diff = dataset['timestamp_updated'] - dataset['timestamp_created']\n",
    "time_diff = time_diff.dt.total_seconds()\n",
    "time_diff_non_zero = time_diff[time_diff != 0]\n",
    "idx = time_diff_non_zero.index\n",
    "wvs = dataset['weighted_vote_score']\n",
    "f_oneway(time_diff_non_zero, wvs.iloc[idx])"
   ]
  },
  {
   "cell_type": "markdown",
   "id": "f89f4b90",
   "metadata": {},
   "source": [
    "Relationship between the difference of the time that the review was updated and the time that it was created with weighted_vote_score is statistically significant"
   ]
  },
  {
   "cell_type": "markdown",
   "id": "9eedd6df",
   "metadata": {},
   "source": [
    "#### Is there any change in the relationship of the variables mentioned in the previous literal if you include whether an application is recommended or not in the review? Use an appropriate statistical test or technique and support your choice."
   ]
  },
  {
   "cell_type": "code",
   "execution_count": 119,
   "id": "e521603c",
   "metadata": {},
   "outputs": [
    {
     "name": "stderr",
     "output_type": "stream",
     "text": [
      "<ipython-input-119-a9be909b12e2>:1: UserWarning: Boolean Series key will be reindexed to match DataFrame index.\n",
      "  d = dataset.iloc[idx][dataset['recommended'] == False]\n"
     ]
    },
    {
     "data": {
      "text/plain": [
       "Ttest_indResult(statistic=88.61138570245565, pvalue=0.0)"
      ]
     },
     "execution_count": 119,
     "metadata": {},
     "output_type": "execute_result"
    }
   ],
   "source": [
    "d = dataset.iloc[idx][dataset['recommended'] == False]\n",
    "ttest_ind(time_diff.iloc[d.index], wvs.iloc[d.index])"
   ]
  },
  {
   "cell_type": "markdown",
   "id": "73b1fd0e",
   "metadata": {},
   "source": [
    "Relationship between the difference of the time that the review was updated and the time that it was created with weighted_vote_score when the review recommends the applicatino is statistically significant"
   ]
  },
  {
   "cell_type": "markdown",
   "id": "9d1bcfd2",
   "metadata": {},
   "source": [
    "#### What are histograms, bar plots, scatterplots and pie charts used for?"
   ]
  },
  {
   "cell_type": "markdown",
   "id": "98c3fe87",
   "metadata": {},
   "source": [
    "- Histograms are used to show the distribution of values in a column\n",
    "- Pie charts are used to show the percentage of the quantity of each category within a single column\n",
    "- Bar plots are used to show the quantity of each category or value within a single column\n",
    "- Scatter plots are used for showing the relationship between two columns"
   ]
  },
  {
   "cell_type": "markdown",
   "id": "230eea27",
   "metadata": {},
   "source": [
    "#### What insights can you extract from a Box Plot?"
   ]
  },
  {
   "cell_type": "markdown",
   "id": "438c6e86",
   "metadata": {},
   "source": [
    "- In box plots we can see the median, 1st and 3d quartile, standard deviation, and the outliers"
   ]
  },
  {
   "cell_type": "markdown",
   "id": "3dee11ae",
   "metadata": {},
   "source": [
    "### TQ1\n",
    "We are given the following algorithm.\n",
    "```\n",
    "Input: \n",
    "    A: array of length n\n",
    "    k: integers between 1 and n\n",
    "    \n",
    "function alg(A, k):\n",
    "  s <-- a random element of A\n",
    "  set L = [all the elements of A with value <= s]\n",
    "  set R = [all the elements of A with value > s]\n",
    "  r = len(L)\n",
    "  if k == r:\n",
    "    return s\n",
    "  else if k < r:  \n",
    "    return alg(L, k)\n",
    "  else:\n",
    "    return alg(R, k - r)\n",
    "```\n",
    "1. What does the algorithm compute?\n",
    "2. What is asymptotically (i.e., we are asking for big-O complexity) the running time of the algorithm in the worst case, as a function of n?\n",
    "3. What is asymptotically the running time of the algorithm in the best case?"
   ]
  },
  {
   "cell_type": "markdown",
   "id": "cd3f7202",
   "metadata": {},
   "source": [
    "# Answer"
   ]
  },
  {
   "cell_type": "markdown",
   "id": "53db9f81",
   "metadata": {},
   "source": [
    "1.\tThe algorithm finds the K-th smallest value. By using a randomized algorithm, a random value ‘s’ will be picked from the array. Subsequently, this random element will be checked if it is the k-th smallest value by checking the length of the array containing elements smaller than the ‘s’.\n",
    "Each time, the array gets separated by ‘s’ and smaller values are picked in L and bigger values are picked in R. Therefore, by using recursion, a tree will be made. So, at each recurrence, the smaller list will be checked for the k-th smallest value and if it finds it by checking the length of the L, the algorithm will print that it found the k-th value which is the random number picked, other wise it will keep the recursion. \n",
    "\n",
    "2.\tIn the worst case the random element picked from the array will be the smallest or largest element in the array by which each iteration in the tree will have n-1 elements of the previous array.\n",
    "\n",
    "1 $ \\rightarrow $ T(n)= T(n-1) + c       \n",
    "2 $ \\rightarrow $ T(n)= T(n-2) + c + c = T(n-2) + 2c \\\n",
    "3 $ \\rightarrow $  T(n)= T(n-3) + 3c \\\n",
    "     $\\;\\;\\;\\; $    . \\\n",
    "      $\\;\\;\\;\\; $   .  \\\n",
    "       $\\;\\;\\;\\; $  .  \n",
    "i $ \\rightarrow $  T(n) = T(n-i)+i \\\n",
    " $\\;\\;\\;\\;\\;\\;\\;\\;\\;\\;\\;\\;\\;\\;\\;\\;$ n-i=1 $ \\rightarrow $ i= n-1  \n",
    " \n",
    "   $\\;\\;\\;\\;\\;\\;\\;\\;\\;\\;\\;\\;\\;\\;\\;\\;$  T(n) $ \\epsilon $ C(n-1) $ \\epsilon $ O(n) \n",
    " \n",
    " \n",
    "\n",
    "3.\tIn the best case the random element picked from the array will be the middle element of the array, which in turn, separates the array into two arrays of equal size.\n",
    "\n",
    "1 $ \\rightarrow $  T(n)= T ($\\frac{n}{2}$) + c \\\n",
    "2 $ \\rightarrow $ $\\;\\;\\;\\; $   = (T ($\\frac{n}{2^2}$) + c) + c =T ($\\frac{n}{2^2}$) + 2c \\\n",
    "3 $ \\rightarrow $  $\\;\\;\\;\\; $   = (T ($\\frac{n}{2^3}$) + c) + 2c = (T ($\\frac{n}{2^3}$) + 3c \\\n",
    "$\\;\\;\\;\\; $ . \\\n",
    "$\\;\\;\\;\\; $ . \\\n",
    "$\\;\\;\\;\\; $ . \n",
    "\n",
    "i $ \\rightarrow $       = T ($\\frac{n}{2^i}$) + ic \\\n",
    "           $\\;\\;\\;\\;\\;\\;\\;\\;\\;$        $\\frac{n}{2^i}$= 1  ,   i = $log(n)$ \\\n",
    "           $\\;\\;\\;\\;\\;\\;\\;\\;\\;$ T(1) + c $log(n)$  $ \\epsilon $ o ($log(n)$)\n",
    "              \n",
    "                   \n",
    "             "
   ]
  },
  {
   "cell_type": "markdown",
   "id": "6d3dd0d2",
   "metadata": {},
   "source": [
    "1. The algorithm computes\n",
    "2. The time complexity of the algorithm is \n",
    "3. The best case time complexity is"
   ]
  },
  {
   "cell_type": "markdown",
   "id": "c4334ba0",
   "metadata": {},
   "source": [
    "\n",
    "### TQ2\n",
    "You are given the recursive function *splitSwap*, which accepts an array *a*, an index *i*, and a length *n*.\n",
    "```\n",
    "function splitSwap(a, l, n):\n",
    "  if n <= 1:\n",
    "    return\n",
    "  splitSwap(a, l, n/2)\n",
    "  splitSwap(a, l+ n /2, n/2)\n",
    "  swapList(a, l, n)\n",
    "```\n",
    "The subroutine swapList is described here:\n",
    "```\n",
    "function swapList(a, l, n):\n",
    "  for i = 0 to n/2:\n",
    "    tmp = a[l + i]\n",
    "    a[l + i] = a[l + n/2 + i]\n",
    "    a[l + n/2 + i] = tmp\n",
    "```\n",
    "1. How much running time does it take to execute *splitSwap(a, 0, n)*? (We want a Big O analysis.)\n",
    "2. What does this algorithm do? Is it optimal? Describe the mechanism of the algorithm in details, we do not want to know only its final result.\n",
    "\n",
    "**HINT:** Consider the scenario where len(a) and n are numbers that are a power of 2.\n"
   ]
  },
  {
   "cell_type": "markdown",
   "id": "2b2e2c6c",
   "metadata": {},
   "source": [
    "Answer\n",
    "-----"
   ]
  },
  {
   "cell_type": "markdown",
   "id": "9fc12f27",
   "metadata": {},
   "source": [
    "1. time complexity of swap list is \n",
    "\n",
    "  T(n)= T ($\\frac{n}{2}$) + c   $ \\epsilon $ O(n) \\\n",
    "  time complexity of split swap \\\n",
    "1 $ \\rightarrow $  T(n)= 2T ($\\frac{n}{2}$) + O(n) \\\n",
    "2 $ \\rightarrow $      = 2(2T ($\\frac{n}{2^2}$) + O(n)) + O(n) = $2^2$T ($\\frac{n}{2^2}$)+ 2O(n) \\\n",
    "3 $ \\rightarrow $       =$2^3$T ($\\frac{n}{2^3}$)+ 3O(n) \\\n",
    "   $\\;\\;\\;\\; $    . \n",
    "      $\\;\\;\\;\\; $   .  \\\n",
    "       $\\;\\;\\;\\; $  .  \n",
    "       i $ \\rightarrow $  =$2^i$T ($\\frac{n}{2^i}$)+ iO(n) \\\n",
    "    $\\;\\;\\;\\;\\;\\;\\;\\;\\; $    ($\\frac{n}{2^i}$) =1 $ \\rightarrow $ i =$log(n)$ \n",
    "       \n",
    "$\\;\\;\\;\\;\\; $ = $2^{log}$ T (1) + n $log(n)$\n",
    "       \n",
    "$\\;\\;\\;\\;\\; $ = n + O(n) $log(n)$ $ \\epsilon $ O (n $log(n)$)\n",
    "  \n",
    "2.\tThis algorithm shuffles the elements of a list using Divide and Conquer algorithm. At each recurrence a Tree will be made where the list gets divided into two sub-lists by index “l” in which the sub-lists will get divided as well. At the end, when the tree traverses such that the length of the last sub-list is equal to 1, the sub-lists will be swapped from the middle and merged to create the parent list. This merge happens until all the sub-lists and their parents are swapped from the index “l”.\n"
   ]
  },
  {
   "cell_type": "markdown",
   "id": "1ffe0c91",
   "metadata": {},
   "source": [
    "### TQ3\n",
    "In the knapsack problem we are given n objects and each object *i* has a weight *w_i* and a value *v_i*. We are also given a weight budget *W*.\n",
    "The problem is to select a set of objects with total weight bounded by *W* that maximized the sum of their values.\n",
    "The following are three natural heuristics:\n",
    "   - Order them in increasing order of weight and then visit them sequentially, adding them to the solution as long as the budget is not exceeded\n",
    "   - Order them in decreasing order of values, and then visit them sequentially, adding them to the solution if the budget is not exceeded\n",
    "   - Order them in decreasing relative value *(v_i / w_i)*, and then visit them sequentially, adding them to the solution if the budget is not exceeded\n",
    "\n",
    "For each of the heuristics, provide a counterexample, that is, an example of a problem instance in which the heuristic fails to provide the optimal solution."
   ]
  },
  {
   "cell_type": "markdown",
   "id": "003c4e22",
   "metadata": {},
   "source": [
    "Answer\n",
    "-----"
   ]
  },
  {
   "cell_type": "markdown",
   "id": "015f71a7",
   "metadata": {},
   "source": [
    "1.   First heuristic\n",
    "If the higher value object has the higher weight, the heuristic will fail in case that the sum of all weights exceeds the budget, and the sum of all the previous values it's smaller than the higher value.\n",
    "\n",
    "W = 15\n",
    "w_i = [1,5,15]\n",
    "v_i = [2,1,50]\n",
    "\n",
    "The optimal solution is to take object 3, because the value would be 50. But the heuristic will take the objects 1 and 2 first, and 3 won't fit, so the total value would be 3.\n",
    "\n",
    "2.   Second heuristic\n",
    "\n",
    "If the sum of many small weight objects is higher than the value of the heavy ones, the heuristic will fail. For example:\n",
    "\n",
    "W = 15\n",
    "w_i = [11,5,5]\n",
    "v_i = [20,15,15]\n",
    "\n",
    "The heuristic will take object 1 first and the knapsack will be full, so the total value would be 20. But the optimal solution would be to take the object 2 and 3, so that the weight will be lower and the total value higher (30).\n",
    "\n",
    "3.    Third heuristic\n",
    "\n",
    "As this heuristic uses the relation of v_i divided of w_i. Can happen that the object with higher v_i/w_i relation fills the knapsack, despite the fact that the other ones together might be better.\n",
    "\n",
    "W = 20\n",
    "w_i = [15, 10, 10]\n",
    "v_i = [17, 10, 10]\n",
    "\n",
    "In this case, the distance between the value and weight of the first object is bigger, so the relation v_i/w_i will be bigger than 1. The other 2 objects will have a v_i/w_i of exactly 1. So the heuristic will take object one and the total value will be 17, and the second object will not fit. But the optimal solution would be to take object 2 and 3, so that the total value would be 20.\n"
   ]
  }
 ],
 "metadata": {
  "kernelspec": {
   "display_name": "Python 3",
   "language": "python",
   "name": "python3"
  },
  "language_info": {
   "codemirror_mode": {
    "name": "ipython",
    "version": 3
   },
   "file_extension": ".py",
   "mimetype": "text/x-python",
   "name": "python",
   "nbconvert_exporter": "python",
   "pygments_lexer": "ipython3",
   "version": "3.8.8"
  }
 },
 "nbformat": 4,
 "nbformat_minor": 5
}
