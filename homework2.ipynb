{
 "cells": [
  {
   "cell_type": "markdown",
   "id": "ccefda11",
   "metadata": {},
   "source": [
    "# Homework 2\n",
    "Parsa Heidary Moghadam,\n",
    "Daniel Losada,\n",
    "Vahid Ghanbari Zadeh,\n",
    "\n",
    "- steam_reviews.csv should be in the same folder of homework2.ipynb file"
   ]
  },
  {
   "cell_type": "code",
   "execution_count": 1,
   "id": "53e37729",
   "metadata": {},
   "outputs": [],
   "source": [
    "# dependencies\n",
    "import pandas as pd\n",
    "import numpy as np"
   ]
  },
  {
   "cell_type": "markdown",
   "id": "2c3c7bab",
   "metadata": {},
   "source": [
    "## [RQ1]\n",
    "\n",
    "After collecting information, the Data Scientists have to know what dataset they are dealing with, so let's start with an Exploratory Data Analysis (EDA). What can you say about our dataset? Please summarize its main characteristics with visual and tabular methods."
   ]
  },
  {
   "cell_type": "markdown",
   "id": "0eccd194",
   "metadata": {},
   "source": [
    "### Answer1\n",
    "---\n"
   ]
  },
  {
   "cell_type": "code",
   "execution_count": null,
   "id": "13fb2e2f",
   "metadata": {},
   "outputs": [],
   "source": []
  },
  {
   "cell_type": "markdown",
   "id": "9c57fb60",
   "metadata": {},
   "source": [
    "##  [RQ2] \n",
    "\n",
    " Let's explore the dataset by finding simple insights into the reviews.\n",
    "\n",
    "    Plot the number of reviews for each application in descending order.\n",
    "    What applications have the best Weighted Vote Score?\n",
    "    Which applications have the most and the least recommendations?\n",
    "    How many of these applications were purchased, and how many were given for free?\n",
    "\n"
   ]
  },
  {
   "cell_type": "markdown",
   "id": "e0aa27ec",
   "metadata": {},
   "source": [
    "### Answer 2\n",
    "---\n"
   ]
  },
  {
   "cell_type": "code",
   "execution_count": null,
   "id": "77441ed7",
   "metadata": {},
   "outputs": [],
   "source": []
  },
  {
   "cell_type": "markdown",
   "id": "eee72a09",
   "metadata": {},
   "source": [
    "## [RQ3]\n",
    "\n",
    "*Now it's important to understand the preferred time to do reviews.*\n",
    "- What is the most common time that authors review an application? For example, authors usually write a review at 17:44.\n",
    "- Create a function that receives as a parameter a list of time intervals and returns the plot the number of reviews for each of the intervals.\n",
    "- Use the function that you created in the previous literal to plot the number of reviews between the following time intervals: \n",
    "    \n",
    "| Initial time | Final time |\n",
    "| ----------- | ----------- |\n",
    "|06:00:00 | 10:59:59|\n",
    "|11:00:00 | 13:59:59|\n",
    "|14:00:00 | 16:59:59|\n",
    "|17:00:00 | 19:59:59|\n",
    "|20:00:00 | 23:59:59|\n",
    "|00:00:00 | 02:59:59|\n",
    "|03:00:00 | 05:59:59|"
   ]
  },
  {
   "cell_type": "markdown",
   "id": "fba5d2c2",
   "metadata": {},
   "source": [
    "### Answer 3\n",
    "---\n"
   ]
  },
  {
   "cell_type": "code",
   "execution_count": null,
   "id": "13e68b47",
   "metadata": {},
   "outputs": [],
   "source": []
  },
  {
   "cell_type": "markdown",
   "id": "17ab6cb7",
   "metadata": {},
   "source": [
    "## [**RQ4**] \n",
    "\n",
    "*As Steam is a worldwide platform, the reviews can be done in many languages. Let's extract some information about it.*\n",
    "- What are the top 3 languages used to review applications?\n",
    "- Create a function that receives as parameters both the name of a data set and a list of languages’ names and returns a data frame filtered only with the reviews written in the provided languages.\n",
    "- Use the function created in the previous literal to find what percentage of these reviews (associated with the top 3 languages) were voted as funny?\n",
    "- Use the function created in the literal “a” to find what percentage of these reviews (associated with the top 3 languages) were voted as helpful?"
   ]
  },
  {
   "cell_type": "markdown",
   "id": "6ea6e7c8",
   "metadata": {},
   "source": [
    "### Answer 4\n",
    "---\n"
   ]
  },
  {
   "cell_type": "code",
   "execution_count": null,
   "id": "b449683e",
   "metadata": {},
   "outputs": [],
   "source": []
  },
  {
   "cell_type": "markdown",
   "id": "0afe16b9",
   "metadata": {},
   "source": [
    "## [**RQ5**] \n",
    "\n",
    "*The reviews' authors are users from the game that provide their opinion on it. Now you can check how often they make reviews.*\n",
    "- Plot the top 10 most popular reviewers and the number of reviews.\n",
    "- What applications did the most popular author review? \n",
    "- How many applications did he purchase, and how many did he get as free? Provide the number (count) and the percentage.\n",
    "- How many of the applications he purchased reviewed positively, and how many negatively? How about the applications he received for free?"
   ]
  },
  {
   "cell_type": "markdown",
   "id": "e3db0b59",
   "metadata": {},
   "source": [
    "### Answer 5\n",
    "---\n"
   ]
  },
  {
   "cell_type": "code",
   "execution_count": null,
   "id": "2fbd48ff",
   "metadata": {},
   "outputs": [],
   "source": []
  },
  {
   "cell_type": "markdown",
   "id": "1fa5ab6c",
   "metadata": {},
   "source": [
    "## [**RQ6**]\n",
    "\n",
    "*It's time to get information from the updates that a user does to his reviews.*\n",
    "- What is the average time (days and minutes) a user lets pass before he updates a review?\n",
    "- Plot the top 3 authors that usually update their reviews."
   ]
  },
  {
   "cell_type": "markdown",
   "id": "e517e0b6",
   "metadata": {},
   "source": [
    "### Answer 6\n",
    "---\n"
   ]
  },
  {
   "cell_type": "markdown",
   "id": "e18adb2e",
   "metadata": {},
   "source": [
    "## [**RQ7**] \n",
    "\n",
    "*Of course, calculating probabilities is a job that any Data Scientist must know. Let's compute Some interesting figures.*\n",
    "- What’s the probability that a review has a Weighted Vote Score equal to or bigger than 0.5?\n",
    "- What’s the probability that a review has at least one vote as funny given that the Weighted Vote Score is bigger than 0.5?\n",
    "- Is the probability that “a review has at least one vote as funny” independent of the “probability that a review has a Weighted Vote Score equal or bigger than 0.5”?"
   ]
  },
  {
   "cell_type": "markdown",
   "id": "29aca5a5",
   "metadata": {},
   "source": [
    "### Answer 7\n",
    "---\n"
   ]
  },
  {
   "cell_type": "code",
   "execution_count": null,
   "id": "4b1ced5b",
   "metadata": {},
   "outputs": [],
   "source": []
  },
  {
   "cell_type": "markdown",
   "id": "a9a31b7b",
   "metadata": {},
   "source": [
    "## [**RQ8**] \n",
    "\n",
    "*Every decision you take in a data-based environment should be reinforced with charts, statistical tests and analysis methods to check if a hypothesis is correct or not.*\n",
    "- Is there a significant difference in the Weighted Vote Score of reviews made in Chinese vs the ones made in Russian? Use an appropriate statistical test or technique and support your choice.\n",
    "- Can you find any significant relationship between the time that a user lets pass before he updates the review and the Weighted Vote Score?  Use an appropriate statistical test or technique and support your choice.\n",
    "- Is there any change in the relationship of the variables mentioned in the previous literal if you include whether an application is recommended or not in the review?  Use an appropriate statistical test or technique and support your choice.\n",
    "- What are histograms, bar plots, scatterplots and pie charts used for?\n",
    "- What insights can you extract from a Box Plot?"
   ]
  },
  {
   "cell_type": "markdown",
   "id": "bbd753f7",
   "metadata": {},
   "source": [
    "### Answer 8\n",
    "---\n"
   ]
  },
  {
   "cell_type": "code",
   "execution_count": null,
   "id": "dded3ba9",
   "metadata": {},
   "outputs": [],
   "source": []
  }
 ],
 "metadata": {
  "kernelspec": {
   "display_name": "Python 3",
   "language": "python",
   "name": "python3"
  },
  "language_info": {
   "codemirror_mode": {
    "name": "ipython",
    "version": 3
   },
   "file_extension": ".py",
   "mimetype": "text/x-python",
   "name": "python",
   "nbconvert_exporter": "python",
   "pygments_lexer": "ipython3",
   "version": "3.8.8"
  }
 },
 "nbformat": 4,
 "nbformat_minor": 5
}
